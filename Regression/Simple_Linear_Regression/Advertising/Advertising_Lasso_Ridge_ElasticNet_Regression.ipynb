{
 "cells": [
  {
   "cell_type": "markdown",
   "id": "f515e9d1-a2f5-4ed7-8dae-12335fc9b44b",
   "metadata": {},
   "source": [
    "## **Lasso Regression**"
   ]
  },
  {
   "cell_type": "code",
   "execution_count": 1,
   "id": "4921516f-e06d-4bf9-8159-23a419c1fb85",
   "metadata": {},
   "outputs": [],
   "source": [
    "import numpy as np \n",
    "import pandas as pd\n",
    "import matplotlib.pyplot as plt\n",
    "import seaborn as sns \n",
    "\n",
    "import warnings\n",
    "warnings.simplefilter(\"ignore\")"
   ]
  },
  {
   "cell_type": "code",
   "execution_count": 2,
   "id": "ca3ef3fb-fb3e-4767-9d55-ed8c8f6f8b9a",
   "metadata": {},
   "outputs": [
    {
     "data": {
      "text/html": [
       "<div>\n",
       "<style scoped>\n",
       "    .dataframe tbody tr th:only-of-type {\n",
       "        vertical-align: middle;\n",
       "    }\n",
       "\n",
       "    .dataframe tbody tr th {\n",
       "        vertical-align: top;\n",
       "    }\n",
       "\n",
       "    .dataframe thead th {\n",
       "        text-align: right;\n",
       "    }\n",
       "</style>\n",
       "<table border=\"1\" class=\"dataframe\">\n",
       "  <thead>\n",
       "    <tr style=\"text-align: right;\">\n",
       "      <th></th>\n",
       "      <th>sales</th>\n",
       "      <th>total_sales</th>\n",
       "    </tr>\n",
       "  </thead>\n",
       "  <tbody>\n",
       "    <tr>\n",
       "      <th>0</th>\n",
       "      <td>22100</td>\n",
       "      <td>337100</td>\n",
       "    </tr>\n",
       "    <tr>\n",
       "      <th>1</th>\n",
       "      <td>10400</td>\n",
       "      <td>128900</td>\n",
       "    </tr>\n",
       "    <tr>\n",
       "      <th>2</th>\n",
       "      <td>9300</td>\n",
       "      <td>132400</td>\n",
       "    </tr>\n",
       "    <tr>\n",
       "      <th>3</th>\n",
       "      <td>18500</td>\n",
       "      <td>251300</td>\n",
       "    </tr>\n",
       "    <tr>\n",
       "      <th>4</th>\n",
       "      <td>12900</td>\n",
       "      <td>250000</td>\n",
       "    </tr>\n",
       "  </tbody>\n",
       "</table>\n",
       "</div>"
      ],
      "text/plain": [
       "   sales  total_sales\n",
       "0  22100       337100\n",
       "1  10400       128900\n",
       "2   9300       132400\n",
       "3  18500       251300\n",
       "4  12900       250000"
      ]
     },
     "execution_count": 2,
     "metadata": {},
     "output_type": "execute_result"
    }
   ],
   "source": [
    "df=pd.read_excel(\"cleaned_advertising_data.xlsx\")\n",
    "df.head()"
   ]
  },
  {
   "cell_type": "code",
   "execution_count": 3,
   "id": "8506c765-6276-4325-9a4f-14abe6082af1",
   "metadata": {},
   "outputs": [],
   "source": [
    "x=df[[\"total_sales\"]]\n",
    "y=df[\"sales\"]"
   ]
  },
  {
   "cell_type": "code",
   "execution_count": 4,
   "id": "dda530d2-908d-449f-855a-ba61be50dc3f",
   "metadata": {},
   "outputs": [],
   "source": [
    "from sklearn.model_selection import train_test_split\n",
    "x_train,x_test,y_train,y_test=train_test_split(x,y,test_size=0.2,random_state=2)"
   ]
  },
  {
   "cell_type": "markdown",
   "id": "2a549930-e871-4a16-8b5b-b9ffa496930c",
   "metadata": {},
   "source": [
    "**Modelling**"
   ]
  },
  {
   "cell_type": "code",
   "execution_count": 5,
   "id": "aa44b54e-9a39-4566-b0ed-ea91da730010",
   "metadata": {},
   "outputs": [
    {
     "data": {
      "text/plain": [
       "{'alpha': 1999}"
      ]
     },
     "execution_count": 5,
     "metadata": {},
     "output_type": "execute_result"
    }
   ],
   "source": [
    "from sklearn.model_selection import GridSearchCV\n",
    "from sklearn.linear_model import Lasso\n",
    "estimator=Lasso()\n",
    "\n",
    "param_grid={'alpha':list(range(1000,2000))}\n",
    "model_hp=GridSearchCV(estimator,param_grid,cv=5,scoring='r2')\n",
    "model_hp.fit(x_train,y_train)\n",
    "model_hp.best_params_"
   ]
  },
  {
   "cell_type": "markdown",
   "id": "c0b73230-cfde-4d82-8ba4-1fd181a5fe32",
   "metadata": {},
   "source": [
    "* If everytime we get last number as best number, that means lasso is not woking\n",
    "* in that case we have to consider **alpha=0**"
   ]
  },
  {
   "cell_type": "code",
   "execution_count": 6,
   "id": "1e482663-e762-4ba9-a181-acb6df1774a5",
   "metadata": {},
   "outputs": [
    {
     "name": "stdout",
     "output_type": "stream",
     "text": [
      "Intercept: 4021.4705059140542\n",
      "Coefficient: [0.05100478]\n"
     ]
    }
   ],
   "source": [
    "lasso_best=Lasso(alpha=0)\n",
    "lasso_best.fit(x_train,y_train)\n",
    "\n",
    "print(\"Intercept:\",lasso_best.intercept_)\n",
    "print(\"Coefficient:\",lasso_best.coef_)"
   ]
  },
  {
   "cell_type": "markdown",
   "id": "827ed432-a5e8-443a-8a9f-390c8402b8c7",
   "metadata": {},
   "source": [
    "**Evaluation**"
   ]
  },
  {
   "cell_type": "code",
   "execution_count": 7,
   "id": "1783a765-09a9-4825-9619-4ae538dec472",
   "metadata": {},
   "outputs": [
    {
     "name": "stdout",
     "output_type": "stream",
     "text": [
      "Train r2 : 0.8147600798823176\n",
      "cv : 0.8048349207786423\n",
      "Test r2  0.33133478476230016\n"
     ]
    }
   ],
   "source": [
    "from sklearn.metrics import r2_score\n",
    "from sklearn.model_selection import cross_val_score\n",
    "ypred_train=lasso_best.predict(x_train)\n",
    "\n",
    "#from sklearn.metrics import r2_score\n",
    "print(\"Train r2 :\",r2_score(y_train,ypred_train))\n",
    "\n",
    "#from sklearn.model_selection import cross_val_score\n",
    "print(\"cv :\",cross_val_score(lasso_best,x_train,y_train,cv=5,scoring=\"r2\").mean())\n",
    "\n",
    "ypred_test=lasso_best.predict(x_test)\n",
    "\n",
    "#from sklearn.metrics import r2_score\n",
    "print(\"Test r2 \",r2_score(y_test,ypred_test))"
   ]
  },
  {
   "cell_type": "markdown",
   "id": "a1cf7383-56f6-4521-a8fb-5defc38065de",
   "metadata": {},
   "source": [
    "## **Ridge Regression**"
   ]
  },
  {
   "cell_type": "code",
   "execution_count": 8,
   "id": "96e7db53-8e7c-492c-89d6-97cf725200fc",
   "metadata": {},
   "outputs": [
    {
     "data": {
      "text/plain": [
       "{'alpha': 99}"
      ]
     },
     "execution_count": 8,
     "metadata": {},
     "output_type": "execute_result"
    }
   ],
   "source": [
    "from sklearn.linear_model import Ridge\n",
    "estimator=Ridge()\n",
    "param_grid={'alpha':list(range(1,100))}\n",
    "model_hp=GridSearchCV(estimator,param_grid,cv=5,scoring='r2')\n",
    "model_hp.fit(x_train,y_train)\n",
    "model_hp.best_params_"
   ]
  },
  {
   "cell_type": "code",
   "execution_count": 9,
   "id": "5481b890-0c38-4d06-8d6b-c8e53334734e",
   "metadata": {},
   "outputs": [
    {
     "name": "stdout",
     "output_type": "stream",
     "text": [
      "intercept: 4021.4705059140524\n",
      "coefficient : [0.05100478]\n"
     ]
    }
   ],
   "source": [
    "ridge_best=Ridge(alpha=0)\n",
    "ridge_best.fit(x_train,y_train)\n",
    "\n",
    "print(\"intercept:\",ridge_best.intercept_)\n",
    "print(\"coefficient :\",ridge_best.coef_)"
   ]
  },
  {
   "cell_type": "code",
   "execution_count": 10,
   "id": "be8e9a37-5583-41ed-9956-43bca56fcadf",
   "metadata": {},
   "outputs": [
    {
     "name": "stdout",
     "output_type": "stream",
     "text": [
      "Train r2 : 0.8147600798823176\n",
      "cv : 0.8048349207786423\n",
      "Test r2 0.33133478476230016\n"
     ]
    }
   ],
   "source": [
    "ypred_train=ridge_best.predict(x_train)\n",
    "#from sklearn.metrics import r2_score\n",
    "\n",
    "print(\"Train r2 :\",r2_score(y_train,ypred_train))\n",
    "#from sklearn.model_selection import cross_val_score\n",
    "\n",
    "print(\"cv :\",cross_val_score(ridge_best,x_train,y_train,cv=5,scoring=\"r2\").mean())\n",
    "\n",
    "ypred_test=ridge_best.predict(x_test)\n",
    "\n",
    "#from sklearn.metrics import r2_score\n",
    "print(\"Test r2\",r2_score(y_test,ypred_test))"
   ]
  },
  {
   "cell_type": "markdown",
   "id": "b9444c5e-8944-4247-89a4-8a03196f440d",
   "metadata": {},
   "source": [
    "## **Elastic Net**"
   ]
  },
  {
   "cell_type": "code",
   "execution_count": 11,
   "id": "dec615a2-5200-422a-96d2-33111d06133a",
   "metadata": {},
   "outputs": [
    {
     "name": "stdout",
     "output_type": "stream",
     "text": [
      "Train r2 : 0.8147600798823176\n",
      "Test r2 : 0.33133478539547256\n",
      "cv : 0.7433783178732446\n"
     ]
    }
   ],
   "source": [
    "# Without Hyperparameter Tuning\n",
    "from sklearn.linear_model import ElasticNet\n",
    "enr_base=ElasticNet()\n",
    "enr_base.fit(x_train,y_train)\n",
    "\n",
    "\n",
    "train_pred=enr_base.predict(x_train)\n",
    "test_pred=enr_base.predict(x_test)\n",
    "\n",
    "print(\"Train r2 :\",enr_base.score(x_train,y_train))\n",
    "print(\"Test r2 :\",enr_base.score(x_test,y_test))\n",
    "print(\"cv :\",cross_val_score(enr_base,x,y,cv=5).mean())"
   ]
  },
  {
   "cell_type": "code",
   "execution_count": 12,
   "id": "df09a094-5c8e-422d-abbd-5a3d208ea717",
   "metadata": {},
   "outputs": [
    {
     "data": {
      "text/plain": [
       "{'alpha': 99, 'l1_ratio': 1}"
      ]
     },
     "execution_count": 12,
     "metadata": {},
     "output_type": "execute_result"
    }
   ],
   "source": [
    "# With Hyperparameter Tuning\n",
    "from sklearn.model_selection import GridSearchCV\n",
    "estimator=ElasticNet()\n",
    "param_grid={\"alpha\":list(range(1,100)),\"l1_ratio\":[0,0.1,0.2,0.3,0.4,0.5,0.6,0.7,0.8,0.9,1]}\n",
    "\n",
    "model_hp=GridSearchCV(estimator,param_grid,cv=5,scoring='r2')  # scoring='neg_mean_squared_error'\n",
    "model_hp.fit(x_train,y_train)\n",
    "model_hp.best_params_"
   ]
  },
  {
   "cell_type": "code",
   "execution_count": 13,
   "id": "81cc63f7-135e-4d80-a37f-79c11445c59e",
   "metadata": {},
   "outputs": [
    {
     "name": "stdout",
     "output_type": "stream",
     "text": [
      "intercept: 4021.470540314307\n",
      "coeeficient: [0.05100478]\n"
     ]
    }
   ],
   "source": [
    "enr_base=ElasticNet(alpha=3,l1_ratio=0.5)\n",
    "enr_base.fit(x_train,y_train)\n",
    "print(\"intercept:\",enr_base.intercept_)\n",
    "print(\"coeeficient:\",enr_base.coef_)"
   ]
  },
  {
   "cell_type": "code",
   "execution_count": 14,
   "id": "1caa82ff-77ca-448d-8324-cffecc33cdfa",
   "metadata": {},
   "outputs": [],
   "source": [
    "ypred_train=enr_base.predict(x_train)\n",
    "ypred_test=enr_base.predict(x_test)"
   ]
  },
  {
   "cell_type": "code",
   "execution_count": 17,
   "id": "cf8b5876-dcdd-4ecc-8626-6b574963cd37",
   "metadata": {},
   "outputs": [
    {
     "name": "stdout",
     "output_type": "stream",
     "text": [
      "Train r2: 0.8147600798823176\n",
      "cv: 0.8048349207874625\n",
      "Test r2: 0.3313347866618169\n"
     ]
    }
   ],
   "source": [
    "print(\"Train r2:\", enr_base.score(x_train, y_train))  \n",
    "print(\"cv:\", cross_val_score(enr_base, x_train, y_train, cv=5).mean())\n",
    "print(\"Test r2:\", enr_base.score(x_test, y_test))  "
   ]
  },
  {
   "cell_type": "code",
   "execution_count": null,
   "id": "de5c851f-608d-46cf-9962-84b07d511601",
   "metadata": {},
   "outputs": [],
   "source": []
  },
  {
   "cell_type": "code",
   "execution_count": null,
   "id": "2c6494ba-acd5-4846-ab95-cd71a167fbec",
   "metadata": {},
   "outputs": [],
   "source": []
  }
 ],
 "metadata": {
  "kernelspec": {
   "display_name": "Python 3 (ipykernel)",
   "language": "python",
   "name": "python3"
  },
  "language_info": {
   "codemirror_mode": {
    "name": "ipython",
    "version": 3
   },
   "file_extension": ".py",
   "mimetype": "text/x-python",
   "name": "python",
   "nbconvert_exporter": "python",
   "pygments_lexer": "ipython3",
   "version": "3.11.7"
  }
 },
 "nbformat": 4,
 "nbformat_minor": 5
}
