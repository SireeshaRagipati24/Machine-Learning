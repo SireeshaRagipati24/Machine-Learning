{
 "cells": [
  {
   "cell_type": "code",
   "execution_count": 1,
   "id": "26cc624d-9b38-49a0-9546-c70d4dbadb0b",
   "metadata": {},
   "outputs": [],
   "source": [
    "import numpy as np \n",
    "import pandas as pd\n",
    "import matplotlib.pyplot as plt\n",
    "import seaborn as sns \n",
    "\n",
    "import warnings\n",
    "warnings.simplefilter(\"ignore\")"
   ]
  },
  {
   "cell_type": "code",
   "execution_count": 2,
   "id": "78dfa21c-f143-46ba-9360-8b6743e08c9e",
   "metadata": {},
   "outputs": [
    {
     "data": {
      "text/html": [
       "<div>\n",
       "<style scoped>\n",
       "    .dataframe tbody tr th:only-of-type {\n",
       "        vertical-align: middle;\n",
       "    }\n",
       "\n",
       "    .dataframe tbody tr th {\n",
       "        vertical-align: top;\n",
       "    }\n",
       "\n",
       "    .dataframe thead th {\n",
       "        text-align: right;\n",
       "    }\n",
       "</style>\n",
       "<table border=\"1\" class=\"dataframe\">\n",
       "  <thead>\n",
       "    <tr style=\"text-align: right;\">\n",
       "      <th></th>\n",
       "      <th>sales</th>\n",
       "      <th>total_sales</th>\n",
       "    </tr>\n",
       "  </thead>\n",
       "  <tbody>\n",
       "    <tr>\n",
       "      <th>0</th>\n",
       "      <td>22100</td>\n",
       "      <td>337100</td>\n",
       "    </tr>\n",
       "    <tr>\n",
       "      <th>1</th>\n",
       "      <td>10400</td>\n",
       "      <td>128900</td>\n",
       "    </tr>\n",
       "    <tr>\n",
       "      <th>2</th>\n",
       "      <td>9300</td>\n",
       "      <td>132400</td>\n",
       "    </tr>\n",
       "    <tr>\n",
       "      <th>3</th>\n",
       "      <td>18500</td>\n",
       "      <td>251300</td>\n",
       "    </tr>\n",
       "    <tr>\n",
       "      <th>4</th>\n",
       "      <td>12900</td>\n",
       "      <td>250000</td>\n",
       "    </tr>\n",
       "  </tbody>\n",
       "</table>\n",
       "</div>"
      ],
      "text/plain": [
       "   sales  total_sales\n",
       "0  22100       337100\n",
       "1  10400       128900\n",
       "2   9300       132400\n",
       "3  18500       251300\n",
       "4  12900       250000"
      ]
     },
     "execution_count": 2,
     "metadata": {},
     "output_type": "execute_result"
    }
   ],
   "source": [
    "df=pd.read_excel(\"cleaned_advertising_data.xlsx\")\n",
    "df.head()"
   ]
  },
  {
   "cell_type": "markdown",
   "id": "1c64088b-5b53-40a9-8005-5093d23f8dc3",
   "metadata": {},
   "source": [
    "**x & y**"
   ]
  },
  {
   "cell_type": "code",
   "execution_count": 3,
   "id": "97e51ac4-7d6d-4e54-a2ef-6afb8adeb280",
   "metadata": {},
   "outputs": [],
   "source": [
    "x=df[[\"total_sales\"]]\n",
    "y=df[\"sales\"]"
   ]
  },
  {
   "cell_type": "code",
   "execution_count": 4,
   "id": "a35b6918-59b9-4808-913c-a813c5275087",
   "metadata": {},
   "outputs": [
    {
     "name": "stdout",
     "output_type": "stream",
     "text": [
      "Best random state value is : 2\n"
     ]
    }
   ],
   "source": [
    "# finding best Random State for given dataset\n",
    "\n",
    "train=[]\n",
    "cv=[]\n",
    "\n",
    "for i in range(0,100):\n",
    "    from sklearn.model_selection import train_test_split\n",
    "    x_train,x_test,y_train,y_test=train_test_split(x,y,test_size=0.2,random_state=i)\n",
    "\n",
    "    from sklearn.linear_model import LinearRegression\n",
    "    model=LinearRegression()\n",
    "    model.fit(x_train,y_train)\n",
    "    \n",
    "    ypred_train=model.predict(x_train)\n",
    "    \n",
    "    from sklearn.metrics import r2_score\n",
    "    train.append(r2_score(ypred_train,y_train))\n",
    "    \n",
    "    from sklearn.model_selection import cross_val_score\n",
    "    cv.append(cross_val_score(model, x_train, y_train, cv=5).mean())\n",
    "    \n",
    "\n",
    "em=pd.DataFrame({\"Train\":train,\"CV\":cv})\n",
    "gm=em[(abs(em[\"Train\"]-em[\"CV\"])<=0.05)]\n",
    "\n",
    "rs=gm[gm[\"CV\"]==gm[\"CV\"].max()].index.tolist()[0]\n",
    "print(\"Best random state value is :\",rs)"
   ]
  },
  {
   "cell_type": "code",
   "execution_count": 5,
   "id": "6a9ecf73-456a-4502-ad62-f11deda1aba7",
   "metadata": {},
   "outputs": [],
   "source": [
    "from sklearn.model_selection import train_test_split\n",
    "x_train,x_test,y_train,y_test=train_test_split(x,y,test_size=0.2,random_state=2)"
   ]
  },
  {
   "cell_type": "markdown",
   "id": "9356f725-5c53-424e-a6e9-8bc8309fd93f",
   "metadata": {},
   "source": [
    "## **Modelling Linear Regression**"
   ]
  },
  {
   "cell_type": "code",
   "execution_count": 6,
   "id": "1a20e939-abf5-4026-bba9-ad37006c1bec",
   "metadata": {},
   "outputs": [
    {
     "name": "stdout",
     "output_type": "stream",
     "text": [
      "Coefficient -  [0.05100478]\n",
      "Intercept   -  4021.4705059140524\n"
     ]
    }
   ],
   "source": [
    "# identify the realtion in terms of equation\n",
    "\n",
    "from sklearn.linear_model import LinearRegression\n",
    "model=LinearRegression()\n",
    "model.fit(x_train,y_train)\n",
    "\n",
    "print(\"Coefficient - \",model.coef_)\n",
    "print(\"Intercept   - \",model.intercept_)"
   ]
  },
  {
   "cell_type": "markdown",
   "id": "6c11b090-099a-4ccd-9e93-137f86377b92",
   "metadata": {},
   "source": [
    "**Interpreting the coefficients**"
   ]
  },
  {
   "cell_type": "markdown",
   "id": "9d4c2244-44f7-4060-a76f-9917983753e2",
   "metadata": {},
   "source": [
    "- a 1 unit increse in total spend is associated with an increse of 0.04784 units in sales\n",
    "- this basically means that for every $ 10000 dollars spend on Ads we could expect 478 more units sold"
   ]
  },
  {
   "cell_type": "code",
   "execution_count": 7,
   "id": "90778182-8251-4120-840b-cbd394bc5c9e",
   "metadata": {},
   "outputs": [
    {
     "data": {
      "text/html": [
       "<table class=\"simpletable\">\n",
       "<caption>OLS Regression Results</caption>\n",
       "<tr>\n",
       "  <th>Dep. Variable:</th>         <td>y_train</td>     <th>  R-squared:         </th> <td>   0.815</td>\n",
       "</tr>\n",
       "<tr>\n",
       "  <th>Model:</th>                   <td>OLS</td>       <th>  Adj. R-squared:    </th> <td>   0.814</td>\n",
       "</tr>\n",
       "<tr>\n",
       "  <th>Method:</th>             <td>Least Squares</td>  <th>  F-statistic:       </th> <td>   694.9</td>\n",
       "</tr>\n",
       "<tr>\n",
       "  <th>Date:</th>             <td>Mon, 03 Feb 2025</td> <th>  Prob (F-statistic):</th> <td>9.93e-60</td>\n",
       "</tr>\n",
       "<tr>\n",
       "  <th>Time:</th>                 <td>11:40:22</td>     <th>  Log-Likelihood:    </th> <td> -1467.1</td>\n",
       "</tr>\n",
       "<tr>\n",
       "  <th>No. Observations:</th>      <td>   160</td>      <th>  AIC:               </th> <td>   2938.</td>\n",
       "</tr>\n",
       "<tr>\n",
       "  <th>Df Residuals:</th>          <td>   158</td>      <th>  BIC:               </th> <td>   2944.</td>\n",
       "</tr>\n",
       "<tr>\n",
       "  <th>Df Model:</th>              <td>     1</td>      <th>                     </th>     <td> </td>   \n",
       "</tr>\n",
       "<tr>\n",
       "  <th>Covariance Type:</th>      <td>nonrobust</td>    <th>                     </th>     <td> </td>   \n",
       "</tr>\n",
       "</table>\n",
       "<table class=\"simpletable\">\n",
       "<tr>\n",
       "      <td></td>         <th>coef</th>     <th>std err</th>      <th>t</th>      <th>P>|t|</th>  <th>[0.025</th>    <th>0.975]</th>  \n",
       "</tr>\n",
       "<tr>\n",
       "  <th>Intercept</th> <td> 4021.4705</td> <td>  426.914</td> <td>    9.420</td> <td> 0.000</td> <td> 3178.277</td> <td> 4864.664</td>\n",
       "</tr>\n",
       "<tr>\n",
       "  <th>x_train</th>   <td>    0.0510</td> <td>    0.002</td> <td>   26.362</td> <td> 0.000</td> <td>    0.047</td> <td>    0.055</td>\n",
       "</tr>\n",
       "</table>\n",
       "<table class=\"simpletable\">\n",
       "<tr>\n",
       "  <th>Omnibus:</th>       <td> 4.140</td> <th>  Durbin-Watson:     </th> <td>   2.010</td>\n",
       "</tr>\n",
       "<tr>\n",
       "  <th>Prob(Omnibus):</th> <td> 0.126</td> <th>  Jarque-Bera (JB):  </th> <td>   3.838</td>\n",
       "</tr>\n",
       "<tr>\n",
       "  <th>Skew:</th>          <td>-0.376</td> <th>  Prob(JB):          </th> <td>   0.147</td>\n",
       "</tr>\n",
       "<tr>\n",
       "  <th>Kurtosis:</th>      <td> 3.098</td> <th>  Cond. No.          </th> <td>5.10e+05</td>\n",
       "</tr>\n",
       "</table><br/><br/>Notes:<br/>[1] Standard Errors assume that the covariance matrix of the errors is correctly specified.<br/>[2] The condition number is large, 5.1e+05. This might indicate that there are<br/>strong multicollinearity or other numerical problems."
      ],
      "text/latex": [
       "\\begin{center}\n",
       "\\begin{tabular}{lclc}\n",
       "\\toprule\n",
       "\\textbf{Dep. Variable:}    &     y\\_train     & \\textbf{  R-squared:         } &     0.815   \\\\\n",
       "\\textbf{Model:}            &       OLS        & \\textbf{  Adj. R-squared:    } &     0.814   \\\\\n",
       "\\textbf{Method:}           &  Least Squares   & \\textbf{  F-statistic:       } &     694.9   \\\\\n",
       "\\textbf{Date:}             & Mon, 03 Feb 2025 & \\textbf{  Prob (F-statistic):} &  9.93e-60   \\\\\n",
       "\\textbf{Time:}             &     11:40:22     & \\textbf{  Log-Likelihood:    } &   -1467.1   \\\\\n",
       "\\textbf{No. Observations:} &         160      & \\textbf{  AIC:               } &     2938.   \\\\\n",
       "\\textbf{Df Residuals:}     &         158      & \\textbf{  BIC:               } &     2944.   \\\\\n",
       "\\textbf{Df Model:}         &           1      & \\textbf{                     } &             \\\\\n",
       "\\textbf{Covariance Type:}  &    nonrobust     & \\textbf{                     } &             \\\\\n",
       "\\bottomrule\n",
       "\\end{tabular}\n",
       "\\begin{tabular}{lcccccc}\n",
       "                   & \\textbf{coef} & \\textbf{std err} & \\textbf{t} & \\textbf{P$> |$t$|$} & \\textbf{[0.025} & \\textbf{0.975]}  \\\\\n",
       "\\midrule\n",
       "\\textbf{Intercept} &    4021.4705  &      426.914     &     9.420  &         0.000        &     3178.277    &     4864.664     \\\\\n",
       "\\textbf{x\\_train}  &       0.0510  &        0.002     &    26.362  &         0.000        &        0.047    &        0.055     \\\\\n",
       "\\bottomrule\n",
       "\\end{tabular}\n",
       "\\begin{tabular}{lclc}\n",
       "\\textbf{Omnibus:}       &  4.140 & \\textbf{  Durbin-Watson:     } &    2.010  \\\\\n",
       "\\textbf{Prob(Omnibus):} &  0.126 & \\textbf{  Jarque-Bera (JB):  } &    3.838  \\\\\n",
       "\\textbf{Skew:}          & -0.376 & \\textbf{  Prob(JB):          } &    0.147  \\\\\n",
       "\\textbf{Kurtosis:}      &  3.098 & \\textbf{  Cond. No.          } & 5.10e+05  \\\\\n",
       "\\bottomrule\n",
       "\\end{tabular}\n",
       "%\\caption{OLS Regression Results}\n",
       "\\end{center}\n",
       "\n",
       "Notes: \\newline\n",
       " [1] Standard Errors assume that the covariance matrix of the errors is correctly specified. \\newline\n",
       " [2] The condition number is large, 5.1e+05. This might indicate that there are \\newline\n",
       " strong multicollinearity or other numerical problems."
      ],
      "text/plain": [
       "<class 'statsmodels.iolib.summary.Summary'>\n",
       "\"\"\"\n",
       "                            OLS Regression Results                            \n",
       "==============================================================================\n",
       "Dep. Variable:                y_train   R-squared:                       0.815\n",
       "Model:                            OLS   Adj. R-squared:                  0.814\n",
       "Method:                 Least Squares   F-statistic:                     694.9\n",
       "Date:                Mon, 03 Feb 2025   Prob (F-statistic):           9.93e-60\n",
       "Time:                        11:40:22   Log-Likelihood:                -1467.1\n",
       "No. Observations:                 160   AIC:                             2938.\n",
       "Df Residuals:                     158   BIC:                             2944.\n",
       "Df Model:                           1                                         \n",
       "Covariance Type:            nonrobust                                         \n",
       "==============================================================================\n",
       "                 coef    std err          t      P>|t|      [0.025      0.975]\n",
       "------------------------------------------------------------------------------\n",
       "Intercept   4021.4705    426.914      9.420      0.000    3178.277    4864.664\n",
       "x_train        0.0510      0.002     26.362      0.000       0.047       0.055\n",
       "==============================================================================\n",
       "Omnibus:                        4.140   Durbin-Watson:                   2.010\n",
       "Prob(Omnibus):                  0.126   Jarque-Bera (JB):                3.838\n",
       "Skew:                          -0.376   Prob(JB):                        0.147\n",
       "Kurtosis:                       3.098   Cond. No.                     5.10e+05\n",
       "==============================================================================\n",
       "\n",
       "Notes:\n",
       "[1] Standard Errors assume that the covariance matrix of the errors is correctly specified.\n",
       "[2] The condition number is large, 5.1e+05. This might indicate that there are\n",
       "strong multicollinearity or other numerical problems.\n",
       "\"\"\""
      ]
     },
     "execution_count": 7,
     "metadata": {},
     "output_type": "execute_result"
    }
   ],
   "source": [
    "from sklearn.model_selection import train_test_split\n",
    "df_train,df_test=train_test_split(df,train_size=0.8,random_state=2)\n",
    "\n",
    "import statsmodels.formula.api as smf\n",
    "model1=smf.ols(\"y_train~x_train\",data=df_train).fit()\n",
    "model1.summary()"
   ]
  },
  {
   "cell_type": "markdown",
   "id": "4b6b2d51-01a3-475f-a14a-0895d3b365a9",
   "metadata": {},
   "source": [
    "**Evaluation**"
   ]
  },
  {
   "cell_type": "code",
   "execution_count": 8,
   "id": "960663e5-cd91-440f-a1dd-1da6576d50c4",
   "metadata": {},
   "outputs": [
    {
     "name": "stdout",
     "output_type": "stream",
     "text": [
      "Train R2 0.8147600798823176\n",
      "Train RMSE 5391953.175039993\n"
     ]
    }
   ],
   "source": [
    "# predictions on train data\n",
    "\n",
    "ypred_train=model.predict(x_train)\n",
    "\n",
    "from sklearn.metrics import r2_score,mean_squared_error\n",
    "print(\"Train R2\",r2_score(y_train,ypred_train))\n",
    "print(\"Train RMSE\",mean_squared_error(y_train,ypred_train))"
   ]
  },
  {
   "cell_type": "markdown",
   "id": "0115ef3f-9f7a-4faa-aa43-9a3134e95462",
   "metadata": {},
   "source": [
    "**cross val score**"
   ]
  },
  {
   "cell_type": "code",
   "execution_count": 9,
   "id": "faf515ac-db5d-4d38-aee9-5210db2ad1a0",
   "metadata": {},
   "outputs": [
    {
     "name": "stdout",
     "output_type": "stream",
     "text": [
      "Train cv 0.8048349207786423\n"
     ]
    }
   ],
   "source": [
    "from sklearn.model_selection import cross_val_score\n",
    "print(\"Train cv\",cross_val_score(model,x_train,y_train,cv=5,scoring=\"r2\").mean())"
   ]
  },
  {
   "cell_type": "code",
   "execution_count": 10,
   "id": "b018d012-673d-4d0f-9bc8-e2ddffbf6c22",
   "metadata": {},
   "outputs": [
    {
     "name": "stdout",
     "output_type": "stream",
     "text": [
      "Test R2 0.33133478476230016\n",
      "Test RMSE 12421421.758444775\n"
     ]
    }
   ],
   "source": [
    "# predictions on test data\n",
    "\n",
    "ypred_test=model.predict(x_test)\n",
    "print(\"Test R2\",r2_score(y_test,ypred_test))\n",
    "print(\"Test RMSE\",mean_squared_error(y_test,ypred_test))"
   ]
  },
  {
   "cell_type": "markdown",
   "id": "57e0dd2e-9a0f-4b83-9554-1b2c9e0147f6",
   "metadata": {},
   "source": [
    "**Linearity of Errors**"
   ]
  },
  {
   "cell_type": "code",
   "execution_count": 11,
   "id": "a199a8ce-107a-4380-9ce1-ce91387f4346",
   "metadata": {},
   "outputs": [
    {
     "data": {
      "image/png": "[encoded data removed]",
      "text/plain": [
       "<Figure size 640x480 with 1 Axes>"
      ]
     },
     "metadata": {},
     "output_type": "display_data"
    }
   ],
   "source": [
    "train_error=y_train - ypred_train\n",
    "\n",
    "plt.scatter(y_train,train_error)\n",
    "plt.xlabel('observed values')\n",
    "plt.ylabel('fitted values')\n",
    "plt.show()"
   ]
  },
  {
   "cell_type": "markdown",
   "id": "4b6f95f1-ab7e-4a98-871a-f44c6f414128",
   "metadata": {},
   "source": [
    "**Normality of errors**"
   ]
  },
  {
   "cell_type": "code",
   "execution_count": 14,
   "id": "261482f4-d950-4662-81c6-e249ee65eb79",
   "metadata": {},
   "outputs": [
    {
     "data": {
      "text/plain": [
       "-0.3797505350296964"
      ]
     },
     "execution_count": 14,
     "metadata": {},
     "output_type": "execute_result"
    }
   ],
   "source": [
    "train_error.skew()"
   ]
  },
  {
   "cell_type": "markdown",
   "id": "7da7c684-1049-4186-b946-74c9f1c6668f",
   "metadata": {},
   "source": [
    "**Equal varience of errors**"
   ]
  },
  {
   "cell_type": "code",
   "execution_count": 15,
   "id": "b432ddb0-2cae-4662-bc00-c1eacc2335fd",
   "metadata": {},
   "outputs": [
    {
     "data": {
      "image/png": "[encoded data removed]",
      "text/plain": [
       "<Figure size 640x480 with 1 Axes>"
      ]
     },
     "metadata": {},
     "output_type": "display_data"
    }
   ],
   "source": [
    "plt.scatter(ypred_train,train_error,c='r')\n",
    "plt.axhline(y=0,color='blue')\n",
    "plt.xlabel('fitted values')\n",
    "plt.ylabel('residuals')\n",
    "plt.show()"
   ]
  },
  {
   "cell_type": "markdown",
   "id": "0c3a32aa-b422-4933-a744-d8d58748026f",
   "metadata": {},
   "source": [
    "**Predictions**"
   ]
  },
  {
   "cell_type": "code",
   "execution_count": 16,
   "id": "69ff76ae-4cd4-473e-b2ca-d4142f204ab9",
   "metadata": {},
   "outputs": [
    {
     "data": {
      "text/plain": [
       "array([9121.9481372])"
      ]
     },
     "execution_count": 16,
     "metadata": {},
     "output_type": "execute_result"
    }
   ],
   "source": [
    "model.predict([[100000]])"
   ]
  },
  {
   "cell_type": "markdown",
   "id": "04321874-8116-472c-9387-f0595749ea34",
   "metadata": {},
   "source": [
    "**Save a Model**"
   ]
  },
  {
   "cell_type": "code",
   "execution_count": 17,
   "id": "d306fe81-52f5-4cc4-83e4-874f21a7d454",
   "metadata": {},
   "outputs": [],
   "source": [
    "#from pickle import dump\n",
    "#dump(model,open('sales_model.pkl','wb')"
   ]
  },
  {
   "cell_type": "code",
   "execution_count": null,
   "id": "d2a6006b-91df-4dc5-b2a7-14facdc13a5c",
   "metadata": {},
   "outputs": [],
   "source": []
  },
  {
   "cell_type": "code",
   "execution_count": null,
   "id": "5be9b744-b79b-41f9-b96c-9d02a4ddd0f4",
   "metadata": {},
   "outputs": [],
   "source": []
  }
 ],
 "metadata": {
  "kernelspec": {
   "display_name": "Python 3 (ipykernel)",
   "language": "python",
   "name": "python3"
  },
  "language_info": {
   "codemirror_mode": {
    "name": "ipython",
    "version": 3
   },
   "file_extension": ".py",
   "mimetype": "text/x-python",
   "name": "python",
   "nbconvert_exporter": "python",
   "pygments_lexer": "ipython3",
   "version": "3.11.7"
  }
 },
 "nbformat": 4,
 "nbformat_minor": 5
}
