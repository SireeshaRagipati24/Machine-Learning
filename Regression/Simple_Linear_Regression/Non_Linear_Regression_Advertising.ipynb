{
 "cells": [
  {
   "cell_type": "code",
   "execution_count": 1,
   "id": "bfd20e27-1290-4b7f-95b4-70ce86db8a30",
   "metadata": {},
   "outputs": [],
   "source": [
    "import numpy as np \n",
    "import pandas as pd\n",
    "import matplotlib.pyplot as plt\n",
    "import seaborn as sns \n",
    "\n",
    "import warnings\n",
    "warnings.simplefilter(\"ignore\")"
   ]
  },
  {
   "cell_type": "code",
   "execution_count": 2,
   "id": "35c8b817-39a8-4b53-8f49-0e751ffb07cf",
   "metadata": {},
   "outputs": [
    {
     "data": {
      "text/html": [
       "<div>\n",
       "<style scoped>\n",
       "    .dataframe tbody tr th:only-of-type {\n",
       "        vertical-align: middle;\n",
       "    }\n",
       "\n",
       "    .dataframe tbody tr th {\n",
       "        vertical-align: top;\n",
       "    }\n",
       "\n",
       "    .dataframe thead th {\n",
       "        text-align: right;\n",
       "    }\n",
       "</style>\n",
       "<table border=\"1\" class=\"dataframe\">\n",
       "  <thead>\n",
       "    <tr style=\"text-align: right;\">\n",
       "      <th></th>\n",
       "      <th>sales</th>\n",
       "      <th>total_sales</th>\n",
       "    </tr>\n",
       "  </thead>\n",
       "  <tbody>\n",
       "    <tr>\n",
       "      <th>0</th>\n",
       "      <td>22100</td>\n",
       "      <td>337100</td>\n",
       "    </tr>\n",
       "    <tr>\n",
       "      <th>1</th>\n",
       "      <td>10400</td>\n",
       "      <td>128900</td>\n",
       "    </tr>\n",
       "    <tr>\n",
       "      <th>2</th>\n",
       "      <td>9300</td>\n",
       "      <td>132400</td>\n",
       "    </tr>\n",
       "    <tr>\n",
       "      <th>3</th>\n",
       "      <td>18500</td>\n",
       "      <td>251300</td>\n",
       "    </tr>\n",
       "    <tr>\n",
       "      <th>4</th>\n",
       "      <td>12900</td>\n",
       "      <td>250000</td>\n",
       "    </tr>\n",
       "  </tbody>\n",
       "</table>\n",
       "</div>"
      ],
      "text/plain": [
       "   sales  total_sales\n",
       "0  22100       337100\n",
       "1  10400       128900\n",
       "2   9300       132400\n",
       "3  18500       251300\n",
       "4  12900       250000"
      ]
     },
     "execution_count": 2,
     "metadata": {},
     "output_type": "execute_result"
    }
   ],
   "source": [
    "df=pd.read_excel(\"cleaned_advertising_data.xlsx\")\n",
    "df.head()"
   ]
  },
  {
   "cell_type": "code",
   "execution_count": 3,
   "id": "55d762d9-f3c3-497d-b7ef-41d43c41ac52",
   "metadata": {},
   "outputs": [],
   "source": [
    "x=df[[\"total_sales\"]]\n",
    "y=df[\"sales\"]"
   ]
  },
  {
   "cell_type": "code",
   "execution_count": 4,
   "id": "2a30481d-02ac-4e27-a610-dd753aad6af4",
   "metadata": {},
   "outputs": [],
   "source": [
    "from sklearn.model_selection import train_test_split\n",
    "x_train,x_test,y_train,y_test=train_test_split(x,y,test_size=0.2,random_state=2)"
   ]
  },
  {
   "cell_type": "markdown",
   "id": "4671329b-9ab4-4504-bfd4-8979f8770677",
   "metadata": {},
   "source": [
    "**Modelling**"
   ]
  },
  {
   "cell_type": "code",
   "execution_count": 24,
   "id": "16dccdc5-d4bb-41ca-9e55-4d9c8738ef31",
   "metadata": {},
   "outputs": [],
   "source": [
    "from sklearn.preprocessing import PolynomialFeatures\n",
    "polynomial_converter = PolynomialFeatures(degree=3,include_bias=False)\n",
    "x_train_poly=pd.DataFrame(polynomial_converter.fit_transform(x_train))\n",
    "x_test_poly=pd.DataFrame(polynomial_converter.transform(x_test))"
   ]
  },
  {
   "cell_type": "code",
   "execution_count": 25,
   "id": "12566870-03e6-46c1-9c82-2b3e19904a19",
   "metadata": {},
   "outputs": [
    {
     "name": "stdout",
     "output_type": "stream",
     "text": [
      "Coefficients: [ 6.62854182e-02 -9.61804834e-08  1.66520026e-13]\n",
      "intercept: 3430.514152904623\n"
     ]
    }
   ],
   "source": [
    "from sklearn.linear_model import LinearRegression\n",
    "model=LinearRegression()\n",
    "model.fit(x_train_poly,y_train)\n",
    "\n",
    "print('Coefficients:',model.coef_)\n",
    "print('intercept:',model.intercept_)"
   ]
  },
  {
   "cell_type": "markdown",
   "id": "76e24bd9-a387-46d6-8c77-d1fc99da78ba",
   "metadata": {},
   "source": [
    "**Evaluation**"
   ]
  },
  {
   "cell_type": "code",
   "execution_count": 26,
   "id": "886ff157-a349-447a-bce1-e4e091b386c6",
   "metadata": {},
   "outputs": [
    {
     "name": "stdout",
     "output_type": "stream",
     "text": [
      "Train R2 0.8162547370874194\n",
      "Train cv 0.8002243459015939\n",
      "Test R2 0.3480208378992392\n"
     ]
    }
   ],
   "source": [
    "from sklearn.metrics import r2_score\n",
    "\n",
    "ypred_train=model.predict(x_train_poly)\n",
    "print(\"Train R2\",r2_score(y_train,ypred_train))\n",
    "\n",
    "from sklearn.model_selection import cross_val_score\n",
    "print(\"Train cv\",cross_val_score(model,x_train_poly,y_train,cv=5,scoring=\"r2\").mean())\n",
    "\n",
    "ypred_test=model.predict(x_test_poly)\n",
    "print(\"Test R2\",r2_score(y_test,ypred_test))"
   ]
  },
  {
   "cell_type": "markdown",
   "id": "4d39c2f3-f78c-423e-9d3f-b6a379d6fc18",
   "metadata": {},
   "source": [
    "**Key Conclusions**"
   ]
  },
  {
   "cell_type": "markdown",
   "id": "548e7ced-2a4f-4fb3-8ee6-67ea30226e1b",
   "metadata": {},
   "source": [
    "Overfitting:\n",
    "- The large gap between the Train R2 (0.8162) and Test R2 (0.3480) indicates that the model is overfitting.\n",
    "- Overfitting occurs when the model learns the noise or specific patterns in the training data that do not generalize well to unseen data.\n",
    "\n",
    "High Variance:\n",
    "- The model has high variance, meaning it is too complex for the given dataset. This is common with high-degree polynomial regression, as it can fit the training data very well but fail to generalize.\n",
    "\n",
    "Cross-Validation Confirms Overfitting:\n",
    "- The Train CV R2 (0.8002) is close to the Train R2 (0.8162), which suggests that the model is consistent across different subsets of the training data. However, the low Test R2 (0.3480) confirms that the model is still overfitting.\n",
    "\n"
   ]
  },
  {
   "cell_type": "markdown",
   "id": "95ee6a40-6b83-4f96-b1ee-9e337e60ba6e",
   "metadata": {},
   "source": [
    "**What Should You Do Next?**"
   ]
  },
  {
   "cell_type": "markdown",
   "id": "78eb3784-3b3e-4fe6-a786-9efa85b3498d",
   "metadata": {},
   "source": [
    "1. Reduce Model Complexity\n",
    "- Lower the Polynomial Degree: The current model uses a 3rd-degree polynomial (degree=3). Try reducing the degree to 2 or 1 (linear regression) to see if the model generalizes better.\n",
    "   - example:- polynomial_converter = PolynomialFeatures(degree=2, include_bias=False)\n",
    "\n",
    "2. Use Regularization\n",
    "- Regularization techniques like Ridge Regression or Lasso Regression can help reduce overfitting by penalizing large coefficients.\n",
    "\n",
    "3. Collect More Data\n",
    "- If possible, collect more data to help the model generalize better. Polynomial regression models often require a large amount of data to avoid overfitting.\n",
    "\n",
    "4. Feature Selection\n",
    "- If you have multiple features, consider selecting only the most important ones. High-degree polynomial features can introduce unnecessary complexity.\n",
    "\n",
    "5. Cross-Validation for Hyperparameter Tuning\n",
    "- Use cross-validation to tune hyperparameters like the polynomial degree or regularization strength (alpha in Ridge/Lasso).\n",
    "\n",
    "6. Evaluate Other Models\n",
    "- If polynomial regression continues to overfit, consider trying other models like:\n",
    "   - Random Forest\n",
    "   - Gradient Boosting\n",
    "   - Support Vector Regression (SVR)"
   ]
  },
  {
   "cell_type": "markdown",
   "id": "db749f8e-14e3-41f1-8e8b-1fd345df32e5",
   "metadata": {},
   "source": [
    "**Final Thoughts**"
   ]
  },
  {
   "cell_type": "markdown",
   "id": "185bc8de-5710-4917-a2f6-323a12bc3497",
   "metadata": {},
   "source": [
    "- The current model is overfitting, as evidenced by the large gap between the Train R2 and Test R2.\n",
    "- To improve generalization, reduce model complexity, use regularization, or try alternative models.\n",
    "- Always validate your model's performance on unseen data (test set) to ensure it generalizes well."
   ]
  },
  {
   "cell_type": "code",
   "execution_count": null,
   "id": "b7051d6b-38cd-4bfc-a8c7-d2e372478d5a",
   "metadata": {},
   "outputs": [],
   "source": []
  }
 ],
 "metadata": {
  "kernelspec": {
   "display_name": "Python 3 (ipykernel)",
   "language": "python",
   "name": "python3"
  },
  "language_info": {
   "codemirror_mode": {
    "name": "ipython",
    "version": 3
   },
   "file_extension": ".py",
   "mimetype": "text/x-python",
   "name": "python",
   "nbconvert_exporter": "python",
   "pygments_lexer": "ipython3",
   "version": "3.11.7"
  }
 },
 "nbformat": 4,
 "nbformat_minor": 5
}
