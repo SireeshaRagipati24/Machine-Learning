{
 "cells": [
  {
   "cell_type": "markdown",
   "id": "4ce81381-adeb-4545-8c44-34dfe739e4d6",
   "metadata": {},
   "source": [
    "# Predictive Restaurant Recommender"
   ]
  },
  {
   "cell_type": "code",
   "execution_count": 1,
   "id": "f986f2ec-b19b-451a-a3ba-495d1513d98d",
   "metadata": {},
   "outputs": [
    {
     "name": "stderr",
     "output_type": "stream",
     "text": [
      "C:\\Users\\siree\\AppData\\Local\\Temp\\ipykernel_2516\\3270821030.py:6: DtypeWarning: Columns (15,16,18,19,20) have mixed types. Specify dtype option on import or set low_memory=False.\n",
      "  train_orders = pd.read_csv(\"Train_soulpage/orders.csv\")\n"
     ]
    }
   ],
   "source": [
    "import pandas as pd\n",
    "import numpy as np \n",
    "\n",
    "train_customers = pd.read_csv(\"Train_soulpage/train_customers.csv\")\n",
    "train_locations = pd.read_csv(\"Train_soulpage/train_locations.csv\")\n",
    "train_orders = pd.read_csv(\"Train_soulpage/orders.csv\")\n",
    "vendors = pd.read_csv(\"Train_soulpage/vendors.csv\")"
   ]
  },
  {
   "cell_type": "code",
   "execution_count": 2,
   "id": "12948dce-2927-4308-9466-4190f3ae1a39",
   "metadata": {},
   "outputs": [],
   "source": [
    "pd.set_option('display.max_columns', None)\n",
    "#pd.set_option('display.max_rows', None)"
   ]
  },
  {
   "cell_type": "markdown",
   "id": "43e2f5d0-27d7-4434-bf23-f7149adc4285",
   "metadata": {},
   "source": [
    "### Step 1 — Understanding train_customers Table & Performing Data Cleaning"
   ]
  },
  {
   "cell_type": "code",
   "execution_count": 3,
   "id": "949a8048-2d53-4bbd-8079-7ac12e27a193",
   "metadata": {},
   "outputs": [
    {
     "data": {
      "text/html": [
       "<div>\n",
       "<style scoped>\n",
       "    .dataframe tbody tr th:only-of-type {\n",
       "        vertical-align: middle;\n",
       "    }\n",
       "\n",
       "    .dataframe tbody tr th {\n",
       "        vertical-align: top;\n",
       "    }\n",
       "\n",
       "    .dataframe thead th {\n",
       "        text-align: right;\n",
       "    }\n",
       "</style>\n",
       "<table border=\"1\" class=\"dataframe\">\n",
       "  <thead>\n",
       "    <tr style=\"text-align: right;\">\n",
       "      <th></th>\n",
       "      <th>customer_id</th>\n",
       "      <th>gender</th>\n",
       "      <th>dob</th>\n",
       "      <th>status</th>\n",
       "      <th>verified</th>\n",
       "      <th>language</th>\n",
       "      <th>created_at</th>\n",
       "      <th>updated_at</th>\n",
       "    </tr>\n",
       "  </thead>\n",
       "  <tbody>\n",
       "    <tr>\n",
       "      <th>0</th>\n",
       "      <td>TCHWPBT</td>\n",
       "      <td>Male</td>\n",
       "      <td>NaN</td>\n",
       "      <td>1</td>\n",
       "      <td>1</td>\n",
       "      <td>EN</td>\n",
       "      <td>2/7/2023 19:16</td>\n",
       "      <td>2/7/2023 19:16</td>\n",
       "    </tr>\n",
       "    <tr>\n",
       "      <th>1</th>\n",
       "      <td>ZGFSYCZ</td>\n",
       "      <td>Male</td>\n",
       "      <td>NaN</td>\n",
       "      <td>1</td>\n",
       "      <td>1</td>\n",
       "      <td>EN</td>\n",
       "      <td>2/9/2023 12:04</td>\n",
       "      <td>2/9/2023 12:04</td>\n",
       "    </tr>\n",
       "  </tbody>\n",
       "</table>\n",
       "</div>"
      ],
      "text/plain": [
       "  customer_id gender  dob  status  verified language      created_at  \\\n",
       "0     TCHWPBT   Male  NaN       1         1       EN  2/7/2023 19:16   \n",
       "1     ZGFSYCZ   Male  NaN       1         1       EN  2/9/2023 12:04   \n",
       "\n",
       "       updated_at  \n",
       "0  2/7/2023 19:16  \n",
       "1  2/9/2023 12:04  "
      ]
     },
     "execution_count": 3,
     "metadata": {},
     "output_type": "execute_result"
    }
   ],
   "source": [
    "train_customers.head(2)"
   ]
  },
  {
   "cell_type": "code",
   "execution_count": 4,
   "id": "c47dab7d-25d0-4901-a0ff-2da295842951",
   "metadata": {},
   "outputs": [
    {
     "data": {
      "text/plain": [
       "(34674, 8)"
      ]
     },
     "execution_count": 4,
     "metadata": {},
     "output_type": "execute_result"
    }
   ],
   "source": [
    "train_customers.shape"
   ]
  },
  {
   "cell_type": "code",
   "execution_count": 5,
   "id": "df49dacb-2a2c-43ec-9e6c-a2da442a29f1",
   "metadata": {},
   "outputs": [
    {
     "name": "stdout",
     "output_type": "stream",
     "text": [
      "<class 'pandas.core.frame.DataFrame'>\n",
      "RangeIndex: 34674 entries, 0 to 34673\n",
      "Data columns (total 8 columns):\n",
      " #   Column       Non-Null Count  Dtype  \n",
      "---  ------       --------------  -----  \n",
      " 0   customer_id  34674 non-null  object \n",
      " 1   gender       22520 non-null  object \n",
      " 2   dob          3046 non-null   float64\n",
      " 3   status       34674 non-null  int64  \n",
      " 4   verified     34674 non-null  int64  \n",
      " 5   language     21099 non-null  object \n",
      " 6   created_at   34674 non-null  object \n",
      " 7   updated_at   34674 non-null  object \n",
      "dtypes: float64(1), int64(2), object(5)\n",
      "memory usage: 2.1+ MB\n"
     ]
    }
   ],
   "source": [
    "train_customers.info()"
   ]
  },
  {
   "cell_type": "markdown",
   "id": "8837de58-4bf7-44eb-b4cf-7ca90a27a402",
   "metadata": {},
   "source": [
    "- customer_id is must — it’s the unique ID used to link orders, locations, and restaurants."
   ]
  },
  {
   "cell_type": "code",
   "execution_count": 6,
   "id": "12fddd63-6d81-45f4-952a-e876cf0ef075",
   "metadata": {},
   "outputs": [
    {
     "data": {
      "text/plain": [
       "34523"
      ]
     },
     "execution_count": 6,
     "metadata": {},
     "output_type": "execute_result"
    }
   ],
   "source": [
    "train_customers[\"customer_id\"].nunique()     "
   ]
  },
  {
   "cell_type": "code",
   "execution_count": 7,
   "id": "6a94146d-cba8-4424-a752-7a72d98a2ba8",
   "metadata": {},
   "outputs": [],
   "source": [
    "# Duplicate customer_id rows\n",
    "#duplicate_rows = train_customers[train_customers['customer_id'].duplicated(keep=False)]\n",
    "#duplicate_rows"
   ]
  },
  {
   "cell_type": "code",
   "execution_count": 8,
   "id": "b4e2017c-1ac8-44e1-9099-95ae7df877a0",
   "metadata": {},
   "outputs": [
    {
     "data": {
      "text/plain": [
       "array(['Male', 'Female', 'Female  ', 'Female   ', 'Female    ', 'Male  ',\n",
       "       '  ', 'Female ', nan, '?????', 'male'], dtype=object)"
      ]
     },
     "execution_count": 8,
     "metadata": {},
     "output_type": "execute_result"
    }
   ],
   "source": [
    "train_customers[\"gender\"].unique()          # NaN       12157"
   ]
  },
  {
   "cell_type": "code",
   "execution_count": 9,
   "id": "3f2df1d0-b446-424f-9f3e-84cf34bd72ac",
   "metadata": {},
   "outputs": [
    {
     "data": {
      "text/plain": [
       "gender\n",
       "Male          17815\n",
       "NaN           12154\n",
       "male           2914\n",
       "Female         1761\n",
       "Female           13\n",
       "Male              9\n",
       "Female            2\n",
       "Female            2\n",
       "?????             2\n",
       "Female            1\n",
       "                  1\n",
       "Name: count, dtype: int64"
      ]
     },
     "execution_count": 9,
     "metadata": {},
     "output_type": "execute_result"
    }
   ],
   "source": [
    "train_customers[\"gender\"].value_counts(dropna=False)"
   ]
  },
  {
   "cell_type": "code",
   "execution_count": 10,
   "id": "e69d744d-3888-41f8-b7c6-f3391c706dd6",
   "metadata": {},
   "outputs": [],
   "source": [
    "# Clean the column\n",
    "train_customers[\"gender\"] = (train_customers[\"gender\"]\n",
    "                .str.strip()                  # Remove extra spaces\n",
    "                .str.capitalize()             # Capitalize first letter\n",
    "                .replace(['', '?????'], np.nan)  # Replace empty/unknown with NaN\n",
    "               )"
   ]
  },
  {
   "cell_type": "markdown",
   "id": "97b5dc74-14d1-4f0c-aac2-0c30428bd5af",
   "metadata": {},
   "source": [
    "% Missing = (12157 / 34674) × 100 ≈ 35%\n",
    "\n",
    "The gender column has 35% missing values\n",
    "-  existing values are also highly imbalanced (≈ 20738 Male vs 1779 Female).\n",
    "Because I don’t have access to the actual genders, imputing the missing ones with an “unknown” category could create noise or bias in the model.\n",
    "\n",
    "- Since gender is not essential for predicting restaurant preferences and provides very weak signal due to its imbalance and missing data, it is safer and cleaner to drop this column."
   ]
  },
  {
   "cell_type": "code",
   "execution_count": 11,
   "id": "0f4b3884-2a94-48e7-848b-6b786a2bec4c",
   "metadata": {},
   "outputs": [
    {
     "data": {
      "text/plain": [
       "array([      nan, 1.957e+03, 1.970e+03, 1.985e+03, 1.900e+03, 2.002e+03,\n",
       "       1.989e+03, 2.018e+03, 1.998e+03, 1.991e+03, 1.993e+03, 1.990e+03,\n",
       "       2.003e+03, 2.000e+03, 1.986e+03, 2.019e+03, 1.977e+03, 1.979e+03,\n",
       "       1.996e+03, 1.995e+03, 2.001e+03, 1.997e+03, 1.999e+03, 1.994e+03,\n",
       "       1.980e+03, 2.020e+03, 1.987e+03, 1.988e+03, 1.984e+03, 1.981e+03,\n",
       "       1.983e+03, 1.992e+03, 1.976e+03, 1.973e+03, 2.005e+03, 1.975e+03,\n",
       "       1.964e+03, 1.967e+03, 1.982e+03, 1.978e+03, 2.006e+03, 2.017e+03,\n",
       "       2.004e+03, 2.007e+03, 1.000e+00, 1.974e+03, 1.972e+03, 2.013e+03,\n",
       "       1.966e+03, 2.015e+03, 1.971e+03, 2.009e+03, 2.531e+03, 2.008e+03,\n",
       "       2.016e+03, 2.014e+03, 1.953e+03, 2.562e+03, 1.956e+03, 1.934e+03,\n",
       "       1.398e+03, 2.012e+03, 1.888e+03, 1.968e+03, 1.955e+03, 6.760e+02])"
      ]
     },
     "execution_count": 11,
     "metadata": {},
     "output_type": "execute_result"
    }
   ],
   "source": [
    "train_customers[\"dob\"].unique()"
   ]
  },
  {
   "cell_type": "code",
   "execution_count": 12,
   "id": "4fd911fa-0bc3-4edb-94be-8851ca67d958",
   "metadata": {},
   "outputs": [],
   "source": [
    "train_customers['dob'] = train_customers['dob'].fillna(0)"
   ]
  },
  {
   "cell_type": "code",
   "execution_count": 13,
   "id": "224eb50d-825f-49df-b723-7a626376d136",
   "metadata": {},
   "outputs": [],
   "source": [
    "# dob column ni int format lo ki marchadam\n",
    "train_customers['dob'] = train_customers['dob'].astype(float).astype(int)"
   ]
  },
  {
   "cell_type": "code",
   "execution_count": 14,
   "id": "93aa7fa5-4f2c-4164-bee5-fb5526a178cb",
   "metadata": {},
   "outputs": [],
   "source": [
    "# print(train_customers['dob'].value_counts().to_string())"
   ]
  },
  {
   "cell_type": "markdown",
   "id": "f630a729-b1bf-447c-b0ac-1ed5ea8b4138",
   "metadata": {},
   "source": [
    "1. dob has only 3046 non-null values out of 34674 rows → that means over 91% missing.\n",
    "\n",
    "2. If you use this column:\n",
    "   \n",
    "   - You must either drop 91% of customers (bad — you’ll lose almost all data),\n",
    "   \n",
    "   - or fill with guesses (which will add noise, not help the model).\n",
    "   \n",
    " So best decision: Drop dob column completely.\n",
    "It won’t help the recommendation model and will just create noise."
   ]
  },
  {
   "cell_type": "code",
   "execution_count": 15,
   "id": "70becfde-3765-409c-847f-4de9d3c94629",
   "metadata": {},
   "outputs": [
    {
     "data": {
      "text/plain": [
       "array([1, 0], dtype=int64)"
      ]
     },
     "execution_count": 15,
     "metadata": {},
     "output_type": "execute_result"
    }
   ],
   "source": [
    "train_customers[\"status\"].unique()"
   ]
  },
  {
   "cell_type": "code",
   "execution_count": 16,
   "id": "dcdca483-6c76-4a17-ab0d-b34c16ad7988",
   "metadata": {},
   "outputs": [
    {
     "data": {
      "text/plain": [
       "status\n",
       "1    34639\n",
       "0       35\n",
       "Name: count, dtype: int64"
      ]
     },
     "execution_count": 16,
     "metadata": {},
     "output_type": "execute_result"
    }
   ],
   "source": [
    "train_customers[\"status\"].value_counts(dropna=False)"
   ]
  },
  {
   "cell_type": "code",
   "execution_count": 17,
   "id": "6671c197-876b-4ade-8396-eff770b007cd",
   "metadata": {},
   "outputs": [],
   "source": [
    "#train_customers[train_customers[\"status\"]==0]"
   ]
  },
  {
   "cell_type": "markdown",
   "id": "dc908705-7508-45a2-8737-334783d7df20",
   "metadata": {},
   "source": [
    "- status usually shows if the account is active/inactive or blocked.\n",
    "\n",
    "- It doesn’t tell anything about food preferences or restaurant choices.\n",
    "\n",
    "- If almost all users have the same status (like all 1), it gives no useful variation.\n",
    "\n",
    "So: status is not helpful for recommendations → can be dropped. "
   ]
  },
  {
   "cell_type": "code",
   "execution_count": 18,
   "id": "1feffb36-97dc-4a53-9d74-c59247f58cca",
   "metadata": {},
   "outputs": [
    {
     "data": {
      "text/plain": [
       "array([1, 0], dtype=int64)"
      ]
     },
     "execution_count": 18,
     "metadata": {},
     "output_type": "execute_result"
    }
   ],
   "source": [
    "train_customers[\"verified\"].unique()"
   ]
  },
  {
   "cell_type": "code",
   "execution_count": 19,
   "id": "ab568b18-7a7e-4584-8e1f-a8706d52a123",
   "metadata": {},
   "outputs": [
    {
     "data": {
      "text/plain": [
       "verified\n",
       "1    33167\n",
       "0     1507\n",
       "Name: count, dtype: int64"
      ]
     },
     "execution_count": 19,
     "metadata": {},
     "output_type": "execute_result"
    }
   ],
   "source": [
    "train_customers[\"verified\"].value_counts()"
   ]
  },
  {
   "cell_type": "markdown",
   "id": "9800ef0d-3fb5-4322-b82b-2bba8393a519",
   "metadata": {},
   "source": [
    "- verified only shows if the user’s account is verified (like email/phone confirmed).\n",
    "\n",
    "- This doesn’t affect what restaurants they like or order from.\n",
    "\n",
    "So: verified is not useful for recommendations → safe to drop.`m"
   ]
  },
  {
   "cell_type": "code",
   "execution_count": 20,
   "id": "4f111746-0185-4f28-9491-1185065c2287",
   "metadata": {},
   "outputs": [
    {
     "data": {
      "text/plain": [
       "array(['EN', nan], dtype=object)"
      ]
     },
     "execution_count": 20,
     "metadata": {},
     "output_type": "execute_result"
    }
   ],
   "source": [
    "train_customers[\"language\"].unique()"
   ]
  },
  {
   "cell_type": "code",
   "execution_count": 21,
   "id": "f4df776a-917b-4a3a-8f29-c4f176200582",
   "metadata": {},
   "outputs": [
    {
     "data": {
      "text/plain": [
       "language\n",
       "EN     21099\n",
       "NaN    13575\n",
       "Name: count, dtype: int64"
      ]
     },
     "execution_count": 21,
     "metadata": {},
     "output_type": "execute_result"
    }
   ],
   "source": [
    "train_customers[\"language\"].value_counts(dropna=False)   # (almost 40% missing)"
   ]
  },
  {
   "cell_type": "markdown",
   "id": "b92ee302-06e1-4843-b655-957b6025a2e8",
   "metadata": {},
   "source": [
    "1. language mostly has \"EN\" and some nulls , then there’s no real variation.\n",
    "\n",
    "2. Columns with almost the same value for everyone don’t help models — they can’t differentiate users.\n",
    "\n",
    "So: Drop language column."
   ]
  },
  {
   "cell_type": "code",
   "execution_count": 22,
   "id": "6480e9bc-5019-471f-94ec-ebe99b977d6a",
   "metadata": {},
   "outputs": [
    {
     "data": {
      "text/plain": [
       "30242"
      ]
     },
     "execution_count": 22,
     "metadata": {},
     "output_type": "execute_result"
    }
   ],
   "source": [
    "train_customers[\"created_at\"].nunique()"
   ]
  },
  {
   "cell_type": "markdown",
   "id": "9a67b262-71a6-424a-b2bc-7664b2c897c3",
   "metadata": {},
   "source": [
    "The created_at column indicates when a customer created their account.\n",
    "\n",
    "**Thought:**\n",
    "\n",
    " - Older customers might have developed preferences for specific restaurants over time.\n",
    "\n",
    "**Practical Consideration:**\n",
    "\n",
    "- Restaurant recommendations depend more on location, cuisine, and past order history than on account creation date.\n",
    "\n",
    "- Just knowing when an account was created provides a very weak signal about current restaurant preferences.\n",
    "\n",
    "- Preferences can change over time, so an old account does not mean the customer still likes the same restaurants.\n",
    "\n",
    "**Conclusion:**\n",
    "\n",
    "Since created_at gives limited value without order behavior, it will be dropped from the dataset."
   ]
  },
  {
   "cell_type": "code",
   "execution_count": 23,
   "id": "616e7e4b-f12f-4e00-a050-b778a4357e60",
   "metadata": {},
   "outputs": [
    {
     "data": {
      "text/plain": [
       "22319"
      ]
     },
     "execution_count": 23,
     "metadata": {},
     "output_type": "execute_result"
    }
   ],
   "source": [
    "train_customers[\"updated_at\"].nunique()"
   ]
  },
  {
   "cell_type": "markdown",
   "id": "411f16da-05d9-4c5e-8b87-d5f804082b59",
   "metadata": {},
   "source": [
    "- updated_at shows the last profile update, which is not related to restaurant preferences or orders.\n",
    "It adds no predictive value, so this column will be dropped."
   ]
  },
  {
   "cell_type": "markdown",
   "id": "44304092-a4ec-446b-af3c-3ee119c7be2a",
   "metadata": {},
   "source": [
    "#### Dropping unimportant columns"
   ]
  },
  {
   "cell_type": "code",
   "execution_count": 24,
   "id": "d5afa1c5-3996-416f-9706-9f58839834fb",
   "metadata": {},
   "outputs": [],
   "source": [
    "# Dropping unnecessary columns\n",
    "train_customers.drop(['gender','dob','status','verified','language','created_at','updated_at'], axis=1, inplace=True)"
   ]
  },
  {
   "cell_type": "code",
   "execution_count": 25,
   "id": "b47171f0-36ee-4d3f-aeef-7bbb027a7d37",
   "metadata": {},
   "outputs": [
    {
     "data": {
      "text/plain": [
       "151"
      ]
     },
     "execution_count": 25,
     "metadata": {},
     "output_type": "execute_result"
    }
   ],
   "source": [
    "# Check duplicates\n",
    "train_customers['customer_id'].duplicated().sum()"
   ]
  },
  {
   "cell_type": "code",
   "execution_count": 26,
   "id": "052c8d33-7d68-4a2c-9302-1faa6a5fdab3",
   "metadata": {},
   "outputs": [],
   "source": [
    "train_customers.drop_duplicates(subset='customer_id', inplace=True)\n"
   ]
  },
  {
   "cell_type": "code",
   "execution_count": 27,
   "id": "595cb493-8011-41b2-a114-5ed42a42a602",
   "metadata": {},
   "outputs": [
    {
     "data": {
      "text/html": [
       "<div>\n",
       "<style scoped>\n",
       "    .dataframe tbody tr th:only-of-type {\n",
       "        vertical-align: middle;\n",
       "    }\n",
       "\n",
       "    .dataframe tbody tr th {\n",
       "        vertical-align: top;\n",
       "    }\n",
       "\n",
       "    .dataframe thead th {\n",
       "        text-align: right;\n",
       "    }\n",
       "</style>\n",
       "<table border=\"1\" class=\"dataframe\">\n",
       "  <thead>\n",
       "    <tr style=\"text-align: right;\">\n",
       "      <th></th>\n",
       "      <th>customer_id</th>\n",
       "    </tr>\n",
       "  </thead>\n",
       "  <tbody>\n",
       "    <tr>\n",
       "      <th>0</th>\n",
       "      <td>TCHWPBT</td>\n",
       "    </tr>\n",
       "    <tr>\n",
       "      <th>1</th>\n",
       "      <td>ZGFSYCZ</td>\n",
       "    </tr>\n",
       "  </tbody>\n",
       "</table>\n",
       "</div>"
      ],
      "text/plain": [
       "  customer_id\n",
       "0     TCHWPBT\n",
       "1     ZGFSYCZ"
      ]
     },
     "execution_count": 27,
     "metadata": {},
     "output_type": "execute_result"
    }
   ],
   "source": [
    "train_customers.head(2)"
   ]
  },
  {
   "cell_type": "code",
   "execution_count": 28,
   "id": "cd5b11a9-f5e9-43e1-950d-c02a668d53fe",
   "metadata": {},
   "outputs": [
    {
     "name": "stdout",
     "output_type": "stream",
     "text": [
      "<class 'pandas.core.frame.DataFrame'>\n",
      "Index: 34523 entries, 0 to 34673\n",
      "Data columns (total 1 columns):\n",
      " #   Column       Non-Null Count  Dtype \n",
      "---  ------       --------------  ----- \n",
      " 0   customer_id  34523 non-null  object\n",
      "dtypes: object(1)\n",
      "memory usage: 539.4+ KB\n"
     ]
    }
   ],
   "source": [
    "train_customers.info()"
   ]
  },
  {
   "cell_type": "code",
   "execution_count": null,
   "id": "29ae1981-229a-4b71-8931-bfb95f5b66fd",
   "metadata": {},
   "outputs": [],
   "source": []
  },
  {
   "cell_type": "markdown",
   "id": "0fb2db69-67dc-4d56-9928-a8a88c25d201",
   "metadata": {},
   "source": [
    "### Step 2 — Understanding train_locations Table & Performing Data Cleaning"
   ]
  },
  {
   "cell_type": "code",
   "execution_count": 29,
   "id": "da28cb39-1ddb-4414-a3fd-6036eab3ba16",
   "metadata": {},
   "outputs": [
    {
     "data": {
      "text/html": [
       "<div>\n",
       "<style scoped>\n",
       "    .dataframe tbody tr th:only-of-type {\n",
       "        vertical-align: middle;\n",
       "    }\n",
       "\n",
       "    .dataframe tbody tr th {\n",
       "        vertical-align: top;\n",
       "    }\n",
       "\n",
       "    .dataframe thead th {\n",
       "        text-align: right;\n",
       "    }\n",
       "</style>\n",
       "<table border=\"1\" class=\"dataframe\">\n",
       "  <thead>\n",
       "    <tr style=\"text-align: right;\">\n",
       "      <th></th>\n",
       "      <th>customer_id</th>\n",
       "      <th>location_number</th>\n",
       "      <th>location_type</th>\n",
       "      <th>latitude</th>\n",
       "      <th>longitude</th>\n",
       "    </tr>\n",
       "  </thead>\n",
       "  <tbody>\n",
       "    <tr>\n",
       "      <th>0</th>\n",
       "      <td>02SFNJH</td>\n",
       "      <td>0</td>\n",
       "      <td>NaN</td>\n",
       "      <td>1.682392</td>\n",
       "      <td>-78.789737</td>\n",
       "    </tr>\n",
       "    <tr>\n",
       "      <th>1</th>\n",
       "      <td>02SFNJH</td>\n",
       "      <td>1</td>\n",
       "      <td>NaN</td>\n",
       "      <td>1.679137</td>\n",
       "      <td>0.766823</td>\n",
       "    </tr>\n",
       "  </tbody>\n",
       "</table>\n",
       "</div>"
      ],
      "text/plain": [
       "  customer_id  location_number location_type  latitude  longitude\n",
       "0     02SFNJH                0           NaN  1.682392 -78.789737\n",
       "1     02SFNJH                1           NaN  1.679137   0.766823"
      ]
     },
     "execution_count": 29,
     "metadata": {},
     "output_type": "execute_result"
    }
   ],
   "source": [
    "train_locations.head(2)"
   ]
  },
  {
   "cell_type": "code",
   "execution_count": 30,
   "id": "341bb576-5368-4b77-b855-3d2dcad00049",
   "metadata": {},
   "outputs": [
    {
     "data": {
      "text/plain": [
       "(59503, 5)"
      ]
     },
     "execution_count": 30,
     "metadata": {},
     "output_type": "execute_result"
    }
   ],
   "source": [
    "train_locations.shape"
   ]
  },
  {
   "cell_type": "code",
   "execution_count": 31,
   "id": "f5f60901-7675-4b52-83fb-7a6c6c9dcd8b",
   "metadata": {},
   "outputs": [
    {
     "name": "stdout",
     "output_type": "stream",
     "text": [
      "<class 'pandas.core.frame.DataFrame'>\n",
      "RangeIndex: 59503 entries, 0 to 59502\n",
      "Data columns (total 5 columns):\n",
      " #   Column           Non-Null Count  Dtype  \n",
      "---  ------           --------------  -----  \n",
      " 0   customer_id      59503 non-null  object \n",
      " 1   location_number  59503 non-null  int64  \n",
      " 2   location_type    32294 non-null  object \n",
      " 3   latitude         59497 non-null  float64\n",
      " 4   longitude        59497 non-null  float64\n",
      "dtypes: float64(2), int64(1), object(2)\n",
      "memory usage: 2.3+ MB\n"
     ]
    }
   ],
   "source": [
    "train_locations.info()"
   ]
  },
  {
   "cell_type": "markdown",
   "id": "92659fb6-5ef9-4537-9c76-fba0cd771be2",
   "metadata": {},
   "source": [
    "- Links each location to the customer, necessary for building recommendations. "
   ]
  },
  {
   "cell_type": "code",
   "execution_count": 32,
   "id": "8a61a9e3-e462-4e1a-a652-724ba18f9de5",
   "metadata": {},
   "outputs": [
    {
     "data": {
      "text/plain": [
       "35400"
      ]
     },
     "execution_count": 32,
     "metadata": {},
     "output_type": "execute_result"
    }
   ],
   "source": [
    "train_locations[\"customer_id\"].nunique()       "
   ]
  },
  {
   "cell_type": "markdown",
   "id": "1289e5c8-94c0-4850-b51e-4b54fe446a55",
   "metadata": {},
   "source": [
    "- One customer_id can appear multiple times with different location_number and location_type.\n",
    "- This is normal and expected for this dataset.We should not remove duplicates just based on customer_id"
   ]
  },
  {
   "cell_type": "markdown",
   "id": "a014e0dd-a402-4aac-b698-e18e8faac221",
   "metadata": {},
   "source": [
    "- customer_id can repeat\n",
    "- customer_id + location_number pair must be unique\n",
    "- That pair will be used later when linking orders and building recommendations"
   ]
  },
  {
   "cell_type": "markdown",
   "id": "041a7b9b-7090-4c0a-8df9-55e37495d3a4",
   "metadata": {},
   "source": [
    "- train_locations table is just a list of all locations a customer has ever used.\n",
    "- So ideally, each customer + location_number pair should appear only once in this table."
   ]
  },
  {
   "cell_type": "code",
   "execution_count": 33,
   "id": "b3b1a089-91f4-4d3c-87b7-ebc95707b7e4",
   "metadata": {},
   "outputs": [
    {
     "name": "stdout",
     "output_type": "stream",
     "text": [
      "Number of duplicate pairs: 0\n"
     ]
    }
   ],
   "source": [
    "# Let’s now check if any duplicate customer_id + location_number pairs exist in your train_locations table.\n",
    "dup_count = train_locations.duplicated(subset=['customer_id','location_number']).sum()\n",
    "print(\"Number of duplicate pairs:\", dup_count)"
   ]
  },
  {
   "cell_type": "markdown",
   "id": "5ed397dc-3dfa-4df1-81da-9afc06487b4f",
   "metadata": {},
   "source": [
    "- dup_count shows 0 → No duplicates, nothing to remove."
   ]
  },
  {
   "cell_type": "code",
   "execution_count": 34,
   "id": "756bbe99-537f-40e4-ab43-e79a857639f2",
   "metadata": {},
   "outputs": [
    {
     "data": {
      "text/plain": [
       "array([ 0,  1,  2,  3,  4,  5,  6,  7,  8,  9, 10, 11, 12, 13, 14, 15, 16,\n",
       "       17, 18, 19, 20, 21, 22, 23, 24, 25, 26, 27, 28, 29], dtype=int64)"
      ]
     },
     "execution_count": 34,
     "metadata": {},
     "output_type": "execute_result"
    }
   ],
   "source": [
    "train_locations[\"location_number\"].unique()"
   ]
  },
  {
   "cell_type": "code",
   "execution_count": 35,
   "id": "f36d6a75-0dfb-4fc8-8ab2-2bb38d0b5c2b",
   "metadata": {},
   "outputs": [],
   "source": [
    "#train_locations[train_locations[\"location_number\"]==4]"
   ]
  },
  {
   "cell_type": "markdown",
   "id": "745aa28b-8c31-4efc-9594-c99c44e209f7",
   "metadata": {},
   "source": [
    "- What it is: An index for each customer’s saved locations (0, 1, 2 …).\n",
    "- Why useful:\n",
    "\n",
    "   - Customers can have multiple addresses (home, work, other)\n",
    "   - location_number helps differentiate these locations.\n",
    "   - Important if your model wants to predict which restaurant the customer will order from at a specific location.\n",
    "\n",
    "- Why not useless:\n",
    "\n",
    "   - Dropping it would mix all locations of a customer together → model cannot distinguish which location is relevant.\n",
    "   - Conclusion: Keep location_number "
   ]
  },
  {
   "cell_type": "code",
   "execution_count": 36,
   "id": "3b26e5ca-dda8-4947-b22a-312a839a8714",
   "metadata": {},
   "outputs": [],
   "source": [
    "# train_locations[\"location_number\"].value_counts()"
   ]
  },
  {
   "cell_type": "code",
   "execution_count": 37,
   "id": "c1281269-5ebb-4725-9dd0-0e1a01f2acfa",
   "metadata": {},
   "outputs": [
    {
     "data": {
      "text/plain": [
       "array([nan, 'Home', 'Work', 'Other'], dtype=object)"
      ]
     },
     "execution_count": 37,
     "metadata": {},
     "output_type": "execute_result"
    }
   ],
   "source": [
    "train_locations[\"location_type\"].unique()           # Not useful ( all missing )"
   ]
  },
  {
   "cell_type": "code",
   "execution_count": 38,
   "id": "18969417-2181-4ba6-aa60-dd8736af4763",
   "metadata": {},
   "outputs": [],
   "source": [
    "#train_locations[train_locations[\"location_type\"]=='Home']"
   ]
  },
  {
   "cell_type": "code",
   "execution_count": 39,
   "id": "0d77dffb-2e9a-44d8-a357-af0856c9a868",
   "metadata": {},
   "outputs": [
    {
     "data": {
      "text/plain": [
       "location_type\n",
       "NaN      27209\n",
       "Home     19703\n",
       "Work      6441\n",
       "Other     6150\n",
       "Name: count, dtype: int64"
      ]
     },
     "execution_count": 39,
     "metadata": {},
     "output_type": "execute_result"
    }
   ],
   "source": [
    "train_locations[\"location_type\"].value_counts(dropna=False)"
   ]
  },
  {
   "cell_type": "markdown",
   "id": "e36afb78-81ca-4ac8-81a2-930add89a8f8",
   "metadata": {},
   "source": [
    "- Total rows = 59,503\n",
    "- Missing (NaN) = 27,209 → ~46% missing\n",
    "\n",
    "**Observation:**\n",
    "\n",
    "- Almost half the values are missing → high missing rate.\n",
    "- Also, the distribution is very uneven: Home dominates, Work & Other are small.\n",
    "- Models may get biased or noisy signal from this column.\n",
    "\n",
    "**Decision:**\n",
    "\n",
    "- Drop location_type \n",
    "- Reason: Too many missing values and uneven distribution → weak predictive power for restaurant choice."
   ]
  },
  {
   "cell_type": "code",
   "execution_count": 40,
   "id": "866d537a-e1d3-4bc3-90e2-e78fb9e26a25",
   "metadata": {},
   "outputs": [
    {
     "data": {
      "text/plain": [
       "58454"
      ]
     },
     "execution_count": 40,
     "metadata": {},
     "output_type": "execute_result"
    }
   ],
   "source": [
    "train_locations[\"latitude\"].nunique()      # 6 missing "
   ]
  },
  {
   "cell_type": "code",
   "execution_count": 41,
   "id": "a547e6de-beca-4ba2-b996-3de5024b76d7",
   "metadata": {},
   "outputs": [
    {
     "data": {
      "text/plain": [
       "58657"
      ]
     },
     "execution_count": 41,
     "metadata": {},
     "output_type": "execute_result"
    }
   ],
   "source": [
    "train_locations[\"longitude\"].nunique()     # 6 missing "
   ]
  },
  {
   "cell_type": "code",
   "execution_count": 42,
   "id": "86c6f901-86db-4918-94e5-356af5b02ad7",
   "metadata": {},
   "outputs": [
    {
     "data": {
      "text/html": [
       "<div>\n",
       "<style scoped>\n",
       "    .dataframe tbody tr th:only-of-type {\n",
       "        vertical-align: middle;\n",
       "    }\n",
       "\n",
       "    .dataframe tbody tr th {\n",
       "        vertical-align: top;\n",
       "    }\n",
       "\n",
       "    .dataframe thead th {\n",
       "        text-align: right;\n",
       "    }\n",
       "</style>\n",
       "<table border=\"1\" class=\"dataframe\">\n",
       "  <thead>\n",
       "    <tr style=\"text-align: right;\">\n",
       "      <th></th>\n",
       "      <th>customer_id</th>\n",
       "      <th>location_number</th>\n",
       "      <th>location_type</th>\n",
       "      <th>latitude</th>\n",
       "      <th>longitude</th>\n",
       "    </tr>\n",
       "  </thead>\n",
       "  <tbody>\n",
       "    <tr>\n",
       "      <th>24726</th>\n",
       "      <td>7URX8JP</td>\n",
       "      <td>0</td>\n",
       "      <td>Other</td>\n",
       "      <td>NaN</td>\n",
       "      <td>NaN</td>\n",
       "    </tr>\n",
       "    <tr>\n",
       "      <th>35657</th>\n",
       "      <td>NSQRO1H</td>\n",
       "      <td>2</td>\n",
       "      <td>NaN</td>\n",
       "      <td>NaN</td>\n",
       "      <td>NaN</td>\n",
       "    </tr>\n",
       "    <tr>\n",
       "      <th>42953</th>\n",
       "      <td>55MCNEF</td>\n",
       "      <td>0</td>\n",
       "      <td>Home</td>\n",
       "      <td>NaN</td>\n",
       "      <td>NaN</td>\n",
       "    </tr>\n",
       "    <tr>\n",
       "      <th>45266</th>\n",
       "      <td>VZIK43C</td>\n",
       "      <td>2</td>\n",
       "      <td>NaN</td>\n",
       "      <td>NaN</td>\n",
       "      <td>NaN</td>\n",
       "    </tr>\n",
       "    <tr>\n",
       "      <th>50037</th>\n",
       "      <td>QFWLNUK</td>\n",
       "      <td>2</td>\n",
       "      <td>NaN</td>\n",
       "      <td>NaN</td>\n",
       "      <td>NaN</td>\n",
       "    </tr>\n",
       "    <tr>\n",
       "      <th>59198</th>\n",
       "      <td>O0LALCF</td>\n",
       "      <td>0</td>\n",
       "      <td>NaN</td>\n",
       "      <td>NaN</td>\n",
       "      <td>NaN</td>\n",
       "    </tr>\n",
       "  </tbody>\n",
       "</table>\n",
       "</div>"
      ],
      "text/plain": [
       "      customer_id  location_number location_type  latitude  longitude\n",
       "24726     7URX8JP                0         Other       NaN        NaN\n",
       "35657     NSQRO1H                2           NaN       NaN        NaN\n",
       "42953     55MCNEF                0          Home       NaN        NaN\n",
       "45266     VZIK43C                2           NaN       NaN        NaN\n",
       "50037     QFWLNUK                2           NaN       NaN        NaN\n",
       "59198     O0LALCF                0           NaN       NaN        NaN"
      ]
     },
     "execution_count": 42,
     "metadata": {},
     "output_type": "execute_result"
    }
   ],
   "source": [
    "train_locations[train_locations[\"latitude\"].isnull()]"
   ]
  },
  {
   "cell_type": "markdown",
   "id": "9b22d6c7-9737-47b3-bbe0-ee52dd20ef14",
   "metadata": {},
   "source": [
    "- Since it’s only 6 out of 59,503 rows, dropping them is the cleanest and safest approach."
   ]
  },
  {
   "cell_type": "code",
   "execution_count": 43,
   "id": "5f8a7b99-acc0-4fd9-9c59-cc8ee0be8f44",
   "metadata": {},
   "outputs": [],
   "source": [
    "# Drop rows where either latitude OR longitude is null\n",
    "train_locations.dropna(subset=['latitude', 'longitude'], inplace=True)"
   ]
  },
  {
   "cell_type": "code",
   "execution_count": 44,
   "id": "02e224d4-735a-4434-aaf2-c10b01d7c81e",
   "metadata": {},
   "outputs": [],
   "source": [
    "# Reset index after dropping\n",
    "train_locations.reset_index(drop=True, inplace=True)"
   ]
  },
  {
   "cell_type": "code",
   "execution_count": 45,
   "id": "561f8bc2-156d-4da3-8adc-32c6fb4fc59b",
   "metadata": {},
   "outputs": [
    {
     "data": {
      "text/plain": [
       "latitude     0\n",
       "longitude    0\n",
       "dtype: int64"
      ]
     },
     "execution_count": 45,
     "metadata": {},
     "output_type": "execute_result"
    }
   ],
   "source": [
    "# Confirm there are no nulls now\n",
    "train_locations[['latitude', 'longitude']].isnull().sum()"
   ]
  },
  {
   "cell_type": "markdown",
   "id": "e3bc5c78-2ab3-4e4f-bb70-983af7fc2106",
   "metadata": {},
   "source": [
    "- Exact location coordinates are critical to predict nearby restaurants.\n",
    "- so am keeping both latitude and logitude  "
   ]
  },
  {
   "cell_type": "markdown",
   "id": "58a9cb3f-36a3-480b-9762-4a94cadf04d0",
   "metadata": {},
   "source": [
    "#### Dropping unimportant columns"
   ]
  },
  {
   "cell_type": "code",
   "execution_count": 46,
   "id": "c3f8a5ba-6f8a-4820-94f1-0cc2865e6faf",
   "metadata": {},
   "outputs": [],
   "source": [
    "train_locations.drop(['location_type'], axis=1, inplace=True)"
   ]
  },
  {
   "cell_type": "code",
   "execution_count": 47,
   "id": "e670ff0d-b1e5-4a10-bc23-99ec9c1a5fb4",
   "metadata": {},
   "outputs": [
    {
     "data": {
      "text/html": [
       "<div>\n",
       "<style scoped>\n",
       "    .dataframe tbody tr th:only-of-type {\n",
       "        vertical-align: middle;\n",
       "    }\n",
       "\n",
       "    .dataframe tbody tr th {\n",
       "        vertical-align: top;\n",
       "    }\n",
       "\n",
       "    .dataframe thead th {\n",
       "        text-align: right;\n",
       "    }\n",
       "</style>\n",
       "<table border=\"1\" class=\"dataframe\">\n",
       "  <thead>\n",
       "    <tr style=\"text-align: right;\">\n",
       "      <th></th>\n",
       "      <th>customer_id</th>\n",
       "      <th>location_number</th>\n",
       "      <th>latitude</th>\n",
       "      <th>longitude</th>\n",
       "    </tr>\n",
       "  </thead>\n",
       "  <tbody>\n",
       "    <tr>\n",
       "      <th>0</th>\n",
       "      <td>02SFNJH</td>\n",
       "      <td>0</td>\n",
       "      <td>1.682392</td>\n",
       "      <td>-78.789737</td>\n",
       "    </tr>\n",
       "    <tr>\n",
       "      <th>1</th>\n",
       "      <td>02SFNJH</td>\n",
       "      <td>1</td>\n",
       "      <td>1.679137</td>\n",
       "      <td>0.766823</td>\n",
       "    </tr>\n",
       "  </tbody>\n",
       "</table>\n",
       "</div>"
      ],
      "text/plain": [
       "  customer_id  location_number  latitude  longitude\n",
       "0     02SFNJH                0  1.682392 -78.789737\n",
       "1     02SFNJH                1  1.679137   0.766823"
      ]
     },
     "execution_count": 47,
     "metadata": {},
     "output_type": "execute_result"
    }
   ],
   "source": [
    "train_locations.head(2)"
   ]
  },
  {
   "cell_type": "code",
   "execution_count": 48,
   "id": "5c8ad09b-4253-4b58-b7d4-2484ad1ec97b",
   "metadata": {},
   "outputs": [
    {
     "name": "stdout",
     "output_type": "stream",
     "text": [
      "<class 'pandas.core.frame.DataFrame'>\n",
      "RangeIndex: 59497 entries, 0 to 59496\n",
      "Data columns (total 4 columns):\n",
      " #   Column           Non-Null Count  Dtype  \n",
      "---  ------           --------------  -----  \n",
      " 0   customer_id      59497 non-null  object \n",
      " 1   location_number  59497 non-null  int64  \n",
      " 2   latitude         59497 non-null  float64\n",
      " 3   longitude        59497 non-null  float64\n",
      "dtypes: float64(2), int64(1), object(1)\n",
      "memory usage: 1.8+ MB\n"
     ]
    }
   ],
   "source": [
    "train_locations.info()"
   ]
  },
  {
   "cell_type": "code",
   "execution_count": null,
   "id": "b3bfd74f-8811-4892-8a2c-b09a3ef6b626",
   "metadata": {},
   "outputs": [],
   "source": []
  },
  {
   "cell_type": "markdown",
   "id": "3f3d6a3c-c354-4698-a5aa-a7b514e11c89",
   "metadata": {},
   "source": [
    "### Step 3 — Understanding train_orders Table & Performing Data Cleaning"
   ]
  },
  {
   "cell_type": "code",
   "execution_count": 49,
   "id": "8246d282-4d63-438a-af50-4e4c3451bc00",
   "metadata": {},
   "outputs": [
    {
     "data": {
      "text/html": [
       "<div>\n",
       "<style scoped>\n",
       "    .dataframe tbody tr th:only-of-type {\n",
       "        vertical-align: middle;\n",
       "    }\n",
       "\n",
       "    .dataframe tbody tr th {\n",
       "        vertical-align: top;\n",
       "    }\n",
       "\n",
       "    .dataframe thead th {\n",
       "        text-align: right;\n",
       "    }\n",
       "</style>\n",
       "<table border=\"1\" class=\"dataframe\">\n",
       "  <thead>\n",
       "    <tr style=\"text-align: right;\">\n",
       "      <th></th>\n",
       "      <th>order_id</th>\n",
       "      <th>customer_id</th>\n",
       "      <th>item_count</th>\n",
       "      <th>grand_total</th>\n",
       "      <th>payment_mode</th>\n",
       "      <th>promo_code</th>\n",
       "      <th>vendor_discount_amount</th>\n",
       "      <th>promo_code_discount_percentage</th>\n",
       "      <th>is_favorite</th>\n",
       "      <th>is_rated</th>\n",
       "      <th>vendor_rating</th>\n",
       "      <th>driver_rating</th>\n",
       "      <th>deliverydistance</th>\n",
       "      <th>preparationtime</th>\n",
       "      <th>delivery_time</th>\n",
       "      <th>order_accepted_time</th>\n",
       "      <th>driver_accepted_time</th>\n",
       "      <th>ready_for_pickup_time</th>\n",
       "      <th>picked_up_time</th>\n",
       "      <th>delivered_time</th>\n",
       "      <th>delivery_date</th>\n",
       "      <th>vendor_id</th>\n",
       "      <th>created_at</th>\n",
       "      <th>LOCATION_NUMBER</th>\n",
       "      <th>LOCATION_TYPE</th>\n",
       "      <th>CID X LOC_NUM X VENDOR</th>\n",
       "    </tr>\n",
       "  </thead>\n",
       "  <tbody>\n",
       "    <tr>\n",
       "      <th>0</th>\n",
       "      <td>163923.0</td>\n",
       "      <td>KL09J9N</td>\n",
       "      <td>6.0</td>\n",
       "      <td>10.1</td>\n",
       "      <td>1</td>\n",
       "      <td>NaN</td>\n",
       "      <td>0.0</td>\n",
       "      <td>NaN</td>\n",
       "      <td>NaN</td>\n",
       "      <td>No</td>\n",
       "      <td>NaN</td>\n",
       "      <td>0</td>\n",
       "      <td>0.0</td>\n",
       "      <td>NaN</td>\n",
       "      <td>NaN</td>\n",
       "      <td>NaN</td>\n",
       "      <td>NaN</td>\n",
       "      <td>NaN</td>\n",
       "      <td>NaN</td>\n",
       "      <td>NaN</td>\n",
       "      <td>8/1/2024 5:30</td>\n",
       "      <td>84</td>\n",
       "      <td>8/2/2024 5:33</td>\n",
       "      <td>0</td>\n",
       "      <td>Work</td>\n",
       "      <td>KL09J9N X 0 X 84</td>\n",
       "    </tr>\n",
       "    <tr>\n",
       "      <th>1</th>\n",
       "      <td>163924.0</td>\n",
       "      <td>H5LGGFX</td>\n",
       "      <td>3.0</td>\n",
       "      <td>8.4</td>\n",
       "      <td>1</td>\n",
       "      <td>NaN</td>\n",
       "      <td>0.0</td>\n",
       "      <td>NaN</td>\n",
       "      <td>NaN</td>\n",
       "      <td>No</td>\n",
       "      <td>NaN</td>\n",
       "      <td>0</td>\n",
       "      <td>0.0</td>\n",
       "      <td>NaN</td>\n",
       "      <td>NaN</td>\n",
       "      <td>NaN</td>\n",
       "      <td>NaN</td>\n",
       "      <td>NaN</td>\n",
       "      <td>NaN</td>\n",
       "      <td>NaN</td>\n",
       "      <td>8/1/2024 5:30</td>\n",
       "      <td>78</td>\n",
       "      <td>8/2/2024 5:34</td>\n",
       "      <td>0</td>\n",
       "      <td>Home</td>\n",
       "      <td>H5LGGFX X 0 X 78</td>\n",
       "    </tr>\n",
       "  </tbody>\n",
       "</table>\n",
       "</div>"
      ],
      "text/plain": [
       "   order_id customer_id  item_count  grand_total  payment_mode promo_code  \\\n",
       "0  163923.0     KL09J9N         6.0         10.1             1        NaN   \n",
       "1  163924.0     H5LGGFX         3.0          8.4             1        NaN   \n",
       "\n",
       "   vendor_discount_amount  promo_code_discount_percentage is_favorite  \\\n",
       "0                     0.0                             NaN         NaN   \n",
       "1                     0.0                             NaN         NaN   \n",
       "\n",
       "  is_rated  vendor_rating  driver_rating  deliverydistance  preparationtime  \\\n",
       "0       No            NaN              0               0.0              NaN   \n",
       "1       No            NaN              0               0.0              NaN   \n",
       "\n",
       "  delivery_time order_accepted_time driver_accepted_time  \\\n",
       "0           NaN                 NaN                  NaN   \n",
       "1           NaN                 NaN                  NaN   \n",
       "\n",
       "  ready_for_pickup_time picked_up_time delivered_time  delivery_date  \\\n",
       "0                   NaN            NaN            NaN  8/1/2024 5:30   \n",
       "1                   NaN            NaN            NaN  8/1/2024 5:30   \n",
       "\n",
       "   vendor_id     created_at  LOCATION_NUMBER LOCATION_TYPE  \\\n",
       "0         84  8/2/2024 5:33                0          Work   \n",
       "1         78  8/2/2024 5:34                0          Home   \n",
       "\n",
       "  CID X LOC_NUM X VENDOR  \n",
       "0       KL09J9N X 0 X 84  \n",
       "1       H5LGGFX X 0 X 78  "
      ]
     },
     "execution_count": 49,
     "metadata": {},
     "output_type": "execute_result"
    }
   ],
   "source": [
    "train_orders.head(2)"
   ]
  },
  {
   "cell_type": "code",
   "execution_count": 50,
   "id": "6498eb35-8244-431d-9986-4da275c8cabb",
   "metadata": {},
   "outputs": [
    {
     "data": {
      "text/plain": [
       "(135303, 26)"
      ]
     },
     "execution_count": 50,
     "metadata": {},
     "output_type": "execute_result"
    }
   ],
   "source": [
    "train_orders.shape\n"
   ]
  },
  {
   "cell_type": "code",
   "execution_count": 51,
   "id": "2126585b-7604-4304-8f8c-d13dcf3a6a3e",
   "metadata": {},
   "outputs": [
    {
     "name": "stdout",
     "output_type": "stream",
     "text": [
      "<class 'pandas.core.frame.DataFrame'>\n",
      "RangeIndex: 135303 entries, 0 to 135302\n",
      "Data columns (total 26 columns):\n",
      " #   Column                          Non-Null Count   Dtype  \n",
      "---  ------                          --------------   -----  \n",
      " 0   order_id                        135233 non-null  float64\n",
      " 1   customer_id                     135303 non-null  object \n",
      " 2   item_count                      128378 non-null  float64\n",
      " 3   grand_total                     135303 non-null  float64\n",
      " 4   payment_mode                    135303 non-null  int64  \n",
      " 5   promo_code                      4305 non-null    object \n",
      " 6   vendor_discount_amount          135303 non-null  float64\n",
      " 7   promo_code_discount_percentage  65880 non-null   float64\n",
      " 8   is_favorite                     100108 non-null  object \n",
      " 9   is_rated                        135303 non-null  object \n",
      " 10  vendor_rating                   45220 non-null   float64\n",
      " 11  driver_rating                   135303 non-null  int64  \n",
      " 12  deliverydistance                135303 non-null  float64\n",
      " 13  preparationtime                 79743 non-null   float64\n",
      " 14  delivery_time                   5123 non-null    object \n",
      " 15  order_accepted_time             86955 non-null   object \n",
      " 16  driver_accepted_time            46458 non-null   object \n",
      " 17  ready_for_pickup_time           84249 non-null   object \n",
      " 18  picked_up_time                  83865 non-null   object \n",
      " 19  delivered_time                  85741 non-null   object \n",
      " 20  delivery_date                   35544 non-null   object \n",
      " 21  vendor_id                       135303 non-null  int64  \n",
      " 22  created_at                      135303 non-null  object \n",
      " 23  LOCATION_NUMBER                 135303 non-null  int64  \n",
      " 24  LOCATION_TYPE                   86410 non-null   object \n",
      " 25  CID X LOC_NUM X VENDOR          135303 non-null  object \n",
      "dtypes: float64(8), int64(4), object(14)\n",
      "memory usage: 26.8+ MB\n"
     ]
    }
   ],
   "source": [
    "train_orders.info()"
   ]
  },
  {
   "cell_type": "code",
   "execution_count": 52,
   "id": "bf3d7e75-d100-4837-9cb4-3f08346c14e0",
   "metadata": {},
   "outputs": [
    {
     "data": {
      "text/plain": [
       "135221"
      ]
     },
     "execution_count": 52,
     "metadata": {},
     "output_type": "execute_result"
    }
   ],
   "source": [
    "train_orders['order_id'].nunique()"
   ]
  },
  {
   "cell_type": "code",
   "execution_count": 53,
   "id": "58aea279-d2d6-4b12-8df6-8477fa653a9a",
   "metadata": {},
   "outputs": [
    {
     "data": {
      "text/plain": [
       "order_id\n",
       "230681.0    2\n",
       "230638.0    2\n",
       "251012.0    2\n",
       "230637.0    2\n",
       "230686.0    2\n",
       "253161.0    2\n",
       "230684.0    2\n",
       "230682.0    2\n",
       "251897.0    2\n",
       "251526.0    2\n",
       "253208.0    2\n",
       "252730.0    2\n",
       "Name: count, dtype: int64"
      ]
     },
     "execution_count": 53,
     "metadata": {},
     "output_type": "execute_result"
    }
   ],
   "source": [
    "#This will show which order_ids appear more than once and how many times each appears.\n",
    "train_orders['order_id'].value_counts()[train_orders['order_id'].value_counts() > 1]"
   ]
  },
  {
   "cell_type": "code",
   "execution_count": 54,
   "id": "b87e3336-5587-47c0-ae2d-a9222e3bc015",
   "metadata": {},
   "outputs": [
    {
     "data": {
      "text/plain": [
       "48307     230637.0\n",
       "48308     230638.0\n",
       "48329     230681.0\n",
       "48330     230682.0\n",
       "48331     230684.0\n",
       "            ...   \n",
       "112974         NaN\n",
       "117886         NaN\n",
       "117887         NaN\n",
       "117890         NaN\n",
       "118113         NaN\n",
       "Name: order_id, Length: 81, dtype: float64"
      ]
     },
     "execution_count": 54,
     "metadata": {},
     "output_type": "execute_result"
    }
   ],
   "source": [
    "duplicate_order_ids = train_orders['order_id'][train_orders['order_id'].duplicated()]\n",
    "duplicate_order_ids"
   ]
  },
  {
   "cell_type": "code",
   "execution_count": 55,
   "id": "270c2006-ecd8-4b31-8fd4-37709c6b5a74",
   "metadata": {},
   "outputs": [
    {
     "data": {
      "text/html": [
       "<div>\n",
       "<style scoped>\n",
       "    .dataframe tbody tr th:only-of-type {\n",
       "        vertical-align: middle;\n",
       "    }\n",
       "\n",
       "    .dataframe tbody tr th {\n",
       "        vertical-align: top;\n",
       "    }\n",
       "\n",
       "    .dataframe thead th {\n",
       "        text-align: right;\n",
       "    }\n",
       "</style>\n",
       "<table border=\"1\" class=\"dataframe\">\n",
       "  <thead>\n",
       "    <tr style=\"text-align: right;\">\n",
       "      <th></th>\n",
       "      <th>order_id</th>\n",
       "      <th>customer_id</th>\n",
       "      <th>item_count</th>\n",
       "      <th>grand_total</th>\n",
       "      <th>payment_mode</th>\n",
       "      <th>promo_code</th>\n",
       "      <th>vendor_discount_amount</th>\n",
       "      <th>promo_code_discount_percentage</th>\n",
       "      <th>is_favorite</th>\n",
       "      <th>is_rated</th>\n",
       "      <th>vendor_rating</th>\n",
       "      <th>driver_rating</th>\n",
       "      <th>deliverydistance</th>\n",
       "      <th>preparationtime</th>\n",
       "      <th>delivery_time</th>\n",
       "      <th>order_accepted_time</th>\n",
       "      <th>driver_accepted_time</th>\n",
       "      <th>ready_for_pickup_time</th>\n",
       "      <th>picked_up_time</th>\n",
       "      <th>delivered_time</th>\n",
       "      <th>delivery_date</th>\n",
       "      <th>vendor_id</th>\n",
       "      <th>created_at</th>\n",
       "      <th>LOCATION_NUMBER</th>\n",
       "      <th>LOCATION_TYPE</th>\n",
       "      <th>CID X LOC_NUM X VENDOR</th>\n",
       "    </tr>\n",
       "  </thead>\n",
       "  <tbody>\n",
       "    <tr>\n",
       "      <th>48295</th>\n",
       "      <td>230681.0</td>\n",
       "      <td>Z6DDRUJ</td>\n",
       "      <td>1.0</td>\n",
       "      <td>13.3</td>\n",
       "      <td>2</td>\n",
       "      <td>NaN</td>\n",
       "      <td>0.0</td>\n",
       "      <td>NaN</td>\n",
       "      <td>No</td>\n",
       "      <td>No</td>\n",
       "      <td>0.0</td>\n",
       "      <td>0</td>\n",
       "      <td>0.0</td>\n",
       "      <td>NaN</td>\n",
       "      <td>NaN</td>\n",
       "      <td>10/21/2019 11:50</td>\n",
       "      <td>NaN</td>\n",
       "      <td>10/21/2019 12:02</td>\n",
       "      <td>10/21/2019 16:03</td>\n",
       "      <td>10/21/2019 16:16</td>\n",
       "      <td>NaN</td>\n",
       "      <td>134</td>\n",
       "      <td>10/21/2024 15:49</td>\n",
       "      <td>2</td>\n",
       "      <td>Work</td>\n",
       "      <td>Z6DDRUJ X 2 X 134</td>\n",
       "    </tr>\n",
       "  </tbody>\n",
       "</table>\n",
       "</div>"
      ],
      "text/plain": [
       "       order_id customer_id  item_count  grand_total  payment_mode promo_code  \\\n",
       "48295  230681.0     Z6DDRUJ         1.0         13.3             2        NaN   \n",
       "\n",
       "       vendor_discount_amount  promo_code_discount_percentage is_favorite  \\\n",
       "48295                     0.0                             NaN          No   \n",
       "\n",
       "      is_rated  vendor_rating  driver_rating  deliverydistance  \\\n",
       "48295       No            0.0              0               0.0   \n",
       "\n",
       "       preparationtime delivery_time order_accepted_time driver_accepted_time  \\\n",
       "48295              NaN           NaN    10/21/2019 11:50                  NaN   \n",
       "\n",
       "      ready_for_pickup_time    picked_up_time    delivered_time delivery_date  \\\n",
       "48295      10/21/2019 12:02  10/21/2019 16:03  10/21/2019 16:16           NaN   \n",
       "\n",
       "       vendor_id        created_at  LOCATION_NUMBER LOCATION_TYPE  \\\n",
       "48295        134  10/21/2024 15:49                2          Work   \n",
       "\n",
       "      CID X LOC_NUM X VENDOR  \n",
       "48295      Z6DDRUJ X 2 X 134  "
      ]
     },
     "execution_count": 55,
     "metadata": {},
     "output_type": "execute_result"
    }
   ],
   "source": [
    "# Get all rows for those duplicated order_ids\n",
    "duplicated_orders_df = train_orders[train_orders['order_id'].isin(duplicate_order_ids)]\n",
    "duplicated_orders_df.head(1)"
   ]
  },
  {
   "cell_type": "markdown",
   "id": "896cddd3-0944-4d35-8515-5f814d6c4def",
   "metadata": {},
   "source": [
    "- order_id is supposed to be unique for every order.\n",
    "- In the dataset, you saw that some order_ids appear twice.\n",
    "- These duplicated order_ids are not identical rows:\n",
    "  - One row may have some missing values (partially filled)\n",
    "  - Another row may have more complete information\n",
    "  - Timestamps or other columns may differ slightly"
   ]
  },
  {
   "cell_type": "code",
   "execution_count": 56,
   "id": "d0bc167e-0cf1-4369-b8f3-5bf20d508a20",
   "metadata": {},
   "outputs": [
    {
     "data": {
      "text/html": [
       "<div>\n",
       "<style scoped>\n",
       "    .dataframe tbody tr th:only-of-type {\n",
       "        vertical-align: middle;\n",
       "    }\n",
       "\n",
       "    .dataframe tbody tr th {\n",
       "        vertical-align: top;\n",
       "    }\n",
       "\n",
       "    .dataframe thead th {\n",
       "        text-align: right;\n",
       "    }\n",
       "</style>\n",
       "<table border=\"1\" class=\"dataframe\">\n",
       "  <thead>\n",
       "    <tr style=\"text-align: right;\">\n",
       "      <th></th>\n",
       "      <th>order_id</th>\n",
       "      <th>customer_id</th>\n",
       "      <th>item_count</th>\n",
       "      <th>grand_total</th>\n",
       "      <th>payment_mode</th>\n",
       "      <th>promo_code</th>\n",
       "      <th>vendor_discount_amount</th>\n",
       "      <th>promo_code_discount_percentage</th>\n",
       "      <th>is_favorite</th>\n",
       "      <th>is_rated</th>\n",
       "      <th>vendor_rating</th>\n",
       "      <th>driver_rating</th>\n",
       "      <th>deliverydistance</th>\n",
       "      <th>preparationtime</th>\n",
       "      <th>delivery_time</th>\n",
       "      <th>order_accepted_time</th>\n",
       "      <th>driver_accepted_time</th>\n",
       "      <th>ready_for_pickup_time</th>\n",
       "      <th>picked_up_time</th>\n",
       "      <th>delivered_time</th>\n",
       "      <th>delivery_date</th>\n",
       "      <th>vendor_id</th>\n",
       "      <th>created_at</th>\n",
       "      <th>LOCATION_NUMBER</th>\n",
       "      <th>LOCATION_TYPE</th>\n",
       "      <th>CID X LOC_NUM X VENDOR</th>\n",
       "    </tr>\n",
       "  </thead>\n",
       "  <tbody>\n",
       "    <tr>\n",
       "      <th>48299</th>\n",
       "      <td>230637.0</td>\n",
       "      <td>2LWS99M</td>\n",
       "      <td>NaN</td>\n",
       "      <td>7.3</td>\n",
       "      <td>2</td>\n",
       "      <td>NaN</td>\n",
       "      <td>0.0</td>\n",
       "      <td>NaN</td>\n",
       "      <td>No</td>\n",
       "      <td>No</td>\n",
       "      <td>0.0</td>\n",
       "      <td>0</td>\n",
       "      <td>0.0</td>\n",
       "      <td>NaN</td>\n",
       "      <td>NaN</td>\n",
       "      <td>10/21/2019 12:00</td>\n",
       "      <td>NaN</td>\n",
       "      <td>10/21/2019 12:00</td>\n",
       "      <td>10/21/2019 16:01</td>\n",
       "      <td>10/21/2019 16:01</td>\n",
       "      <td>NaN</td>\n",
       "      <td>4</td>\n",
       "      <td>10/21/2024 11:57</td>\n",
       "      <td>1</td>\n",
       "      <td>NaN</td>\n",
       "      <td>2LWS99M X 1 X 4</td>\n",
       "    </tr>\n",
       "  </tbody>\n",
       "</table>\n",
       "</div>"
      ],
      "text/plain": [
       "       order_id customer_id  item_count  grand_total  payment_mode promo_code  \\\n",
       "48299  230637.0     2LWS99M         NaN          7.3             2        NaN   \n",
       "\n",
       "       vendor_discount_amount  promo_code_discount_percentage is_favorite  \\\n",
       "48299                     0.0                             NaN          No   \n",
       "\n",
       "      is_rated  vendor_rating  driver_rating  deliverydistance  \\\n",
       "48299       No            0.0              0               0.0   \n",
       "\n",
       "       preparationtime delivery_time order_accepted_time driver_accepted_time  \\\n",
       "48299              NaN           NaN    10/21/2019 12:00                  NaN   \n",
       "\n",
       "      ready_for_pickup_time    picked_up_time    delivered_time delivery_date  \\\n",
       "48299      10/21/2019 12:00  10/21/2019 16:01  10/21/2019 16:01           NaN   \n",
       "\n",
       "       vendor_id        created_at  LOCATION_NUMBER LOCATION_TYPE  \\\n",
       "48299          4  10/21/2024 11:57                1           NaN   \n",
       "\n",
       "      CID X LOC_NUM X VENDOR  \n",
       "48299        2LWS99M X 1 X 4  "
      ]
     },
     "execution_count": 56,
     "metadata": {},
     "output_type": "execute_result"
    }
   ],
   "source": [
    "# Sort by order_id to group duplicates together\n",
    "duplicated_orders_df = duplicated_orders_df.sort_values(by='order_id')\n",
    "duplicated_orders_df.head(1)"
   ]
  },
  {
   "cell_type": "markdown",
   "id": "53b52d49-adcb-4c9d-8d82-3c3df3de44d0",
   "metadata": {},
   "source": [
    "- order_id is supposed to be unique for every order placed.\n",
    "- One customer can place many orders, so same customer_id repeats — this is fine.\n",
    "- But same order_id repeating means:\n",
    "   - The same order is appearing more than once in the dataset.\n",
    "   - These are true duplicate rows (or at least duplicate order entries).\n",
    "\n",
    "- So yes —\n",
    "   - If order_id repeats → those are duplicates → keep only one and drop the rest "
   ]
  },
  {
   "cell_type": "code",
   "execution_count": 57,
   "id": "d2ee5916-8739-416d-9138-464807cfdd86",
   "metadata": {},
   "outputs": [],
   "source": [
    "# Remove NaNs first (if any)\n",
    "train_orders = train_orders.dropna(subset=['order_id'])"
   ]
  },
  {
   "cell_type": "code",
   "execution_count": 58,
   "id": "9834aead-be30-4157-b60c-778d8054960a",
   "metadata": {},
   "outputs": [],
   "source": [
    "# Keep only the first row for each order_id\n",
    "train_orders = train_orders.drop_duplicates(subset=['order_id'], keep='first')"
   ]
  },
  {
   "cell_type": "code",
   "execution_count": 59,
   "id": "006e5059-3f64-4bb9-adbe-38003444e77d",
   "metadata": {},
   "outputs": [
    {
     "name": "stdout",
     "output_type": "stream",
     "text": [
      "135221 135221\n"
     ]
    }
   ],
   "source": [
    "print(train_orders['order_id'].nunique(), len(train_orders))"
   ]
  },
  {
   "cell_type": "code",
   "execution_count": 60,
   "id": "f347ddb9-0288-4033-a3a8-413186a139ff",
   "metadata": {},
   "outputs": [
    {
     "name": "stdout",
     "output_type": "stream",
     "text": [
      "Are there duplicated order_ids? False\n"
     ]
    }
   ],
   "source": [
    "has_duplicates = train_orders['order_id'].duplicated().any()\n",
    "print(\"Are there duplicated order_ids?\", has_duplicates)\n"
   ]
  },
  {
   "cell_type": "code",
   "execution_count": 61,
   "id": "8aa42d3a-2b98-4475-b540-54f6e32f7524",
   "metadata": {},
   "outputs": [
    {
     "name": "stdout",
     "output_type": "stream",
     "text": [
      "Number of duplicated order_id rows: 0\n"
     ]
    }
   ],
   "source": [
    " #Step 2: Count how many duplicated order_ids\n",
    "num_duplicates = train_orders['order_id'].duplicated().sum()\n",
    "print(\"Number of duplicated order_id rows:\", num_duplicates)\n"
   ]
  },
  {
   "cell_type": "markdown",
   "id": "89fa64e3-1c7e-4738-9b40-a7c8903daf3d",
   "metadata": {},
   "source": [
    "- The dataset contains several time-related columns, including preparationtime, delivery_time, order_accepted_time, driver_accepted_time, ready_for_pickup_time, picked_up_time, and delivered_time. While these columns theoretically influence a customer’s choice—since long delivery times may discourage repeat orders—the majority of their values are missing.\n",
    "-  For example, delivery_time has only 5,123 non-null entries out of 135,303 orders. This makes it extremely difficult to reliably compute a feature like total delivery time. Given the sparsity and the complexity of imputing or deriving meaningful metrics from these columns, it is more practical to drop them.\n",
    "-  Instead, we focus on more informative features such as customer preferences, vendor ratings, and delivery distance, which are more consistently populated and directly relevant for predicting the best restaurant for each customer."
   ]
  },
  {
   "cell_type": "code",
   "execution_count": 62,
   "id": "b970efb7-aa88-49d8-98e0-d9559c5dac42",
   "metadata": {},
   "outputs": [],
   "source": [
    "#train_orders[train_orders['promo_code_discount_percentage']==25][['promo_code']]"
   ]
  },
  {
   "cell_type": "code",
   "execution_count": 63,
   "id": "0798877d-b221-4c03-a35e-7e8c3498982e",
   "metadata": {},
   "outputs": [],
   "source": [
    "train_orders.drop(['order_id',\"payment_mode\",\"promo_code\",\"driver_rating\",\"promo_code_discount_percentage\",\"created_at\",\"delivery_date\",'LOCATION_TYPE','CID X LOC_NUM X VENDOR','preparationtime',\n",
    "       'delivery_time', 'order_accepted_time', 'driver_accepted_time',\n",
    "       'ready_for_pickup_time', 'picked_up_time', 'delivered_time'],axis=1,inplace=True)"
   ]
  },
  {
   "cell_type": "markdown",
   "id": "93f7d365-c2ee-41e2-a22b-8b91b0c33ad1",
   "metadata": {},
   "source": [
    "- here in this dataset Most customers don’t use promo codes when ordering.\n",
    "- That’s why promo_code has only 4305 non-null values out of 135303 orders (~3%).\n",
    "- For your restaurant recommendation project, this column is not useful because:\n",
    "   - It doesn’t tell you anything about restaurant preference\n",
    "  - Too sparse → filling it or keeping it may add noise\n",
    "- So, dropping promo_code is the right decision."
   ]
  },
  {
   "cell_type": "code",
   "execution_count": 64,
   "id": "c8f424fa-105a-4522-bec8-db90b5b2b3d8",
   "metadata": {},
   "outputs": [
    {
     "data": {
      "text/html": [
       "<div>\n",
       "<style scoped>\n",
       "    .dataframe tbody tr th:only-of-type {\n",
       "        vertical-align: middle;\n",
       "    }\n",
       "\n",
       "    .dataframe tbody tr th {\n",
       "        vertical-align: top;\n",
       "    }\n",
       "\n",
       "    .dataframe thead th {\n",
       "        text-align: right;\n",
       "    }\n",
       "</style>\n",
       "<table border=\"1\" class=\"dataframe\">\n",
       "  <thead>\n",
       "    <tr style=\"text-align: right;\">\n",
       "      <th></th>\n",
       "      <th>customer_id</th>\n",
       "      <th>item_count</th>\n",
       "      <th>grand_total</th>\n",
       "      <th>vendor_discount_amount</th>\n",
       "      <th>is_favorite</th>\n",
       "      <th>is_rated</th>\n",
       "      <th>vendor_rating</th>\n",
       "      <th>deliverydistance</th>\n",
       "      <th>vendor_id</th>\n",
       "      <th>LOCATION_NUMBER</th>\n",
       "    </tr>\n",
       "  </thead>\n",
       "  <tbody>\n",
       "    <tr>\n",
       "      <th>0</th>\n",
       "      <td>KL09J9N</td>\n",
       "      <td>6.0</td>\n",
       "      <td>10.1</td>\n",
       "      <td>0.0</td>\n",
       "      <td>NaN</td>\n",
       "      <td>No</td>\n",
       "      <td>NaN</td>\n",
       "      <td>0.0</td>\n",
       "      <td>84</td>\n",
       "      <td>0</td>\n",
       "    </tr>\n",
       "  </tbody>\n",
       "</table>\n",
       "</div>"
      ],
      "text/plain": [
       "  customer_id  item_count  grand_total  vendor_discount_amount is_favorite  \\\n",
       "0     KL09J9N         6.0         10.1                     0.0         NaN   \n",
       "\n",
       "  is_rated  vendor_rating  deliverydistance  vendor_id  LOCATION_NUMBER  \n",
       "0       No            NaN               0.0         84                0  "
      ]
     },
     "execution_count": 64,
     "metadata": {},
     "output_type": "execute_result"
    }
   ],
   "source": [
    "train_orders.head(1)"
   ]
  },
  {
   "cell_type": "code",
   "execution_count": 65,
   "id": "901aeb50-fbf1-4014-a78c-f5a3917f8947",
   "metadata": {},
   "outputs": [
    {
     "name": "stdout",
     "output_type": "stream",
     "text": [
      "<class 'pandas.core.frame.DataFrame'>\n",
      "Index: 135221 entries, 0 to 135302\n",
      "Data columns (total 10 columns):\n",
      " #   Column                  Non-Null Count   Dtype  \n",
      "---  ------                  --------------   -----  \n",
      " 0   customer_id             135221 non-null  object \n",
      " 1   item_count              128302 non-null  float64\n",
      " 2   grand_total             135221 non-null  float64\n",
      " 3   vendor_discount_amount  135221 non-null  float64\n",
      " 4   is_favorite             100032 non-null  object \n",
      " 5   is_rated                135221 non-null  object \n",
      " 6   vendor_rating           45220 non-null   float64\n",
      " 7   deliverydistance        135221 non-null  float64\n",
      " 8   vendor_id               135221 non-null  int64  \n",
      " 9   LOCATION_NUMBER         135221 non-null  int64  \n",
      "dtypes: float64(5), int64(2), object(3)\n",
      "memory usage: 11.3+ MB\n"
     ]
    }
   ],
   "source": [
    "train_orders.info()"
   ]
  },
  {
   "cell_type": "code",
   "execution_count": 66,
   "id": "1c5466df-c32c-44d2-a34b-e2bc053fca87",
   "metadata": {},
   "outputs": [
    {
     "data": {
      "text/plain": [
       "array([ 6.,  3.,  4.,  7.,  1.,  2.,  5.,  8., 10.,  9., 11., 15., 14.,\n",
       "       16., 12., 19., 13., 17., 18., 27., 20., 34., 22., 21., 47., 41.,\n",
       "       26., 24., 28., 25., nan, 40., 33., 30., 68., 38.])"
      ]
     },
     "execution_count": 66,
     "metadata": {},
     "output_type": "execute_result"
    }
   ],
   "source": [
    "train_orders['item_count'].unique()        # 6925 null values "
   ]
  },
  {
   "cell_type": "code",
   "execution_count": 67,
   "id": "853b8775-e112-41f4-81f7-753c35747dd0",
   "metadata": {},
   "outputs": [],
   "source": [
    "#train_orders['item_count'].value_counts(dropna=False)    # NaN      6919   -->5% missing "
   ]
  },
  {
   "cell_type": "code",
   "execution_count": 68,
   "id": "80b1fa3c-3735-4c48-a5e9-6acb081a264d",
   "metadata": {},
   "outputs": [
    {
     "data": {
      "text/html": [
       "<div>\n",
       "<style scoped>\n",
       "    .dataframe tbody tr th:only-of-type {\n",
       "        vertical-align: middle;\n",
       "    }\n",
       "\n",
       "    .dataframe tbody tr th {\n",
       "        vertical-align: top;\n",
       "    }\n",
       "\n",
       "    .dataframe thead th {\n",
       "        text-align: right;\n",
       "    }\n",
       "</style>\n",
       "<table border=\"1\" class=\"dataframe\">\n",
       "  <thead>\n",
       "    <tr style=\"text-align: right;\">\n",
       "      <th></th>\n",
       "      <th>item_count</th>\n",
       "      <th>grand_total</th>\n",
       "    </tr>\n",
       "  </thead>\n",
       "  <tbody>\n",
       "    <tr>\n",
       "      <th>94257</th>\n",
       "      <td>68.0</td>\n",
       "      <td>783.8</td>\n",
       "    </tr>\n",
       "  </tbody>\n",
       "</table>\n",
       "</div>"
      ],
      "text/plain": [
       "       item_count  grand_total\n",
       "94257        68.0        783.8"
      ]
     },
     "execution_count": 68,
     "metadata": {},
     "output_type": "execute_result"
    }
   ],
   "source": [
    "train_orders[train_orders['item_count']==68][['item_count','grand_total']]"
   ]
  },
  {
   "cell_type": "markdown",
   "id": "acc9b2ed-0de5-414a-b9ca-3edc01c3b3cb",
   "metadata": {},
   "source": [
    "\n",
    "\n",
    "**item_count**\n",
    "\n",
    "- What it is: Number of items in a single order.\n",
    "- Why it matters for your recommendation engine:\n",
    "  - Shows how much a customer usually orders\n",
    "  - Can indicate favorite order size → some customers order 1–2 items, others 5–10 items\n",
    "  - Helps model customer behavior for recommending vendors who usually serve that order size"
   ]
  },
  {
   "cell_type": "markdown",
   "id": "b182fa02-27b4-4ad6-91a0-df1cadb1d435",
   "metadata": {},
   "source": [
    "- Missing value → fill with median (robust to outliers)\n",
    "- Outliers (like 68 items) → we can keep them for now unless they are clearly wrong"
   ]
  },
  {
   "cell_type": "code",
   "execution_count": 69,
   "id": "524bdabf-262f-4e0d-9309-c971096d0336",
   "metadata": {},
   "outputs": [],
   "source": [
    "# Fill missing with median\n",
    "median_item_count = train_orders['item_count'].median()\n",
    "train_orders['item_count'] = train_orders['item_count'].fillna(median_item_count)"
   ]
  },
  {
   "cell_type": "code",
   "execution_count": 70,
   "id": "58394dcf-94de-4052-a151-6a4a8eb3e861",
   "metadata": {},
   "outputs": [],
   "source": [
    "#print(train_orders['grand_total'].unique().tolist())\n",
    "#print(sorted(train_orders['grand_total'].unique()))"
   ]
  },
  {
   "cell_type": "code",
   "execution_count": 71,
   "id": "e289b8ab-ad12-4920-9199-d4e44a4813d1",
   "metadata": {},
   "outputs": [
    {
     "data": {
      "text/plain": [
       "array([1., 2., 3., 4., 7., 5., 6., 8., 9.])"
      ]
     },
     "execution_count": 71,
     "metadata": {},
     "output_type": "execute_result"
    }
   ],
   "source": [
    "# len(train_orders[train_orders['grand_total']==0])   # 647\n",
    "train_orders.loc[train_orders['grand_total'] == 0, 'item_count'].unique()"
   ]
  },
  {
   "cell_type": "code",
   "execution_count": 72,
   "id": "efec4612-320b-4a72-8858-2e2839c66903",
   "metadata": {},
   "outputs": [
    {
     "data": {
      "text/plain": [
       "array([ 0.   ,  0.84 ,  1.05 ,  0.75 ,  0.33 ,  0.435,  0.15 ,  2.04 ,\n",
       "        0.39 ,  0.615,  1.125,  0.375,  0.825,  0.72 ,  1.065,  0.63 ,\n",
       "        0.255,  0.78 ,  0.765,  1.185,  0.465,  1.035,  0.81 ,  0.3  ,\n",
       "        0.405,  0.21 ,  1.44 ,  0.525,  0.24 ,  0.555,  0.495,  0.87 ,\n",
       "        0.975,  0.51 ,  0.96 ,  0.66 ,  0.585,  3.18 ,  0.45 ,  0.195,\n",
       "        0.42 ,  0.18 ,  0.225,  0.48 ,  0.9  ,  2.95 ,  3.625,  0.69 ,\n",
       "        3.825,  1.175,  1.08 ,  1.305,  0.315,  3.05 ,  0.93 ,  0.675,\n",
       "        4.95 ,  0.6  , 10.65 ,  2.1  ,  2.2  ,  0.36 ,  4.1  ,  0.165,\n",
       "        0.345,  0.54 ,  0.425,  0.12 ,  0.075,  0.99 ,  1.25 ,  0.705,\n",
       "        2.085,  0.38 ,  1.38 ,  0.57 ,  1.14 ,  1.785])"
      ]
     },
     "execution_count": 72,
     "metadata": {},
     "output_type": "execute_result"
    }
   ],
   "source": [
    "train_orders['vendor_discount_amount'].unique()"
   ]
  },
  {
   "cell_type": "code",
   "execution_count": 73,
   "id": "d5177e77-08ac-4de8-9e55-775f44f5a9a1",
   "metadata": {},
   "outputs": [
    {
     "data": {
      "text/plain": [
       "array([nan, 'No', 'Yes'], dtype=object)"
      ]
     },
     "execution_count": 73,
     "metadata": {},
     "output_type": "execute_result"
    }
   ],
   "source": [
    "train_orders['is_favorite'].unique()"
   ]
  },
  {
   "cell_type": "code",
   "execution_count": 74,
   "id": "c7c66297-fe83-4b90-8715-3eee11aeffbf",
   "metadata": {},
   "outputs": [
    {
     "data": {
      "text/plain": [
       "is_favorite\n",
       "No     98373\n",
       "NaN    35189\n",
       "Yes     1659\n",
       "Name: count, dtype: int64"
      ]
     },
     "execution_count": 74,
     "metadata": {},
     "output_type": "execute_result"
    }
   ],
   "source": [
    "train_orders['is_favorite'].value_counts(dropna=False)"
   ]
  },
  {
   "cell_type": "markdown",
   "id": "2ab43c0a-440d-4233-bf34-bd9e54efea18",
   "metadata": {},
   "source": [
    "- Reason: Most users haven’t marked favorites, so missing probably means “not favorite”."
   ]
  },
  {
   "cell_type": "code",
   "execution_count": 75,
   "id": "aef8af21-911a-4095-964b-d59e432901bc",
   "metadata": {},
   "outputs": [],
   "source": [
    "train_orders['is_favorite'] = train_orders['is_favorite'].fillna('No')"
   ]
  },
  {
   "cell_type": "code",
   "execution_count": 76,
   "id": "52f12d84-1711-4224-812b-264406c68aef",
   "metadata": {},
   "outputs": [
    {
     "data": {
      "text/plain": [
       "array(['No', 'Yes'], dtype=object)"
      ]
     },
     "execution_count": 76,
     "metadata": {},
     "output_type": "execute_result"
    }
   ],
   "source": [
    "train_orders['is_rated'].unique()"
   ]
  },
  {
   "cell_type": "code",
   "execution_count": 77,
   "id": "d2a6cf26-a4d2-4e06-968c-c3a266d118ef",
   "metadata": {},
   "outputs": [
    {
     "data": {
      "text/plain": [
       "is_rated\n",
       "No     115112\n",
       "Yes     20109\n",
       "Name: count, dtype: int64"
      ]
     },
     "execution_count": 77,
     "metadata": {},
     "output_type": "execute_result"
    }
   ],
   "source": [
    "train_orders['is_rated'].value_counts(dropna=False)"
   ]
  },
  {
   "cell_type": "code",
   "execution_count": 78,
   "id": "38892813-233b-459c-8b64-b669180aaef2",
   "metadata": {},
   "outputs": [],
   "source": [
    "# Convert Yes/No to 1/0\n",
    "train_orders['is_favorite'] = train_orders['is_favorite'].map({'Yes': 1, 'No': 0})\n",
    "train_orders['is_rated'] = train_orders['is_rated'].map({'Yes': 1, 'No': 0})"
   ]
  },
  {
   "cell_type": "code",
   "execution_count": 79,
   "id": "da759b8e-f962-4ecd-a827-c03f39201690",
   "metadata": {},
   "outputs": [
    {
     "data": {
      "text/plain": [
       "array([nan,  5.,  2.,  1.,  4.,  3.,  0.])"
      ]
     },
     "execution_count": 79,
     "metadata": {},
     "output_type": "execute_result"
    }
   ],
   "source": [
    "train_orders['vendor_rating'].unique()       # 90083 null values"
   ]
  },
  {
   "cell_type": "code",
   "execution_count": 80,
   "id": "fb74021d-ef22-4d65-8994-4c8e43694a88",
   "metadata": {},
   "outputs": [
    {
     "data": {
      "text/plain": [
       "vendor_rating\n",
       "NaN    90001\n",
       "0.0    25175\n",
       "5.0    14212\n",
       "4.0     2748\n",
       "3.0     1426\n",
       "1.0     1029\n",
       "2.0      630\n",
       "Name: count, dtype: int64"
      ]
     },
     "execution_count": 80,
     "metadata": {},
     "output_type": "execute_result"
    }
   ],
   "source": [
    "train_orders['vendor_rating'].value_counts(dropna=False)  "
   ]
  },
  {
   "cell_type": "markdown",
   "id": "cdc73eed-e45a-4f31-b8ec-75f368c35b48",
   "metadata": {},
   "source": [
    "- The vendor_rating column has 66% missing values, which is very high.\n",
    "- Missing rating means the user did not rate the vendor.\n",
    "- In this case, it is reasonable to assume that unrated vendors get a rating of 0.\n",
    "- To preserve information, we can also create a flag column has_vendor_rating:\n",
    "   - 1 → vendor has a rating\n",
    "  - 0 → vendor has no rating\n",
    "- This way, the model can distinguish between vendors that are rated and those that are not, while still having a usable vendor_rating column."
   ]
  },
  {
   "cell_type": "code",
   "execution_count": 81,
   "id": "4752af2a-5efd-4f68-9534-4f28239618b8",
   "metadata": {},
   "outputs": [],
   "source": [
    "# Mark which vendors have ratings\n",
    "train_orders['has_vendor_rating'] = train_orders['vendor_rating'].notna().astype(int)"
   ]
  },
  {
   "cell_type": "code",
   "execution_count": 82,
   "id": "6905b1ba-67b2-495a-9c64-4e988d7fd8e9",
   "metadata": {},
   "outputs": [],
   "source": [
    "# Fill missing vendor ratings with 0\n",
    "train_orders['vendor_rating'].fillna(0, inplace=True)"
   ]
  },
  {
   "cell_type": "code",
   "execution_count": 83,
   "id": "7039f484-a68f-4c45-8a2a-8b999c781793",
   "metadata": {},
   "outputs": [
    {
     "data": {
      "text/plain": [
       "array([], dtype=int64)"
      ]
     },
     "execution_count": 83,
     "metadata": {},
     "output_type": "execute_result"
    }
   ],
   "source": [
    "a=train_orders[['is_rated','vendor_rating']]\n",
    "#a[a['vendor_rating'].isnull()].shape[0]   # 90083\n",
    "a[a['vendor_rating'].isnull()]['is_rated'].unique()"
   ]
  },
  {
   "cell_type": "code",
   "execution_count": 84,
   "id": "06cc8cac-6bf4-4931-bdd0-8bc8a97f3b1c",
   "metadata": {},
   "outputs": [
    {
     "data": {
      "text/plain": [
       "array([0.  , 1.68, 3.87, ..., 0.23, 0.05, 0.06])"
      ]
     },
     "execution_count": 84,
     "metadata": {},
     "output_type": "execute_result"
    }
   ],
   "source": [
    "train_orders['deliverydistance'].unique()"
   ]
  },
  {
   "cell_type": "code",
   "execution_count": 85,
   "id": "66082600-0139-49f5-9804-cdf9d589fcf5",
   "metadata": {},
   "outputs": [],
   "source": [
    "#pd.set_option('display.max_rows', None)"
   ]
  },
  {
   "cell_type": "code",
   "execution_count": 86,
   "id": "fdff5793-bfc4-4b75-9d16-64deb9f25f26",
   "metadata": {},
   "outputs": [
    {
     "data": {
      "text/plain": [
       "'\\n# Convert to datetime\\ntrain_orders[\\'order_accepted_time\\'] = pd.to_datetime(train_orders[\\'order_accepted_time\\'], errors=\\'coerce\\')\\ntrain_orders[\\'delivered_time\\'] = pd.to_datetime(train_orders[\\'delivered_time\\'], errors=\\'coerce\\')\\n\\n# Calculate duration in minutes\\ntrain_orders[\\'delivery_duration_min\\'] = (train_orders[\\'delivered_time\\'] - train_orders[\\'order_accepted_time\\']).dt.total_seconds() / 60\\n\\n# Function to convert minutes to H:MM\\ndef minutes_to_h_mm(minutes):\\n    if pd.isna(minutes):\\n        return np.nan\\n    hours = int(minutes // 60)\\n    mins = int(minutes % 60)\\n    return f\"{hours}:{mins:02d}\"\\n\\n# Create single column in H:MM format\\ntrain_orders[\\'delivery_duration_h_mm\\'] = train_orders[\\'delivery_duration_min\\'].apply(minutes_to_h_mm)\\n\\n# Optional: drop the intermediate minutes column\\ntrain_orders.drop(columns=[\\'delivery_duration_min\\'], inplace=True)\\n'"
      ]
     },
     "execution_count": 86,
     "metadata": {},
     "output_type": "execute_result"
    }
   ],
   "source": [
    "'''\n",
    "# Convert to datetime\n",
    "train_orders['order_accepted_time'] = pd.to_datetime(train_orders['order_accepted_time'], errors='coerce')\n",
    "train_orders['delivered_time'] = pd.to_datetime(train_orders['delivered_time'], errors='coerce')\n",
    "\n",
    "# Calculate duration in minutes\n",
    "train_orders['delivery_duration_min'] = (train_orders['delivered_time'] - train_orders['order_accepted_time']).dt.total_seconds() / 60\n",
    "\n",
    "# Function to convert minutes to H:MM\n",
    "def minutes_to_h_mm(minutes):\n",
    "    if pd.isna(minutes):\n",
    "        return np.nan\n",
    "    hours = int(minutes // 60)\n",
    "    mins = int(minutes % 60)\n",
    "    return f\"{hours}:{mins:02d}\"\n",
    "\n",
    "# Create single column in H:MM format\n",
    "train_orders['delivery_duration_h_mm'] = train_orders['delivery_duration_min'].apply(minutes_to_h_mm)\n",
    "\n",
    "# Optional: drop the intermediate minutes column\n",
    "train_orders.drop(columns=['delivery_duration_min'], inplace=True)\n",
    "'''"
   ]
  },
  {
   "cell_type": "markdown",
   "id": "850683fe-420d-4999-803a-35d4ec4a59ba",
   "metadata": {},
   "source": [
    "deliverydistance column:\n",
    "\n",
    "- What it is: The distance (usually in km or miles) between the customer’s location and the restaurant for that order.\n",
    "- Why it’s useful:\n",
    "\n",
    "  - Customers usually prefer restaurants closer to them.\n",
    "  - Can be used to predict the likelihood of a customer choosing a restaurant.\n",
    "  - Can help the model learn patterns like “customer rarely orders from restaurants beyond X km.”\n",
    "- Why not useless:\n",
    "\n",
    "  - Unlike timestamps or promo codes, distance directly affects restaurant choice.\n",
    "  - Important for location-based recommendations.\n",
    "\n",
    "Conclusion: Keep deliverydistance "
   ]
  },
  {
   "cell_type": "markdown",
   "id": "04c16193-4bc8-4549-99fc-ff1259d56968",
   "metadata": {},
   "source": [
    "preparationtime\n",
    "\n",
    "What it is: Time (in minutes) the restaurant takes to prepare an order.\n",
    "\n",
    "Why it’s useful: Customers may prefer restaurants that prepare food faster; can influence their choice.\n",
    "\n",
    "Problem: ~41% missing values — filling them blindly could add noise or bias.\n",
    "\n",
    "Safe Option: Calculate average preparation time per restaurant and use that as a feature.\n",
    "\n",
    "Conclusion: Keep aggregated average per restaurant; drop the raw preparationtime column for baseline. "
   ]
  },
  {
   "cell_type": "code",
   "execution_count": 87,
   "id": "7183fabb-1dc1-4ef9-84e7-b0e2e67c1cc3",
   "metadata": {},
   "outputs": [
    {
     "data": {
      "text/plain": [
       "array([ 0,  1,  2,  3,  4,  5,  6,  8,  7,  9, 11, 10, 13, 15, 16, 19, 21,\n",
       "       23, 24, 25, 22, 12, 14, 17], dtype=int64)"
      ]
     },
     "execution_count": 87,
     "metadata": {},
     "output_type": "execute_result"
    }
   ],
   "source": [
    "train_orders['LOCATION_NUMBER'].unique()"
   ]
  },
  {
   "cell_type": "code",
   "execution_count": 88,
   "id": "9911da49-d32e-415a-a3f7-505f1453be46",
   "metadata": {},
   "outputs": [],
   "source": [
    "#train_orders['LOCATION_TYPE'].unique()    # 48893 null values "
   ]
  },
  {
   "cell_type": "code",
   "execution_count": 89,
   "id": "b56b651d-1383-49af-8c2d-1d2606b1989a",
   "metadata": {},
   "outputs": [],
   "source": [
    "#train_orders['CID X LOC_NUM X VENDOR'].unique()    "
   ]
  },
  {
   "cell_type": "code",
   "execution_count": 90,
   "id": "36d4f06d-f200-477b-96c5-135a476517d6",
   "metadata": {},
   "outputs": [
    {
     "data": {
      "text/html": [
       "<div>\n",
       "<style scoped>\n",
       "    .dataframe tbody tr th:only-of-type {\n",
       "        vertical-align: middle;\n",
       "    }\n",
       "\n",
       "    .dataframe tbody tr th {\n",
       "        vertical-align: top;\n",
       "    }\n",
       "\n",
       "    .dataframe thead th {\n",
       "        text-align: right;\n",
       "    }\n",
       "</style>\n",
       "<table border=\"1\" class=\"dataframe\">\n",
       "  <thead>\n",
       "    <tr style=\"text-align: right;\">\n",
       "      <th></th>\n",
       "      <th>customer_id</th>\n",
       "      <th>item_count</th>\n",
       "      <th>grand_total</th>\n",
       "      <th>vendor_discount_amount</th>\n",
       "      <th>is_favorite</th>\n",
       "      <th>is_rated</th>\n",
       "      <th>vendor_rating</th>\n",
       "      <th>deliverydistance</th>\n",
       "      <th>vendor_id</th>\n",
       "      <th>LOCATION_NUMBER</th>\n",
       "      <th>has_vendor_rating</th>\n",
       "    </tr>\n",
       "  </thead>\n",
       "  <tbody>\n",
       "    <tr>\n",
       "      <th>0</th>\n",
       "      <td>KL09J9N</td>\n",
       "      <td>6.0</td>\n",
       "      <td>10.1</td>\n",
       "      <td>0.0</td>\n",
       "      <td>0</td>\n",
       "      <td>0</td>\n",
       "      <td>0.0</td>\n",
       "      <td>0.0</td>\n",
       "      <td>84</td>\n",
       "      <td>0</td>\n",
       "      <td>0</td>\n",
       "    </tr>\n",
       "    <tr>\n",
       "      <th>1</th>\n",
       "      <td>H5LGGFX</td>\n",
       "      <td>3.0</td>\n",
       "      <td>8.4</td>\n",
       "      <td>0.0</td>\n",
       "      <td>0</td>\n",
       "      <td>0</td>\n",
       "      <td>0.0</td>\n",
       "      <td>0.0</td>\n",
       "      <td>78</td>\n",
       "      <td>0</td>\n",
       "      <td>0</td>\n",
       "    </tr>\n",
       "  </tbody>\n",
       "</table>\n",
       "</div>"
      ],
      "text/plain": [
       "  customer_id  item_count  grand_total  vendor_discount_amount  is_favorite  \\\n",
       "0     KL09J9N         6.0         10.1                     0.0            0   \n",
       "1     H5LGGFX         3.0          8.4                     0.0            0   \n",
       "\n",
       "   is_rated  vendor_rating  deliverydistance  vendor_id  LOCATION_NUMBER  \\\n",
       "0         0            0.0               0.0         84                0   \n",
       "1         0            0.0               0.0         78                0   \n",
       "\n",
       "   has_vendor_rating  \n",
       "0                  0  \n",
       "1                  0  "
      ]
     },
     "execution_count": 90,
     "metadata": {},
     "output_type": "execute_result"
    }
   ],
   "source": [
    "train_orders.head(2)"
   ]
  },
  {
   "cell_type": "code",
   "execution_count": 91,
   "id": "ca81707a-46a0-4630-9e0e-e24a9b9f82bb",
   "metadata": {},
   "outputs": [
    {
     "name": "stdout",
     "output_type": "stream",
     "text": [
      "<class 'pandas.core.frame.DataFrame'>\n",
      "Index: 135221 entries, 0 to 135302\n",
      "Data columns (total 11 columns):\n",
      " #   Column                  Non-Null Count   Dtype  \n",
      "---  ------                  --------------   -----  \n",
      " 0   customer_id             135221 non-null  object \n",
      " 1   item_count              135221 non-null  float64\n",
      " 2   grand_total             135221 non-null  float64\n",
      " 3   vendor_discount_amount  135221 non-null  float64\n",
      " 4   is_favorite             135221 non-null  int64  \n",
      " 5   is_rated                135221 non-null  int64  \n",
      " 6   vendor_rating           135221 non-null  float64\n",
      " 7   deliverydistance        135221 non-null  float64\n",
      " 8   vendor_id               135221 non-null  int64  \n",
      " 9   LOCATION_NUMBER         135221 non-null  int64  \n",
      " 10  has_vendor_rating       135221 non-null  int32  \n",
      "dtypes: float64(5), int32(1), int64(4), object(1)\n",
      "memory usage: 11.9+ MB\n"
     ]
    }
   ],
   "source": [
    "train_orders.info()"
   ]
  },
  {
   "cell_type": "code",
   "execution_count": null,
   "id": "a3e978c7-57a7-4bb5-a4fb-abb4d5b6a3f3",
   "metadata": {},
   "outputs": [],
   "source": []
  },
  {
   "cell_type": "markdown",
   "id": "66462ee0-229b-40f7-b166-0cf8a4d545a2",
   "metadata": {},
   "source": [
    "### Step 4 — Understanding vendors Table & Performing Data Cleaning"
   ]
  },
  {
   "cell_type": "code",
   "execution_count": 92,
   "id": "83859f1b-a567-4809-b94a-5fedd30f714d",
   "metadata": {},
   "outputs": [
    {
     "data": {
      "text/html": [
       "<div>\n",
       "<style scoped>\n",
       "    .dataframe tbody tr th:only-of-type {\n",
       "        vertical-align: middle;\n",
       "    }\n",
       "\n",
       "    .dataframe tbody tr th {\n",
       "        vertical-align: top;\n",
       "    }\n",
       "\n",
       "    .dataframe thead th {\n",
       "        text-align: right;\n",
       "    }\n",
       "</style>\n",
       "<table border=\"1\" class=\"dataframe\">\n",
       "  <thead>\n",
       "    <tr style=\"text-align: right;\">\n",
       "      <th></th>\n",
       "      <th>id</th>\n",
       "      <th>authentication_id</th>\n",
       "      <th>latitude</th>\n",
       "      <th>longitude</th>\n",
       "      <th>vendor_category_en</th>\n",
       "      <th>vendor_category_id</th>\n",
       "      <th>delivery_charge</th>\n",
       "      <th>serving_distance</th>\n",
       "      <th>is_open</th>\n",
       "      <th>OpeningTime</th>\n",
       "      <th>OpeningTime2</th>\n",
       "      <th>prepration_time</th>\n",
       "      <th>commission</th>\n",
       "      <th>is_haked_delivering</th>\n",
       "      <th>discount_percentage</th>\n",
       "      <th>status</th>\n",
       "      <th>verified</th>\n",
       "      <th>rank</th>\n",
       "      <th>language</th>\n",
       "      <th>vendor_rating</th>\n",
       "      <th>sunday_from_time1</th>\n",
       "      <th>sunday_to_time1</th>\n",
       "      <th>sunday_from_time2</th>\n",
       "      <th>sunday_to_time2</th>\n",
       "      <th>monday_from_time1</th>\n",
       "      <th>monday_to_time1</th>\n",
       "      <th>monday_from_time2</th>\n",
       "      <th>monday_to_time2</th>\n",
       "      <th>tuesday_from_time1</th>\n",
       "      <th>tuesday_to_time1</th>\n",
       "      <th>tuesday_from_time2</th>\n",
       "      <th>tuesday_to_time2</th>\n",
       "      <th>wednesday_from_time1</th>\n",
       "      <th>wednesday_to_time1</th>\n",
       "      <th>wednesday_from_time2</th>\n",
       "      <th>wednesday_to_time2</th>\n",
       "      <th>thursday_from_time1</th>\n",
       "      <th>thursday_to_time1</th>\n",
       "      <th>thursday_from_time2</th>\n",
       "      <th>thursday_to_time2</th>\n",
       "      <th>friday_from_time1</th>\n",
       "      <th>friday_to_time1</th>\n",
       "      <th>friday_from_time2</th>\n",
       "      <th>friday_to_time2</th>\n",
       "      <th>saturday_from_time1</th>\n",
       "      <th>saturday_to_time1</th>\n",
       "      <th>saturday_from_time2</th>\n",
       "      <th>saturday_to_time2</th>\n",
       "      <th>primary_tags</th>\n",
       "      <th>open_close_flags</th>\n",
       "      <th>vendor_tag</th>\n",
       "      <th>vendor_tag_name</th>\n",
       "      <th>one_click_vendor</th>\n",
       "      <th>country_id</th>\n",
       "      <th>city_id</th>\n",
       "      <th>created_at</th>\n",
       "      <th>updated_at</th>\n",
       "      <th>device_type</th>\n",
       "      <th>display_orders</th>\n",
       "    </tr>\n",
       "  </thead>\n",
       "  <tbody>\n",
       "    <tr>\n",
       "      <th>0</th>\n",
       "      <td>4</td>\n",
       "      <td>118597</td>\n",
       "      <td>-0.588596</td>\n",
       "      <td>0.754434</td>\n",
       "      <td>Restaurants</td>\n",
       "      <td>2</td>\n",
       "      <td>0.0</td>\n",
       "      <td>6</td>\n",
       "      <td>1</td>\n",
       "      <td>11:00AM-11:30PM</td>\n",
       "      <td>-</td>\n",
       "      <td>15</td>\n",
       "      <td>0.0</td>\n",
       "      <td>Yes</td>\n",
       "      <td>0</td>\n",
       "      <td>1</td>\n",
       "      <td>1</td>\n",
       "      <td>11</td>\n",
       "      <td>EN</td>\n",
       "      <td>4.4</td>\n",
       "      <td>0:00:00</td>\n",
       "      <td>0:30:00</td>\n",
       "      <td>8:00:00</td>\n",
       "      <td>23:59:00</td>\n",
       "      <td>0:00:00</td>\n",
       "      <td>0:30:00</td>\n",
       "      <td>8:00:00</td>\n",
       "      <td>23:59:00</td>\n",
       "      <td>0:00:00</td>\n",
       "      <td>0:30:00</td>\n",
       "      <td>8:00:00</td>\n",
       "      <td>23:59:00</td>\n",
       "      <td>0:00:00</td>\n",
       "      <td>0:30:00</td>\n",
       "      <td>8:00:00</td>\n",
       "      <td>23:59:00</td>\n",
       "      <td>0:00:00</td>\n",
       "      <td>0:30:00</td>\n",
       "      <td>8:00:00</td>\n",
       "      <td>23:59:00</td>\n",
       "      <td>0:00:00</td>\n",
       "      <td>0:30:00</td>\n",
       "      <td>10:00:00</td>\n",
       "      <td>23:59:00</td>\n",
       "      <td>0:00:00</td>\n",
       "      <td>0:30:00</td>\n",
       "      <td>10:00:00</td>\n",
       "      <td>23:59:00</td>\n",
       "      <td>{\"primary_tags\":\"4\"}</td>\n",
       "      <td>1</td>\n",
       "      <td>2,4,5,8,91,22,12,24,16,23</td>\n",
       "      <td>Arabic,Breakfast,Burgers,Desserts,Free Deliver...</td>\n",
       "      <td>Y</td>\n",
       "      <td>1</td>\n",
       "      <td>1</td>\n",
       "      <td>1/30/2023 14:42</td>\n",
       "      <td>4/7/2025 15:12</td>\n",
       "      <td>3</td>\n",
       "      <td>1</td>\n",
       "    </tr>\n",
       "    <tr>\n",
       "      <th>1</th>\n",
       "      <td>13</td>\n",
       "      <td>118608</td>\n",
       "      <td>-0.471654</td>\n",
       "      <td>0.744470</td>\n",
       "      <td>Restaurants</td>\n",
       "      <td>2</td>\n",
       "      <td>0.7</td>\n",
       "      <td>5</td>\n",
       "      <td>1</td>\n",
       "      <td>08:30AM-10:30PM</td>\n",
       "      <td>-</td>\n",
       "      <td>14</td>\n",
       "      <td>0.0</td>\n",
       "      <td>Yes</td>\n",
       "      <td>0</td>\n",
       "      <td>1</td>\n",
       "      <td>1</td>\n",
       "      <td>11</td>\n",
       "      <td>EN</td>\n",
       "      <td>4.7</td>\n",
       "      <td>0:00:00</td>\n",
       "      <td>1:30:00</td>\n",
       "      <td>8:00:00</td>\n",
       "      <td>23:59:00</td>\n",
       "      <td>0:00:00</td>\n",
       "      <td>1:30:00</td>\n",
       "      <td>8:00:00</td>\n",
       "      <td>23:59:00</td>\n",
       "      <td>0:00:00</td>\n",
       "      <td>1:30:00</td>\n",
       "      <td>8:00:00</td>\n",
       "      <td>23:59:00</td>\n",
       "      <td>0:00:00</td>\n",
       "      <td>1:30:00</td>\n",
       "      <td>8:00:00</td>\n",
       "      <td>19:30:00</td>\n",
       "      <td>0:00:00</td>\n",
       "      <td>1:30:00</td>\n",
       "      <td>8:00:00</td>\n",
       "      <td>19:30:00</td>\n",
       "      <td>0:00:00</td>\n",
       "      <td>1:30:00</td>\n",
       "      <td>8:00:00</td>\n",
       "      <td>23:59:00</td>\n",
       "      <td>0:00:00</td>\n",
       "      <td>1:30:00</td>\n",
       "      <td>8:00:00</td>\n",
       "      <td>23:59:00</td>\n",
       "      <td>{\"primary_tags\":\"7\"}</td>\n",
       "      <td>1</td>\n",
       "      <td>4,41,51,34,27,15,24,16,28</td>\n",
       "      <td>Breakfast,Cakes,Crepes,Italian,Pasta,Pizzas,Sa...</td>\n",
       "      <td>Y</td>\n",
       "      <td>1</td>\n",
       "      <td>1</td>\n",
       "      <td>5/3/2023 12:32</td>\n",
       "      <td>4/5/2025 20:46</td>\n",
       "      <td>3</td>\n",
       "      <td>1</td>\n",
       "    </tr>\n",
       "  </tbody>\n",
       "</table>\n",
       "</div>"
      ],
      "text/plain": [
       "   id  authentication_id  latitude  longitude vendor_category_en  \\\n",
       "0   4             118597 -0.588596   0.754434        Restaurants   \n",
       "1  13             118608 -0.471654   0.744470        Restaurants   \n",
       "\n",
       "   vendor_category_id  delivery_charge  serving_distance  is_open  \\\n",
       "0                   2              0.0                 6        1   \n",
       "1                   2              0.7                 5        1   \n",
       "\n",
       "       OpeningTime OpeningTime2  prepration_time  commission  \\\n",
       "0  11:00AM-11:30PM            -               15         0.0   \n",
       "1  08:30AM-10:30PM            -               14         0.0   \n",
       "\n",
       "  is_haked_delivering  discount_percentage  status  verified  rank language  \\\n",
       "0                 Yes                    0       1         1    11       EN   \n",
       "1                 Yes                    0       1         1    11       EN   \n",
       "\n",
       "   vendor_rating sunday_from_time1 sunday_to_time1 sunday_from_time2  \\\n",
       "0            4.4           0:00:00         0:30:00           8:00:00   \n",
       "1            4.7           0:00:00         1:30:00           8:00:00   \n",
       "\n",
       "  sunday_to_time2 monday_from_time1 monday_to_time1 monday_from_time2  \\\n",
       "0        23:59:00           0:00:00         0:30:00           8:00:00   \n",
       "1        23:59:00           0:00:00         1:30:00           8:00:00   \n",
       "\n",
       "  monday_to_time2 tuesday_from_time1 tuesday_to_time1 tuesday_from_time2  \\\n",
       "0        23:59:00            0:00:00          0:30:00            8:00:00   \n",
       "1        23:59:00            0:00:00          1:30:00            8:00:00   \n",
       "\n",
       "  tuesday_to_time2 wednesday_from_time1 wednesday_to_time1  \\\n",
       "0         23:59:00              0:00:00            0:30:00   \n",
       "1         23:59:00              0:00:00            1:30:00   \n",
       "\n",
       "  wednesday_from_time2 wednesday_to_time2 thursday_from_time1  \\\n",
       "0              8:00:00           23:59:00             0:00:00   \n",
       "1              8:00:00           19:30:00             0:00:00   \n",
       "\n",
       "  thursday_to_time1 thursday_from_time2 thursday_to_time2 friday_from_time1  \\\n",
       "0           0:30:00             8:00:00          23:59:00           0:00:00   \n",
       "1           1:30:00             8:00:00          19:30:00           0:00:00   \n",
       "\n",
       "  friday_to_time1 friday_from_time2 friday_to_time2 saturday_from_time1  \\\n",
       "0         0:30:00          10:00:00        23:59:00             0:00:00   \n",
       "1         1:30:00           8:00:00        23:59:00             0:00:00   \n",
       "\n",
       "  saturday_to_time1 saturday_from_time2 saturday_to_time2  \\\n",
       "0           0:30:00            10:00:00          23:59:00   \n",
       "1           1:30:00             8:00:00          23:59:00   \n",
       "\n",
       "           primary_tags  open_close_flags                 vendor_tag  \\\n",
       "0  {\"primary_tags\":\"4\"}                 1  2,4,5,8,91,22,12,24,16,23   \n",
       "1  {\"primary_tags\":\"7\"}                 1  4,41,51,34,27,15,24,16,28   \n",
       "\n",
       "                                     vendor_tag_name one_click_vendor  \\\n",
       "0  Arabic,Breakfast,Burgers,Desserts,Free Deliver...                Y   \n",
       "1  Breakfast,Cakes,Crepes,Italian,Pasta,Pizzas,Sa...                Y   \n",
       "\n",
       "   country_id  city_id       created_at      updated_at  device_type  \\\n",
       "0           1        1  1/30/2023 14:42  4/7/2025 15:12            3   \n",
       "1           1        1   5/3/2023 12:32  4/5/2025 20:46            3   \n",
       "\n",
       "   display_orders  \n",
       "0               1  \n",
       "1               1  "
      ]
     },
     "execution_count": 92,
     "metadata": {},
     "output_type": "execute_result"
    }
   ],
   "source": [
    "vendors.head(2)"
   ]
  },
  {
   "cell_type": "code",
   "execution_count": 93,
   "id": "deca3cb8-0da2-42f1-9d78-65f460a4775b",
   "metadata": {},
   "outputs": [
    {
     "data": {
      "text/plain": [
       "(100, 59)"
      ]
     },
     "execution_count": 93,
     "metadata": {},
     "output_type": "execute_result"
    }
   ],
   "source": [
    "vendors.shape"
   ]
  },
  {
   "cell_type": "code",
   "execution_count": 94,
   "id": "f77aa418-6ca6-4ebe-b299-bac48bc34491",
   "metadata": {},
   "outputs": [
    {
     "name": "stdout",
     "output_type": "stream",
     "text": [
      "<class 'pandas.core.frame.DataFrame'>\n",
      "RangeIndex: 100 entries, 0 to 99\n",
      "Data columns (total 59 columns):\n",
      " #   Column                Non-Null Count  Dtype  \n",
      "---  ------                --------------  -----  \n",
      " 0   id                    100 non-null    int64  \n",
      " 1   authentication_id     100 non-null    int64  \n",
      " 2   latitude              100 non-null    float64\n",
      " 3   longitude             100 non-null    float64\n",
      " 4   vendor_category_en    100 non-null    object \n",
      " 5   vendor_category_id    100 non-null    int64  \n",
      " 6   delivery_charge       100 non-null    float64\n",
      " 7   serving_distance      100 non-null    int64  \n",
      " 8   is_open               100 non-null    int64  \n",
      " 9   OpeningTime           91 non-null     object \n",
      " 10  OpeningTime2          91 non-null     object \n",
      " 11  prepration_time       100 non-null    int64  \n",
      " 12  commission            85 non-null     float64\n",
      " 13  is_haked_delivering   100 non-null    object \n",
      " 14  discount_percentage   100 non-null    int64  \n",
      " 15  status                100 non-null    int64  \n",
      " 16  verified              100 non-null    int64  \n",
      " 17  rank                  100 non-null    int64  \n",
      " 18  language              85 non-null     object \n",
      " 19  vendor_rating         100 non-null    float64\n",
      " 20  sunday_from_time1     99 non-null     object \n",
      " 21  sunday_to_time1       99 non-null     object \n",
      " 22  sunday_from_time2     42 non-null     object \n",
      " 23  sunday_to_time2       42 non-null     object \n",
      " 24  monday_from_time1     100 non-null    object \n",
      " 25  monday_to_time1       100 non-null    object \n",
      " 26  monday_from_time2     42 non-null     object \n",
      " 27  monday_to_time2       42 non-null     object \n",
      " 28  tuesday_from_time1    99 non-null     object \n",
      " 29  tuesday_to_time1      99 non-null     object \n",
      " 30  tuesday_from_time2    41 non-null     object \n",
      " 31  tuesday_to_time2      41 non-null     object \n",
      " 32  wednesday_from_time1  100 non-null    object \n",
      " 33  wednesday_to_time1    100 non-null    object \n",
      " 34  wednesday_from_time2  42 non-null     object \n",
      " 35  wednesday_to_time2    42 non-null     object \n",
      " 36  thursday_from_time1   99 non-null     object \n",
      " 37  thursday_to_time1     99 non-null     object \n",
      " 38  thursday_from_time2   42 non-null     object \n",
      " 39  thursday_to_time2     42 non-null     object \n",
      " 40  friday_from_time1     96 non-null     object \n",
      " 41  friday_to_time1       96 non-null     object \n",
      " 42  friday_from_time2     45 non-null     object \n",
      " 43  friday_to_time2       45 non-null     object \n",
      " 44  saturday_from_time1   98 non-null     object \n",
      " 45  saturday_to_time1     98 non-null     object \n",
      " 46  saturday_from_time2   42 non-null     object \n",
      " 47  saturday_to_time2     42 non-null     object \n",
      " 48  primary_tags          77 non-null     object \n",
      " 49  open_close_flags      100 non-null    int64  \n",
      " 50  vendor_tag            97 non-null     object \n",
      " 51  vendor_tag_name       97 non-null     object \n",
      " 52  one_click_vendor      100 non-null    object \n",
      " 53  country_id            100 non-null    int64  \n",
      " 54  city_id               100 non-null    int64  \n",
      " 55  created_at            100 non-null    object \n",
      " 56  updated_at            100 non-null    object \n",
      " 57  device_type           100 non-null    int64  \n",
      " 58  display_orders        100 non-null    int64  \n",
      "dtypes: float64(5), int64(15), object(39)\n",
      "memory usage: 46.2+ KB\n"
     ]
    }
   ],
   "source": [
    "vendors.info()"
   ]
  },
  {
   "cell_type": "code",
   "execution_count": 95,
   "id": "20328e6d-763a-4fb8-94ba-1c921cb5d9bb",
   "metadata": {},
   "outputs": [],
   "source": [
    "vendors.drop([\n",
    "    'sunday_from_time1','sunday_to_time1','sunday_from_time2','sunday_to_time2',\n",
    "    'monday_from_time1','monday_to_time1','monday_from_time2','monday_to_time2',\n",
    "    'tuesday_from_time1','tuesday_to_time1','tuesday_from_time2','tuesday_to_time2',\n",
    "    'wednesday_from_time1','wednesday_to_time1','wednesday_from_time2','wednesday_to_time2',\n",
    "    'thursday_from_time1','thursday_to_time1','thursday_from_time2','thursday_to_time2',\n",
    "    'friday_from_time1','friday_to_time1','friday_from_time2','friday_to_time2',\n",
    "    'saturday_from_time1','saturday_to_time1','saturday_from_time2','saturday_to_time2',\n",
    "    \"authentication_id\",'commission','is_haked_delivering','open_close_flags',\n",
    "    'one_click_vendor','device_type','status','vendor_tag','updated_at'\n",
    "], axis=1, inplace=True, errors='ignore')\n"
   ]
  },
  {
   "cell_type": "markdown",
   "id": "f27275a5-4803-4006-bad1-1526bd7a70ed",
   "metadata": {},
   "source": [
    "In this project, our goal is to build a predictive restaurant recommender that identifies which restaurant a customer is most likely to order from based on their preferences, location, and order history. Therefore, we focus only on columns that provide meaningful information for predicting customer choice. Columns such as commission, is_haked_delivering, open_close_flags, one_click_vendor, device_type, status, vendor_tag, and updated_at are removed because they represent internal operational details, redundant information, or system-level flags that have no direct impact on a customer’s decision. Removing these columns helps simplify the dataset, reduce noise, and ensures that the model only learns from relevant features such as restaurant location, category, availability, ratings, and tags."
   ]
  },
  {
   "cell_type": "code",
   "execution_count": null,
   "id": "ca6456f7-1b82-4742-a40b-c42c2e857fef",
   "metadata": {},
   "outputs": [],
   "source": []
  },
  {
   "cell_type": "markdown",
   "id": "fc00f675-979e-4f29-b7de-7df64e2bca7e",
   "metadata": {},
   "source": [
    "1.commission – Percentage fee the restaurant pays to the app. This is internal business info and does not affect customer preference.\n",
    "\n",
    "2.is_haked_delivering – Indicates if delivery is handled via third-party or special method. Completely internal operational detail, irrelevant to the recommendation.\n",
    "\n",
    "3.open_close_flags – Internal flag showing open/closed status. Already captured by is_open; keeping both is redundant.\n",
    "\n",
    "4.one_click_vendor – Whether the restaurant supports one-click ordering. A UX feature; does not influence customer choice.\n",
    "\n",
    "5.device_type – The type of device the vendor uses. Purely internal tech info; doesn’t affect orders.\n",
    "\n",
    "6.status – Vendor account status (active/inactive). Already captured by is_open and the dataset filters; not predictive.\n",
    "\n",
    "7.vendor_tag – Extra vendor tags, but vendor_tag_name already contains meaningful descriptive tags. Redundant.\n",
    "\n",
    "8.updated_at – Timestamp of last vendor info update. Used only for record-keeping; has no predictive value."
   ]
  },
  {
   "cell_type": "code",
   "execution_count": 96,
   "id": "e844e6bd-15fa-4cda-b45d-de61f6d1826a",
   "metadata": {},
   "outputs": [
    {
     "name": "stdout",
     "output_type": "stream",
     "text": [
      "<class 'pandas.core.frame.DataFrame'>\n",
      "RangeIndex: 100 entries, 0 to 99\n",
      "Data columns (total 22 columns):\n",
      " #   Column               Non-Null Count  Dtype  \n",
      "---  ------               --------------  -----  \n",
      " 0   id                   100 non-null    int64  \n",
      " 1   latitude             100 non-null    float64\n",
      " 2   longitude            100 non-null    float64\n",
      " 3   vendor_category_en   100 non-null    object \n",
      " 4   vendor_category_id   100 non-null    int64  \n",
      " 5   delivery_charge      100 non-null    float64\n",
      " 6   serving_distance     100 non-null    int64  \n",
      " 7   is_open              100 non-null    int64  \n",
      " 8   OpeningTime          91 non-null     object \n",
      " 9   OpeningTime2         91 non-null     object \n",
      " 10  prepration_time      100 non-null    int64  \n",
      " 11  discount_percentage  100 non-null    int64  \n",
      " 12  verified             100 non-null    int64  \n",
      " 13  rank                 100 non-null    int64  \n",
      " 14  language             85 non-null     object \n",
      " 15  vendor_rating        100 non-null    float64\n",
      " 16  primary_tags         77 non-null     object \n",
      " 17  vendor_tag_name      97 non-null     object \n",
      " 18  country_id           100 non-null    int64  \n",
      " 19  city_id              100 non-null    int64  \n",
      " 20  created_at           100 non-null    object \n",
      " 21  display_orders       100 non-null    int64  \n",
      "dtypes: float64(4), int64(11), object(7)\n",
      "memory usage: 17.3+ KB\n"
     ]
    }
   ],
   "source": [
    "vendors.info()"
   ]
  },
  {
   "cell_type": "code",
   "execution_count": 97,
   "id": "455dfc95-e96a-42f1-a68f-2a803d160c2a",
   "metadata": {},
   "outputs": [
    {
     "data": {
      "text/plain": [
       "100"
      ]
     },
     "execution_count": 97,
     "metadata": {},
     "output_type": "execute_result"
    }
   ],
   "source": [
    "vendors['id'].nunique()"
   ]
  },
  {
   "cell_type": "code",
   "execution_count": 98,
   "id": "b64b8e4f-a7d7-41b3-89a1-5e33861885f3",
   "metadata": {},
   "outputs": [
    {
     "data": {
      "text/plain": [
       "array(['Restaurants', 'Sweets & Bakes'], dtype=object)"
      ]
     },
     "execution_count": 98,
     "metadata": {},
     "output_type": "execute_result"
    }
   ],
   "source": [
    "vendors['vendor_category_en'].unique()  "
   ]
  },
  {
   "cell_type": "code",
   "execution_count": 99,
   "id": "5f17fc59-6f34-46ba-8b85-29b5bb78304b",
   "metadata": {},
   "outputs": [
    {
     "data": {
      "text/plain": [
       "vendor_category_en\n",
       "Restaurants       88\n",
       "Sweets & Bakes    12\n",
       "Name: count, dtype: int64"
      ]
     },
     "execution_count": 99,
     "metadata": {},
     "output_type": "execute_result"
    }
   ],
   "source": [
    "vendors['vendor_category_en'].value_counts() "
   ]
  },
  {
   "cell_type": "code",
   "execution_count": 100,
   "id": "8687aafd-5212-4c88-9a89-63fbc3fb94ae",
   "metadata": {},
   "outputs": [
    {
     "data": {
      "text/plain": [
       "array([2, 3], dtype=int64)"
      ]
     },
     "execution_count": 100,
     "metadata": {},
     "output_type": "execute_result"
    }
   ],
   "source": [
    "vendors[\"vendor_category_id\"].unique()"
   ]
  },
  {
   "cell_type": "code",
   "execution_count": 101,
   "id": "9113dd0e-6953-4a64-98e9-272fb81b5800",
   "metadata": {},
   "outputs": [
    {
     "data": {
      "text/plain": [
       "array([2], dtype=int64)"
      ]
     },
     "execution_count": 101,
     "metadata": {},
     "output_type": "execute_result"
    }
   ],
   "source": [
    "vendors[vendors['vendor_category_en']=='Restaurants']['vendor_category_id'].unique()"
   ]
  },
  {
   "cell_type": "code",
   "execution_count": 102,
   "id": "3df6f86e-8fb0-4a35-b0f3-f3ae465e350e",
   "metadata": {},
   "outputs": [
    {
     "data": {
      "text/html": [
       "<div>\n",
       "<style scoped>\n",
       "    .dataframe tbody tr th:only-of-type {\n",
       "        vertical-align: middle;\n",
       "    }\n",
       "\n",
       "    .dataframe tbody tr th {\n",
       "        vertical-align: top;\n",
       "    }\n",
       "\n",
       "    .dataframe thead th {\n",
       "        text-align: right;\n",
       "    }\n",
       "</style>\n",
       "<table border=\"1\" class=\"dataframe\">\n",
       "  <thead>\n",
       "    <tr style=\"text-align: right;\">\n",
       "      <th></th>\n",
       "      <th>vendor_category_en</th>\n",
       "      <th>vendor_category_id</th>\n",
       "    </tr>\n",
       "  </thead>\n",
       "  <tbody>\n",
       "    <tr>\n",
       "      <th>19</th>\n",
       "      <td>Sweets &amp; Bakes</td>\n",
       "      <td>3</td>\n",
       "    </tr>\n",
       "    <tr>\n",
       "      <th>20</th>\n",
       "      <td>Sweets &amp; Bakes</td>\n",
       "      <td>3</td>\n",
       "    </tr>\n",
       "    <tr>\n",
       "      <th>28</th>\n",
       "      <td>Sweets &amp; Bakes</td>\n",
       "      <td>2</td>\n",
       "    </tr>\n",
       "    <tr>\n",
       "      <th>46</th>\n",
       "      <td>Sweets &amp; Bakes</td>\n",
       "      <td>3</td>\n",
       "    </tr>\n",
       "    <tr>\n",
       "      <th>48</th>\n",
       "      <td>Sweets &amp; Bakes</td>\n",
       "      <td>3</td>\n",
       "    </tr>\n",
       "    <tr>\n",
       "      <th>53</th>\n",
       "      <td>Sweets &amp; Bakes</td>\n",
       "      <td>3</td>\n",
       "    </tr>\n",
       "    <tr>\n",
       "      <th>55</th>\n",
       "      <td>Sweets &amp; Bakes</td>\n",
       "      <td>3</td>\n",
       "    </tr>\n",
       "    <tr>\n",
       "      <th>60</th>\n",
       "      <td>Sweets &amp; Bakes</td>\n",
       "      <td>3</td>\n",
       "    </tr>\n",
       "    <tr>\n",
       "      <th>62</th>\n",
       "      <td>Sweets &amp; Bakes</td>\n",
       "      <td>3</td>\n",
       "    </tr>\n",
       "    <tr>\n",
       "      <th>74</th>\n",
       "      <td>Sweets &amp; Bakes</td>\n",
       "      <td>3</td>\n",
       "    </tr>\n",
       "    <tr>\n",
       "      <th>77</th>\n",
       "      <td>Sweets &amp; Bakes</td>\n",
       "      <td>3</td>\n",
       "    </tr>\n",
       "    <tr>\n",
       "      <th>83</th>\n",
       "      <td>Sweets &amp; Bakes</td>\n",
       "      <td>3</td>\n",
       "    </tr>\n",
       "  </tbody>\n",
       "</table>\n",
       "</div>"
      ],
      "text/plain": [
       "   vendor_category_en  vendor_category_id\n",
       "19     Sweets & Bakes                   3\n",
       "20     Sweets & Bakes                   3\n",
       "28     Sweets & Bakes                   2\n",
       "46     Sweets & Bakes                   3\n",
       "48     Sweets & Bakes                   3\n",
       "53     Sweets & Bakes                   3\n",
       "55     Sweets & Bakes                   3\n",
       "60     Sweets & Bakes                   3\n",
       "62     Sweets & Bakes                   3\n",
       "74     Sweets & Bakes                   3\n",
       "77     Sweets & Bakes                   3\n",
       "83     Sweets & Bakes                   3"
      ]
     },
     "execution_count": 102,
     "metadata": {},
     "output_type": "execute_result"
    }
   ],
   "source": [
    "vendors[vendors['vendor_category_en']!='Restaurants'][[\"vendor_category_en\",\"vendor_category_id\"]]"
   ]
  },
  {
   "cell_type": "markdown",
   "id": "f7de7424-84a0-4eac-b752-cb7e9e85a0c7",
   "metadata": {},
   "source": [
    "\n",
    "Observation on Vendor Categories\n",
    "\n",
    "1. All vendors with vendor_category_en = 'Restaurants' have vendor_category_id = 2.\n",
    "\n",
    "2. Most vendors with vendor_category_en = 'Sweets & Bakes' have vendor_category_id = 3, with only one entry showing 2, which seems to be a data entry error.\n",
    "\n",
    "3. This confirms that vendor_category_en is more reliable than vendor_category_id for identifying vendor type, because the IDs may have occasional inconsistencies.\n",
    "\n",
    "4. For our rcommender, we will use vendor_category_en to filter Restaurants (2) and Sweets & Bakes (3), ensuring accurate categorization."
   ]
  },
  {
   "cell_type": "code",
   "execution_count": 103,
   "id": "493cf5b7-40b5-4aee-a836-08088c47373f",
   "metadata": {},
   "outputs": [],
   "source": [
    "# Assume vendors table name is vendors\n",
    "vendors = pd.get_dummies(vendors, columns=['vendor_category_en'], drop_first=True)"
   ]
  },
  {
   "cell_type": "code",
   "execution_count": 104,
   "id": "a51fd4f9-221c-48b5-b571-2d879add548e",
   "metadata": {},
   "outputs": [
    {
     "data": {
      "text/html": [
       "<div>\n",
       "<style scoped>\n",
       "    .dataframe tbody tr th:only-of-type {\n",
       "        vertical-align: middle;\n",
       "    }\n",
       "\n",
       "    .dataframe tbody tr th {\n",
       "        vertical-align: top;\n",
       "    }\n",
       "\n",
       "    .dataframe thead th {\n",
       "        text-align: right;\n",
       "    }\n",
       "</style>\n",
       "<table border=\"1\" class=\"dataframe\">\n",
       "  <thead>\n",
       "    <tr style=\"text-align: right;\">\n",
       "      <th></th>\n",
       "      <th>id</th>\n",
       "      <th>latitude</th>\n",
       "      <th>longitude</th>\n",
       "      <th>vendor_category_id</th>\n",
       "      <th>delivery_charge</th>\n",
       "      <th>serving_distance</th>\n",
       "      <th>is_open</th>\n",
       "      <th>OpeningTime</th>\n",
       "      <th>OpeningTime2</th>\n",
       "      <th>prepration_time</th>\n",
       "      <th>discount_percentage</th>\n",
       "      <th>verified</th>\n",
       "      <th>rank</th>\n",
       "      <th>language</th>\n",
       "      <th>vendor_rating</th>\n",
       "      <th>primary_tags</th>\n",
       "      <th>vendor_tag_name</th>\n",
       "      <th>country_id</th>\n",
       "      <th>city_id</th>\n",
       "      <th>created_at</th>\n",
       "      <th>display_orders</th>\n",
       "      <th>vendor_category_en_Sweets &amp; Bakes</th>\n",
       "    </tr>\n",
       "  </thead>\n",
       "  <tbody>\n",
       "    <tr>\n",
       "      <th>0</th>\n",
       "      <td>4</td>\n",
       "      <td>-0.588596</td>\n",
       "      <td>0.754434</td>\n",
       "      <td>2</td>\n",
       "      <td>0.0</td>\n",
       "      <td>6</td>\n",
       "      <td>1</td>\n",
       "      <td>11:00AM-11:30PM</td>\n",
       "      <td>-</td>\n",
       "      <td>15</td>\n",
       "      <td>0</td>\n",
       "      <td>1</td>\n",
       "      <td>11</td>\n",
       "      <td>EN</td>\n",
       "      <td>4.4</td>\n",
       "      <td>{\"primary_tags\":\"4\"}</td>\n",
       "      <td>Arabic,Breakfast,Burgers,Desserts,Free Deliver...</td>\n",
       "      <td>1</td>\n",
       "      <td>1</td>\n",
       "      <td>1/30/2023 14:42</td>\n",
       "      <td>1</td>\n",
       "      <td>False</td>\n",
       "    </tr>\n",
       "  </tbody>\n",
       "</table>\n",
       "</div>"
      ],
      "text/plain": [
       "   id  latitude  longitude  vendor_category_id  delivery_charge  \\\n",
       "0   4 -0.588596   0.754434                   2              0.0   \n",
       "\n",
       "   serving_distance  is_open      OpeningTime OpeningTime2  prepration_time  \\\n",
       "0                 6        1  11:00AM-11:30PM            -               15   \n",
       "\n",
       "   discount_percentage  verified  rank language  vendor_rating  \\\n",
       "0                    0         1    11       EN            4.4   \n",
       "\n",
       "           primary_tags                                    vendor_tag_name  \\\n",
       "0  {\"primary_tags\":\"4\"}  Arabic,Breakfast,Burgers,Desserts,Free Deliver...   \n",
       "\n",
       "   country_id  city_id       created_at  display_orders  \\\n",
       "0           1        1  1/30/2023 14:42               1   \n",
       "\n",
       "   vendor_category_en_Sweets & Bakes  \n",
       "0                              False  "
      ]
     },
     "execution_count": 104,
     "metadata": {},
     "output_type": "execute_result"
    }
   ],
   "source": [
    "vendors.head(1)"
   ]
  },
  {
   "cell_type": "code",
   "execution_count": 105,
   "id": "16726f75-68bd-443a-be54-2d303779d84b",
   "metadata": {},
   "outputs": [
    {
     "data": {
      "text/plain": [
       "array([0. , 0.7])"
      ]
     },
     "execution_count": 105,
     "metadata": {},
     "output_type": "execute_result"
    }
   ],
   "source": [
    "vendors[\"delivery_charge\"].unique()      # Users care about cost to get food."
   ]
  },
  {
   "cell_type": "code",
   "execution_count": 106,
   "id": "add5cbc3-79fc-4ebc-a7ef-eb0e7e6d0e42",
   "metadata": {},
   "outputs": [
    {
     "data": {
      "text/plain": [
       "delivery_charge\n",
       "0.7    59\n",
       "0.0    41\n",
       "Name: count, dtype: int64"
      ]
     },
     "execution_count": 106,
     "metadata": {},
     "output_type": "execute_result"
    }
   ],
   "source": [
    "vendors[\"delivery_charge\"].value_counts()"
   ]
  },
  {
   "cell_type": "markdown",
   "id": "fb1b1279-9a66-42cf-a44f-43764edf2cb8",
   "metadata": {},
   "source": [
    "Observation on Delivery Charge\n",
    "\n",
    "The delivery_charge column has only two unique values: 0.0 and 0.7.\n",
    "\n",
    "This indicates that some vendors offer free delivery, while others charge a flat fee of 0.7.\n",
    "\n",
    "Since there are only two possible values, this feature is low variability, but it can still be useful if you want the model to consider free vs paid delivery in predicting customer choices."
   ]
  },
  {
   "cell_type": "code",
   "execution_count": 107,
   "id": "77073ab9-e9a8-4e89-84cf-6fc28bf9c783",
   "metadata": {},
   "outputs": [
    {
     "data": {
      "text/plain": [
       "array([ 6,  5,  8, 15, 10,  2, 14,  7,  3, 12], dtype=int64)"
      ]
     },
     "execution_count": 107,
     "metadata": {},
     "output_type": "execute_result"
    }
   ],
   "source": [
    "vendors[\"serving_distance\"].unique()    # Helps predict if a restaurant is feasible for delivery."
   ]
  },
  {
   "cell_type": "code",
   "execution_count": 108,
   "id": "81e1df42-65e7-415f-a1f3-9d20d6b138e7",
   "metadata": {},
   "outputs": [
    {
     "data": {
      "text/plain": [
       "serving_distance\n",
       "15    57\n",
       "10    12\n",
       "5     10\n",
       "6      8\n",
       "8      8\n",
       "2      1\n",
       "14     1\n",
       "7      1\n",
       "3      1\n",
       "12     1\n",
       "Name: count, dtype: int64"
      ]
     },
     "execution_count": 108,
     "metadata": {},
     "output_type": "execute_result"
    }
   ],
   "source": [
    "vendors[\"serving_distance\"].value_counts()"
   ]
  },
  {
   "cell_type": "code",
   "execution_count": 109,
   "id": "0d1f649c-81cd-49e1-b225-74d4e1f55f9c",
   "metadata": {},
   "outputs": [
    {
     "data": {
      "text/plain": [
       "array([1, 0], dtype=int64)"
      ]
     },
     "execution_count": 109,
     "metadata": {},
     "output_type": "execute_result"
    }
   ],
   "source": [
    "vendors[\"is_open\"].unique()"
   ]
  },
  {
   "cell_type": "code",
   "execution_count": 110,
   "id": "a38e9148-7137-435f-98e6-1d54367ad2c9",
   "metadata": {},
   "outputs": [
    {
     "data": {
      "text/plain": [
       "is_open\n",
       "1    85\n",
       "0    15\n",
       "Name: count, dtype: int64"
      ]
     },
     "execution_count": 110,
     "metadata": {},
     "output_type": "execute_result"
    }
   ],
   "source": [
    "vendors[\"is_open\"].value_counts()"
   ]
  },
  {
   "cell_type": "code",
   "execution_count": 111,
   "id": "edbac3e5-e511-4f20-800b-3b8734962e3f",
   "metadata": {},
   "outputs": [
    {
     "data": {
      "text/plain": [
       "array(['11:00AM-11:30PM', '08:30AM-10:30PM', '08:00AM-10:45PM',\n",
       "       '10:59AM-10:30PM', '11:00AM-11:45PM', '11:00AM-10:30PM',\n",
       "       '09:00AM-11:30PM', '05:00PM-11:00PM', '08:00AM-11:30PM',\n",
       "       '08:30AM-09:30PM', '11:00AM-11:00PM', '11:59AM-2:15 am',\n",
       "       '08:00AM-12:30PM', '08:00AM-11:59PM', '10:00AM-11:45PM',\n",
       "       '11:59AM-11:30PM', '08:30AM-11:45PM', '11:59AM-11:45PM',\n",
       "       '11:00AM-10:45PM', '10:59AM-11:30PM', '11:15AM-10:00PM',\n",
       "       '10:59AM-10:59PM', '09:59AM-11:45PM', '8:00AM-09:45PM',\n",
       "       '04:00PM-11:45PM', '08:00AM-11:45PM', '11:15AM-10:30PM',\n",
       "       '10:59AM-3:30PM', '11.30am-11:30PM', '11:00AM-11:59PM',\n",
       "       '09:00AM-09:01AM', '11:59AM-10:45PM', '7:58AM-11:45PM',\n",
       "       '09:00 AM-11:45 PM', '11:00AM-11:01PM', '05:30PM-11:59PM',\n",
       "       '06:00PM-11:59PM', '11:59AM-10:45PM ', '11:00AM-3:50pm',\n",
       "       '11:00AM-04:00PM', '09:00AM-08:00pm ', '09:00AM-11:00PM',\n",
       "       '06:15AM-11:45PM', '9am-10pm', '08:30PM-11:59PM',\n",
       "       '01.00PM-02:.00AM', '09:00AM-11:45PM', '05:00PM-11:59PM ',\n",
       "       '05:00PM-11:45PM', '11AM-11PM', '11:15AM-03:00PM',\n",
       "       '11:30AM-11.59 PM', '10:00AM-11:00PM', '10:00AM-1:45PM',\n",
       "       '08:00AM-11:00PM', '08:00AM-3:30PM', '10:00AM-11:15PM',\n",
       "       '09:00AM-07:00PM', '11:00AM-111:00PM', '9:00AM-11:00PM',\n",
       "       '11:00AM-12:00PM', '11:59AM-11:59PM', '08:00AM-11:45-',\n",
       "       '09:00AM-11:59PM', '04:59PM-11:45PM', '12:00PM-11:59PM',\n",
       "       '00:01AM-01:00AM', '22-Sep', nan], dtype=object)"
      ]
     },
     "execution_count": 111,
     "metadata": {},
     "output_type": "execute_result"
    }
   ],
   "source": [
    "vendors[\"OpeningTime\"].unique()      # Optional but can help check if restaurant is open at order time."
   ]
  },
  {
   "cell_type": "code",
   "execution_count": 112,
   "id": "f83c9386-d15a-46de-a5bd-ecb7677bae48",
   "metadata": {},
   "outputs": [
    {
     "data": {
      "text/plain": [
       "array(['-', '05:00PM-11:30PM', '06:30PM-11:00PM', '12:00AM-01:00AM',\n",
       "       '00:01AM-02:30AM', '6:10pm-12:00am', '06:00PM-11:45PM',\n",
       "       '10pm-11pm', '01.00PM-02.00AM', '05:15PM-09:30PM ',\n",
       "       '09:00AM-11:59PM', nan], dtype=object)"
      ]
     },
     "execution_count": 112,
     "metadata": {},
     "output_type": "execute_result"
    }
   ],
   "source": [
    "vendors[\"OpeningTime2\"].unique()"
   ]
  },
  {
   "cell_type": "code",
   "execution_count": 113,
   "id": "0c0235b9-4b8b-4ba9-bc47-e43f2e9e2b57",
   "metadata": {},
   "outputs": [
    {
     "data": {
      "text/plain": [
       "array([15, 14, 19, 16, 10, 17, 20, 11, 13, 12, 18, 21, 45,  5],\n",
       "      dtype=int64)"
      ]
     },
     "execution_count": 113,
     "metadata": {},
     "output_type": "execute_result"
    }
   ],
   "source": [
    "vendors[\"prepration_time\"].unique()       # Delivery depends on prep time, so useful."
   ]
  },
  {
   "cell_type": "code",
   "execution_count": 114,
   "id": "4200da0e-605d-4e5b-a54d-8fb971ce8b85",
   "metadata": {},
   "outputs": [
    {
     "data": {
      "text/plain": [
       "prepration_time\n",
       "15    36\n",
       "10    25\n",
       "14     7\n",
       "17     6\n",
       "11     5\n",
       "13     5\n",
       "16     4\n",
       "20     3\n",
       "19     2\n",
       "12     2\n",
       "18     2\n",
       "21     1\n",
       "45     1\n",
       "5      1\n",
       "Name: count, dtype: int64"
      ]
     },
     "execution_count": 114,
     "metadata": {},
     "output_type": "execute_result"
    }
   ],
   "source": [
    "vendors[\"prepration_time\"].value_counts()  "
   ]
  },
  {
   "cell_type": "code",
   "execution_count": 115,
   "id": "9ebae46c-3929-4050-affa-ab58b49b98f7",
   "metadata": {},
   "outputs": [
    {
     "data": {
      "text/plain": [
       "array([ 0, 10, 50, 35, 15], dtype=int64)"
      ]
     },
     "execution_count": 115,
     "metadata": {},
     "output_type": "execute_result"
    }
   ],
   "source": [
    "vendors[\"discount_percentage\"].unique()     # Some users prefer discounted restaurants."
   ]
  },
  {
   "cell_type": "code",
   "execution_count": 116,
   "id": "55cba371-b5d3-4a66-955d-8eb54a40da41",
   "metadata": {},
   "outputs": [
    {
     "data": {
      "text/plain": [
       "discount_percentage\n",
       "0     96\n",
       "10     1\n",
       "50     1\n",
       "35     1\n",
       "15     1\n",
       "Name: count, dtype: int64"
      ]
     },
     "execution_count": 116,
     "metadata": {},
     "output_type": "execute_result"
    }
   ],
   "source": [
    "vendors[\"discount_percentage\"].value_counts() "
   ]
  },
  {
   "cell_type": "code",
   "execution_count": 117,
   "id": "25069940-06e2-4dcf-86b2-f1e469ea03d2",
   "metadata": {},
   "outputs": [
    {
     "data": {
      "text/plain": [
       "array([1, 0], dtype=int64)"
      ]
     },
     "execution_count": 117,
     "metadata": {},
     "output_type": "execute_result"
    }
   ],
   "source": [
    "vendors[\"verified\"].unique()"
   ]
  },
  {
   "cell_type": "code",
   "execution_count": 118,
   "id": "1157e815-bfc7-4034-834b-c3ed30bd1027",
   "metadata": {},
   "outputs": [
    {
     "data": {
      "text/plain": [
       "verified\n",
       "1    88\n",
       "0    12\n",
       "Name: count, dtype: int64"
      ]
     },
     "execution_count": 118,
     "metadata": {},
     "output_type": "execute_result"
    }
   ],
   "source": [
    "vendors[\"verified\"].value_counts()"
   ]
  },
  {
   "cell_type": "code",
   "execution_count": 119,
   "id": "b96f53ee-e3b4-461b-9757-65eec7733aee",
   "metadata": {},
   "outputs": [
    {
     "data": {
      "text/plain": [
       "array([11,  1], dtype=int64)"
      ]
     },
     "execution_count": 119,
     "metadata": {},
     "output_type": "execute_result"
    }
   ],
   "source": [
    "vendors[\"rank\"].unique()    # Might indicate popularity or quality."
   ]
  },
  {
   "cell_type": "code",
   "execution_count": 120,
   "id": "c036040a-623e-4de5-9b48-7fe9ee7ac319",
   "metadata": {},
   "outputs": [
    {
     "data": {
      "text/plain": [
       "rank\n",
       "11    89\n",
       "1     11\n",
       "Name: count, dtype: int64"
      ]
     },
     "execution_count": 120,
     "metadata": {},
     "output_type": "execute_result"
    }
   ],
   "source": [
    "vendors[\"rank\"].value_counts()"
   ]
  },
  {
   "cell_type": "code",
   "execution_count": 121,
   "id": "8d849697-8a76-4ee2-b747-f955e5e1d054",
   "metadata": {},
   "outputs": [
    {
     "data": {
      "text/plain": [
       "array(['EN', nan], dtype=object)"
      ]
     },
     "execution_count": 121,
     "metadata": {},
     "output_type": "execute_result"
    }
   ],
   "source": [
    "vendors[\"language\"].unique()    # can drop , all seams EN , and some dropped , they also might be EN "
   ]
  },
  {
   "cell_type": "code",
   "execution_count": 122,
   "id": "072b3d36-d70b-4e8d-a655-2171d6670f6a",
   "metadata": {},
   "outputs": [
    {
     "data": {
      "text/plain": [
       "array([4.4, 4.7, 4.5, 4.6, 4.3, 4. , 3.8, 4.2, 4.8, 3.2, 4.1, 3.7])"
      ]
     },
     "execution_count": 122,
     "metadata": {},
     "output_type": "execute_result"
    }
   ],
   "source": [
    "vendors[\"vendor_rating\"].unique()    # Shows quality/reputation."
   ]
  },
  {
   "cell_type": "code",
   "execution_count": 123,
   "id": "b1d905ea-ffb3-44fa-862e-5f820ee07a4b",
   "metadata": {},
   "outputs": [
    {
     "data": {
      "text/plain": [
       "vendor_rating\n",
       "4.5    19\n",
       "4.3    18\n",
       "4.2    15\n",
       "4.4    14\n",
       "4.6    10\n",
       "4.7     7\n",
       "4.0     6\n",
       "4.1     5\n",
       "3.8     2\n",
       "4.8     2\n",
       "3.2     1\n",
       "3.7     1\n",
       "Name: count, dtype: int64"
      ]
     },
     "execution_count": 123,
     "metadata": {},
     "output_type": "execute_result"
    }
   ],
   "source": [
    "vendors[\"vendor_rating\"].value_counts() "
   ]
  },
  {
   "cell_type": "code",
   "execution_count": 124,
   "id": "9c6098f5-e33d-4fda-b0f0-d7b54efcc965",
   "metadata": {},
   "outputs": [
    {
     "data": {
      "text/plain": [
       "array(['{\"primary_tags\":\"4\"}', '{\"primary_tags\":\"7\"}',\n",
       "       '{\"primary_tags\":\"71\"}', '{\"primary_tags\":\"46\"}',\n",
       "       '{\"primary_tags\":\"32\"}', '{\"primary_tags\":\"51\"}',\n",
       "       '{\"primary_tags\":\"8\"}', '{\"primary_tags\":\"21\"}',\n",
       "       '{\"primary_tags\":\"271\"}', '{\"primary_tags\":\"129\"}', nan,\n",
       "       '{\"primary_tags\":\"24\"}', '{\"primary_tags\":\"323\"}',\n",
       "       '{\"primary_tags\":\"134\"}', '{\"primary_tags\":\"90\"}',\n",
       "       '{\"primary_tags\":\"336\"}', '{\"primary_tags\":\"31\"}',\n",
       "       '{\"primary_tags\":\"462\"}', '{\"primary_tags\":\"138\"}',\n",
       "       '{\"primary_tags\":\"534\"}', '{\"primary_tags\":\"297\"}',\n",
       "       '{\"primary_tags\":\"35\"}', '{\"primary_tags\":\"695\"}',\n",
       "       '{\"primary_tags\":\"701\"}', '{\"primary_tags\":\"270\"}',\n",
       "       '{\"primary_tags\":\"52\"}', '{\"primary_tags\":\"815\"}',\n",
       "       '{\"primary_tags\":\"849\"}', '{\"primary_tags\":\"346\"}',\n",
       "       '{\"primary_tags\":\"47\"}', '{\"primary_tags\":\"28\"}',\n",
       "       '{\"primary_tags\":\"180\"}', '{\"primary_tags\":\"204\"}',\n",
       "       '{\"primary_tags\":\"260\"}', '{\"primary_tags\":\"1088\"}',\n",
       "       '{\"primary_tags\":\"478\"}', '{\"primary_tags\":\"1065\"}',\n",
       "       '{\"primary_tags\":\"1147\"}', '{\"primary_tags\":\"1348\"}',\n",
       "       '{\"primary_tags\":\"1256\"}', '{\"primary_tags\":\"15\"}',\n",
       "       '{\"primary_tags\":\"2072\"}', '{\"primary_tags\":\"2396\"}'], dtype=object)"
      ]
     },
     "execution_count": 124,
     "metadata": {},
     "output_type": "execute_result"
    }
   ],
   "source": [
    "vendors[\"primary_tags\"].unique()"
   ]
  },
  {
   "cell_type": "code",
   "execution_count": 125,
   "id": "b89afe6a-41e3-45d0-ac24-41192c79077a",
   "metadata": {},
   "outputs": [
    {
     "data": {
      "text/html": [
       "<div>\n",
       "<style scoped>\n",
       "    .dataframe tbody tr th:only-of-type {\n",
       "        vertical-align: middle;\n",
       "    }\n",
       "\n",
       "    .dataframe tbody tr th {\n",
       "        vertical-align: top;\n",
       "    }\n",
       "\n",
       "    .dataframe thead th {\n",
       "        text-align: right;\n",
       "    }\n",
       "</style>\n",
       "<table border=\"1\" class=\"dataframe\">\n",
       "  <thead>\n",
       "    <tr style=\"text-align: right;\">\n",
       "      <th></th>\n",
       "      <th>primary_tags</th>\n",
       "      <th>primary_tags_number</th>\n",
       "    </tr>\n",
       "  </thead>\n",
       "  <tbody>\n",
       "    <tr>\n",
       "      <th>0</th>\n",
       "      <td>{\"primary_tags\":\"4\"}</td>\n",
       "      <td>4.0</td>\n",
       "    </tr>\n",
       "    <tr>\n",
       "      <th>1</th>\n",
       "      <td>{\"primary_tags\":\"7\"}</td>\n",
       "      <td>7.0</td>\n",
       "    </tr>\n",
       "    <tr>\n",
       "      <th>2</th>\n",
       "      <td>{\"primary_tags\":\"71\"}</td>\n",
       "      <td>71.0</td>\n",
       "    </tr>\n",
       "    <tr>\n",
       "      <th>3</th>\n",
       "      <td>{\"primary_tags\":\"46\"}</td>\n",
       "      <td>46.0</td>\n",
       "    </tr>\n",
       "    <tr>\n",
       "      <th>4</th>\n",
       "      <td>{\"primary_tags\":\"32\"}</td>\n",
       "      <td>32.0</td>\n",
       "    </tr>\n",
       "  </tbody>\n",
       "</table>\n",
       "</div>"
      ],
      "text/plain": [
       "            primary_tags  primary_tags_number\n",
       "0   {\"primary_tags\":\"4\"}                  4.0\n",
       "1   {\"primary_tags\":\"7\"}                  7.0\n",
       "2  {\"primary_tags\":\"71\"}                 71.0\n",
       "3  {\"primary_tags\":\"46\"}                 46.0\n",
       "4  {\"primary_tags\":\"32\"}                 32.0"
      ]
     },
     "execution_count": 125,
     "metadata": {},
     "output_type": "execute_result"
    }
   ],
   "source": [
    "# Extract numbers from primary_tags, keep as float to handle NaN\n",
    "vendors['primary_tags_number'] = vendors['primary_tags'].str.extract(r'\"primary_tags\":\"(\\d+)\"')[0].astype(float)\n",
    "\n",
    "# Check result\n",
    "vendors[['primary_tags', 'primary_tags_number']].head()\n"
   ]
  },
  {
   "cell_type": "code",
   "execution_count": 126,
   "id": "cbea1803-c143-48dd-ac8e-665269dc9529",
   "metadata": {},
   "outputs": [],
   "source": [
    "#vendors[\"vendor_tag_name\"].unique()"
   ]
  },
  {
   "cell_type": "code",
   "execution_count": 127,
   "id": "2cfcf5ba-1e49-480f-bab3-0676182a95bf",
   "metadata": {},
   "outputs": [
    {
     "data": {
      "text/plain": [
       "array([1], dtype=int64)"
      ]
     },
     "execution_count": 127,
     "metadata": {},
     "output_type": "execute_result"
    }
   ],
   "source": [
    "vendors[\"country_id\"].unique()"
   ]
  },
  {
   "cell_type": "code",
   "execution_count": 128,
   "id": "d5741e64-a4fc-42d3-9524-f45dc582d563",
   "metadata": {},
   "outputs": [
    {
     "data": {
      "text/plain": [
       "array([1], dtype=int64)"
      ]
     },
     "execution_count": 128,
     "metadata": {},
     "output_type": "execute_result"
    }
   ],
   "source": [
    "vendors[\"city_id\"].unique()"
   ]
  },
  {
   "cell_type": "code",
   "execution_count": 129,
   "id": "a40b8733-7dca-42e5-84db-4f823ec68957",
   "metadata": {},
   "outputs": [
    {
     "data": {
      "text/plain": [
       "array(['1/30/2023 14:42', '5/3/2023 12:32', '5/4/2023 22:28',\n",
       "       '5/6/2023 19:20', '5/17/2023 22:12', '5/24/2023 17:23',\n",
       "       '6/20/2023 12:28', '6/20/2023 13:11', '7/22/2023 13:18',\n",
       "       '8/9/2023 19:26', '8/9/2023 23:41', '8/22/2023 15:10',\n",
       "       '8/26/2023 14:45', '8/26/2023 21:47', '8/26/2023 22:36',\n",
       "       '9/1/2023 20:31', '9/3/2023 19:30', '9/13/2023 20:40',\n",
       "       '9/16/2023 19:37', '9/16/2023 20:01', '9/20/2023 19:39',\n",
       "       '10/4/2023 19:41', '10/7/2023 17:26', '10/18/2023 21:01',\n",
       "       '10/19/2023 12:38', '10/19/2023 13:35', '10/21/2023 22:21',\n",
       "       '10/24/2023 18:11', '10/28/2023 13:34', '11/27/2023 15:33',\n",
       "       '12/12/2023 15:39', '12/30/2023 20:20', '1/6/2024 20:42',\n",
       "       '1/17/2024 11:43', '1/19/2024 14:01', '1/23/2024 15:21',\n",
       "       '1/28/2024 20:37', '1/30/2024 18:26', '2/23/2024 18:55',\n",
       "       '2/25/2024 15:30', '3/3/2024 21:04', '3/4/2024 12:31',\n",
       "       '3/5/2024 20:06', '3/7/2024 15:06', '3/9/2024 19:22',\n",
       "       '3/10/2024 13:05', '3/10/2024 13:08', '3/10/2024 13:54',\n",
       "       '3/11/2024 13:58', '3/14/2024 15:43', '3/16/2024 19:11',\n",
       "       '3/26/2024 23:11', '4/9/2024 12:50', '4/13/2024 19:09',\n",
       "       '4/18/2024 17:44', '4/24/2024 20:04', '4/30/2024 16:15',\n",
       "       '5/7/2024 14:32', '5/12/2024 17:17', '5/21/2024 16:05',\n",
       "       '5/23/2024 17:44', '5/28/2024 13:36', '5/31/2024 14:33',\n",
       "       '6/21/2024 2:54', '6/24/2024 11:33', '6/27/2024 12:13',\n",
       "       '6/27/2024 12:38', '6/28/2024 14:24', '6/29/2024 13:12',\n",
       "       '6/30/2024 14:12', '7/2/2024 14:50', '7/3/2024 10:38',\n",
       "       '7/8/2024 13:19', '7/25/2024 13:07', '8/7/2024 15:36',\n",
       "       '8/8/2024 14:16', '8/19/2024 19:04', '8/20/2024 15:10',\n",
       "       '8/27/2024 15:53', '9/10/2024 19:04', '10/15/2024 0:42',\n",
       "       '10/21/2024 15:38', '1/30/2024 12:53', '11/1/2023 12:13',\n",
       "       '10/2/2023 17:11', '10/21/2024 13:10', '10/21/2024 14:36',\n",
       "       '10/22/2024 7:29', '11/17/2024 8:39', '11/17/2024 13:27',\n",
       "       '11/18/2024 8:07', '12/21/2024 0:16', '12/21/2024 12:31',\n",
       "       '12/21/2024 12:37', '12/21/2024 12:40', '12/21/2024 12:47',\n",
       "       '12/21/2024 13:02', '12/21/2024 13:04', '12/21/2024 13:12',\n",
       "       '1/5/2025 18:56'], dtype=object)"
      ]
     },
     "execution_count": 129,
     "metadata": {},
     "output_type": "execute_result"
    }
   ],
   "source": [
    "vendors[\"created_at\"].unique()"
   ]
  },
  {
   "cell_type": "code",
   "execution_count": 130,
   "id": "2d0c75b9-d82b-4d33-a038-0b1d4b389c53",
   "metadata": {},
   "outputs": [
    {
     "data": {
      "text/plain": [
       "array([1], dtype=int64)"
      ]
     },
     "execution_count": 130,
     "metadata": {},
     "output_type": "execute_result"
    }
   ],
   "source": [
    "vendors[\"display_orders\"].unique()"
   ]
  },
  {
   "cell_type": "markdown",
   "id": "ac18bd01-b519-47a7-af47-a63a06be1900",
   "metadata": {},
   "source": [
    "##### some more unimportant columns dropping"
   ]
  },
  {
   "cell_type": "markdown",
   "id": "5fb03531-318b-4840-923a-114a2bf575a0",
   "metadata": {},
   "source": [
    "1. vendor_category_id → Mostly redundant because vendor_category_en is already descriptive and more reliable. Some IDs may be inconsistent.\n",
    "\n",
    "2. OpeningTime & OpeningTime2 → already captured by is_open for recommendations\n",
    "\n",
    "3. country_id / city_id → These columns have the same value for all rows, so they provide no useful information for distinguishing vendors.\n",
    "\n",
    "4. display_orders → All vendors have the same value (1), meaning it has no variation and cannot help in prediction.\n",
    "\n",
    "5. language → Almost all vendors use English or have null values. This feature is not informative for predicting customer choices.\n",
    "\n",
    "6. create_at : Customers don’t choose restaurants based on when they joined. Only location, cuisine, rating, and prep time matter."
   ]
  },
  {
   "cell_type": "code",
   "execution_count": 131,
   "id": "077682ff-58ec-4162-8781-d3ff824acd55",
   "metadata": {},
   "outputs": [],
   "source": [
    "vendors.drop([\"vendor_category_id\",'OpeningTime','OpeningTime2',\"country_id\",\"city_id\",\"display_orders\",\"language\",\"created_at\",'primary_tags'], axis=1,inplace=True)"
   ]
  },
  {
   "cell_type": "code",
   "execution_count": 132,
   "id": "deb440ea-5003-45dd-bf48-51af3e86e693",
   "metadata": {},
   "outputs": [
    {
     "data": {
      "text/html": [
       "<div>\n",
       "<style scoped>\n",
       "    .dataframe tbody tr th:only-of-type {\n",
       "        vertical-align: middle;\n",
       "    }\n",
       "\n",
       "    .dataframe tbody tr th {\n",
       "        vertical-align: top;\n",
       "    }\n",
       "\n",
       "    .dataframe thead th {\n",
       "        text-align: right;\n",
       "    }\n",
       "</style>\n",
       "<table border=\"1\" class=\"dataframe\">\n",
       "  <thead>\n",
       "    <tr style=\"text-align: right;\">\n",
       "      <th></th>\n",
       "      <th>id</th>\n",
       "      <th>latitude</th>\n",
       "      <th>longitude</th>\n",
       "      <th>delivery_charge</th>\n",
       "      <th>serving_distance</th>\n",
       "      <th>is_open</th>\n",
       "      <th>prepration_time</th>\n",
       "      <th>discount_percentage</th>\n",
       "      <th>verified</th>\n",
       "      <th>rank</th>\n",
       "      <th>vendor_rating</th>\n",
       "      <th>vendor_tag_name</th>\n",
       "      <th>vendor_category_en_Sweets &amp; Bakes</th>\n",
       "      <th>primary_tags_number</th>\n",
       "    </tr>\n",
       "  </thead>\n",
       "  <tbody>\n",
       "    <tr>\n",
       "      <th>0</th>\n",
       "      <td>4</td>\n",
       "      <td>-0.588596</td>\n",
       "      <td>0.754434</td>\n",
       "      <td>0.0</td>\n",
       "      <td>6</td>\n",
       "      <td>1</td>\n",
       "      <td>15</td>\n",
       "      <td>0</td>\n",
       "      <td>1</td>\n",
       "      <td>11</td>\n",
       "      <td>4.4</td>\n",
       "      <td>Arabic,Breakfast,Burgers,Desserts,Free Deliver...</td>\n",
       "      <td>False</td>\n",
       "      <td>4.0</td>\n",
       "    </tr>\n",
       "    <tr>\n",
       "      <th>1</th>\n",
       "      <td>13</td>\n",
       "      <td>-0.471654</td>\n",
       "      <td>0.744470</td>\n",
       "      <td>0.7</td>\n",
       "      <td>5</td>\n",
       "      <td>1</td>\n",
       "      <td>14</td>\n",
       "      <td>0</td>\n",
       "      <td>1</td>\n",
       "      <td>11</td>\n",
       "      <td>4.7</td>\n",
       "      <td>Breakfast,Cakes,Crepes,Italian,Pasta,Pizzas,Sa...</td>\n",
       "      <td>False</td>\n",
       "      <td>7.0</td>\n",
       "    </tr>\n",
       "  </tbody>\n",
       "</table>\n",
       "</div>"
      ],
      "text/plain": [
       "   id  latitude  longitude  delivery_charge  serving_distance  is_open  \\\n",
       "0   4 -0.588596   0.754434              0.0                 6        1   \n",
       "1  13 -0.471654   0.744470              0.7                 5        1   \n",
       "\n",
       "   prepration_time  discount_percentage  verified  rank  vendor_rating  \\\n",
       "0               15                    0         1    11            4.4   \n",
       "1               14                    0         1    11            4.7   \n",
       "\n",
       "                                     vendor_tag_name  \\\n",
       "0  Arabic,Breakfast,Burgers,Desserts,Free Deliver...   \n",
       "1  Breakfast,Cakes,Crepes,Italian,Pasta,Pizzas,Sa...   \n",
       "\n",
       "   vendor_category_en_Sweets & Bakes  primary_tags_number  \n",
       "0                              False                  4.0  \n",
       "1                              False                  7.0  "
      ]
     },
     "execution_count": 132,
     "metadata": {},
     "output_type": "execute_result"
    }
   ],
   "source": [
    "vendors.head(2)"
   ]
  },
  {
   "cell_type": "markdown",
   "id": "488512d1-b24b-4e49-923b-bce70daad50d",
   "metadata": {},
   "source": [
    "1. OpeningTime & OpeningTime2 → Restaurant opening hours don’t influence which restaurant a customer will choose, so not needed for recommendations.\n",
    "2. primary_tags → These tags are extra descriptive info (like cuisine or offers) but we already have vendor_category_en and vendor_tag_name, which are enough.\n",
    "\n",
    "Summary: These columns are not relevant for predicting customer orders, so we drop them to focus only on meaningful features."
   ]
  },
  {
   "cell_type": "code",
   "execution_count": 133,
   "id": "ebdf3765-d5a4-484b-8e43-c467651173b2",
   "metadata": {},
   "outputs": [
    {
     "name": "stdout",
     "output_type": "stream",
     "text": [
      "<class 'pandas.core.frame.DataFrame'>\n",
      "RangeIndex: 100 entries, 0 to 99\n",
      "Data columns (total 14 columns):\n",
      " #   Column                             Non-Null Count  Dtype  \n",
      "---  ------                             --------------  -----  \n",
      " 0   id                                 100 non-null    int64  \n",
      " 1   latitude                           100 non-null    float64\n",
      " 2   longitude                          100 non-null    float64\n",
      " 3   delivery_charge                    100 non-null    float64\n",
      " 4   serving_distance                   100 non-null    int64  \n",
      " 5   is_open                            100 non-null    int64  \n",
      " 6   prepration_time                    100 non-null    int64  \n",
      " 7   discount_percentage                100 non-null    int64  \n",
      " 8   verified                           100 non-null    int64  \n",
      " 9   rank                               100 non-null    int64  \n",
      " 10  vendor_rating                      100 non-null    float64\n",
      " 11  vendor_tag_name                    97 non-null     object \n",
      " 12  vendor_category_en_Sweets & Bakes  100 non-null    bool   \n",
      " 13  primary_tags_number                77 non-null     float64\n",
      "dtypes: bool(1), float64(5), int64(7), object(1)\n",
      "memory usage: 10.4+ KB\n"
     ]
    }
   ],
   "source": [
    "vendors.info()"
   ]
  },
  {
   "cell_type": "markdown",
   "id": "7e2c4aa5-b481-4d7b-8335-400625dfb1b6",
   "metadata": {},
   "source": [
    "- out of all avaialable column from vendors table , we have some nulls in vendor_tag_name(3) and primary_tags_number(23)."
   ]
  },
  {
   "cell_type": "code",
   "execution_count": 134,
   "id": "433cc1ce-9bed-4cbc-b411-22812cdffb17",
   "metadata": {},
   "outputs": [
    {
     "data": {
      "text/plain": [
       "23"
      ]
     },
     "execution_count": 134,
     "metadata": {},
     "output_type": "execute_result"
    }
   ],
   "source": [
    "# vendors['vendor_tag_name'].isnull().sum()    # 3\n",
    "vendors['primary_tags_number'].isnull().sum()   # 23"
   ]
  },
  {
   "cell_type": "code",
   "execution_count": 135,
   "id": "706a68df-e3a3-46c7-b79b-755f918a59d9",
   "metadata": {},
   "outputs": [
    {
     "data": {
      "text/html": [
       "<div>\n",
       "<style scoped>\n",
       "    .dataframe tbody tr th:only-of-type {\n",
       "        vertical-align: middle;\n",
       "    }\n",
       "\n",
       "    .dataframe tbody tr th {\n",
       "        vertical-align: top;\n",
       "    }\n",
       "\n",
       "    .dataframe thead th {\n",
       "        text-align: right;\n",
       "    }\n",
       "</style>\n",
       "<table border=\"1\" class=\"dataframe\">\n",
       "  <thead>\n",
       "    <tr style=\"text-align: right;\">\n",
       "      <th></th>\n",
       "      <th>id</th>\n",
       "      <th>latitude</th>\n",
       "      <th>longitude</th>\n",
       "      <th>delivery_charge</th>\n",
       "      <th>serving_distance</th>\n",
       "      <th>is_open</th>\n",
       "      <th>prepration_time</th>\n",
       "      <th>discount_percentage</th>\n",
       "      <th>verified</th>\n",
       "      <th>rank</th>\n",
       "      <th>vendor_rating</th>\n",
       "      <th>vendor_tag_name</th>\n",
       "      <th>vendor_category_en_Sweets &amp; Bakes</th>\n",
       "      <th>primary_tags_number</th>\n",
       "    </tr>\n",
       "  </thead>\n",
       "  <tbody>\n",
       "    <tr>\n",
       "      <th>46</th>\n",
       "      <td>196</td>\n",
       "      <td>-1.787413</td>\n",
       "      <td>0.006934</td>\n",
       "      <td>0.7</td>\n",
       "      <td>10</td>\n",
       "      <td>0</td>\n",
       "      <td>17</td>\n",
       "      <td>0</td>\n",
       "      <td>1</td>\n",
       "      <td>11</td>\n",
       "      <td>4.4</td>\n",
       "      <td>NaN</td>\n",
       "      <td>True</td>\n",
       "      <td>NaN</td>\n",
       "    </tr>\n",
       "    <tr>\n",
       "      <th>55</th>\n",
       "      <td>231</td>\n",
       "      <td>205.242327</td>\n",
       "      <td>44.210807</td>\n",
       "      <td>0.7</td>\n",
       "      <td>10</td>\n",
       "      <td>1</td>\n",
       "      <td>15</td>\n",
       "      <td>0</td>\n",
       "      <td>1</td>\n",
       "      <td>11</td>\n",
       "      <td>4.3</td>\n",
       "      <td>NaN</td>\n",
       "      <td>True</td>\n",
       "      <td>NaN</td>\n",
       "    </tr>\n",
       "    <tr>\n",
       "      <th>57</th>\n",
       "      <td>243</td>\n",
       "      <td>2.215692</td>\n",
       "      <td>0.714018</td>\n",
       "      <td>0.7</td>\n",
       "      <td>15</td>\n",
       "      <td>0</td>\n",
       "      <td>11</td>\n",
       "      <td>0</td>\n",
       "      <td>1</td>\n",
       "      <td>11</td>\n",
       "      <td>4.4</td>\n",
       "      <td>NaN</td>\n",
       "      <td>False</td>\n",
       "      <td>NaN</td>\n",
       "    </tr>\n",
       "  </tbody>\n",
       "</table>\n",
       "</div>"
      ],
      "text/plain": [
       "     id    latitude  longitude  delivery_charge  serving_distance  is_open  \\\n",
       "46  196   -1.787413   0.006934              0.7                10        0   \n",
       "55  231  205.242327  44.210807              0.7                10        1   \n",
       "57  243    2.215692   0.714018              0.7                15        0   \n",
       "\n",
       "    prepration_time  discount_percentage  verified  rank  vendor_rating  \\\n",
       "46               17                    0         1    11            4.4   \n",
       "55               15                    0         1    11            4.3   \n",
       "57               11                    0         1    11            4.4   \n",
       "\n",
       "   vendor_tag_name  vendor_category_en_Sweets & Bakes  primary_tags_number  \n",
       "46             NaN                               True                  NaN  \n",
       "55             NaN                               True                  NaN  \n",
       "57             NaN                              False                  NaN  "
      ]
     },
     "execution_count": 135,
     "metadata": {},
     "output_type": "execute_result"
    }
   ],
   "source": [
    "vendors[vendors['vendor_tag_name'].isnull()]"
   ]
  },
  {
   "cell_type": "markdown",
   "id": "7c1c9515-828c-4afc-9797-9faaef8e0eb7",
   "metadata": {},
   "source": [
    "- Only 3 rows out of 100 have both vendor_tag_name and primary_tags_number missing.\n",
    "Filling them with random values might create wrong tags.\n",
    "Since they are very few and both are missing (not even tag number is present), dropping them is a safer option."
   ]
  },
  {
   "cell_type": "code",
   "execution_count": 136,
   "id": "d3585b6d-dce2-490f-8515-823377192d91",
   "metadata": {},
   "outputs": [],
   "source": [
    "vendors.dropna(subset=['vendor_tag_name'], inplace=True)"
   ]
  },
  {
   "cell_type": "code",
   "execution_count": 137,
   "id": "f3609f6b-837b-4166-80e7-404522f7b9c5",
   "metadata": {
    "scrolled": true
   },
   "outputs": [],
   "source": [
    "#vendors[vendors[['vendor_tag_name','primary_tags_number']]['primary_tags_number'].isnull()][['vendor_tag_name','primary_tags_number']]"
   ]
  },
  {
   "cell_type": "markdown",
   "id": "2e796aa4-b267-47b6-b851-4a3e074c7542",
   "metadata": {},
   "source": [
    "- For primary_tags_number, let’s think carefully:\n",
    "- It tells how many tags/cuisines a restaurant has.\n",
    "- But you already have vendor_category_en which lists all the cuisines.\n",
    "- In a recommendation model, the actual cuisines matter, not just the count."
   ]
  },
  {
   "cell_type": "code",
   "execution_count": 138,
   "id": "b30ebeeb-15fa-42bf-9dd0-4b9267afc795",
   "metadata": {},
   "outputs": [],
   "source": [
    "vendors.drop('primary_tags_number', axis=1, inplace=True)"
   ]
  },
  {
   "cell_type": "code",
   "execution_count": 139,
   "id": "6a9c3791-4042-4e7d-85ef-5338f2abb90d",
   "metadata": {},
   "outputs": [
    {
     "name": "stdout",
     "output_type": "stream",
     "text": [
      "<class 'pandas.core.frame.DataFrame'>\n",
      "Index: 97 entries, 0 to 99\n",
      "Data columns (total 13 columns):\n",
      " #   Column                             Non-Null Count  Dtype  \n",
      "---  ------                             --------------  -----  \n",
      " 0   id                                 97 non-null     int64  \n",
      " 1   latitude                           97 non-null     float64\n",
      " 2   longitude                          97 non-null     float64\n",
      " 3   delivery_charge                    97 non-null     float64\n",
      " 4   serving_distance                   97 non-null     int64  \n",
      " 5   is_open                            97 non-null     int64  \n",
      " 6   prepration_time                    97 non-null     int64  \n",
      " 7   discount_percentage                97 non-null     int64  \n",
      " 8   verified                           97 non-null     int64  \n",
      " 9   rank                               97 non-null     int64  \n",
      " 10  vendor_rating                      97 non-null     float64\n",
      " 11  vendor_tag_name                    97 non-null     object \n",
      " 12  vendor_category_en_Sweets & Bakes  97 non-null     bool   \n",
      "dtypes: bool(1), float64(4), int64(7), object(1)\n",
      "memory usage: 9.9+ KB\n"
     ]
    }
   ],
   "source": [
    "vendors.info()"
   ]
  },
  {
   "cell_type": "code",
   "execution_count": null,
   "id": "fe1ff85d-68a6-41e5-b5a2-603906241474",
   "metadata": {},
   "outputs": [],
   "source": []
  },
  {
   "cell_type": "markdown",
   "id": "560ffa68-3f47-4a31-88e9-deed141041d4",
   "metadata": {},
   "source": [
    "# combine tables "
   ]
  },
  {
   "cell_type": "code",
   "execution_count": 140,
   "id": "36a5cb7e-aa58-4142-80f5-4aa88402dfcf",
   "metadata": {},
   "outputs": [],
   "source": [
    "# 1 Start with train_orders as main table\n",
    "\n",
    "merged_df = train_orders.copy()"
   ]
  },
  {
   "cell_type": "code",
   "execution_count": 141,
   "id": "69801c0a-b30b-4934-b2b0-aa228fd67e5b",
   "metadata": {},
   "outputs": [],
   "source": [
    "#  Merge customer info\n",
    "merged_df = merged_df.merge(train_customers, on='customer_id', how='left')\n"
   ]
  },
  {
   "cell_type": "code",
   "execution_count": 142,
   "id": "01ebf7cf-345f-482f-bc4c-37a39e750d45",
   "metadata": {},
   "outputs": [],
   "source": [
    "#  Merge location info\n",
    "merged_df = merged_df.merge(\n",
    "    train_locations,\n",
    "    left_on=['customer_id', 'LOCATION_NUMBER'],\n",
    "    right_on=['customer_id', 'location_number'],\n",
    "    how='left'\n",
    ")"
   ]
  },
  {
   "cell_type": "code",
   "execution_count": 143,
   "id": "e81245ba-d64f-4707-b6b4-4e156c643f3f",
   "metadata": {},
   "outputs": [],
   "source": [
    "#  Merge vendor info\n",
    "merged_df = merged_df.merge(\n",
    "    vendors,\n",
    "    left_on='vendor_id',\n",
    "    right_on='id',\n",
    "    how='left',\n",
    "    suffixes=('', '_vendor')\n",
    ")"
   ]
  },
  {
   "cell_type": "code",
   "execution_count": 144,
   "id": "addc61d8-8fb7-4062-b197-8449a256617a",
   "metadata": {},
   "outputs": [],
   "source": [
    "# Optional: drop duplicate columns like 'id' or 'location_number' if you want\n",
    "#merged_df = merged_df.drop(columns=['id', 'location_number'])\n"
   ]
  },
  {
   "cell_type": "code",
   "execution_count": 145,
   "id": "f47968f2-a23d-4994-8fc3-93106d8b2268",
   "metadata": {},
   "outputs": [
    {
     "data": {
      "text/html": [
       "<div>\n",
       "<style scoped>\n",
       "    .dataframe tbody tr th:only-of-type {\n",
       "        vertical-align: middle;\n",
       "    }\n",
       "\n",
       "    .dataframe tbody tr th {\n",
       "        vertical-align: top;\n",
       "    }\n",
       "\n",
       "    .dataframe thead th {\n",
       "        text-align: right;\n",
       "    }\n",
       "</style>\n",
       "<table border=\"1\" class=\"dataframe\">\n",
       "  <thead>\n",
       "    <tr style=\"text-align: right;\">\n",
       "      <th></th>\n",
       "      <th>customer_id</th>\n",
       "      <th>item_count</th>\n",
       "      <th>grand_total</th>\n",
       "      <th>vendor_discount_amount</th>\n",
       "      <th>is_favorite</th>\n",
       "      <th>is_rated</th>\n",
       "      <th>vendor_rating</th>\n",
       "      <th>deliverydistance</th>\n",
       "      <th>vendor_id</th>\n",
       "      <th>LOCATION_NUMBER</th>\n",
       "      <th>has_vendor_rating</th>\n",
       "      <th>location_number</th>\n",
       "      <th>latitude</th>\n",
       "      <th>longitude</th>\n",
       "      <th>id</th>\n",
       "      <th>latitude_vendor</th>\n",
       "      <th>longitude_vendor</th>\n",
       "      <th>delivery_charge</th>\n",
       "      <th>serving_distance</th>\n",
       "      <th>is_open</th>\n",
       "      <th>prepration_time</th>\n",
       "      <th>discount_percentage</th>\n",
       "      <th>verified</th>\n",
       "      <th>rank</th>\n",
       "      <th>vendor_rating_vendor</th>\n",
       "      <th>vendor_tag_name</th>\n",
       "      <th>vendor_category_en_Sweets &amp; Bakes</th>\n",
       "    </tr>\n",
       "  </thead>\n",
       "  <tbody>\n",
       "    <tr>\n",
       "      <th>0</th>\n",
       "      <td>KL09J9N</td>\n",
       "      <td>6.0</td>\n",
       "      <td>10.1</td>\n",
       "      <td>0.0</td>\n",
       "      <td>0</td>\n",
       "      <td>0</td>\n",
       "      <td>0.0</td>\n",
       "      <td>0.0</td>\n",
       "      <td>84</td>\n",
       "      <td>0</td>\n",
       "      <td>0</td>\n",
       "      <td>0.0</td>\n",
       "      <td>-0.09065</td>\n",
       "      <td>-78.580196</td>\n",
       "      <td>84.0</td>\n",
       "      <td>-1.004923</td>\n",
       "      <td>0.078736</td>\n",
       "      <td>0.0</td>\n",
       "      <td>15.0</td>\n",
       "      <td>1.0</td>\n",
       "      <td>14.0</td>\n",
       "      <td>0.0</td>\n",
       "      <td>1.0</td>\n",
       "      <td>11.0</td>\n",
       "      <td>4.3</td>\n",
       "      <td>Burgers,Fries,Kids meal,Shawarma</td>\n",
       "      <td>False</td>\n",
       "    </tr>\n",
       "    <tr>\n",
       "      <th>1</th>\n",
       "      <td>H5LGGFX</td>\n",
       "      <td>3.0</td>\n",
       "      <td>8.4</td>\n",
       "      <td>0.0</td>\n",
       "      <td>0</td>\n",
       "      <td>0</td>\n",
       "      <td>0.0</td>\n",
       "      <td>0.0</td>\n",
       "      <td>78</td>\n",
       "      <td>0</td>\n",
       "      <td>0</td>\n",
       "      <td>0.0</td>\n",
       "      <td>1.73395</td>\n",
       "      <td>-78.795830</td>\n",
       "      <td>78.0</td>\n",
       "      <td>-0.555404</td>\n",
       "      <td>0.196336</td>\n",
       "      <td>0.7</td>\n",
       "      <td>15.0</td>\n",
       "      <td>0.0</td>\n",
       "      <td>17.0</td>\n",
       "      <td>0.0</td>\n",
       "      <td>1.0</td>\n",
       "      <td>11.0</td>\n",
       "      <td>4.4</td>\n",
       "      <td>Pizzas,Italian,Breakfast,Soups,Pasta,Salads,De...</td>\n",
       "      <td>False</td>\n",
       "    </tr>\n",
       "  </tbody>\n",
       "</table>\n",
       "</div>"
      ],
      "text/plain": [
       "  customer_id  item_count  grand_total  vendor_discount_amount  is_favorite  \\\n",
       "0     KL09J9N         6.0         10.1                     0.0            0   \n",
       "1     H5LGGFX         3.0          8.4                     0.0            0   \n",
       "\n",
       "   is_rated  vendor_rating  deliverydistance  vendor_id  LOCATION_NUMBER  \\\n",
       "0         0            0.0               0.0         84                0   \n",
       "1         0            0.0               0.0         78                0   \n",
       "\n",
       "   has_vendor_rating  location_number  latitude  longitude    id  \\\n",
       "0                  0              0.0  -0.09065 -78.580196  84.0   \n",
       "1                  0              0.0   1.73395 -78.795830  78.0   \n",
       "\n",
       "   latitude_vendor  longitude_vendor  delivery_charge  serving_distance  \\\n",
       "0        -1.004923          0.078736              0.0              15.0   \n",
       "1        -0.555404          0.196336              0.7              15.0   \n",
       "\n",
       "   is_open  prepration_time  discount_percentage  verified  rank  \\\n",
       "0      1.0             14.0                  0.0       1.0  11.0   \n",
       "1      0.0             17.0                  0.0       1.0  11.0   \n",
       "\n",
       "   vendor_rating_vendor                                    vendor_tag_name  \\\n",
       "0                   4.3                   Burgers,Fries,Kids meal,Shawarma   \n",
       "1                   4.4  Pizzas,Italian,Breakfast,Soups,Pasta,Salads,De...   \n",
       "\n",
       "  vendor_category_en_Sweets & Bakes  \n",
       "0                             False  \n",
       "1                             False  "
      ]
     },
     "execution_count": 145,
     "metadata": {},
     "output_type": "execute_result"
    }
   ],
   "source": [
    "merged_df.head(2)"
   ]
  },
  {
   "cell_type": "code",
   "execution_count": 146,
   "id": "464e6b7c-7271-41d0-9c12-dbfaf7641f12",
   "metadata": {},
   "outputs": [
    {
     "data": {
      "text/plain": [
       "(135221, 27)"
      ]
     },
     "execution_count": 146,
     "metadata": {},
     "output_type": "execute_result"
    }
   ],
   "source": [
    "merged_df.shape"
   ]
  },
  {
   "cell_type": "code",
   "execution_count": 147,
   "id": "0c01243c-e375-4015-97fa-00753c9349d5",
   "metadata": {},
   "outputs": [
    {
     "name": "stdout",
     "output_type": "stream",
     "text": [
      "<class 'pandas.core.frame.DataFrame'>\n",
      "RangeIndex: 135221 entries, 0 to 135220\n",
      "Data columns (total 27 columns):\n",
      " #   Column                             Non-Null Count   Dtype  \n",
      "---  ------                             --------------   -----  \n",
      " 0   customer_id                        135221 non-null  object \n",
      " 1   item_count                         135221 non-null  float64\n",
      " 2   grand_total                        135221 non-null  float64\n",
      " 3   vendor_discount_amount             135221 non-null  float64\n",
      " 4   is_favorite                        135221 non-null  int64  \n",
      " 5   is_rated                           135221 non-null  int64  \n",
      " 6   vendor_rating                      135221 non-null  float64\n",
      " 7   deliverydistance                   135221 non-null  float64\n",
      " 8   vendor_id                          135221 non-null  int64  \n",
      " 9   LOCATION_NUMBER                    135221 non-null  int64  \n",
      " 10  has_vendor_rating                  135221 non-null  int32  \n",
      " 11  location_number                    135216 non-null  float64\n",
      " 12  latitude                           135216 non-null  float64\n",
      " 13  longitude                          135216 non-null  float64\n",
      " 14  id                                 133040 non-null  float64\n",
      " 15  latitude_vendor                    133040 non-null  float64\n",
      " 16  longitude_vendor                   133040 non-null  float64\n",
      " 17  delivery_charge                    133040 non-null  float64\n",
      " 18  serving_distance                   133040 non-null  float64\n",
      " 19  is_open                            133040 non-null  float64\n",
      " 20  prepration_time                    133040 non-null  float64\n",
      " 21  discount_percentage                133040 non-null  float64\n",
      " 22  verified                           133040 non-null  float64\n",
      " 23  rank                               133040 non-null  float64\n",
      " 24  vendor_rating_vendor               133040 non-null  float64\n",
      " 25  vendor_tag_name                    133040 non-null  object \n",
      " 26  vendor_category_en_Sweets & Bakes  133040 non-null  object \n",
      "dtypes: float64(19), int32(1), int64(4), object(3)\n",
      "memory usage: 27.3+ MB\n"
     ]
    }
   ],
   "source": [
    "merged_df.info()"
   ]
  },
  {
   "cell_type": "code",
   "execution_count": 148,
   "id": "7cb5e63c-784d-4417-928a-f09776af7cad",
   "metadata": {},
   "outputs": [
    {
     "data": {
      "text/html": [
       "<div>\n",
       "<style scoped>\n",
       "    .dataframe tbody tr th:only-of-type {\n",
       "        vertical-align: middle;\n",
       "    }\n",
       "\n",
       "    .dataframe tbody tr th {\n",
       "        vertical-align: top;\n",
       "    }\n",
       "\n",
       "    .dataframe thead th {\n",
       "        text-align: right;\n",
       "    }\n",
       "</style>\n",
       "<table border=\"1\" class=\"dataframe\">\n",
       "  <thead>\n",
       "    <tr style=\"text-align: right;\">\n",
       "      <th></th>\n",
       "      <th>customer_id</th>\n",
       "      <th>id</th>\n",
       "    </tr>\n",
       "  </thead>\n",
       "  <tbody>\n",
       "    <tr>\n",
       "      <th>0</th>\n",
       "      <td>KL09J9N</td>\n",
       "      <td>84.0</td>\n",
       "    </tr>\n",
       "    <tr>\n",
       "      <th>1</th>\n",
       "      <td>H5LGGFX</td>\n",
       "      <td>78.0</td>\n",
       "    </tr>\n",
       "    <tr>\n",
       "      <th>2</th>\n",
       "      <td>CYLZB6T</td>\n",
       "      <td>4.0</td>\n",
       "    </tr>\n",
       "    <tr>\n",
       "      <th>3</th>\n",
       "      <td>4YKUKYN</td>\n",
       "      <td>157.0</td>\n",
       "    </tr>\n",
       "    <tr>\n",
       "      <th>4</th>\n",
       "      <td>WDNU30K</td>\n",
       "      <td>160.0</td>\n",
       "    </tr>\n",
       "    <tr>\n",
       "      <th>...</th>\n",
       "      <td>...</td>\n",
       "      <td>...</td>\n",
       "    </tr>\n",
       "    <tr>\n",
       "      <th>135216</th>\n",
       "      <td>YZNHLAP</td>\n",
       "      <td>106.0</td>\n",
       "    </tr>\n",
       "    <tr>\n",
       "      <th>135217</th>\n",
       "      <td>OD336VP</td>\n",
       "      <td>105.0</td>\n",
       "    </tr>\n",
       "    <tr>\n",
       "      <th>135218</th>\n",
       "      <td>N4F5VWP</td>\n",
       "      <td>66.0</td>\n",
       "    </tr>\n",
       "    <tr>\n",
       "      <th>135219</th>\n",
       "      <td>QURUHAI</td>\n",
       "      <td>81.0</td>\n",
       "    </tr>\n",
       "    <tr>\n",
       "      <th>135220</th>\n",
       "      <td>FP6IQUM</td>\n",
       "      <td>159.0</td>\n",
       "    </tr>\n",
       "  </tbody>\n",
       "</table>\n",
       "<p>135221 rows × 2 columns</p>\n",
       "</div>"
      ],
      "text/plain": [
       "       customer_id     id\n",
       "0          KL09J9N   84.0\n",
       "1          H5LGGFX   78.0\n",
       "2          CYLZB6T    4.0\n",
       "3          4YKUKYN  157.0\n",
       "4          WDNU30K  160.0\n",
       "...            ...    ...\n",
       "135216     YZNHLAP  106.0\n",
       "135217     OD336VP  105.0\n",
       "135218     N4F5VWP   66.0\n",
       "135219     QURUHAI   81.0\n",
       "135220     FP6IQUM  159.0\n",
       "\n",
       "[135221 rows x 2 columns]"
      ]
     },
     "execution_count": 148,
     "metadata": {},
     "output_type": "execute_result"
    }
   ],
   "source": [
    "merged_df[['customer_id','id']]"
   ]
  },
  {
   "cell_type": "code",
   "execution_count": null,
   "id": "3b52deb5-e16b-4f27-8c4c-fd5c11c2cd72",
   "metadata": {},
   "outputs": [],
   "source": []
  },
  {
   "cell_type": "markdown",
   "id": "1b32d80c-2169-4937-9d9f-0d14e875693c",
   "metadata": {},
   "source": [
    "# Test "
   ]
  },
  {
   "cell_type": "code",
   "execution_count": 179,
   "id": "fd2f0043-94e1-4e24-9102-e9d49d3239d2",
   "metadata": {},
   "outputs": [],
   "source": [
    "test_customers=pd.read_csv(\"Test_soulpage/test_customers.csv\")\n",
    "test_locations=pd.read_csv(\"Test_soulpage/test_locations.csv\")"
   ]
  },
  {
   "cell_type": "code",
   "execution_count": 180,
   "id": "eea329c7-c773-4fc6-8600-de9f52c6a652",
   "metadata": {},
   "outputs": [
    {
     "data": {
      "text/html": [
       "<div>\n",
       "<style scoped>\n",
       "    .dataframe tbody tr th:only-of-type {\n",
       "        vertical-align: middle;\n",
       "    }\n",
       "\n",
       "    .dataframe tbody tr th {\n",
       "        vertical-align: top;\n",
       "    }\n",
       "\n",
       "    .dataframe thead th {\n",
       "        text-align: right;\n",
       "    }\n",
       "</style>\n",
       "<table border=\"1\" class=\"dataframe\">\n",
       "  <thead>\n",
       "    <tr style=\"text-align: right;\">\n",
       "      <th></th>\n",
       "      <th>customer_id</th>\n",
       "      <th>gender</th>\n",
       "      <th>dob</th>\n",
       "      <th>status</th>\n",
       "      <th>verified</th>\n",
       "      <th>language</th>\n",
       "      <th>created_at</th>\n",
       "      <th>updated_at</th>\n",
       "    </tr>\n",
       "  </thead>\n",
       "  <tbody>\n",
       "    <tr>\n",
       "      <th>0</th>\n",
       "      <td>ICE2DJP</td>\n",
       "      <td>Male</td>\n",
       "      <td>NaN</td>\n",
       "      <td>1</td>\n",
       "      <td>1</td>\n",
       "      <td>EN</td>\n",
       "      <td>2/7/2023 16:45</td>\n",
       "      <td>2/7/2023 16:45</td>\n",
       "    </tr>\n",
       "    <tr>\n",
       "      <th>1</th>\n",
       "      <td>FWNUI71</td>\n",
       "      <td>Male</td>\n",
       "      <td>NaN</td>\n",
       "      <td>1</td>\n",
       "      <td>1</td>\n",
       "      <td>EN</td>\n",
       "      <td>3/22/2023 20:11</td>\n",
       "      <td>3/22/2023 20:11</td>\n",
       "    </tr>\n",
       "    <tr>\n",
       "      <th>2</th>\n",
       "      <td>LRX7BCH</td>\n",
       "      <td>Male</td>\n",
       "      <td>NaN</td>\n",
       "      <td>1</td>\n",
       "      <td>1</td>\n",
       "      <td>EN</td>\n",
       "      <td>4/17/2023 20:01</td>\n",
       "      <td>4/17/2023 20:01</td>\n",
       "    </tr>\n",
       "    <tr>\n",
       "      <th>3</th>\n",
       "      <td>D96DHMD</td>\n",
       "      <td>Male</td>\n",
       "      <td>NaN</td>\n",
       "      <td>1</td>\n",
       "      <td>1</td>\n",
       "      <td>EN</td>\n",
       "      <td>4/29/2023 22:35</td>\n",
       "      <td>4/29/2023 22:35</td>\n",
       "    </tr>\n",
       "    <tr>\n",
       "      <th>4</th>\n",
       "      <td>88Q8Y5V</td>\n",
       "      <td>Male</td>\n",
       "      <td>1997.0</td>\n",
       "      <td>1</td>\n",
       "      <td>1</td>\n",
       "      <td>EN</td>\n",
       "      <td>5/5/2023 12:38</td>\n",
       "      <td>5/5/2023 12:38</td>\n",
       "    </tr>\n",
       "  </tbody>\n",
       "</table>\n",
       "</div>"
      ],
      "text/plain": [
       "  customer_id gender     dob  status  verified language       created_at  \\\n",
       "0     ICE2DJP   Male     NaN       1         1       EN   2/7/2023 16:45   \n",
       "1     FWNUI71   Male     NaN       1         1       EN  3/22/2023 20:11   \n",
       "2     LRX7BCH   Male     NaN       1         1       EN  4/17/2023 20:01   \n",
       "3     D96DHMD   Male     NaN       1         1       EN  4/29/2023 22:35   \n",
       "4     88Q8Y5V   Male  1997.0       1         1       EN   5/5/2023 12:38   \n",
       "\n",
       "        updated_at  \n",
       "0   2/7/2023 16:45  \n",
       "1  3/22/2023 20:11  \n",
       "2  4/17/2023 20:01  \n",
       "3  4/29/2023 22:35  \n",
       "4   5/5/2023 12:38  "
      ]
     },
     "execution_count": 180,
     "metadata": {},
     "output_type": "execute_result"
    }
   ],
   "source": [
    "test_customers.head()"
   ]
  },
  {
   "cell_type": "code",
   "execution_count": 181,
   "id": "222b99d2-cd97-4b91-9e74-97161dcebe1c",
   "metadata": {},
   "outputs": [
    {
     "name": "stdout",
     "output_type": "stream",
     "text": [
      "<class 'pandas.core.frame.DataFrame'>\n",
      "RangeIndex: 9768 entries, 0 to 9767\n",
      "Data columns (total 8 columns):\n",
      " #   Column       Non-Null Count  Dtype  \n",
      "---  ------       --------------  -----  \n",
      " 0   customer_id  9768 non-null   object \n",
      " 1   gender       6321 non-null   object \n",
      " 2   dob          848 non-null    float64\n",
      " 3   status       9768 non-null   int64  \n",
      " 4   verified     9768 non-null   int64  \n",
      " 5   language     5928 non-null   object \n",
      " 6   created_at   9768 non-null   object \n",
      " 7   updated_at   9768 non-null   object \n",
      "dtypes: float64(1), int64(2), object(5)\n",
      "memory usage: 610.6+ KB\n"
     ]
    }
   ],
   "source": [
    "test_customers.info()"
   ]
  },
  {
   "cell_type": "code",
   "execution_count": 182,
   "id": "be35b7c5-3d27-4cf8-9264-f45e830afaa6",
   "metadata": {},
   "outputs": [],
   "source": [
    "# Dropping unnecessary columns\n",
    "test_customers.drop(['gender','dob','status','verified','language','created_at','updated_at'], axis=1, inplace=True)"
   ]
  },
  {
   "cell_type": "code",
   "execution_count": 183,
   "id": "9755d284-9986-4554-963c-758f5355cc5b",
   "metadata": {},
   "outputs": [
    {
     "data": {
      "text/plain": [
       "15"
      ]
     },
     "execution_count": 183,
     "metadata": {},
     "output_type": "execute_result"
    }
   ],
   "source": [
    "# Check duplicates\n",
    "test_customers['customer_id'].duplicated().sum()"
   ]
  },
  {
   "cell_type": "code",
   "execution_count": 184,
   "id": "bad77856-43ae-4458-8aa4-44edd13bfb7c",
   "metadata": {},
   "outputs": [],
   "source": [
    "test_customers.drop_duplicates(subset='customer_id', inplace=True)"
   ]
  },
  {
   "cell_type": "code",
   "execution_count": 185,
   "id": "ee1c0a40-c07a-4b84-9f17-77cee7c49352",
   "metadata": {},
   "outputs": [
    {
     "data": {
      "text/html": [
       "<div>\n",
       "<style scoped>\n",
       "    .dataframe tbody tr th:only-of-type {\n",
       "        vertical-align: middle;\n",
       "    }\n",
       "\n",
       "    .dataframe tbody tr th {\n",
       "        vertical-align: top;\n",
       "    }\n",
       "\n",
       "    .dataframe thead th {\n",
       "        text-align: right;\n",
       "    }\n",
       "</style>\n",
       "<table border=\"1\" class=\"dataframe\">\n",
       "  <thead>\n",
       "    <tr style=\"text-align: right;\">\n",
       "      <th></th>\n",
       "      <th>customer_id</th>\n",
       "    </tr>\n",
       "  </thead>\n",
       "  <tbody>\n",
       "    <tr>\n",
       "      <th>0</th>\n",
       "      <td>ICE2DJP</td>\n",
       "    </tr>\n",
       "    <tr>\n",
       "      <th>1</th>\n",
       "      <td>FWNUI71</td>\n",
       "    </tr>\n",
       "  </tbody>\n",
       "</table>\n",
       "</div>"
      ],
      "text/plain": [
       "  customer_id\n",
       "0     ICE2DJP\n",
       "1     FWNUI71"
      ]
     },
     "execution_count": 185,
     "metadata": {},
     "output_type": "execute_result"
    }
   ],
   "source": [
    "test_customers.head(2)"
   ]
  },
  {
   "cell_type": "code",
   "execution_count": 186,
   "id": "85d44dcc-10e5-47ac-9e6a-3079a55dc970",
   "metadata": {},
   "outputs": [
    {
     "data": {
      "text/html": [
       "<div>\n",
       "<style scoped>\n",
       "    .dataframe tbody tr th:only-of-type {\n",
       "        vertical-align: middle;\n",
       "    }\n",
       "\n",
       "    .dataframe tbody tr th {\n",
       "        vertical-align: top;\n",
       "    }\n",
       "\n",
       "    .dataframe thead th {\n",
       "        text-align: right;\n",
       "    }\n",
       "</style>\n",
       "<table border=\"1\" class=\"dataframe\">\n",
       "  <thead>\n",
       "    <tr style=\"text-align: right;\">\n",
       "      <th></th>\n",
       "      <th>customer_id</th>\n",
       "      <th>location_number</th>\n",
       "      <th>location_type</th>\n",
       "      <th>latitude</th>\n",
       "      <th>longitude</th>\n",
       "    </tr>\n",
       "  </thead>\n",
       "  <tbody>\n",
       "    <tr>\n",
       "      <th>0</th>\n",
       "      <td>Z59FTQD</td>\n",
       "      <td>0</td>\n",
       "      <td>NaN</td>\n",
       "      <td>126.032278</td>\n",
       "      <td>-9.106019</td>\n",
       "    </tr>\n",
       "    <tr>\n",
       "      <th>1</th>\n",
       "      <td>0JP29SK</td>\n",
       "      <td>0</td>\n",
       "      <td>Home</td>\n",
       "      <td>0.278709</td>\n",
       "      <td>-78.623847</td>\n",
       "    </tr>\n",
       "  </tbody>\n",
       "</table>\n",
       "</div>"
      ],
      "text/plain": [
       "  customer_id  location_number location_type    latitude  longitude\n",
       "0     Z59FTQD                0           NaN  126.032278  -9.106019\n",
       "1     0JP29SK                0          Home    0.278709 -78.623847"
      ]
     },
     "execution_count": 186,
     "metadata": {},
     "output_type": "execute_result"
    }
   ],
   "source": [
    "test_locations.head(2)"
   ]
  },
  {
   "cell_type": "code",
   "execution_count": 187,
   "id": "c6912d38-0de5-4a26-883e-0a9010bd9010",
   "metadata": {},
   "outputs": [
    {
     "name": "stdout",
     "output_type": "stream",
     "text": [
      "<class 'pandas.core.frame.DataFrame'>\n",
      "RangeIndex: 16720 entries, 0 to 16719\n",
      "Data columns (total 5 columns):\n",
      " #   Column           Non-Null Count  Dtype  \n",
      "---  ------           --------------  -----  \n",
      " 0   customer_id      16720 non-null  object \n",
      " 1   location_number  16720 non-null  int64  \n",
      " 2   location_type    9070 non-null   object \n",
      " 3   latitude         16717 non-null  float64\n",
      " 4   longitude        16717 non-null  float64\n",
      "dtypes: float64(2), int64(1), object(2)\n",
      "memory usage: 653.3+ KB\n"
     ]
    }
   ],
   "source": [
    "test_locations.info()"
   ]
  },
  {
   "cell_type": "code",
   "execution_count": 188,
   "id": "858ff873-d65f-4c91-b441-d84e169d6385",
   "metadata": {},
   "outputs": [
    {
     "name": "stdout",
     "output_type": "stream",
     "text": [
      "Number of duplicate pairs: 0\n"
     ]
    }
   ],
   "source": [
    "# Let’s now check if any duplicate customer_id + location_number pairs exist in your train_locations table.\n",
    "dup_count = test_locations.duplicated(subset=['customer_id','location_number']).sum()\n",
    "print(\"Number of duplicate pairs:\", dup_count)"
   ]
  },
  {
   "cell_type": "code",
   "execution_count": 189,
   "id": "b22010b1-296f-4be6-8044-fcebb09aa0fd",
   "metadata": {},
   "outputs": [],
   "source": [
    "# Drop rows where either latitude OR longitude is null\n",
    "test_locations.dropna(subset=['latitude', 'longitude'], inplace=True)"
   ]
  },
  {
   "cell_type": "code",
   "execution_count": 190,
   "id": "9d090e12-4374-457c-9643-b5643d245285",
   "metadata": {},
   "outputs": [],
   "source": [
    "# Reset index after dropping\n",
    "test_locations.reset_index(drop=True, inplace=True)"
   ]
  },
  {
   "cell_type": "code",
   "execution_count": 191,
   "id": "70f42fec-49ce-4d58-b7c6-53a905008e19",
   "metadata": {},
   "outputs": [],
   "source": [
    "test_locations.drop(['location_type'], axis=1, inplace=True)"
   ]
  },
  {
   "cell_type": "code",
   "execution_count": 192,
   "id": "6a8c3777-b54c-49f2-bd22-6ff5101c3927",
   "metadata": {},
   "outputs": [
    {
     "data": {
      "text/html": [
       "<div>\n",
       "<style scoped>\n",
       "    .dataframe tbody tr th:only-of-type {\n",
       "        vertical-align: middle;\n",
       "    }\n",
       "\n",
       "    .dataframe tbody tr th {\n",
       "        vertical-align: top;\n",
       "    }\n",
       "\n",
       "    .dataframe thead th {\n",
       "        text-align: right;\n",
       "    }\n",
       "</style>\n",
       "<table border=\"1\" class=\"dataframe\">\n",
       "  <thead>\n",
       "    <tr style=\"text-align: right;\">\n",
       "      <th></th>\n",
       "      <th>customer_id</th>\n",
       "      <th>location_number</th>\n",
       "      <th>latitude</th>\n",
       "      <th>longitude</th>\n",
       "    </tr>\n",
       "  </thead>\n",
       "  <tbody>\n",
       "    <tr>\n",
       "      <th>0</th>\n",
       "      <td>Z59FTQD</td>\n",
       "      <td>0</td>\n",
       "      <td>126.032278</td>\n",
       "      <td>-9.106019</td>\n",
       "    </tr>\n",
       "    <tr>\n",
       "      <th>1</th>\n",
       "      <td>0JP29SK</td>\n",
       "      <td>0</td>\n",
       "      <td>0.278709</td>\n",
       "      <td>-78.623847</td>\n",
       "    </tr>\n",
       "  </tbody>\n",
       "</table>\n",
       "</div>"
      ],
      "text/plain": [
       "  customer_id  location_number    latitude  longitude\n",
       "0     Z59FTQD                0  126.032278  -9.106019\n",
       "1     0JP29SK                0    0.278709 -78.623847"
      ]
     },
     "execution_count": 192,
     "metadata": {},
     "output_type": "execute_result"
    }
   ],
   "source": [
    "test_locations.head(2)"
   ]
  },
  {
   "cell_type": "code",
   "execution_count": 193,
   "id": "43205819-5988-4d93-8ae3-604900f98787",
   "metadata": {},
   "outputs": [
    {
     "data": {
      "text/html": [
       "<div>\n",
       "<style scoped>\n",
       "    .dataframe tbody tr th:only-of-type {\n",
       "        vertical-align: middle;\n",
       "    }\n",
       "\n",
       "    .dataframe tbody tr th {\n",
       "        vertical-align: top;\n",
       "    }\n",
       "\n",
       "    .dataframe thead th {\n",
       "        text-align: right;\n",
       "    }\n",
       "</style>\n",
       "<table border=\"1\" class=\"dataframe\">\n",
       "  <thead>\n",
       "    <tr style=\"text-align: right;\">\n",
       "      <th></th>\n",
       "      <th>customer_id</th>\n",
       "      <th>location_number</th>\n",
       "      <th>latitude</th>\n",
       "      <th>longitude</th>\n",
       "    </tr>\n",
       "  </thead>\n",
       "  <tbody>\n",
       "    <tr>\n",
       "      <th>0</th>\n",
       "      <td>ICE2DJP</td>\n",
       "      <td>0.0</td>\n",
       "      <td>-96.407538</td>\n",
       "      <td>-67.197291</td>\n",
       "    </tr>\n",
       "    <tr>\n",
       "      <th>1</th>\n",
       "      <td>ICE2DJP</td>\n",
       "      <td>1.0</td>\n",
       "      <td>0.038654</td>\n",
       "      <td>-78.595477</td>\n",
       "    </tr>\n",
       "  </tbody>\n",
       "</table>\n",
       "</div>"
      ],
      "text/plain": [
       "  customer_id  location_number   latitude  longitude\n",
       "0     ICE2DJP              0.0 -96.407538 -67.197291\n",
       "1     ICE2DJP              1.0   0.038654 -78.595477"
      ]
     },
     "execution_count": 193,
     "metadata": {},
     "output_type": "execute_result"
    }
   ],
   "source": [
    "# Merge test_customers with test_locations on 'customer_id'\n",
    "test_data = pd.merge(test_customers, test_locations, on='customer_id', how='left')\n",
    "test_data.head(2)"
   ]
  },
  {
   "cell_type": "code",
   "execution_count": 194,
   "id": "cd6e9708-851b-47af-83ee-e29c41cd4431",
   "metadata": {},
   "outputs": [
    {
     "name": "stdout",
     "output_type": "stream",
     "text": [
      "<class 'pandas.core.frame.DataFrame'>\n",
      "RangeIndex: 16313 entries, 0 to 16312\n",
      "Data columns (total 4 columns):\n",
      " #   Column           Non-Null Count  Dtype  \n",
      "---  ------           --------------  -----  \n",
      " 0   customer_id      16313 non-null  object \n",
      " 1   location_number  16312 non-null  float64\n",
      " 2   latitude         16312 non-null  float64\n",
      " 3   longitude        16312 non-null  float64\n",
      "dtypes: float64(3), object(1)\n",
      "memory usage: 509.9+ KB\n"
     ]
    }
   ],
   "source": [
    "test_data.info()"
   ]
  },
  {
   "cell_type": "code",
   "execution_count": 195,
   "id": "aea49d07-f556-4188-979f-ab654850cb5a",
   "metadata": {},
   "outputs": [
    {
     "data": {
      "text/html": [
       "<div>\n",
       "<style scoped>\n",
       "    .dataframe tbody tr th:only-of-type {\n",
       "        vertical-align: middle;\n",
       "    }\n",
       "\n",
       "    .dataframe tbody tr th {\n",
       "        vertical-align: top;\n",
       "    }\n",
       "\n",
       "    .dataframe thead th {\n",
       "        text-align: right;\n",
       "    }\n",
       "</style>\n",
       "<table border=\"1\" class=\"dataframe\">\n",
       "  <thead>\n",
       "    <tr style=\"text-align: right;\">\n",
       "      <th></th>\n",
       "      <th>customer_id</th>\n",
       "      <th>location_number</th>\n",
       "      <th>latitude</th>\n",
       "      <th>longitude</th>\n",
       "    </tr>\n",
       "  </thead>\n",
       "  <tbody>\n",
       "    <tr>\n",
       "      <th>2442</th>\n",
       "      <td>7.37E+10</td>\n",
       "      <td>NaN</td>\n",
       "      <td>NaN</td>\n",
       "      <td>NaN</td>\n",
       "    </tr>\n",
       "  </tbody>\n",
       "</table>\n",
       "</div>"
      ],
      "text/plain": [
       "     customer_id  location_number  latitude  longitude\n",
       "2442    7.37E+10              NaN       NaN        NaN"
      ]
     },
     "execution_count": 195,
     "metadata": {},
     "output_type": "execute_result"
    }
   ],
   "source": [
    "test_data[test_data['location_number'].isnull()]"
   ]
  },
  {
   "cell_type": "code",
   "execution_count": 196,
   "id": "2fabb0b8-e2c7-4957-9193-95aa38737c78",
   "metadata": {},
   "outputs": [],
   "source": [
    "test_data.drop([2442], inplace=True)"
   ]
  },
  {
   "cell_type": "code",
   "execution_count": 197,
   "id": "dc7e10bc-b0d2-4d19-99de-aad0c4ee2236",
   "metadata": {},
   "outputs": [],
   "source": [
    "test_data.reset_index(drop=True, inplace=True)"
   ]
  },
  {
   "cell_type": "code",
   "execution_count": 198,
   "id": "242f159c-160a-4350-b347-5f3b3d860eb1",
   "metadata": {},
   "outputs": [
    {
     "data": {
      "text/html": [
       "<div>\n",
       "<style scoped>\n",
       "    .dataframe tbody tr th:only-of-type {\n",
       "        vertical-align: middle;\n",
       "    }\n",
       "\n",
       "    .dataframe tbody tr th {\n",
       "        vertical-align: top;\n",
       "    }\n",
       "\n",
       "    .dataframe thead th {\n",
       "        text-align: right;\n",
       "    }\n",
       "</style>\n",
       "<table border=\"1\" class=\"dataframe\">\n",
       "  <thead>\n",
       "    <tr style=\"text-align: right;\">\n",
       "      <th></th>\n",
       "      <th>customer_id</th>\n",
       "      <th>location_number</th>\n",
       "      <th>latitude</th>\n",
       "      <th>longitude</th>\n",
       "    </tr>\n",
       "  </thead>\n",
       "  <tbody>\n",
       "    <tr>\n",
       "      <th>0</th>\n",
       "      <td>ICE2DJP</td>\n",
       "      <td>0.0</td>\n",
       "      <td>-96.407538</td>\n",
       "      <td>-67.197291</td>\n",
       "    </tr>\n",
       "    <tr>\n",
       "      <th>1</th>\n",
       "      <td>ICE2DJP</td>\n",
       "      <td>1.0</td>\n",
       "      <td>0.038654</td>\n",
       "      <td>-78.595477</td>\n",
       "    </tr>\n",
       "    <tr>\n",
       "      <th>2</th>\n",
       "      <td>ICE2DJP</td>\n",
       "      <td>2.0</td>\n",
       "      <td>-95.106078</td>\n",
       "      <td>43.684151</td>\n",
       "    </tr>\n",
       "    <tr>\n",
       "      <th>3</th>\n",
       "      <td>ICE2DJP</td>\n",
       "      <td>3.0</td>\n",
       "      <td>-96.407677</td>\n",
       "      <td>43.557974</td>\n",
       "    </tr>\n",
       "    <tr>\n",
       "      <th>4</th>\n",
       "      <td>ICE2DJP</td>\n",
       "      <td>4.0</td>\n",
       "      <td>204.621247</td>\n",
       "      <td>44.091518</td>\n",
       "    </tr>\n",
       "    <tr>\n",
       "      <th>5</th>\n",
       "      <td>ICE2DJP</td>\n",
       "      <td>5.0</td>\n",
       "      <td>205.006635</td>\n",
       "      <td>44.048238</td>\n",
       "    </tr>\n",
       "    <tr>\n",
       "      <th>6</th>\n",
       "      <td>FWNUI71</td>\n",
       "      <td>0.0</td>\n",
       "      <td>-0.123325</td>\n",
       "      <td>-78.576334</td>\n",
       "    </tr>\n",
       "    <tr>\n",
       "      <th>7</th>\n",
       "      <td>FWNUI71</td>\n",
       "      <td>1.0</td>\n",
       "      <td>-0.485723</td>\n",
       "      <td>-78.533506</td>\n",
       "    </tr>\n",
       "    <tr>\n",
       "      <th>8</th>\n",
       "      <td>FWNUI71</td>\n",
       "      <td>2.0</td>\n",
       "      <td>-0.122362</td>\n",
       "      <td>0.642634</td>\n",
       "    </tr>\n",
       "    <tr>\n",
       "      <th>9</th>\n",
       "      <td>LRX7BCH</td>\n",
       "      <td>0.0</td>\n",
       "      <td>0.112173</td>\n",
       "      <td>-78.604166</td>\n",
       "    </tr>\n",
       "  </tbody>\n",
       "</table>\n",
       "</div>"
      ],
      "text/plain": [
       "  customer_id  location_number    latitude  longitude\n",
       "0     ICE2DJP              0.0  -96.407538 -67.197291\n",
       "1     ICE2DJP              1.0    0.038654 -78.595477\n",
       "2     ICE2DJP              2.0  -95.106078  43.684151\n",
       "3     ICE2DJP              3.0  -96.407677  43.557974\n",
       "4     ICE2DJP              4.0  204.621247  44.091518\n",
       "5     ICE2DJP              5.0  205.006635  44.048238\n",
       "6     FWNUI71              0.0   -0.123325 -78.576334\n",
       "7     FWNUI71              1.0   -0.485723 -78.533506\n",
       "8     FWNUI71              2.0   -0.122362   0.642634\n",
       "9     LRX7BCH              0.0    0.112173 -78.604166"
      ]
     },
     "execution_count": 198,
     "metadata": {},
     "output_type": "execute_result"
    }
   ],
   "source": [
    "test_data.head(10)"
   ]
  },
  {
   "cell_type": "code",
   "execution_count": 199,
   "id": "c90174f4-0037-4762-8f82-1274778a9518",
   "metadata": {},
   "outputs": [
    {
     "data": {
      "text/plain": [
       "0"
      ]
     },
     "execution_count": 199,
     "metadata": {},
     "output_type": "execute_result"
    }
   ],
   "source": [
    "test_locations.duplicated(subset=['customer_id','latitude','longitude']).sum()\n"
   ]
  },
  {
   "cell_type": "code",
   "execution_count": 200,
   "id": "1bd0ff9a-12e7-480f-a301-e3726bd7d251",
   "metadata": {},
   "outputs": [],
   "source": [
    "# Remove duplicate locations (same customer_id + same coordinates)\n",
    "#test_locations_unique = test_locations.drop_duplicates(subset=['customer_id', 'latitude', 'longitude'])"
   ]
  },
  {
   "cell_type": "code",
   "execution_count": null,
   "id": "71a77a83-cdae-4a87-921f-e242d15736d5",
   "metadata": {},
   "outputs": [],
   "source": []
  },
  {
   "cell_type": "markdown",
   "id": "ba24d379-db76-4e09-8235-6f549bf561ec",
   "metadata": {},
   "source": [
    "# Modelling "
   ]
  },
  {
   "cell_type": "markdown",
   "id": "7e130928-8fa1-4b33-b875-dbd34540efb4",
   "metadata": {},
   "source": [
    "- To build a simple recommendation system that suggests the nearest vendors (restaurants) to customers based on their geographical coordinates (latitude and longitude)."
   ]
  },
  {
   "cell_type": "markdown",
   "id": "ce51b95d-6724-4979-ad62-a2436810e5ad",
   "metadata": {},
   "source": []
  },
  {
   "cell_type": "code",
   "execution_count": 201,
   "id": "72ddb4b7-cd60-4ba7-8d62-69acc0a70450",
   "metadata": {},
   "outputs": [],
   "source": [
    "# Drop rows where vendor coordinates are missing\n",
    "train_df = merged_df.dropna(subset=['latitude_vendor','longitude_vendor','vendor_id']).copy()"
   ]
  },
  {
   "cell_type": "markdown",
   "id": "5f67e816-1eb6-4d5c-90de-cf3c28fb8365",
   "metadata": {},
   "source": [
    "- We drop rows that have missing coordinates because distance cannot be calculated without them. "
   ]
  },
  {
   "cell_type": "code",
   "execution_count": 202,
   "id": "601c4775-cdde-43da-846a-02bd29aeafe3",
   "metadata": {},
   "outputs": [],
   "source": [
    "# Drop rows where customer coordinates are missing (better than filling 0)\n",
    "train_df = train_df.dropna(subset=['latitude','longitude'])"
   ]
  },
  {
   "cell_type": "markdown",
   "id": "68912ebb-b9b6-4c08-b1e7-1e1e71f40c94",
   "metadata": {},
   "source": [
    "- Radians are required to calculate distances using the Haversine formula. "
   ]
  },
  {
   "cell_type": "code",
   "execution_count": 203,
   "id": "fd7e7e9b-f6aa-4e8f-b591-049a840c4a31",
   "metadata": {},
   "outputs": [],
   "source": [
    "# Convert coordinates to radians for Haversine\n",
    "train_df['lat_cust_rad'] = np.radians(train_df['latitude'])\n",
    "train_df['lon_cust_rad'] = np.radians(train_df['longitude'])\n",
    "train_df['lat_ven_rad'] = np.radians(train_df['latitude_vendor'])\n",
    "train_df['lon_ven_rad'] = np.radians(train_df['longitude_vendor'])"
   ]
  },
  {
   "cell_type": "code",
   "execution_count": 204,
   "id": "3628c85b-c8d5-451e-be8a-1038fe113951",
   "metadata": {},
   "outputs": [],
   "source": [
    "# Target column for historical orders\n",
    "train_df['target'] = 0"
   ]
  },
  {
   "cell_type": "markdown",
   "id": "d6b5c78c-8d6e-4a43-9aa4-8b6ae64ab7e1",
   "metadata": {},
   "source": [
    "- This function calculates the distance between two points on the Earth’s surface. "
   ]
  },
  {
   "cell_type": "code",
   "execution_count": 205,
   "id": "7255de63-92a3-4049-97d8-3af651c30e20",
   "metadata": {},
   "outputs": [],
   "source": [
    "def haversine_vec(lat1, lon1, lat2, lon2):\n",
    "    \"\"\"\n",
    "    Vectorized haversine distance in km.\n",
    "    lat1, lon1: arrays of test points\n",
    "    lat2, lon2: arrays of vendor points\n",
    "    \"\"\"\n",
    "    R = 6371  # Earth radius in km\n",
    "    dlat = lat2 - lat1[:, None]   # broadcast lat1 over lat2\n",
    "    dlon = lon2 - lon1[:, None]\n",
    "    a = np.sin(dlat/2)**2 + np.cos(lat1[:, None])*np.cos(lat2)*np.sin(dlon/2)**2\n",
    "    c = 2 * np.arcsin(np.sqrt(a))\n",
    "    return R * c\n"
   ]
  },
  {
   "cell_type": "markdown",
   "id": "975a6574-730c-4f95-a55e-88c85386371b",
   "metadata": {},
   "source": [
    "**Predict Closest Vendor for Each Test Customer**"
   ]
  },
  {
   "cell_type": "code",
   "execution_count": 206,
   "id": "1c629e03-6242-4ab1-bdfa-6cf253e5085c",
   "metadata": {},
   "outputs": [],
   "source": [
    "test_lat_rad = np.radians(test_data['latitude'].values)\n",
    "test_lon_rad = np.radians(test_data['longitude'].values)\n",
    "\n",
    "vendor_lat_rad = train_df['lat_ven_rad'].values\n",
    "vendor_lon_rad = train_df['lon_ven_rad'].values"
   ]
  },
  {
   "cell_type": "code",
   "execution_count": 210,
   "id": "8e37d830-1bcb-4df8-99a9-7528d91c7814",
   "metadata": {},
   "outputs": [],
   "source": [
    "submission = []\n",
    "\n",
    "# Convert vendor coordinates to radians once\n",
    "vendor_lat_rad = np.radians(train_df['latitude_vendor'].values)\n",
    "vendor_lon_rad = np.radians(train_df['longitude_vendor'].values)\n",
    "\n",
    "R = 6371  # Earth radius in km\n",
    "\n",
    "def haversine_single(lat1, lon1, lat2_arr, lon2_arr):\n",
    "    \"\"\"\n",
    "    Compute distance from single point to all vendors.\n",
    "    \"\"\"\n",
    "    dlat = lat2_arr - lat1\n",
    "    dlon = lon2_arr - lon1\n",
    "    a = np.sin(dlat/2)**2 + np.cos(lat1) * np.cos(lat2_arr) * np.sin(dlon/2)**2\n",
    "    c = 2 * np.arcsin(np.sqrt(a))\n",
    "    return R * c\n",
    "\n",
    "# Iterate test customers one by one\n",
    "for idx, row in test_data.iterrows():\n",
    "    lat_cust = np.radians(row['latitude'])\n",
    "    lon_cust = np.radians(row['longitude'])\n",
    "    \n",
    "    distances = haversine_single(lat_cust, lon_cust, vendor_lat_rad, vendor_lon_rad)\n",
    "    \n",
    "    # Find closest vendor\n",
    "    top_idx = np.argmin(distances)\n",
    "    \n",
    "    submission.append({\n",
    "        'CID': row['customer_id'],\n",
    "        'LOC_NUM': int(train_df.iloc[top_idx]['location_number']),\n",
    "        'VENDOR': int(train_df.iloc[top_idx]['vendor_id']),\n",
    "        'target': 0\n",
    "    })\n",
    "\n",
    "submission_df = pd.DataFrame(submission)\n",
    "submission_df.to_csv('submission.csv', index=False)\n"
   ]
  },
  {
   "cell_type": "markdown",
   "id": "27c961a8-99ad-4d87-9201-228c20f7b723",
   "metadata": {},
   "source": [
    "\n",
    "**Generate Top-N Vendor Recommendations**"
   ]
  },
  {
   "cell_type": "code",
   "execution_count": 211,
   "id": "15bb10a3-13e2-49c5-80c5-347cef6d30a7",
   "metadata": {},
   "outputs": [],
   "source": [
    "import csv\n",
    "import numpy as np\n",
    "\n",
    "TOP_N = 5\n",
    "max_loc = int(test_data['location_number'].max())\n",
    "\n",
    "# Unique vendors only\n",
    "vendor_df = train_df[['vendor_id','latitude_vendor','longitude_vendor','location_number']].drop_duplicates('vendor_id')\n",
    "\n",
    "vendor_lat_rad = np.radians(vendor_df['latitude_vendor'].values)\n",
    "vendor_lon_rad = np.radians(vendor_df['longitude_vendor'].values)\n",
    "R = 6371\n",
    "\n",
    "def haversine_single(lat1, lon1, lat2_arr, lon2_arr):\n",
    "    dlat = lat2_arr - lat1\n",
    "    dlon = lon2_arr - lon1\n",
    "    a = np.sin(dlat/2)**2 + np.cos(lat1) * np.cos(lat2_arr) * np.sin(dlon/2)**2\n",
    "    c = 2 * np.arcsin(np.sqrt(a))\n",
    "    return R * c\n",
    "\n",
    "# Write CSV\n",
    "with open('submission_topN.csv', mode='w', newline='') as file:\n",
    "    writer = csv.DictWriter(file, fieldnames=['CID','LOC_NUM','VENDOR','target'])\n",
    "    writer.writeheader()\n",
    "\n",
    "    for idx, row in test_data.iterrows():\n",
    "        cust_id = row['customer_id']\n",
    "        lat_cust = np.radians(row['latitude'])\n",
    "        lon_cust = np.radians(row['longitude'])\n",
    "\n",
    "        # Distance to all unique vendors\n",
    "        distances = haversine_single(lat_cust, lon_cust, vendor_lat_rad, vendor_lon_rad)\n",
    "        top_indices = np.argsort(distances)[:TOP_N]\n",
    "\n",
    "        for loc_num in range(max_loc + 1):\n",
    "            for idx_vendor in top_indices:\n",
    "                writer.writerow({\n",
    "                    'CID': cust_id,\n",
    "                    'LOC_NUM': loc_num,\n",
    "                    'VENDOR': int(vendor_df.iloc[idx_vendor]['vendor_id']),\n",
    "                    'target': 0\n",
    "                })\n"
   ]
  },
  {
   "cell_type": "markdown",
   "id": "281feae7-2b71-4944-8610-62063237beb0",
   "metadata": {},
   "source": [
    "**Testing for One Customer**"
   ]
  },
  {
   "cell_type": "code",
   "execution_count": 212,
   "id": "546d51c4-3c55-46b9-b12c-ad7225e2f880",
   "metadata": {},
   "outputs": [
    {
     "name": "stdout",
     "output_type": "stream",
     "text": [
      "Customer ID: LRX7BCH\n",
      "Location 0:\n",
      "  Vendor: 82, Distance: 7.68 km\n",
      "  Vendor: 157, Distance: 7.78 km\n",
      "  Vendor: 310, Distance: 9.86 km\n",
      "  Vendor: 157, Distance: 9.93 km\n",
      "  Vendor: 265, Distance: 9.93 km\n",
      "Location 1:\n",
      "  Vendor: 82, Distance: 7.68 km\n",
      "  Vendor: 157, Distance: 7.78 km\n",
      "  Vendor: 310, Distance: 9.86 km\n",
      "  Vendor: 157, Distance: 9.93 km\n",
      "  Vendor: 265, Distance: 9.93 km\n",
      "Location 2:\n",
      "  Vendor: 82, Distance: 7.68 km\n",
      "  Vendor: 157, Distance: 7.78 km\n",
      "  Vendor: 310, Distance: 9.86 km\n",
      "  Vendor: 157, Distance: 9.93 km\n",
      "  Vendor: 265, Distance: 9.93 km\n",
      "Location 3:\n",
      "  Vendor: 82, Distance: 7.68 km\n",
      "  Vendor: 157, Distance: 7.78 km\n",
      "  Vendor: 310, Distance: 9.86 km\n",
      "  Vendor: 157, Distance: 9.93 km\n",
      "  Vendor: 265, Distance: 9.93 km\n",
      "Location 4:\n",
      "  Vendor: 82, Distance: 7.68 km\n",
      "  Vendor: 157, Distance: 7.78 km\n",
      "  Vendor: 310, Distance: 9.86 km\n",
      "  Vendor: 157, Distance: 9.93 km\n",
      "  Vendor: 265, Distance: 9.93 km\n",
      "Location 5:\n",
      "  Vendor: 82, Distance: 7.68 km\n",
      "  Vendor: 157, Distance: 7.78 km\n",
      "  Vendor: 310, Distance: 9.86 km\n",
      "  Vendor: 157, Distance: 9.93 km\n",
      "  Vendor: 265, Distance: 9.93 km\n",
      "Location 6:\n",
      "  Vendor: 82, Distance: 7.68 km\n",
      "  Vendor: 157, Distance: 7.78 km\n",
      "  Vendor: 310, Distance: 9.86 km\n",
      "  Vendor: 157, Distance: 9.93 km\n",
      "  Vendor: 265, Distance: 9.93 km\n",
      "Location 7:\n",
      "  Vendor: 82, Distance: 7.68 km\n",
      "  Vendor: 157, Distance: 7.78 km\n",
      "  Vendor: 310, Distance: 9.86 km\n",
      "  Vendor: 157, Distance: 9.93 km\n",
      "  Vendor: 265, Distance: 9.93 km\n",
      "Location 8:\n",
      "  Vendor: 82, Distance: 7.68 km\n",
      "  Vendor: 157, Distance: 7.78 km\n",
      "  Vendor: 310, Distance: 9.86 km\n",
      "  Vendor: 157, Distance: 9.93 km\n",
      "  Vendor: 265, Distance: 9.93 km\n",
      "Location 9:\n",
      "  Vendor: 82, Distance: 7.68 km\n",
      "  Vendor: 157, Distance: 7.78 km\n",
      "  Vendor: 310, Distance: 9.86 km\n",
      "  Vendor: 157, Distance: 9.93 km\n",
      "  Vendor: 265, Distance: 9.93 km\n",
      "Location 10:\n",
      "  Vendor: 82, Distance: 7.68 km\n",
      "  Vendor: 157, Distance: 7.78 km\n",
      "  Vendor: 310, Distance: 9.86 km\n",
      "  Vendor: 157, Distance: 9.93 km\n",
      "  Vendor: 265, Distance: 9.93 km\n",
      "Location 11:\n",
      "  Vendor: 82, Distance: 7.68 km\n",
      "  Vendor: 157, Distance: 7.78 km\n",
      "  Vendor: 310, Distance: 9.86 km\n",
      "  Vendor: 157, Distance: 9.93 km\n",
      "  Vendor: 265, Distance: 9.93 km\n"
     ]
    }
   ],
   "source": [
    "# Test for first customer\n",
    "row = test_data.iloc[10]  # first customer\n",
    "cust_id = row['customer_id']\n",
    "lat_cust = np.radians(row['latitude'])\n",
    "lon_cust = np.radians(row['longitude'])\n",
    "\n",
    "distances = haversine_single(lat_cust, lon_cust, vendor_lat_rad, vendor_lon_rad)\n",
    "top_indices = np.argsort(distances)[:TOP_N]\n",
    "\n",
    "print(f\"Customer ID: {cust_id}\")\n",
    "for loc_num in range(max_loc + 1):\n",
    "    print(f\"Location {loc_num}:\")\n",
    "    for idx_vendor in top_indices:\n",
    "        vendor_id = int(train_df.iloc[idx_vendor]['vendor_id'])\n",
    "        dist_km = distances[idx_vendor]\n",
    "        print(f\"  Vendor: {vendor_id}, Distance: {dist_km:.2f} km\")"
   ]
  },
  {
   "cell_type": "markdown",
   "id": "f660a7f4-09fb-44e0-b8d9-3a0d47d53838",
   "metadata": {},
   "source": [
    "- In our case, all those locations have the same or very close coordinates (latitude & longitude).\n",
    "- So the nearest 5 vendors for each location become the same vendors.\n",
    "- That’s why you are seeing same 5 vendors repeated for 12 locations of the same customer."
   ]
  },
  {
   "cell_type": "code",
   "execution_count": null,
   "id": "d64c8f30-25bf-4966-93fa-300ceb876ee6",
   "metadata": {},
   "outputs": [],
   "source": []
  },
  {
   "cell_type": "code",
   "execution_count": null,
   "id": "6d254a37-42da-4f92-b5e2-c39c55e1403c",
   "metadata": {},
   "outputs": [],
   "source": []
  },
  {
   "cell_type": "code",
   "execution_count": null,
   "id": "07b44b3f-6c0d-44df-8e1e-67241afdf778",
   "metadata": {},
   "outputs": [],
   "source": []
  }
 ],
 "metadata": {
  "kernelspec": {
   "display_name": "Python 3 (ipykernel)",
   "language": "python",
   "name": "python3"
  },
  "language_info": {
   "codemirror_mode": {
    "name": "ipython",
    "version": 3
   },
   "file_extension": ".py",
   "mimetype": "text/x-python",
   "name": "python",
   "nbconvert_exporter": "python",
   "pygments_lexer": "ipython3",
   "version": "3.11.7"
  }
 },
 "nbformat": 4,
 "nbformat_minor": 5
}
