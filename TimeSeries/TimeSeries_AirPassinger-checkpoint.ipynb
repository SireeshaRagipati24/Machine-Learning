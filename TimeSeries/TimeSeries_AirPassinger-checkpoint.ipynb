{
 "cells": [
  {
   "cell_type": "code",
   "execution_count": 3,
   "id": "366c7b6f-9bd6-414f-ad41-8eeec6274f65",
   "metadata": {},
   "outputs": [],
   "source": [
    "import numpy as np \n",
    "import pandas as pd\n",
    "import matplotlib.pyplot as plt \n",
    "import seaborn as sns \n",
    "\n",
    "import warnings \n",
    "warnings.filterwarnings(\"ignore\")"
   ]
  },
  {
   "cell_type": "code",
   "execution_count": 4,
   "id": "f9a743a0-4327-467b-ba81-e72ef02571f3",
   "metadata": {},
   "outputs": [],
   "source": [
    "df=pd.read_csv(\"AirPassengers.csv\")  # 12 years data "
   ]
  },
  {
   "cell_type": "code",
   "execution_count": 5,
   "id": "53a07ccd-61a6-44c9-8d6b-38ce8168cc1e",
   "metadata": {},
   "outputs": [
    {
     "data": {
      "text/html": [
       "<div>\n",
       "<style scoped>\n",
       "    .dataframe tbody tr th:only-of-type {\n",
       "        vertical-align: middle;\n",
       "    }\n",
       "\n",
       "    .dataframe tbody tr th {\n",
       "        vertical-align: top;\n",
       "    }\n",
       "\n",
       "    .dataframe thead th {\n",
       "        text-align: right;\n",
       "    }\n",
       "</style>\n",
       "<table border=\"1\" class=\"dataframe\">\n",
       "  <thead>\n",
       "    <tr style=\"text-align: right;\">\n",
       "      <th></th>\n",
       "      <th>Month</th>\n",
       "      <th>Passengers</th>\n",
       "    </tr>\n",
       "  </thead>\n",
       "  <tbody>\n",
       "    <tr>\n",
       "      <th>0</th>\n",
       "      <td>15-01-1949</td>\n",
       "      <td>112</td>\n",
       "    </tr>\n",
       "    <tr>\n",
       "      <th>1</th>\n",
       "      <td>15-02-1949</td>\n",
       "      <td>118</td>\n",
       "    </tr>\n",
       "    <tr>\n",
       "      <th>2</th>\n",
       "      <td>15-03-1949</td>\n",
       "      <td>132</td>\n",
       "    </tr>\n",
       "    <tr>\n",
       "      <th>3</th>\n",
       "      <td>15-04-1949</td>\n",
       "      <td>129</td>\n",
       "    </tr>\n",
       "    <tr>\n",
       "      <th>4</th>\n",
       "      <td>15-05-1949</td>\n",
       "      <td>121</td>\n",
       "    </tr>\n",
       "  </tbody>\n",
       "</table>\n",
       "</div>"
      ],
      "text/plain": [
       "        Month  Passengers\n",
       "0  15-01-1949         112\n",
       "1  15-02-1949         118\n",
       "2  15-03-1949         132\n",
       "3  15-04-1949         129\n",
       "4  15-05-1949         121"
      ]
     },
     "execution_count": 5,
     "metadata": {},
     "output_type": "execute_result"
    }
   ],
   "source": [
    "df.head()"
   ]
  },
  {
   "cell_type": "code",
   "execution_count": 6,
   "id": "1131b10f-908e-41a0-81d5-71d98da80f0c",
   "metadata": {},
   "outputs": [
    {
     "data": {
      "text/html": [
       "<div>\n",
       "<style scoped>\n",
       "    .dataframe tbody tr th:only-of-type {\n",
       "        vertical-align: middle;\n",
       "    }\n",
       "\n",
       "    .dataframe tbody tr th {\n",
       "        vertical-align: top;\n",
       "    }\n",
       "\n",
       "    .dataframe thead th {\n",
       "        text-align: right;\n",
       "    }\n",
       "</style>\n",
       "<table border=\"1\" class=\"dataframe\">\n",
       "  <thead>\n",
       "    <tr style=\"text-align: right;\">\n",
       "      <th></th>\n",
       "      <th>Month</th>\n",
       "      <th>Passengers</th>\n",
       "    </tr>\n",
       "  </thead>\n",
       "  <tbody>\n",
       "    <tr>\n",
       "      <th>139</th>\n",
       "      <td>15-08-1960</td>\n",
       "      <td>606</td>\n",
       "    </tr>\n",
       "    <tr>\n",
       "      <th>140</th>\n",
       "      <td>15-09-1960</td>\n",
       "      <td>508</td>\n",
       "    </tr>\n",
       "    <tr>\n",
       "      <th>141</th>\n",
       "      <td>15-10-1960</td>\n",
       "      <td>461</td>\n",
       "    </tr>\n",
       "    <tr>\n",
       "      <th>142</th>\n",
       "      <td>15-11-1960</td>\n",
       "      <td>390</td>\n",
       "    </tr>\n",
       "    <tr>\n",
       "      <th>143</th>\n",
       "      <td>15-12-1960</td>\n",
       "      <td>432</td>\n",
       "    </tr>\n",
       "  </tbody>\n",
       "</table>\n",
       "</div>"
      ],
      "text/plain": [
       "          Month  Passengers\n",
       "139  15-08-1960         606\n",
       "140  15-09-1960         508\n",
       "141  15-10-1960         461\n",
       "142  15-11-1960         390\n",
       "143  15-12-1960         432"
      ]
     },
     "execution_count": 6,
     "metadata": {},
     "output_type": "execute_result"
    }
   ],
   "source": [
    "df.tail()"
   ]
  },
  {
   "cell_type": "code",
   "execution_count": 7,
   "id": "a1d008fb-30f0-49ad-97b1-1521dbc0e467",
   "metadata": {},
   "outputs": [
    {
     "name": "stdout",
     "output_type": "stream",
     "text": [
      "<class 'pandas.core.frame.DataFrame'>\n",
      "RangeIndex: 144 entries, 0 to 143\n",
      "Data columns (total 2 columns):\n",
      " #   Column      Non-Null Count  Dtype \n",
      "---  ------      --------------  ----- \n",
      " 0   Month       144 non-null    object\n",
      " 1   Passengers  144 non-null    int64 \n",
      "dtypes: int64(1), object(1)\n",
      "memory usage: 2.4+ KB\n"
     ]
    }
   ],
   "source": [
    "df.info()"
   ]
  },
  {
   "cell_type": "code",
   "execution_count": 8,
   "id": "b1dc0ec7-5fe7-48c9-a810-606ad40169a7",
   "metadata": {},
   "outputs": [
    {
     "data": {
      "text/html": [
       "<div>\n",
       "<style scoped>\n",
       "    .dataframe tbody tr th:only-of-type {\n",
       "        vertical-align: middle;\n",
       "    }\n",
       "\n",
       "    .dataframe tbody tr th {\n",
       "        vertical-align: top;\n",
       "    }\n",
       "\n",
       "    .dataframe thead th {\n",
       "        text-align: right;\n",
       "    }\n",
       "</style>\n",
       "<table border=\"1\" class=\"dataframe\">\n",
       "  <thead>\n",
       "    <tr style=\"text-align: right;\">\n",
       "      <th></th>\n",
       "      <th>Passengers</th>\n",
       "    </tr>\n",
       "    <tr>\n",
       "      <th>Month</th>\n",
       "      <th></th>\n",
       "    </tr>\n",
       "  </thead>\n",
       "  <tbody>\n",
       "    <tr>\n",
       "      <th>15-01-1949</th>\n",
       "      <td>112</td>\n",
       "    </tr>\n",
       "    <tr>\n",
       "      <th>15-02-1949</th>\n",
       "      <td>118</td>\n",
       "    </tr>\n",
       "    <tr>\n",
       "      <th>15-03-1949</th>\n",
       "      <td>132</td>\n",
       "    </tr>\n",
       "    <tr>\n",
       "      <th>15-04-1949</th>\n",
       "      <td>129</td>\n",
       "    </tr>\n",
       "    <tr>\n",
       "      <th>15-05-1949</th>\n",
       "      <td>121</td>\n",
       "    </tr>\n",
       "  </tbody>\n",
       "</table>\n",
       "</div>"
      ],
      "text/plain": [
       "            Passengers\n",
       "Month                 \n",
       "15-01-1949         112\n",
       "15-02-1949         118\n",
       "15-03-1949         132\n",
       "15-04-1949         129\n",
       "15-05-1949         121"
      ]
     },
     "execution_count": 8,
     "metadata": {},
     "output_type": "execute_result"
    }
   ],
   "source": [
    "df=df.set_index(\"Month\")\n",
    "df.head()"
   ]
  },
  {
   "cell_type": "markdown",
   "id": "9de2a1f5-ee8e-4cb4-b109-129a5fd8b535",
   "metadata": {},
   "source": [
    "### Visualize the TimeSeries"
   ]
  },
  {
   "cell_type": "markdown",
   "id": "b604e00a-cdfd-4576-a734-6f834f2f064b",
   "metadata": {},
   "source": [
    "**check for trend , seasonality or random pattern**"
   ]
  },
  {
   "cell_type": "code",
   "execution_count": 9,
   "id": "f97d1b7b-5684-41d5-9e23-c14aae0675be",
   "metadata": {},
   "outputs": [
    {
     "data": {
      "image/png": "[encoded data removed]",
      "text/plain": [
       "<Figure size 640x480 with 1 Axes>"
      ]
     },
     "metadata": {},
     "output_type": "display_data"
    }
   ],
   "source": [
    "sns.lineplot(x=df.index,y=df['Passengers'])\n",
    "plt.show()"
   ]
  },
  {
   "cell_type": "markdown",
   "id": "b12d9ed6-65db-4b0a-a82d-d9fe89539a29",
   "metadata": {},
   "source": [
    "### check for stationality "
   ]
  },
  {
   "cell_type": "markdown",
   "id": "4ac416e8-2865-4d1f-a043-2ba9183bf728",
   "metadata": {},
   "source": [
    "**Method-1: Rolling Statistics**"
   ]
  },
  {
   "cell_type": "code",
   "execution_count": 10,
   "id": "9d92cdf2-9c7a-47a9-806e-cfa6be0c3109",
   "metadata": {},
   "outputs": [
    {
     "data": {
      "image/png": "[encoded data removed]",
      "text/plain": [
       "<Figure size 640x480 with 1 Axes>"
      ]
     },
     "metadata": {},
     "output_type": "display_data"
    }
   ],
   "source": [
    "# Determine rolling statistics \n",
    "rolmean=df[\"Passengers\"].rolling(window=12).mean()\n",
    "rolstd=df[\"Passengers\"].rolling(window=12).std()\n",
    "\n",
    "# plot rolling statistics \n",
    "orig=plt.plot(df[\"Passengers\"],color='blue',label='original')\n",
    "mean=plt.plot(rolmean,color='red',label='Rolling Mean')\n",
    "std=plt.plot(rolstd,color='black',label='Rolling Std')\n",
    "plt.title('Rolling Mean and Standard Deviation')\n",
    "plt.legend()\n",
    "plt.show()"
   ]
  },
  {
   "cell_type": "markdown",
   "id": "3dcefdce-71be-4914-be31-5719133c6898",
   "metadata": {},
   "source": [
    "**Method-2: Augumented Dicky Fuller Test**"
   ]
  },
  {
   "cell_type": "markdown",
   "id": "551a26f6-40db-438d-b2c0-1ee2eb3f7d22",
   "metadata": {},
   "source": [
    "- for the ADF Test\n",
    "  - H0 : data is non stationary \n",
    "  - H1 : data is stationary\n",
    "- Based om p-value , we will accept or reject H0 (if p-value < 5% ,reject null hypothesis)"
   ]
  },
  {
   "cell_type": "code",
   "execution_count": 11,
   "id": "2ff59460-68f0-4e5d-9ec4-04b2d6be7167",
   "metadata": {},
   "outputs": [
    {
     "data": {
      "text/plain": [
       "(0.8153688792060547,\n",
       " 0.9918802434376411,\n",
       " 13,\n",
       " 130,\n",
       " {'1%': -3.4816817173418295,\n",
       "  '5%': -2.8840418343195267,\n",
       "  '10%': -2.578770059171598},\n",
       " 996.692930839019)"
      ]
     },
     "execution_count": 11,
     "metadata": {},
     "output_type": "execute_result"
    }
   ],
   "source": [
    "from statsmodels.tsa.stattools import adfuller\n",
    "adfuller_result=adfuller(df[\"Passengers\"])\n",
    "adfuller_result"
   ]
  },
  {
   "cell_type": "code",
   "execution_count": 12,
   "id": "46e1e895-2f35-4b5f-aacd-53fe6da93ca6",
   "metadata": {},
   "outputs": [
    {
     "name": "stdout",
     "output_type": "stream",
     "text": [
      "p-value : 0.9918802434376411\n"
     ]
    }
   ],
   "source": [
    "print(\"p-value :\",adfuller_result[1])"
   ]
  },
  {
   "cell_type": "markdown",
   "id": "25be3ea7-f08d-4712-93be-b1531e2dffcf",
   "metadata": {},
   "source": [
    "**The time series is not stationary**"
   ]
  },
  {
   "cell_type": "markdown",
   "id": "5644fdee-4c24-4281-b0f1-7f2111c1cc0c",
   "metadata": {},
   "source": [
    "### Now Convert to Stationary "
   ]
  },
  {
   "cell_type": "markdown",
   "id": "35eea390-5f3e-410b-a59c-4daa7ae78be1",
   "metadata": {},
   "source": [
    "**Differencing**"
   ]
  },
  {
   "cell_type": "code",
   "execution_count": 13,
   "id": "38690720-5673-42a6-9e2e-612d569a6719",
   "metadata": {},
   "outputs": [
    {
     "name": "stdout",
     "output_type": "stream",
     "text": [
      "p-value od ADF test : 0.03862975767698775\n"
     ]
    }
   ],
   "source": [
    "diff=df[\"Passengers\"]-df[\"Passengers\"].shift(2)\n",
    "diff.dropna(inplace=True)\n",
    "\n",
    "# Applying ADF Test\n",
    "adfuller_result=adfuller(diff)\n",
    "print('p-value od ADF test :',adfuller_result[1])"
   ]
  },
  {
   "cell_type": "markdown",
   "id": "0f764b18-3f8a-4a01-a537-4c911d6628de",
   "metadata": {},
   "source": [
    "**Now the data is stationary**"
   ]
  },
  {
   "cell_type": "markdown",
   "id": "ea6a1d33-f9c9-4972-9742-85e07af704ca",
   "metadata": {},
   "source": [
    "### Plot ACF/PACF and find p,d,q parameters"
   ]
  },
  {
   "cell_type": "code",
   "execution_count": 14,
   "id": "6f82cb3a-e747-4a28-a0c9-d943bd7e7184",
   "metadata": {},
   "outputs": [
    {
     "data": {
      "image/png": "[encoded data removed]",
      "text/plain": [
       "<Figure size 640x480 with 1 Axes>"
      ]
     },
     "metadata": {},
     "output_type": "display_data"
    },
    {
     "data": {
      "image/png": "[encoded data removed]",
      "text/plain": [
       "<Figure size 640x480 with 1 Axes>"
      ]
     },
     "metadata": {},
     "output_type": "display_data"
    }
   ],
   "source": [
    "from statsmodels.tsa.stattools import acf,pacf\n",
    "import statsmodels.api as sm\n",
    "fig=sm.graphics.tsa.plot_acf(diff,lags=40)\n",
    "fig=sm.graphics.tsa.plot_pacf(diff,lags=40)"
   ]
  },
  {
   "cell_type": "markdown",
   "id": "c30b66c1-d4d1-407d-8601-5a03975999c3",
   "metadata": {},
   "source": [
    "**From ACF curve , optimal value of q in the ARIMA model must be 1**"
   ]
  },
  {
   "cell_type": "markdown",
   "id": "cb9fe261-45dd-4cb0-8fe2-de92779d6711",
   "metadata": {},
   "source": [
    "**From PACF curve , optimal value of p in the ARIMA model is 1**"
   ]
  },
  {
   "cell_type": "code",
   "execution_count": 15,
   "id": "f9f5bc84-1414-4c59-a30f-1f5945017e43",
   "metadata": {},
   "outputs": [
    {
     "data": {
      "text/plain": [
       "(144, 1)"
      ]
     },
     "execution_count": 15,
     "metadata": {},
     "output_type": "execute_result"
    }
   ],
   "source": [
    "df.shape"
   ]
  },
  {
   "cell_type": "markdown",
   "id": "31316b79-c741-461e-ad43-eae1e2753852",
   "metadata": {},
   "source": [
    "### Train Test Split"
   ]
  },
  {
   "cell_type": "markdown",
   "id": "b710577c-5b92-4bca-be3d-a0b9dda45bde",
   "metadata": {},
   "source": [
    "**split the data into train(80%) and test(20%)**"
   ]
  },
  {
   "cell_type": "markdown",
   "id": "a27ea226-338e-4e87-8475-9602c56b8070",
   "metadata": {},
   "source": [
    "- for the series data we have use first 80% of records for training and next 20% of records for testing \n",
    "- here 80% = 0.8*142 = 114 records , so first 114 records we have to use for training "
   ]
  },
  {
   "cell_type": "markdown",
   "id": "5035f9be-df4c-4878-89d7-cee8843b9017",
   "metadata": {},
   "source": [
    "**Note: We should not apply train test split function , because it divides the data randomly**"
   ]
  },
  {
   "cell_type": "code",
   "execution_count": 21,
   "id": "dc0d2dc0-1f7a-4c3e-9999-b0aa33672ba3",
   "metadata": {},
   "outputs": [],
   "source": [
    "y_train=diff[:114]\n",
    "y_test=diff[114:]"
   ]
  },
  {
   "cell_type": "markdown",
   "id": "b25b0e59-9442-44a9-a0eb-0aee4c057b93",
   "metadata": {},
   "source": [
    "### Build ARIMA Model"
   ]
  },
  {
   "cell_type": "markdown",
   "id": "a9a65712-80e1-4764-9f25-ef3c31d0b6c7",
   "metadata": {},
   "source": [
    "**ARIMA Model is build by using p,d,q values**"
   ]
  },
  {
   "cell_type": "markdown",
   "id": "aa2f01be-2867-4ca1-a314-b2d2bd22183f",
   "metadata": {},
   "source": [
    "- p is AR value (determine from PACF plot)\n",
    "- d is integration\n",
    "- q is MA value (determined from ACF plot)"
   ]
  },
  {
   "cell_type": "markdown",
   "id": "20badef7-f1e8-43de-a54a-8f1ad96bf2d8",
   "metadata": {},
   "source": [
    "**Modelling**"
   ]
  },
  {
   "cell_type": "code",
   "execution_count": 22,
   "id": "89f592d2-4e97-4b78-83dc-4220903b514e",
   "metadata": {},
   "outputs": [
    {
     "name": "stderr",
     "output_type": "stream",
     "text": [
      "C:\\Users\\siree\\anaconda3\\Lib\\site-packages\\statsmodels\\tsa\\base\\tsa_model.py:473: ValueWarning: A date index has been provided, but it has no associated frequency information and so will be ignored when e.g. forecasting.\n",
      "  self._init_dates(dates, freq)\n",
      "C:\\Users\\siree\\anaconda3\\Lib\\site-packages\\statsmodels\\tsa\\base\\tsa_model.py:473: ValueWarning: A date index has been provided, but it has no associated frequency information and so will be ignored when e.g. forecasting.\n",
      "  self._init_dates(dates, freq)\n",
      "C:\\Users\\siree\\anaconda3\\Lib\\site-packages\\statsmodels\\tsa\\base\\tsa_model.py:473: ValueWarning: A date index has been provided, but it has no associated frequency information and so will be ignored when e.g. forecasting.\n",
      "  self._init_dates(dates, freq)\n"
     ]
    }
   ],
   "source": [
    "from statsmodels.tsa.arima.model import ARIMA\n",
    "model=ARIMA(diff,order=(1,2,1))\n",
    "ARIMA=model.fit()"
   ]
  },
  {
   "cell_type": "code",
   "execution_count": 23,
   "id": "b2d49278-1cae-431f-8a2c-4762e69360a9",
   "metadata": {},
   "outputs": [
    {
     "name": "stdout",
     "output_type": "stream",
     "text": [
      "(28,)\n",
      "(114,)\n"
     ]
    }
   ],
   "source": [
    "print(y_test.shape)\n",
    "print(y_train.shape)\n"
   ]
  },
  {
   "cell_type": "markdown",
   "id": "0ceaca27-af6f-467f-a5c9-14fdb5f0dfa4",
   "metadata": {},
   "source": [
    "**Prediction**"
   ]
  },
  {
   "cell_type": "code",
   "execution_count": 24,
   "id": "b31cdd3e-c525-4bcb-b9c3-ceffff4ca90c",
   "metadata": {},
   "outputs": [],
   "source": [
    "ypred_test=ARIMA.predict(start=y_test.index[0],end=y_test.index[-1])\n",
    "ypred_train=ARIMA.predict(start=y_train.index[0],end=y_train.index[-1])\n"
   ]
  },
  {
   "cell_type": "markdown",
   "id": "b685dd09-803b-4c5e-98cf-b3d1b86bbe80",
   "metadata": {},
   "source": [
    "**Evaluation**"
   ]
  },
  {
   "cell_type": "code",
   "execution_count": 25,
   "id": "678b1946-a6e8-489a-8a43-1f26fa8222f6",
   "metadata": {},
   "outputs": [
    {
     "name": "stdout",
     "output_type": "stream",
     "text": [
      "Train r2 : 0.3402248545897033\n",
      "Test r2 : 0.4239665879089193\n"
     ]
    }
   ],
   "source": [
    "from sklearn.metrics import r2_score\n",
    "print(\"Train r2 :\",r2_score(ypred_train,y_train))\n",
    "print(\"Test r2 :\",r2_score(ypred_test,y_test))"
   ]
  },
  {
   "cell_type": "markdown",
   "id": "a4a90d6c-de15-474f-886e-d99310cae2a4",
   "metadata": {},
   "source": [
    "- **Here ARIMA Model is not performing well , because there is seasonality in the given dataset**"
   ]
  },
  {
   "cell_type": "markdown",
   "id": "4e61384c-b872-40a2-af46-afc91887370c",
   "metadata": {},
   "source": [
    "### SARIMA   Model "
   ]
  },
  {
   "cell_type": "markdown",
   "id": "ddc1a69a-6a10-4aa3-bef1-abc49f8c6d4b",
   "metadata": {},
   "source": [
    "**Whenever there is seasonality in given dataset , apply SARIMAX**"
   ]
  },
  {
   "cell_type": "markdown",
   "id": "22b0cd7b-3596-4afc-b40b-434f0978f089",
   "metadata": {},
   "source": [
    "**SARIMAX Model is build by using p,d,q,s values**"
   ]
  },
  {
   "cell_type": "markdown",
   "id": "d355f9f1-1bba-444f-a774-0601e637532f",
   "metadata": {},
   "source": [
    "- p is AR value (determine from PACF plot)\n",
    "- d is integration\n",
    "- q is MA value (determined from ACF plot)\n",
    "- s is seasonality value"
   ]
  },
  {
   "cell_type": "markdown",
   "id": "07c3688d-89db-4824-86c7-04844dfe52af",
   "metadata": {},
   "source": [
    "**Modelling**"
   ]
  },
  {
   "cell_type": "code",
   "execution_count": 26,
   "id": "0728783a-c2ad-4e27-9d35-9477bd341dfa",
   "metadata": {},
   "outputs": [
    {
     "name": "stderr",
     "output_type": "stream",
     "text": [
      "C:\\Users\\siree\\anaconda3\\Lib\\site-packages\\statsmodels\\tsa\\base\\tsa_model.py:473: ValueWarning: A date index has been provided, but it has no associated frequency information and so will be ignored when e.g. forecasting.\n",
      "  self._init_dates(dates, freq)\n",
      "C:\\Users\\siree\\anaconda3\\Lib\\site-packages\\statsmodels\\tsa\\base\\tsa_model.py:473: ValueWarning: A date index has been provided, but it has no associated frequency information and so will be ignored when e.g. forecasting.\n",
      "  self._init_dates(dates, freq)\n"
     ]
    }
   ],
   "source": [
    "from statsmodels.tsa.statespace.sarimax import SARIMAX\n",
    "model=SARIMAX(diff,seasonal_order=(1,2,1,12))\n",
    "SARIMAX=model.fit()"
   ]
  },
  {
   "cell_type": "markdown",
   "id": "ea1298ca-7006-4cf6-ab1b-eb3f0adb05ab",
   "metadata": {},
   "source": [
    "**Prediction**"
   ]
  },
  {
   "cell_type": "code",
   "execution_count": 27,
   "id": "c2f0b8bc-dc74-4fde-a281-29f85e49994c",
   "metadata": {},
   "outputs": [],
   "source": [
    "ypred_test=SARIMAX.predict(start=y_test.index[0],end=y_test.index[-1])\n",
    "ypred_train=SARIMAX.predict(start=y_train.index[0],end=y_train.index[-1])\n"
   ]
  },
  {
   "cell_type": "markdown",
   "id": "45a72187-35ec-4bbf-93ab-484fc4d04b3d",
   "metadata": {},
   "source": [
    "**Evaluation**"
   ]
  },
  {
   "cell_type": "code",
   "execution_count": 28,
   "id": "8ab9e0ad-0d0d-42f7-8fd1-5fc34d5fe255",
   "metadata": {},
   "outputs": [
    {
     "name": "stdout",
     "output_type": "stream",
     "text": [
      "Train r2 of Sarima model: 0.9053232875695264\n",
      "Test r2 of Sarima model: 0.9540348278628887\n"
     ]
    }
   ],
   "source": [
    "from sklearn.metrics import r2_score\n",
    "print(\"Train r2 of Sarima model:\",r2_score(ypred_train,y_train))\n",
    "print(\"Test r2 of Sarima model:\",r2_score(ypred_test,y_test))"
   ]
  },
  {
   "cell_type": "code",
   "execution_count": null,
   "id": "3cee92e1-b41a-47ec-973a-288f54045f7b",
   "metadata": {},
   "outputs": [],
   "source": []
  },
  {
   "cell_type": "code",
   "execution_count": null,
   "id": "375d5844-a513-41b7-9e4f-e8acc78cef8c",
   "metadata": {},
   "outputs": [],
   "source": []
  },
  {
   "cell_type": "code",
   "execution_count": null,
   "id": "c95aca7f-5a87-4148-a982-ed5ae1475b26",
   "metadata": {},
   "outputs": [],
   "source": []
  }
 ],
 "metadata": {
  "kernelspec": {
   "display_name": "Python 3 (ipykernel)",
   "language": "python",
   "name": "python3"
  },
  "language_info": {
   "codemirror_mode": {
    "name": "ipython",
    "version": 3
   },
   "file_extension": ".py",
   "mimetype": "text/x-python",
   "name": "python",
   "nbconvert_exporter": "python",
   "pygments_lexer": "ipython3",
   "version": "3.11.7"
  }
 },
 "nbformat": 4,
 "nbformat_minor": 5
}
