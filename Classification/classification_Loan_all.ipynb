{
 "cells": [
  {
   "cell_type": "markdown",
   "id": "c04c4442-1592-451f-a673-70fa192357b1",
   "metadata": {},
   "source": [
    "# Business Problem Understanding "
   ]
  },
  {
   "cell_type": "markdown",
   "id": "2f34b721-5df4-4ec1-96de-1561704f5952",
   "metadata": {},
   "source": [
    "Dream Housing Finance company deals in all kinds of home loans. They have presence across all urban,\n",
    "semi urban and rural areas. Customer first applies for home loan and after that company validates \n",
    "the customer eligibility for loan.\n",
    "\n",
    "Company wants to automate the loan eligibility process (real time) based on customer detail provided\n",
    "while filling online application form. These details are Gender, Marital Status, Education, Number of\n",
    "Dependents, Income, Loan Amount, Credit History and others. To automate this process, they have\n",
    "provided a dataset to identify the customers segments that are eligible for loan amount so that they \n",
    "can specifically target these customers."
   ]
  },
  {
   "cell_type": "code",
   "execution_count": 1,
   "id": "2c6519fa-9322-4dea-9939-9f1578ac3825",
   "metadata": {},
   "outputs": [],
   "source": [
    "import numpy as np\n",
    "import pandas as pd\n",
    "import matplotlib.pyplot as plt \n",
    "import seaborn as sns \n",
    "\n",
    "import warnings\n",
    "warnings.filterwarnings('ignore')"
   ]
  },
  {
   "cell_type": "code",
   "execution_count": 2,
   "id": "d84763e1-8872-48b7-825b-8148c2b98a12",
   "metadata": {},
   "outputs": [
    {
     "data": {
      "text/html": [
       "<div>\n",
       "<style scoped>\n",
       "    .dataframe tbody tr th:only-of-type {\n",
       "        vertical-align: middle;\n",
       "    }\n",
       "\n",
       "    .dataframe tbody tr th {\n",
       "        vertical-align: top;\n",
       "    }\n",
       "\n",
       "    .dataframe thead th {\n",
       "        text-align: right;\n",
       "    }\n",
       "</style>\n",
       "<table border=\"1\" class=\"dataframe\">\n",
       "  <thead>\n",
       "    <tr style=\"text-align: right;\">\n",
       "      <th></th>\n",
       "      <th>Loan_ID</th>\n",
       "      <th>Gender</th>\n",
       "      <th>Married</th>\n",
       "      <th>Dependents</th>\n",
       "      <th>Education</th>\n",
       "      <th>Self_Employed</th>\n",
       "      <th>ApplicantIncome</th>\n",
       "      <th>CoapplicantIncome</th>\n",
       "      <th>LoanAmount</th>\n",
       "      <th>Loan_Amount_Term</th>\n",
       "      <th>Credit_History</th>\n",
       "      <th>Property_Area</th>\n",
       "      <th>Loan_Status</th>\n",
       "    </tr>\n",
       "  </thead>\n",
       "  <tbody>\n",
       "    <tr>\n",
       "      <th>0</th>\n",
       "      <td>LP001002</td>\n",
       "      <td>Male</td>\n",
       "      <td>No</td>\n",
       "      <td>0</td>\n",
       "      <td>Graduate</td>\n",
       "      <td>No</td>\n",
       "      <td>5849</td>\n",
       "      <td>0.0</td>\n",
       "      <td>NaN</td>\n",
       "      <td>360.0</td>\n",
       "      <td>1.0</td>\n",
       "      <td>Urban</td>\n",
       "      <td>Y</td>\n",
       "    </tr>\n",
       "    <tr>\n",
       "      <th>1</th>\n",
       "      <td>LP001003</td>\n",
       "      <td>Male</td>\n",
       "      <td>Yes</td>\n",
       "      <td>1</td>\n",
       "      <td>Graduate</td>\n",
       "      <td>No</td>\n",
       "      <td>4583</td>\n",
       "      <td>1508.0</td>\n",
       "      <td>128.0</td>\n",
       "      <td>360.0</td>\n",
       "      <td>1.0</td>\n",
       "      <td>Rural</td>\n",
       "      <td>N</td>\n",
       "    </tr>\n",
       "    <tr>\n",
       "      <th>2</th>\n",
       "      <td>LP001005</td>\n",
       "      <td>Male</td>\n",
       "      <td>Yes</td>\n",
       "      <td>0</td>\n",
       "      <td>Graduate</td>\n",
       "      <td>Yes</td>\n",
       "      <td>3000</td>\n",
       "      <td>0.0</td>\n",
       "      <td>66.0</td>\n",
       "      <td>360.0</td>\n",
       "      <td>1.0</td>\n",
       "      <td>Urban</td>\n",
       "      <td>Y</td>\n",
       "    </tr>\n",
       "  </tbody>\n",
       "</table>\n",
       "</div>"
      ],
      "text/plain": [
       "    Loan_ID Gender Married Dependents Education Self_Employed  \\\n",
       "0  LP001002   Male      No          0  Graduate            No   \n",
       "1  LP001003   Male     Yes          1  Graduate            No   \n",
       "2  LP001005   Male     Yes          0  Graduate           Yes   \n",
       "\n",
       "   ApplicantIncome  CoapplicantIncome  LoanAmount  Loan_Amount_Term  \\\n",
       "0             5849                0.0         NaN             360.0   \n",
       "1             4583             1508.0       128.0             360.0   \n",
       "2             3000                0.0        66.0             360.0   \n",
       "\n",
       "   Credit_History Property_Area Loan_Status  \n",
       "0             1.0         Urban           Y  \n",
       "1             1.0         Rural           N  \n",
       "2             1.0         Urban           Y  "
      ]
     },
     "execution_count": 2,
     "metadata": {},
     "output_type": "execute_result"
    }
   ],
   "source": [
    "df=pd.read_csv(\"LoanData.csv\")\n",
    "df.head(3)"
   ]
  },
  {
   "cell_type": "code",
   "execution_count": 3,
   "id": "acbc614e-8132-4af1-ada0-6d3dcb00da50",
   "metadata": {},
   "outputs": [
    {
     "data": {
      "text/plain": [
       "Index(['Loan_ID', 'Gender', 'Married', 'Dependents', 'Education',\n",
       "       'Self_Employed', 'ApplicantIncome', 'CoapplicantIncome', 'LoanAmount',\n",
       "       'Loan_Amount_Term', 'Credit_History', 'Property_Area', 'Loan_Status'],\n",
       "      dtype='object')"
      ]
     },
     "execution_count": 3,
     "metadata": {},
     "output_type": "execute_result"
    }
   ],
   "source": [
    "df.columns"
   ]
  },
  {
   "cell_type": "markdown",
   "id": "114e1196-6cec-401f-bd24-d21116959789",
   "metadata": {},
   "source": [
    "# Data Understanding"
   ]
  },
  {
   "cell_type": "markdown",
   "id": "0a06f972-b3df-40ec-9549-d73214d551a9",
   "metadata": {},
   "source": [
    "- Loan_ID: Unique Loan ID\n",
    "- Gender: Male/Female\n",
    "- Married: Applicant married\n",
    "- Dependents: Number of dependents\n",
    "- Education: Applicant Education\n",
    "- Self_Employed whether the applicant is Self employed\n",
    "- Applicantincome: Applicant income\n",
    "- CoapplicantIncome: Coapplicant income\n",
    "- LoanAmount: Loan amount in thousands\n",
    "- Loan_Amount_Term: Term of loan in months\n",
    "- Credit_History: credit history meets guidelines\n",
    "- Property_Area: Urban/ Semi Urban/ Rural\n",
    "- Loan_Status: Loan approved target variable"
   ]
  },
  {
   "cell_type": "code",
   "execution_count": 4,
   "id": "79766564-796b-4f4f-b380-ee15c0c61e77",
   "metadata": {},
   "outputs": [
    {
     "name": "stdout",
     "output_type": "stream",
     "text": [
      "<class 'pandas.core.frame.DataFrame'>\n",
      "RangeIndex: 614 entries, 0 to 613\n",
      "Data columns (total 13 columns):\n",
      " #   Column             Non-Null Count  Dtype  \n",
      "---  ------             --------------  -----  \n",
      " 0   Loan_ID            614 non-null    object \n",
      " 1   Gender             601 non-null    object \n",
      " 2   Married            611 non-null    object \n",
      " 3   Dependents         599 non-null    object \n",
      " 4   Education          614 non-null    object \n",
      " 5   Self_Employed      582 non-null    object \n",
      " 6   ApplicantIncome    614 non-null    int64  \n",
      " 7   CoapplicantIncome  614 non-null    float64\n",
      " 8   LoanAmount         592 non-null    float64\n",
      " 9   Loan_Amount_Term   600 non-null    float64\n",
      " 10  Credit_History     564 non-null    float64\n",
      " 11  Property_Area      614 non-null    object \n",
      " 12  Loan_Status        614 non-null    object \n",
      "dtypes: float64(4), int64(1), object(8)\n",
      "memory usage: 62.5+ KB\n"
     ]
    }
   ],
   "source": [
    "df.info()"
   ]
  },
  {
   "cell_type": "code",
   "execution_count": 5,
   "id": "c2c90087-660e-4140-b622-643c7099ee3b",
   "metadata": {},
   "outputs": [
    {
     "data": {
      "text/plain": [
       "614"
      ]
     },
     "execution_count": 5,
     "metadata": {},
     "output_type": "execute_result"
    }
   ],
   "source": [
    "df[\"Loan_ID\"].nunique()"
   ]
  },
  {
   "cell_type": "markdown",
   "id": "fa0beccc-41e7-4f99-87cf-252a6c00aa36",
   "metadata": {},
   "source": [
    "##### **Drop unimportant columns as per feature selection ( Filter Method )**"
   ]
  },
  {
   "cell_type": "code",
   "execution_count": 6,
   "id": "4ee44100-2a5b-411e-9709-5483610ae1ef",
   "metadata": {},
   "outputs": [],
   "source": [
    "df.drop(\"Loan_ID\",axis=1,inplace=True)  # as all records are unique"
   ]
  },
  {
   "cell_type": "code",
   "execution_count": 7,
   "id": "75668944-9ffc-41b3-a771-c1af954583d6",
   "metadata": {},
   "outputs": [
    {
     "data": {
      "text/plain": [
       "array(['Male', 'Female', nan], dtype=object)"
      ]
     },
     "execution_count": 7,
     "metadata": {},
     "output_type": "execute_result"
    }
   ],
   "source": [
    "df[\"Gender\"].unique()"
   ]
  },
  {
   "cell_type": "code",
   "execution_count": 8,
   "id": "972dddc9-05e7-4360-bdf4-16daad0e26b4",
   "metadata": {},
   "outputs": [
    {
     "data": {
      "text/plain": [
       "Gender\n",
       "Male      489\n",
       "Female    112\n",
       "Name: count, dtype: int64"
      ]
     },
     "execution_count": 8,
     "metadata": {},
     "output_type": "execute_result"
    }
   ],
   "source": [
    "df[\"Gender\"].value_counts()"
   ]
  },
  {
   "cell_type": "code",
   "execution_count": 9,
   "id": "2fb35c7f-b475-48ba-8638-e37cd57a0add",
   "metadata": {},
   "outputs": [
    {
     "data": {
      "text/plain": [
       "array(['No', 'Yes', nan], dtype=object)"
      ]
     },
     "execution_count": 9,
     "metadata": {},
     "output_type": "execute_result"
    }
   ],
   "source": [
    "df[\"Married\"].unique()"
   ]
  },
  {
   "cell_type": "code",
   "execution_count": 10,
   "id": "453fc68e-40ab-4258-8dbf-645929f9caf6",
   "metadata": {},
   "outputs": [
    {
     "data": {
      "text/plain": [
       "Married\n",
       "Yes    398\n",
       "No     213\n",
       "Name: count, dtype: int64"
      ]
     },
     "execution_count": 10,
     "metadata": {},
     "output_type": "execute_result"
    }
   ],
   "source": [
    "df[\"Married\"].value_counts()"
   ]
  },
  {
   "cell_type": "code",
   "execution_count": 11,
   "id": "cf932891-f9db-4355-a700-481c801c79c1",
   "metadata": {},
   "outputs": [
    {
     "data": {
      "text/plain": [
       "array(['0', '1', '2', '3+', nan], dtype=object)"
      ]
     },
     "execution_count": 11,
     "metadata": {},
     "output_type": "execute_result"
    }
   ],
   "source": [
    "df[\"Dependents\"].unique()"
   ]
  },
  {
   "cell_type": "code",
   "execution_count": 12,
   "id": "9adaf8ac-bbb4-40d7-be55-baf55e31af4a",
   "metadata": {},
   "outputs": [
    {
     "data": {
      "text/plain": [
       "Dependents\n",
       "0     345\n",
       "1     102\n",
       "2     101\n",
       "3+     51\n",
       "Name: count, dtype: int64"
      ]
     },
     "execution_count": 12,
     "metadata": {},
     "output_type": "execute_result"
    }
   ],
   "source": [
    "df[\"Dependents\"].value_counts()"
   ]
  },
  {
   "cell_type": "code",
   "execution_count": 13,
   "id": "110f6569-d25f-4559-be62-2f2349b673cd",
   "metadata": {},
   "outputs": [
    {
     "data": {
      "text/plain": [
       "array(['Graduate', 'Not Graduate'], dtype=object)"
      ]
     },
     "execution_count": 13,
     "metadata": {},
     "output_type": "execute_result"
    }
   ],
   "source": [
    "df[\"Education\"].unique()"
   ]
  },
  {
   "cell_type": "code",
   "execution_count": 14,
   "id": "87132cda-fca6-42c8-bc1d-91a04d21a5b8",
   "metadata": {},
   "outputs": [
    {
     "data": {
      "text/plain": [
       "Education\n",
       "Graduate        480\n",
       "Not Graduate    134\n",
       "Name: count, dtype: int64"
      ]
     },
     "execution_count": 14,
     "metadata": {},
     "output_type": "execute_result"
    }
   ],
   "source": [
    "df[\"Education\"].value_counts()"
   ]
  },
  {
   "cell_type": "code",
   "execution_count": 15,
   "id": "0168db8a-af14-4bf3-a1fb-00f37dec03f2",
   "metadata": {},
   "outputs": [
    {
     "data": {
      "text/plain": [
       "array(['No', 'Yes', nan], dtype=object)"
      ]
     },
     "execution_count": 15,
     "metadata": {},
     "output_type": "execute_result"
    }
   ],
   "source": [
    "df[\"Self_Employed\"].unique()"
   ]
  },
  {
   "cell_type": "code",
   "execution_count": 16,
   "id": "4649cc33-c171-4361-aa56-09e1efff4b4a",
   "metadata": {},
   "outputs": [
    {
     "data": {
      "text/plain": [
       "Self_Employed\n",
       "No     500\n",
       "Yes     82\n",
       "Name: count, dtype: int64"
      ]
     },
     "execution_count": 16,
     "metadata": {},
     "output_type": "execute_result"
    }
   ],
   "source": [
    "df[\"Self_Employed\"].value_counts()"
   ]
  },
  {
   "cell_type": "markdown",
   "id": "7e88fddb-eeb5-48f7-bbd7-90134a431022",
   "metadata": {},
   "source": [
    "#### **Create new columns as per required**"
   ]
  },
  {
   "cell_type": "code",
   "execution_count": 17,
   "id": "b1c3966b-5294-467a-b3e1-210ea6862aca",
   "metadata": {},
   "outputs": [],
   "source": [
    "df[\"Total_income\"]=df['ApplicantIncome']+df[\"CoapplicantIncome\"]"
   ]
  },
  {
   "cell_type": "code",
   "execution_count": 18,
   "id": "21048a31-c71f-442f-9342-7c0a186e930d",
   "metadata": {},
   "outputs": [],
   "source": [
    "df.drop([\"ApplicantIncome\",\"CoapplicantIncome\"],axis=1,inplace=True)"
   ]
  },
  {
   "cell_type": "code",
   "execution_count": 19,
   "id": "809b5af5-c859-412c-9947-136e43a12487",
   "metadata": {},
   "outputs": [
    {
     "data": {
      "text/plain": [
       "count      614.000000\n",
       "mean      7024.705081\n",
       "std       6458.663872\n",
       "min       1442.000000\n",
       "25%       4166.000000\n",
       "50%       5416.500000\n",
       "75%       7521.750000\n",
       "max      81000.000000\n",
       "Name: Total_income, dtype: float64"
      ]
     },
     "execution_count": 19,
     "metadata": {},
     "output_type": "execute_result"
    }
   ],
   "source": [
    "df[\"Total_income\"].describe()"
   ]
  },
  {
   "cell_type": "code",
   "execution_count": 20,
   "id": "235fa805-3778-41ae-a7f9-cc9b970eb20c",
   "metadata": {},
   "outputs": [
    {
     "data": {
      "text/plain": [
       "array([360., 120., 240.,  nan, 180.,  60., 300., 480.,  36.,  84.,  12.])"
      ]
     },
     "execution_count": 20,
     "metadata": {},
     "output_type": "execute_result"
    }
   ],
   "source": [
    "df[\"Loan_Amount_Term\"].unique()"
   ]
  },
  {
   "cell_type": "code",
   "execution_count": 21,
   "id": "d246ff1c-e547-497f-82b8-26203671e786",
   "metadata": {},
   "outputs": [
    {
     "data": {
      "text/plain": [
       "Loan_Amount_Term\n",
       "360.0    512\n",
       "180.0     44\n",
       "480.0     15\n",
       "300.0     13\n",
       "240.0      4\n",
       "84.0       4\n",
       "120.0      3\n",
       "60.0       2\n",
       "36.0       2\n",
       "12.0       1\n",
       "Name: count, dtype: int64"
      ]
     },
     "execution_count": 21,
     "metadata": {},
     "output_type": "execute_result"
    }
   ],
   "source": [
    "df[\"Loan_Amount_Term\"].value_counts()"
   ]
  },
  {
   "cell_type": "code",
   "execution_count": 22,
   "id": "5fff85ce-3536-48a8-b825-e857a6e8cfb4",
   "metadata": {},
   "outputs": [
    {
     "data": {
      "text/plain": [
       "array([ 1.,  0., nan])"
      ]
     },
     "execution_count": 22,
     "metadata": {},
     "output_type": "execute_result"
    }
   ],
   "source": [
    "df[\"Credit_History\"].unique()"
   ]
  },
  {
   "cell_type": "code",
   "execution_count": 23,
   "id": "5c00ba90-0345-4dc8-a305-35744501ca85",
   "metadata": {},
   "outputs": [
    {
     "data": {
      "text/plain": [
       "array(['Urban', 'Rural', 'Semiurban'], dtype=object)"
      ]
     },
     "execution_count": 23,
     "metadata": {},
     "output_type": "execute_result"
    }
   ],
   "source": [
    "df[\"Property_Area\"].unique()"
   ]
  },
  {
   "cell_type": "code",
   "execution_count": 24,
   "id": "0fb4b7c3-4549-4f19-9fde-0f08dd477186",
   "metadata": {},
   "outputs": [
    {
     "data": {
      "text/plain": [
       "Property_Area\n",
       "Semiurban    233\n",
       "Urban        202\n",
       "Rural        179\n",
       "Name: count, dtype: int64"
      ]
     },
     "execution_count": 24,
     "metadata": {},
     "output_type": "execute_result"
    }
   ],
   "source": [
    "df[\"Property_Area\"].value_counts()"
   ]
  },
  {
   "cell_type": "code",
   "execution_count": 25,
   "id": "919d98f6-db4c-40e9-8d46-376c544305ce",
   "metadata": {},
   "outputs": [
    {
     "data": {
      "text/plain": [
       "array(['Y', 'N'], dtype=object)"
      ]
     },
     "execution_count": 25,
     "metadata": {},
     "output_type": "execute_result"
    }
   ],
   "source": [
    "df[\"Loan_Status\"].unique()"
   ]
  },
  {
   "cell_type": "code",
   "execution_count": 26,
   "id": "7b398bc1-5ef2-4006-a0ce-7b3678aa05aa",
   "metadata": {},
   "outputs": [
    {
     "data": {
      "text/plain": [
       "Loan_Status\n",
       "Y    422\n",
       "N    192\n",
       "Name: count, dtype: int64"
      ]
     },
     "execution_count": 26,
     "metadata": {},
     "output_type": "execute_result"
    }
   ],
   "source": [
    "df[\"Loan_Status\"].value_counts()"
   ]
  },
  {
   "cell_type": "code",
   "execution_count": 27,
   "id": "c50e3cac-262b-4f0e-b906-78109ede5433",
   "metadata": {},
   "outputs": [],
   "source": [
    "continuous=[\"Total_income\",\"LoanAmount\"]\n",
    "discrete_categorical=['Gender', 'Married', 'Education', 'Self_Employed', 'Loan_Amount_Term', 'Credit_History', 'Property_Area','Loan_Status']\n",
    "discrete_count=[\"Loan_Amount_Term\",\"Dependents\"]"
   ]
  },
  {
   "cell_type": "code",
   "execution_count": 28,
   "id": "a0f8ea53-c519-4e69-bda1-d7d712aef631",
   "metadata": {},
   "outputs": [
    {
     "data": {
      "text/plain": [
       "Gender               object\n",
       "Married              object\n",
       "Dependents           object\n",
       "Education            object\n",
       "Self_Employed        object\n",
       "LoanAmount          float64\n",
       "Loan_Amount_Term    float64\n",
       "Credit_History      float64\n",
       "Property_Area        object\n",
       "Loan_Status          object\n",
       "Total_income        float64\n",
       "dtype: object"
      ]
     },
     "execution_count": 28,
     "metadata": {},
     "output_type": "execute_result"
    }
   ],
   "source": [
    "df.dtypes"
   ]
  },
  {
   "cell_type": "markdown",
   "id": "ec6323ee-e645-4ed2-8759-d8d1c9d6f44f",
   "metadata": {},
   "source": [
    "# EDA"
   ]
  },
  {
   "cell_type": "markdown",
   "id": "623f8910-232c-4d31-8aac-5cec70698935",
   "metadata": {},
   "source": [
    "- for continuous variables"
   ]
  },
  {
   "cell_type": "code",
   "execution_count": 29,
   "id": "e0524d0a-b224-4e94-8eae-ad901f671a47",
   "metadata": {},
   "outputs": [
    {
     "data": {
      "text/html": [
       "<div>\n",
       "<style scoped>\n",
       "    .dataframe tbody tr th:only-of-type {\n",
       "        vertical-align: middle;\n",
       "    }\n",
       "\n",
       "    .dataframe tbody tr th {\n",
       "        vertical-align: top;\n",
       "    }\n",
       "\n",
       "    .dataframe thead th {\n",
       "        text-align: right;\n",
       "    }\n",
       "</style>\n",
       "<table border=\"1\" class=\"dataframe\">\n",
       "  <thead>\n",
       "    <tr style=\"text-align: right;\">\n",
       "      <th></th>\n",
       "      <th>Total_income</th>\n",
       "      <th>LoanAmount</th>\n",
       "    </tr>\n",
       "  </thead>\n",
       "  <tbody>\n",
       "    <tr>\n",
       "      <th>count</th>\n",
       "      <td>614.000000</td>\n",
       "      <td>592.000000</td>\n",
       "    </tr>\n",
       "    <tr>\n",
       "      <th>mean</th>\n",
       "      <td>7024.705081</td>\n",
       "      <td>146.412162</td>\n",
       "    </tr>\n",
       "    <tr>\n",
       "      <th>std</th>\n",
       "      <td>6458.663872</td>\n",
       "      <td>85.587325</td>\n",
       "    </tr>\n",
       "    <tr>\n",
       "      <th>min</th>\n",
       "      <td>1442.000000</td>\n",
       "      <td>9.000000</td>\n",
       "    </tr>\n",
       "    <tr>\n",
       "      <th>25%</th>\n",
       "      <td>4166.000000</td>\n",
       "      <td>100.000000</td>\n",
       "    </tr>\n",
       "    <tr>\n",
       "      <th>50%</th>\n",
       "      <td>5416.500000</td>\n",
       "      <td>128.000000</td>\n",
       "    </tr>\n",
       "    <tr>\n",
       "      <th>75%</th>\n",
       "      <td>7521.750000</td>\n",
       "      <td>168.000000</td>\n",
       "    </tr>\n",
       "    <tr>\n",
       "      <th>max</th>\n",
       "      <td>81000.000000</td>\n",
       "      <td>700.000000</td>\n",
       "    </tr>\n",
       "  </tbody>\n",
       "</table>\n",
       "</div>"
      ],
      "text/plain": [
       "       Total_income  LoanAmount\n",
       "count    614.000000  592.000000\n",
       "mean    7024.705081  146.412162\n",
       "std     6458.663872   85.587325\n",
       "min     1442.000000    9.000000\n",
       "25%     4166.000000  100.000000\n",
       "50%     5416.500000  128.000000\n",
       "75%     7521.750000  168.000000\n",
       "max    81000.000000  700.000000"
      ]
     },
     "execution_count": 29,
     "metadata": {},
     "output_type": "execute_result"
    }
   ],
   "source": [
    "df[continuous].describe()"
   ]
  },
  {
   "cell_type": "code",
   "execution_count": 30,
   "id": "a1ac9d41-a48a-4fcc-aaf0-896e66e8555e",
   "metadata": {},
   "outputs": [
    {
     "data": {
      "image/png": "[encoded data removed]",
      "text/plain": [
       "<Figure size 1800x800 with 2 Axes>"
      ]
     },
     "metadata": {},
     "output_type": "display_data"
    }
   ],
   "source": [
    "plt.rcParams['figure.figsize']=(18,8)\n",
    "\n",
    "plt.subplot(1,2,1)\n",
    "sns.histplot(df['Total_income'],kde=True)\n",
    "\n",
    "plt.subplot(1,2,2)\n",
    "sns.histplot(df['LoanAmount'],kde=True)\n",
    "\n",
    "plt.suptitle('Univariate Analysis on Numerical columns')\n",
    "plt.show()"
   ]
  },
  {
   "cell_type": "code",
   "execution_count": 31,
   "id": "d5b807b2-f075-415f-976d-98fab293b2f3",
   "metadata": {},
   "outputs": [
    {
     "data": {
      "text/plain": [
       "Total_income    5.633449\n",
       "LoanAmount      2.677552\n",
       "dtype: float64"
      ]
     },
     "execution_count": 31,
     "metadata": {},
     "output_type": "execute_result"
    }
   ],
   "source": [
    "df[continuous].skew()"
   ]
  },
  {
   "cell_type": "code",
   "execution_count": 32,
   "id": "9df27b00-6b6b-4178-819a-a34aa916bd25",
   "metadata": {},
   "outputs": [
    {
     "data": {
      "image/png": "[encoded data removed]",
      "text/plain": [
       "<Figure size 1800x800 with 2 Axes>"
      ]
     },
     "metadata": {},
     "output_type": "display_data"
    }
   ],
   "source": [
    "sns.heatmap(df[continuous].corr(),annot=True)\n",
    "plt.show()"
   ]
  },
  {
   "cell_type": "code",
   "execution_count": 33,
   "id": "907c7777-4dea-4aab-8c46-d4a575c14683",
   "metadata": {},
   "outputs": [
    {
     "data": {
      "image/png": "[encoded data removed]",
      "text/plain": [
       "<Figure size 500x500 with 6 Axes>"
      ]
     },
     "metadata": {},
     "output_type": "display_data"
    }
   ],
   "source": [
    "sns.pairplot(df[continuous])\n",
    "plt.show()"
   ]
  },
  {
   "cell_type": "markdown",
   "id": "54d642d5-92b2-48b7-a32d-5b21740ae2d5",
   "metadata": {},
   "source": [
    "**for discreate variable**"
   ]
  },
  {
   "cell_type": "code",
   "execution_count": 34,
   "id": "b21216b2-ce11-4bc2-9218-6978d9a7ad09",
   "metadata": {},
   "outputs": [
    {
     "data": {
      "text/html": [
       "<div>\n",
       "<style scoped>\n",
       "    .dataframe tbody tr th:only-of-type {\n",
       "        vertical-align: middle;\n",
       "    }\n",
       "\n",
       "    .dataframe tbody tr th {\n",
       "        vertical-align: top;\n",
       "    }\n",
       "\n",
       "    .dataframe thead th {\n",
       "        text-align: right;\n",
       "    }\n",
       "</style>\n",
       "<table border=\"1\" class=\"dataframe\">\n",
       "  <thead>\n",
       "    <tr style=\"text-align: right;\">\n",
       "      <th></th>\n",
       "      <th>Loan_Amount_Term</th>\n",
       "      <th>Credit_History</th>\n",
       "    </tr>\n",
       "  </thead>\n",
       "  <tbody>\n",
       "    <tr>\n",
       "      <th>count</th>\n",
       "      <td>600.00000</td>\n",
       "      <td>564.000000</td>\n",
       "    </tr>\n",
       "    <tr>\n",
       "      <th>mean</th>\n",
       "      <td>342.00000</td>\n",
       "      <td>0.842199</td>\n",
       "    </tr>\n",
       "    <tr>\n",
       "      <th>std</th>\n",
       "      <td>65.12041</td>\n",
       "      <td>0.364878</td>\n",
       "    </tr>\n",
       "    <tr>\n",
       "      <th>min</th>\n",
       "      <td>12.00000</td>\n",
       "      <td>0.000000</td>\n",
       "    </tr>\n",
       "    <tr>\n",
       "      <th>25%</th>\n",
       "      <td>360.00000</td>\n",
       "      <td>1.000000</td>\n",
       "    </tr>\n",
       "    <tr>\n",
       "      <th>50%</th>\n",
       "      <td>360.00000</td>\n",
       "      <td>1.000000</td>\n",
       "    </tr>\n",
       "    <tr>\n",
       "      <th>75%</th>\n",
       "      <td>360.00000</td>\n",
       "      <td>1.000000</td>\n",
       "    </tr>\n",
       "    <tr>\n",
       "      <th>max</th>\n",
       "      <td>480.00000</td>\n",
       "      <td>1.000000</td>\n",
       "    </tr>\n",
       "  </tbody>\n",
       "</table>\n",
       "</div>"
      ],
      "text/plain": [
       "       Loan_Amount_Term  Credit_History\n",
       "count         600.00000      564.000000\n",
       "mean          342.00000        0.842199\n",
       "std            65.12041        0.364878\n",
       "min            12.00000        0.000000\n",
       "25%           360.00000        1.000000\n",
       "50%           360.00000        1.000000\n",
       "75%           360.00000        1.000000\n",
       "max           480.00000        1.000000"
      ]
     },
     "execution_count": 34,
     "metadata": {},
     "output_type": "execute_result"
    }
   ],
   "source": [
    "df[discrete_categorical].describe()"
   ]
  },
  {
   "cell_type": "code",
   "execution_count": 35,
   "id": "f691b232-fa21-4e5f-a00e-d9e2403a9dd7",
   "metadata": {},
   "outputs": [
    {
     "data": {
      "image/png": "[encoded data removed]",
      "text/plain": [
       "<Figure size 1800x800 with 6 Axes>"
      ]
     },
     "metadata": {},
     "output_type": "display_data"
    }
   ],
   "source": [
    "plt.rcParams['figure.figsize']=(18,8)\n",
    "\n",
    "plt.subplot(2,3,1)\n",
    "sns.countplot(df['Gender'])\n",
    "\n",
    "plt.subplot(2,3,2)\n",
    "sns.countplot(df['Married'])\n",
    "\n",
    "plt.subplot(2,3,3)\n",
    "sns.countplot(df['Self_Employed'])\n",
    "\n",
    "plt.subplot(2,3,4)\n",
    "sns.countplot(df['Property_Area'])\n",
    "\n",
    "plt.subplot(2,3,5)\n",
    "sns.countplot(df['Education'])\n",
    "\n",
    "plt.subplot(2,3,6)\n",
    "sns.countplot(df['Loan_Status'])\n",
    "\n",
    "plt.suptitle('Univariate Analysis on Categorical columns')\n",
    "plt.show()"
   ]
  },
  {
   "cell_type": "code",
   "execution_count": 36,
   "id": "8359fb0c-3be7-47fe-939f-8bd5fbeee789",
   "metadata": {},
   "outputs": [
    {
     "name": "stdout",
     "output_type": "stream",
     "text": [
      "Impact of Marriage on Loan Status\n",
      "Married       No  Yes\n",
      "Loan_Status          \n",
      "N             79  113\n",
      "Y            134  285\n",
      "\n",
      "\n",
      "Impact of Dependents on Loan Status\n",
      "Dependents     0   1   2  3+\n",
      "Loan_Status                 \n",
      "N            107  36  25  18\n",
      "Y            238  66  76  33\n",
      "\n",
      "\n",
      "Impact of Education on Loan Status\n",
      "Education    Graduate  Not Graduate\n",
      "Loan_Status                        \n",
      "N                 140            52\n",
      "Y                 340            82\n",
      "\n",
      "\n",
      "Impact of employment on Loan Status\n",
      "Self_Employed   No  Yes\n",
      "Loan_Status            \n",
      "N              157   26\n",
      "Y              343   56\n",
      "\n",
      "\n",
      "Impact of Credit_History on Loan Status\n",
      "Credit_History  0.0  1.0\n",
      "Loan_Status             \n",
      "N                82   97\n",
      "Y                 7  378\n",
      "\n",
      "\n"
     ]
    }
   ],
   "source": [
    "# Lets compare all categories with respect to the loan status to understand the overall distribution and trends.\n",
    "\n",
    "print(\"Impact of Marriage on Loan Status\")\n",
    "print(pd.crosstab(df['Loan_Status'],df[\"Married\"]))\n",
    "print(\"\\n\")\n",
    "\n",
    "print(\"Impact of Dependents on Loan Status\")\n",
    "print(pd.crosstab(df['Loan_Status'],df[\"Dependents\"]))\n",
    "print(\"\\n\")\n",
    "\n",
    "print(\"Impact of Education on Loan Status\")\n",
    "print(pd.crosstab(df['Loan_Status'],df[\"Education\"]))\n",
    "print(\"\\n\")\n",
    "\n",
    "print(\"Impact of employment on Loan Status\")\n",
    "print(pd.crosstab(df['Loan_Status'],df[\"Self_Employed\"]))\n",
    "print(\"\\n\")\n",
    "\n",
    "print(\"Impact of Credit_History on Loan Status\")\n",
    "print(pd.crosstab(df['Loan_Status'],df[\"Credit_History\"]))\n",
    "print(\"\\n\")\n"
   ]
  },
  {
   "cell_type": "markdown",
   "id": "bd5675ff-a8cd-4504-b2c8-ac4fb043e92e",
   "metadata": {},
   "source": [
    "**check for missing values**"
   ]
  },
  {
   "cell_type": "code",
   "execution_count": 37,
   "id": "1d196105-ccea-4439-8dd4-a5e83be8a509",
   "metadata": {},
   "outputs": [
    {
     "data": {
      "text/plain": [
       "Gender              13\n",
       "Married              3\n",
       "Dependents          15\n",
       "Education            0\n",
       "Self_Employed       32\n",
       "LoanAmount          22\n",
       "Loan_Amount_Term    14\n",
       "Credit_History      50\n",
       "Property_Area        0\n",
       "Loan_Status          0\n",
       "Total_income         0\n",
       "dtype: int64"
      ]
     },
     "execution_count": 37,
     "metadata": {},
     "output_type": "execute_result"
    }
   ],
   "source": [
    "df.isnull().sum()"
   ]
  },
  {
   "cell_type": "markdown",
   "id": "6861210b-fa32-4e8f-8f6e-13545c3beb70",
   "metadata": {},
   "source": [
    "**check for skewness**"
   ]
  },
  {
   "cell_type": "code",
   "execution_count": 38,
   "id": "1266cb68-f3c1-46c2-b3d5-b88ad286b550",
   "metadata": {},
   "outputs": [
    {
     "data": {
      "text/plain": [
       "Total_income    5.633449\n",
       "LoanAmount      2.677552\n",
       "dtype: float64"
      ]
     },
     "execution_count": 38,
     "metadata": {},
     "output_type": "execute_result"
    }
   ],
   "source": [
    "df[continuous].skew()"
   ]
  },
  {
   "cell_type": "markdown",
   "id": "2db4547d-ee5e-4136-9da4-56f02f4ed990",
   "metadata": {},
   "source": [
    "**check for outliers** "
   ]
  },
  {
   "cell_type": "code",
   "execution_count": 39,
   "id": "c8a3152e-b1c5-418d-bf66-3a7b335c53fb",
   "metadata": {},
   "outputs": [
    {
     "data": {
      "image/png": "[encoded data removed]",
      "text/plain": [
       "<Figure size 1800x800 with 2 Axes>"
      ]
     },
     "metadata": {},
     "output_type": "display_data"
    }
   ],
   "source": [
    "plt.subplot(1,2,1)\n",
    "sns.boxplot(df['Total_income'])\n",
    "\n",
    "plt.subplot(1,2,2)\n",
    "sns.boxplot(df['LoanAmount'])\n",
    "\n",
    "plt.suptitle('outliers in the data')\n",
    "plt.show()"
   ]
  },
  {
   "cell_type": "markdown",
   "id": "3d944322-9ac4-4e0c-bc5b-72bbb6557d23",
   "metadata": {},
   "source": [
    "## Data Preparation"
   ]
  },
  {
   "cell_type": "markdown",
   "id": "5b9801cd-3d63-4956-b8ce-559e31adf588",
   "metadata": {},
   "source": [
    "1.Cleaning data \n",
    "* Wrong data\n",
    "* Missing values\n",
    "* Wrong data types\n",
    "* Duplicates\n",
    "* Outliers"
   ]
  },
  {
   "cell_type": "markdown",
   "id": "32570fec-4932-4a8d-887a-ab2853dcf15f",
   "metadata": {},
   "source": [
    "2.Data Wrangling\n",
    "* Transformtion ( Applicable on continuous)\n",
    "* Scaling (Applicable on Continuous)\n",
    "* Encoding (Applicable on Discrete Categorical)"
   ]
  },
  {
   "cell_type": "markdown",
   "id": "99e597d0-865e-47d4-9a5f-72da2c373159",
   "metadata": {},
   "source": [
    "#### **Don't apply Data Wrangling technique on Count Variable**"
   ]
  },
  {
   "cell_type": "markdown",
   "id": "4c2ef44a-1256-4a22-885a-03fdcb1810ef",
   "metadata": {},
   "source": [
    "**wrong data treatment**"
   ]
  },
  {
   "cell_type": "code",
   "execution_count": 40,
   "id": "3c04898f-8c84-453d-ad49-252bbcf1b24c",
   "metadata": {},
   "outputs": [],
   "source": [
    "df[\"Dependents\"]=df[\"Dependents\"].replace({\"3+\":3},inplace=True)"
   ]
  },
  {
   "cell_type": "markdown",
   "id": "08a08440-21f1-478f-8212-1d5d281f2f53",
   "metadata": {},
   "source": [
    "**missing values treatment**"
   ]
  },
  {
   "cell_type": "code",
   "execution_count": 41,
   "id": "fabd0900-3719-47f8-8bd8-f7caf38c4290",
   "metadata": {},
   "outputs": [],
   "source": [
    "df[\"Dependents\"]=df[\"Dependents\"].fillna(0)\n",
    "df[\"Gender\"]=df[\"Gender\"].fillna(df[\"Gender\"].mode()[0])\n",
    "df[\"Married\"]=df[\"Married\"].fillna(df[\"Married\"].mode()[0])\n",
    "df[\"Self_Employed\"]=df[\"Self_Employed\"].fillna(df[\"Self_Employed\"].mode()[0])\n",
    "df=df.dropna(subset=[\"Total_income\",\"LoanAmount\",\"Loan_Amount_Term\",\"Credit_History\"])  # as we can't simply replace with other values ( these are impotamnt columnns )"
   ]
  },
  {
   "cell_type": "markdown",
   "id": "d0deb36c-daaf-4715-a896-6980de323ee6",
   "metadata": {},
   "source": [
    "**data type convertion**"
   ]
  },
  {
   "cell_type": "code",
   "execution_count": 42,
   "id": "bf3c4a51-e54e-442e-9cf8-f0c583f18cd2",
   "metadata": {},
   "outputs": [],
   "source": [
    "df[\"Dependents\"]=df[\"Dependents\"].astype('int')\n",
    "df[\"Loan_Amount_Term\"]=df[\"Loan_Amount_Term\"].astype('int')"
   ]
  },
  {
   "cell_type": "markdown",
   "id": "3a8ffd7a-f97b-4613-b44f-40e647f364c6",
   "metadata": {},
   "source": [
    "**outliers treatment**"
   ]
  },
  {
   "cell_type": "markdown",
   "id": "580317ac-ff5d-410e-a238-378ded4e6756",
   "metadata": {},
   "source": [
    "- outliers should be retrained ( because really some people will have high income)"
   ]
  },
  {
   "cell_type": "markdown",
   "id": "d7314e89-1143-4ce7-b2ce-86e4d7ac9964",
   "metadata": {},
   "source": [
    "**Encoding**"
   ]
  },
  {
   "cell_type": "code",
   "execution_count": 43,
   "id": "8adc02c6-a960-4872-b576-22d74e80816e",
   "metadata": {},
   "outputs": [],
   "source": [
    "df[\"Gender\"]=df[\"Gender\"].replace({\"Female\":0,\"Male\":1})\n",
    "df[\"Married\"]=df[\"Married\"].replace({\"Yes\":1,\"No\":0})\n",
    "df[\"Education\"]=df[\"Education\"].replace({\"Graduate\":1,\"Not Graduate\":0})\n",
    "df[\"Self_Employed\"]=df[\"Self_Employed\"].replace({\"No\":0,\"Yes\":1})\n",
    "df[\"Property_Area\"]=df[\"Property_Area\"].replace({\"Rural\":0,\"Semiurban\":1,\"Urban\":2})\n",
    "df[\"Loan_Status\"]=df[\"Loan_Status\"].replace({\"N\":0,\"Y\":1})"
   ]
  },
  {
   "cell_type": "markdown",
   "id": "6945d8ae-d726-4eb1-af0c-91276baea6fa",
   "metadata": {},
   "source": [
    "**Transformations**"
   ]
  },
  {
   "cell_type": "code",
   "execution_count": 44,
   "id": "95db3e08-83cb-464a-9b36-85ec701b5a64",
   "metadata": {},
   "outputs": [],
   "source": [
    "from scipy.stats import boxcox\n",
    "df[\"Total_income\"],a=boxcox(df[\"Total_income\"])\n",
    "df[\"LoanAmount\"],a=boxcox(df[\"LoanAmount\"])"
   ]
  },
  {
   "cell_type": "markdown",
   "id": "d80bf088-fc96-44d3-abe8-0d49f687f6f4",
   "metadata": {},
   "source": [
    "**x & y**"
   ]
  },
  {
   "cell_type": "code",
   "execution_count": 45,
   "id": "8b4217dd-d291-40b1-a3a7-c832e4f75286",
   "metadata": {},
   "outputs": [],
   "source": [
    "x=df.drop(\"Loan_Status\",axis=1)\n",
    "y=df[\"Loan_Status\"]"
   ]
  },
  {
   "cell_type": "markdown",
   "id": "ad745f0b-9c4b-4ec7-9e7c-2c7724d4f2f2",
   "metadata": {},
   "source": [
    "**Train test split**"
   ]
  },
  {
   "cell_type": "code",
   "execution_count": 46,
   "id": "b6d08546-aa51-4f21-b582-cbb0ffa1d6d1",
   "metadata": {},
   "outputs": [],
   "source": [
    "from sklearn.model_selection import train_test_split\n",
    "x_train,x_test,y_train,y_test=train_test_split(x,y,test_size=0.2,random_state=7)"
   ]
  },
  {
   "cell_type": "markdown",
   "id": "53b2e9ad-4ad4-46dd-9e2b-743d0298824b",
   "metadata": {},
   "source": [
    "# Logistic Regression"
   ]
  },
  {
   "cell_type": "code",
   "execution_count": 47,
   "id": "b53fa9d6-a545-441a-9168-fb1e4b820b68",
   "metadata": {},
   "outputs": [],
   "source": [
    "import warnings\n",
    "warnings.filterwarnings(\"ignore\")"
   ]
  },
  {
   "cell_type": "code",
   "execution_count": 48,
   "id": "fa9f7e87-0153-45ba-81db-721c599c02a6",
   "metadata": {},
   "outputs": [
    {
     "name": "stdout",
     "output_type": "stream",
     "text": [
      "Train accuracy : 0.8085106382978723\n",
      "cv : 0.8060504201680672\n",
      "Test accuracy : 0.839622641509434\n"
     ]
    }
   ],
   "source": [
    "from sklearn.linear_model import LogisticRegression\n",
    "log_model=LogisticRegression()\n",
    "log_model.fit(x_train,y_train)\n",
    "\n",
    "from sklearn.model_selection import cross_val_score\n",
    "from sklearn.metrics import accuracy_score\n",
    "ypred_train=log_model.predict(x_train)   # Default threshold value 0.5\n",
    "print(\"Train accuracy :\",accuracy_score(y_train,ypred_train))\n",
    "print(\"cv :\",cross_val_score(log_model,x_train,y_train,cv=5,scoring=\"accuracy\").mean())\n",
    "ypred_test=log_model.predict(x_test)\n",
    "print(\"Test accuracy :\",accuracy_score(y_test,ypred_test))"
   ]
  },
  {
   "cell_type": "code",
   "execution_count": 49,
   "id": "6f323e5d-23a1-44a4-b1b4-5f57727d03d4",
   "metadata": {},
   "outputs": [
    {
     "data": {
      "text/plain": [
       "array([[14, 16],\n",
       "       [ 1, 75]], dtype=int64)"
      ]
     },
     "execution_count": 49,
     "metadata": {},
     "output_type": "execute_result"
    }
   ],
   "source": [
    "from sklearn.metrics import confusion_matrix\n",
    "confusion_matrix(y_test, ypred_test)"
   ]
  },
  {
   "cell_type": "code",
   "execution_count": 50,
   "id": "270b74e1-4c66-4cf2-996f-e3b2f2e67d93",
   "metadata": {},
   "outputs": [
    {
     "name": "stdout",
     "output_type": "stream",
     "text": [
      "              precision    recall  f1-score   support\n",
      "\n",
      "           0       0.93      0.47      0.62        30\n",
      "           1       0.82      0.99      0.90        76\n",
      "\n",
      "    accuracy                           0.84       106\n",
      "   macro avg       0.88      0.73      0.76       106\n",
      "weighted avg       0.86      0.84      0.82       106\n",
      "\n"
     ]
    }
   ],
   "source": [
    "from sklearn.metrics import classification_report \n",
    "print(classification_report(y_test,ypred_test))"
   ]
  },
  {
   "cell_type": "code",
   "execution_count": 51,
   "id": "7a29b974-6c62-4581-ac68-3d121a809d5d",
   "metadata": {},
   "outputs": [
    {
     "data": {
      "image/png": "[encoded data removed]",
      "text/plain": [
       "<Figure size 1800x800 with 1 Axes>"
      ]
     },
     "metadata": {},
     "output_type": "display_data"
    }
   ],
   "source": [
    "from sklearn.metrics import roc_curve,auc,RocCurveDisplay\n",
    "\n",
    "fpr,tpr,thresholds = roc_curve(y_test,ypred_test)\n",
    "roc_auc = auc(fpr,tpr)\n",
    "RocCurveDisplay(fpr=fpr,tpr=tpr,roc_auc=roc_auc).plot()\n",
    "plt.show()"
   ]
  },
  {
   "cell_type": "code",
   "execution_count": 52,
   "id": "c49b247f-32e2-44cb-b1b4-43d90ad95c54",
   "metadata": {},
   "outputs": [
    {
     "name": "stdout",
     "output_type": "stream",
     "text": [
      "0.7267543859649123\n"
     ]
    }
   ],
   "source": [
    "from sklearn.metrics import roc_auc_score \n",
    "print(roc_auc_score(y_test,ypred_test))"
   ]
  },
  {
   "cell_type": "markdown",
   "id": "064e3224-c58a-4564-be3b-8ade232eba70",
   "metadata": {},
   "source": [
    "# knn"
   ]
  },
  {
   "cell_type": "code",
   "execution_count": 53,
   "id": "2e2eb0db-92e9-4531-ba93-a1f0045bc95c",
   "metadata": {},
   "outputs": [
    {
     "data": {
      "text/html": [
       "<style>#sk-container-id-1 {color: black;background-color: white;}#sk-container-id-1 pre{padding: 0;}#sk-container-id-1 div.sk-toggleable {background-color: white;}#sk-container-id-1 label.sk-toggleable__label {cursor: pointer;display: block;width: 100%;margin-bottom: 0;padding: 0.3em;box-sizing: border-box;text-align: center;}#sk-container-id-1 label.sk-toggleable__label-arrow:before {content: \"▸\";float: left;margin-right: 0.25em;color: #696969;}#sk-container-id-1 label.sk-toggleable__label-arrow:hover:before {color: black;}#sk-container-id-1 div.sk-estimator:hover label.sk-toggleable__label-arrow:before {color: black;}#sk-container-id-1 div.sk-toggleable__content {max-height: 0;max-width: 0;overflow: hidden;text-align: left;background-color: #f0f8ff;}#sk-container-id-1 div.sk-toggleable__content pre {margin: 0.2em;color: black;border-radius: 0.25em;background-color: #f0f8ff;}#sk-container-id-1 input.sk-toggleable__control:checked~div.sk-toggleable__content {max-height: 200px;max-width: 100%;overflow: auto;}#sk-container-id-1 input.sk-toggleable__control:checked~label.sk-toggleable__label-arrow:before {content: \"▾\";}#sk-container-id-1 div.sk-estimator input.sk-toggleable__control:checked~label.sk-toggleable__label {background-color: #d4ebff;}#sk-container-id-1 div.sk-label input.sk-toggleable__control:checked~label.sk-toggleable__label {background-color: #d4ebff;}#sk-container-id-1 input.sk-hidden--visually {border: 0;clip: rect(1px 1px 1px 1px);clip: rect(1px, 1px, 1px, 1px);height: 1px;margin: -1px;overflow: hidden;padding: 0;position: absolute;width: 1px;}#sk-container-id-1 div.sk-estimator {font-family: monospace;background-color: #f0f8ff;border: 1px dotted black;border-radius: 0.25em;box-sizing: border-box;margin-bottom: 0.5em;}#sk-container-id-1 div.sk-estimator:hover {background-color: #d4ebff;}#sk-container-id-1 div.sk-parallel-item::after {content: \"\";width: 100%;border-bottom: 1px solid gray;flex-grow: 1;}#sk-container-id-1 div.sk-label:hover label.sk-toggleable__label {background-color: #d4ebff;}#sk-container-id-1 div.sk-serial::before {content: \"\";position: absolute;border-left: 1px solid gray;box-sizing: border-box;top: 0;bottom: 0;left: 50%;z-index: 0;}#sk-container-id-1 div.sk-serial {display: flex;flex-direction: column;align-items: center;background-color: white;padding-right: 0.2em;padding-left: 0.2em;position: relative;}#sk-container-id-1 div.sk-item {position: relative;z-index: 1;}#sk-container-id-1 div.sk-parallel {display: flex;align-items: stretch;justify-content: center;background-color: white;position: relative;}#sk-container-id-1 div.sk-item::before, #sk-container-id-1 div.sk-parallel-item::before {content: \"\";position: absolute;border-left: 1px solid gray;box-sizing: border-box;top: 0;bottom: 0;left: 50%;z-index: -1;}#sk-container-id-1 div.sk-parallel-item {display: flex;flex-direction: column;z-index: 1;position: relative;background-color: white;}#sk-container-id-1 div.sk-parallel-item:first-child::after {align-self: flex-end;width: 50%;}#sk-container-id-1 div.sk-parallel-item:last-child::after {align-self: flex-start;width: 50%;}#sk-container-id-1 div.sk-parallel-item:only-child::after {width: 0;}#sk-container-id-1 div.sk-dashed-wrapped {border: 1px dashed gray;margin: 0 0.4em 0.5em 0.4em;box-sizing: border-box;padding-bottom: 0.4em;background-color: white;}#sk-container-id-1 div.sk-label label {font-family: monospace;font-weight: bold;display: inline-block;line-height: 1.2em;}#sk-container-id-1 div.sk-label-container {text-align: center;}#sk-container-id-1 div.sk-container {/* jupyter's `normalize.less` sets `[hidden] { display: none; }` but bootstrap.min.css set `[hidden] { display: none !important; }` so we also need the `!important` here to be able to override the default hidden behavior on the sphinx rendered scikit-learn.org. See: https://github.com/scikit-learn/scikit-learn/issues/21755 */display: inline-block !important;position: relative;}#sk-container-id-1 div.sk-text-repr-fallback {display: none;}</style><div id=\"sk-container-id-1\" class=\"sk-top-container\"><div class=\"sk-text-repr-fallback\"><pre>KNeighborsClassifier(n_neighbors=7, p=1)</pre><b>In a Jupyter environment, please rerun this cell to show the HTML representation or trust the notebook. <br />On GitHub, the HTML representation is unable to render, please try loading this page with nbviewer.org.</b></div><div class=\"sk-container\" hidden><div class=\"sk-item\"><div class=\"sk-estimator sk-toggleable\"><input class=\"sk-toggleable__control sk-hidden--visually\" id=\"sk-estimator-id-1\" type=\"checkbox\" checked><label for=\"sk-estimator-id-1\" class=\"sk-toggleable__label sk-toggleable__label-arrow\">KNeighborsClassifier</label><div class=\"sk-toggleable__content\"><pre>KNeighborsClassifier(n_neighbors=7, p=1)</pre></div></div></div></div></div>"
      ],
      "text/plain": [
       "KNeighborsClassifier(n_neighbors=7, p=1)"
      ]
     },
     "execution_count": 53,
     "metadata": {},
     "output_type": "execute_result"
    }
   ],
   "source": [
    "# Hyperparameter Tuning\n",
    "\n",
    "from sklearn.neighbors import KNeighborsClassifier\n",
    "from sklearn.model_selection import GridSearchCV\n",
    "estimator=KNeighborsClassifier()\n",
    "param_grid={'n_neighbors':list(range(1,10)),'p':[1,2]}\n",
    "knn_hp=GridSearchCV(estimator,param_grid,cv=5,scoring=\"accuracy\")\n",
    "knn_hp.fit(x_train,y_train)\n",
    "knn_hp.best_estimator_"
   ]
  },
  {
   "cell_type": "code",
   "execution_count": 54,
   "id": "bbbd9c62-63f0-45d3-a30f-c228ac77ed0a",
   "metadata": {},
   "outputs": [
    {
     "name": "stdout",
     "output_type": "stream",
     "text": [
      "Train accuracy : 0.8085106382978723\n",
      "cv : 0.7682633053221288\n",
      "Test accuracy : 0.7358490566037735\n"
     ]
    }
   ],
   "source": [
    "knn_model=knn_hp.best_estimator_\n",
    "knn_model.fit(x_train,y_train)\n",
    "\n",
    "ypred=knn_model.predict(x_train)\n",
    "print(\"Train accuracy :\",accuracy_score(y_train,ypred_train))\n",
    "\n",
    "print(\"cv :\",cross_val_score(knn_model,x_train,y_train,cv=5,scoring=\"accuracy\").mean())\n",
    "\n",
    "ypred_test=knn_model.predict(x_test)\n",
    "print(\"Test accuracy :\",accuracy_score(y_test,ypred_test))"
   ]
  },
  {
   "cell_type": "markdown",
   "id": "85949e55-bfaf-4c29-9288-914860000f99",
   "metadata": {},
   "source": [
    "# svm"
   ]
  },
  {
   "cell_type": "code",
   "execution_count": 55,
   "id": "6d4fbd77-cc6f-4482-9e01-44e107fae498",
   "metadata": {},
   "outputs": [
    {
     "data": {
      "text/html": [
       "<style>#sk-container-id-2 {color: black;background-color: white;}#sk-container-id-2 pre{padding: 0;}#sk-container-id-2 div.sk-toggleable {background-color: white;}#sk-container-id-2 label.sk-toggleable__label {cursor: pointer;display: block;width: 100%;margin-bottom: 0;padding: 0.3em;box-sizing: border-box;text-align: center;}#sk-container-id-2 label.sk-toggleable__label-arrow:before {content: \"▸\";float: left;margin-right: 0.25em;color: #696969;}#sk-container-id-2 label.sk-toggleable__label-arrow:hover:before {color: black;}#sk-container-id-2 div.sk-estimator:hover label.sk-toggleable__label-arrow:before {color: black;}#sk-container-id-2 div.sk-toggleable__content {max-height: 0;max-width: 0;overflow: hidden;text-align: left;background-color: #f0f8ff;}#sk-container-id-2 div.sk-toggleable__content pre {margin: 0.2em;color: black;border-radius: 0.25em;background-color: #f0f8ff;}#sk-container-id-2 input.sk-toggleable__control:checked~div.sk-toggleable__content {max-height: 200px;max-width: 100%;overflow: auto;}#sk-container-id-2 input.sk-toggleable__control:checked~label.sk-toggleable__label-arrow:before {content: \"▾\";}#sk-container-id-2 div.sk-estimator input.sk-toggleable__control:checked~label.sk-toggleable__label {background-color: #d4ebff;}#sk-container-id-2 div.sk-label input.sk-toggleable__control:checked~label.sk-toggleable__label {background-color: #d4ebff;}#sk-container-id-2 input.sk-hidden--visually {border: 0;clip: rect(1px 1px 1px 1px);clip: rect(1px, 1px, 1px, 1px);height: 1px;margin: -1px;overflow: hidden;padding: 0;position: absolute;width: 1px;}#sk-container-id-2 div.sk-estimator {font-family: monospace;background-color: #f0f8ff;border: 1px dotted black;border-radius: 0.25em;box-sizing: border-box;margin-bottom: 0.5em;}#sk-container-id-2 div.sk-estimator:hover {background-color: #d4ebff;}#sk-container-id-2 div.sk-parallel-item::after {content: \"\";width: 100%;border-bottom: 1px solid gray;flex-grow: 1;}#sk-container-id-2 div.sk-label:hover label.sk-toggleable__label {background-color: #d4ebff;}#sk-container-id-2 div.sk-serial::before {content: \"\";position: absolute;border-left: 1px solid gray;box-sizing: border-box;top: 0;bottom: 0;left: 50%;z-index: 0;}#sk-container-id-2 div.sk-serial {display: flex;flex-direction: column;align-items: center;background-color: white;padding-right: 0.2em;padding-left: 0.2em;position: relative;}#sk-container-id-2 div.sk-item {position: relative;z-index: 1;}#sk-container-id-2 div.sk-parallel {display: flex;align-items: stretch;justify-content: center;background-color: white;position: relative;}#sk-container-id-2 div.sk-item::before, #sk-container-id-2 div.sk-parallel-item::before {content: \"\";position: absolute;border-left: 1px solid gray;box-sizing: border-box;top: 0;bottom: 0;left: 50%;z-index: -1;}#sk-container-id-2 div.sk-parallel-item {display: flex;flex-direction: column;z-index: 1;position: relative;background-color: white;}#sk-container-id-2 div.sk-parallel-item:first-child::after {align-self: flex-end;width: 50%;}#sk-container-id-2 div.sk-parallel-item:last-child::after {align-self: flex-start;width: 50%;}#sk-container-id-2 div.sk-parallel-item:only-child::after {width: 0;}#sk-container-id-2 div.sk-dashed-wrapped {border: 1px dashed gray;margin: 0 0.4em 0.5em 0.4em;box-sizing: border-box;padding-bottom: 0.4em;background-color: white;}#sk-container-id-2 div.sk-label label {font-family: monospace;font-weight: bold;display: inline-block;line-height: 1.2em;}#sk-container-id-2 div.sk-label-container {text-align: center;}#sk-container-id-2 div.sk-container {/* jupyter's `normalize.less` sets `[hidden] { display: none; }` but bootstrap.min.css set `[hidden] { display: none !important; }` so we also need the `!important` here to be able to override the default hidden behavior on the sphinx rendered scikit-learn.org. See: https://github.com/scikit-learn/scikit-learn/issues/21755 */display: inline-block !important;position: relative;}#sk-container-id-2 div.sk-text-repr-fallback {display: none;}</style><div id=\"sk-container-id-2\" class=\"sk-top-container\"><div class=\"sk-text-repr-fallback\"><pre>SVC(C=0.1, kernel=&#x27;linear&#x27;)</pre><b>In a Jupyter environment, please rerun this cell to show the HTML representation or trust the notebook. <br />On GitHub, the HTML representation is unable to render, please try loading this page with nbviewer.org.</b></div><div class=\"sk-container\" hidden><div class=\"sk-item\"><div class=\"sk-estimator sk-toggleable\"><input class=\"sk-toggleable__control sk-hidden--visually\" id=\"sk-estimator-id-2\" type=\"checkbox\" checked><label for=\"sk-estimator-id-2\" class=\"sk-toggleable__label sk-toggleable__label-arrow\">SVC</label><div class=\"sk-toggleable__content\"><pre>SVC(C=0.1, kernel=&#x27;linear&#x27;)</pre></div></div></div></div></div>"
      ],
      "text/plain": [
       "SVC(C=0.1, kernel='linear')"
      ]
     },
     "execution_count": 55,
     "metadata": {},
     "output_type": "execute_result"
    }
   ],
   "source": [
    "from sklearn.svm import SVC\n",
    "estimator=SVC()\n",
    "param_grid={'C':[0.001,0.01,0.1,1,10],'kernel':[\"linear\",\"sigmoid\",\"poly\",\"rbf\"]}\n",
    "svm_hp=GridSearchCV(estimator,param_grid,cv=5,scoring=\"accuracy\")\n",
    "svm_hp.fit(x_train,y_train)\n",
    "svm_hp.best_estimator_"
   ]
  },
  {
   "cell_type": "code",
   "execution_count": 56,
   "id": "56249b68-1b00-4143-b63a-8dd164b9fbf9",
   "metadata": {},
   "outputs": [
    {
     "name": "stdout",
     "output_type": "stream",
     "text": [
      "Train accuracy : 0.8085106382978723\n",
      "cv : 0.8084313725490195\n",
      "Test accuracy : 0.839622641509434\n"
     ]
    }
   ],
   "source": [
    "svm_model=svm_hp.best_estimator_\n",
    "svm_model.fit(x_train,y_train)\n",
    "\n",
    "ypred=svm_model.predict(x_train)\n",
    "print(\"Train accuracy :\",accuracy_score(y_train,ypred_train))\n",
    "print(\"cv :\",cross_val_score(svm_model,x_train,y_train,cv=5,scoring=\"accuracy\").mean())\n",
    "ypred_test=svm_model.predict(x_test)\n",
    "print(\"Test accuracy :\",accuracy_score(y_test,ypred_test))"
   ]
  },
  {
   "cell_type": "markdown",
   "id": "55b9b384-7d69-44bb-b6d4-c0b6635167db",
   "metadata": {},
   "source": [
    "# Decision Tree"
   ]
  },
  {
   "cell_type": "markdown",
   "id": "a7374fa1-5810-484b-bd0e-b58be4b5b5c8",
   "metadata": {},
   "source": [
    "- Identify important features by using feature selection (ensembel method)"
   ]
  },
  {
   "cell_type": "markdown",
   "id": "b0dfd78c-dd06-45e0-ba44-440002e966e6",
   "metadata": {},
   "source": [
    "- **first create default DT model (fully grown without any pruning)** so that we can understand the max_depth"
   ]
  },
  {
   "cell_type": "code",
   "execution_count": 57,
   "id": "0bad6aea-0e28-4c7c-aae2-b4f08d4146dc",
   "metadata": {},
   "outputs": [
    {
     "data": {
      "text/html": [
       "<style>#sk-container-id-3 {color: black;background-color: white;}#sk-container-id-3 pre{padding: 0;}#sk-container-id-3 div.sk-toggleable {background-color: white;}#sk-container-id-3 label.sk-toggleable__label {cursor: pointer;display: block;width: 100%;margin-bottom: 0;padding: 0.3em;box-sizing: border-box;text-align: center;}#sk-container-id-3 label.sk-toggleable__label-arrow:before {content: \"▸\";float: left;margin-right: 0.25em;color: #696969;}#sk-container-id-3 label.sk-toggleable__label-arrow:hover:before {color: black;}#sk-container-id-3 div.sk-estimator:hover label.sk-toggleable__label-arrow:before {color: black;}#sk-container-id-3 div.sk-toggleable__content {max-height: 0;max-width: 0;overflow: hidden;text-align: left;background-color: #f0f8ff;}#sk-container-id-3 div.sk-toggleable__content pre {margin: 0.2em;color: black;border-radius: 0.25em;background-color: #f0f8ff;}#sk-container-id-3 input.sk-toggleable__control:checked~div.sk-toggleable__content {max-height: 200px;max-width: 100%;overflow: auto;}#sk-container-id-3 input.sk-toggleable__control:checked~label.sk-toggleable__label-arrow:before {content: \"▾\";}#sk-container-id-3 div.sk-estimator input.sk-toggleable__control:checked~label.sk-toggleable__label {background-color: #d4ebff;}#sk-container-id-3 div.sk-label input.sk-toggleable__control:checked~label.sk-toggleable__label {background-color: #d4ebff;}#sk-container-id-3 input.sk-hidden--visually {border: 0;clip: rect(1px 1px 1px 1px);clip: rect(1px, 1px, 1px, 1px);height: 1px;margin: -1px;overflow: hidden;padding: 0;position: absolute;width: 1px;}#sk-container-id-3 div.sk-estimator {font-family: monospace;background-color: #f0f8ff;border: 1px dotted black;border-radius: 0.25em;box-sizing: border-box;margin-bottom: 0.5em;}#sk-container-id-3 div.sk-estimator:hover {background-color: #d4ebff;}#sk-container-id-3 div.sk-parallel-item::after {content: \"\";width: 100%;border-bottom: 1px solid gray;flex-grow: 1;}#sk-container-id-3 div.sk-label:hover label.sk-toggleable__label {background-color: #d4ebff;}#sk-container-id-3 div.sk-serial::before {content: \"\";position: absolute;border-left: 1px solid gray;box-sizing: border-box;top: 0;bottom: 0;left: 50%;z-index: 0;}#sk-container-id-3 div.sk-serial {display: flex;flex-direction: column;align-items: center;background-color: white;padding-right: 0.2em;padding-left: 0.2em;position: relative;}#sk-container-id-3 div.sk-item {position: relative;z-index: 1;}#sk-container-id-3 div.sk-parallel {display: flex;align-items: stretch;justify-content: center;background-color: white;position: relative;}#sk-container-id-3 div.sk-item::before, #sk-container-id-3 div.sk-parallel-item::before {content: \"\";position: absolute;border-left: 1px solid gray;box-sizing: border-box;top: 0;bottom: 0;left: 50%;z-index: -1;}#sk-container-id-3 div.sk-parallel-item {display: flex;flex-direction: column;z-index: 1;position: relative;background-color: white;}#sk-container-id-3 div.sk-parallel-item:first-child::after {align-self: flex-end;width: 50%;}#sk-container-id-3 div.sk-parallel-item:last-child::after {align-self: flex-start;width: 50%;}#sk-container-id-3 div.sk-parallel-item:only-child::after {width: 0;}#sk-container-id-3 div.sk-dashed-wrapped {border: 1px dashed gray;margin: 0 0.4em 0.5em 0.4em;box-sizing: border-box;padding-bottom: 0.4em;background-color: white;}#sk-container-id-3 div.sk-label label {font-family: monospace;font-weight: bold;display: inline-block;line-height: 1.2em;}#sk-container-id-3 div.sk-label-container {text-align: center;}#sk-container-id-3 div.sk-container {/* jupyter's `normalize.less` sets `[hidden] { display: none; }` but bootstrap.min.css set `[hidden] { display: none !important; }` so we also need the `!important` here to be able to override the default hidden behavior on the sphinx rendered scikit-learn.org. See: https://github.com/scikit-learn/scikit-learn/issues/21755 */display: inline-block !important;position: relative;}#sk-container-id-3 div.sk-text-repr-fallback {display: none;}</style><div id=\"sk-container-id-3\" class=\"sk-top-container\"><div class=\"sk-text-repr-fallback\"><pre>DecisionTreeClassifier(random_state=42)</pre><b>In a Jupyter environment, please rerun this cell to show the HTML representation or trust the notebook. <br />On GitHub, the HTML representation is unable to render, please try loading this page with nbviewer.org.</b></div><div class=\"sk-container\" hidden><div class=\"sk-item\"><div class=\"sk-estimator sk-toggleable\"><input class=\"sk-toggleable__control sk-hidden--visually\" id=\"sk-estimator-id-3\" type=\"checkbox\" checked><label for=\"sk-estimator-id-3\" class=\"sk-toggleable__label sk-toggleable__label-arrow\">DecisionTreeClassifier</label><div class=\"sk-toggleable__content\"><pre>DecisionTreeClassifier(random_state=42)</pre></div></div></div></div></div>"
      ],
      "text/plain": [
       "DecisionTreeClassifier(random_state=42)"
      ]
     },
     "execution_count": 57,
     "metadata": {},
     "output_type": "execute_result"
    }
   ],
   "source": [
    "from sklearn.tree import DecisionTreeClassifier\n",
    "model=DecisionTreeClassifier(random_state=42)\n",
    "model.fit(x_train,y_train)"
   ]
  },
  {
   "cell_type": "code",
   "execution_count": 58,
   "id": "2a9c572a-0e13-49b3-8ca2-dcc03be3dbbd",
   "metadata": {},
   "outputs": [
    {
     "data": {
      "image/png": "[encoded data removed]",
      "text/plain": [
       "<Figure size 1000x1000 with 1 Axes>"
      ]
     },
     "metadata": {},
     "output_type": "display_data"
    }
   ],
   "source": [
    "from sklearn.tree import plot_tree\n",
    "plt.figure(figsize=(10,10),dpi=100)\n",
    "plot_tree(model,filled=True,feature_names=x_train.columns.tolist(),class_names=[\"0\",\"1\"])\n",
    "plt.show()"
   ]
  },
  {
   "cell_type": "code",
   "execution_count": 59,
   "id": "b0191755-7a0b-4c5e-a68f-1e849171b781",
   "metadata": {},
   "outputs": [],
   "source": [
    "estimator=DecisionTreeClassifier(random_state=True)\n",
    "param_grid={\"criterion\":[\"gini\",\"entropy\"],\"max_depth\":list(range(1,19))}\n",
    "dt_hp=GridSearchCV(estimator,param_grid,cv=5,scoring=\"accuracy\")\n",
    "dt_hp.fit(x_train,y_train)\n",
    "dt=dt_hp.best_estimator_"
   ]
  },
  {
   "cell_type": "code",
   "execution_count": 60,
   "id": "6eb36a0c-377b-4165-904d-3a41e1adb013",
   "metadata": {},
   "outputs": [
    {
     "data": {
      "text/plain": [
       "['Credit_History']"
      ]
     },
     "execution_count": 60,
     "metadata": {},
     "output_type": "execute_result"
    }
   ],
   "source": [
    "fea=pd.DataFrame(data=dt.feature_importances_,index=x.columns,columns=[\"importance\"])\n",
    "dt_features=fea[fea[\"importance\"]>0].index.tolist()\n",
    "dt_features\n"
   ]
  },
  {
   "cell_type": "markdown",
   "id": "c108263f-4e15-449a-a5af-65750f298587",
   "metadata": {},
   "source": [
    "**create DT model with important parameters and important features**"
   ]
  },
  {
   "cell_type": "code",
   "execution_count": 61,
   "id": "2de13893-04d0-4469-be97-693c791c72f9",
   "metadata": {},
   "outputs": [
    {
     "name": "stdout",
     "output_type": "stream",
     "text": [
      "Train accuracy : 0.8085106382978723\n",
      "cv : 0.8084313725490195\n",
      "Test accuracy : 0.839622641509434\n"
     ]
    }
   ],
   "source": [
    "x_train_dt=x_train[dt_features]\n",
    "x_test_dt=x_test[dt_features]\n",
    "dt=dt_hp.best_estimator_\n",
    "dt.fit(x_train_dt,y_train)\n",
    "ypred_train=dt.predict(x_train_dt)\n",
    "print(\"Train accuracy :\",accuracy_score(y_train,ypred_train))\n",
    "print(\"cv :\",cross_val_score(dt,x_train_dt,y_train,cv=5,scoring=\"accuracy\").mean())\n",
    "ypred_test=dt.predict(x_test_dt)\n",
    "print(\"Test accuracy :\",accuracy_score(y_test,ypred_test))"
   ]
  },
  {
   "cell_type": "markdown",
   "id": "8d8c7288-81d8-4ca4-8572-bf2e6c0e73ed",
   "metadata": {},
   "source": [
    "# Random Forest"
   ]
  },
  {
   "cell_type": "code",
   "execution_count": 62,
   "id": "f1bf88d5-af4d-4016-acc7-1f6625667706",
   "metadata": {},
   "outputs": [
    {
     "data": {
      "text/html": [
       "<style>#sk-container-id-4 {color: black;background-color: white;}#sk-container-id-4 pre{padding: 0;}#sk-container-id-4 div.sk-toggleable {background-color: white;}#sk-container-id-4 label.sk-toggleable__label {cursor: pointer;display: block;width: 100%;margin-bottom: 0;padding: 0.3em;box-sizing: border-box;text-align: center;}#sk-container-id-4 label.sk-toggleable__label-arrow:before {content: \"▸\";float: left;margin-right: 0.25em;color: #696969;}#sk-container-id-4 label.sk-toggleable__label-arrow:hover:before {color: black;}#sk-container-id-4 div.sk-estimator:hover label.sk-toggleable__label-arrow:before {color: black;}#sk-container-id-4 div.sk-toggleable__content {max-height: 0;max-width: 0;overflow: hidden;text-align: left;background-color: #f0f8ff;}#sk-container-id-4 div.sk-toggleable__content pre {margin: 0.2em;color: black;border-radius: 0.25em;background-color: #f0f8ff;}#sk-container-id-4 input.sk-toggleable__control:checked~div.sk-toggleable__content {max-height: 200px;max-width: 100%;overflow: auto;}#sk-container-id-4 input.sk-toggleable__control:checked~label.sk-toggleable__label-arrow:before {content: \"▾\";}#sk-container-id-4 div.sk-estimator input.sk-toggleable__control:checked~label.sk-toggleable__label {background-color: #d4ebff;}#sk-container-id-4 div.sk-label input.sk-toggleable__control:checked~label.sk-toggleable__label {background-color: #d4ebff;}#sk-container-id-4 input.sk-hidden--visually {border: 0;clip: rect(1px 1px 1px 1px);clip: rect(1px, 1px, 1px, 1px);height: 1px;margin: -1px;overflow: hidden;padding: 0;position: absolute;width: 1px;}#sk-container-id-4 div.sk-estimator {font-family: monospace;background-color: #f0f8ff;border: 1px dotted black;border-radius: 0.25em;box-sizing: border-box;margin-bottom: 0.5em;}#sk-container-id-4 div.sk-estimator:hover {background-color: #d4ebff;}#sk-container-id-4 div.sk-parallel-item::after {content: \"\";width: 100%;border-bottom: 1px solid gray;flex-grow: 1;}#sk-container-id-4 div.sk-label:hover label.sk-toggleable__label {background-color: #d4ebff;}#sk-container-id-4 div.sk-serial::before {content: \"\";position: absolute;border-left: 1px solid gray;box-sizing: border-box;top: 0;bottom: 0;left: 50%;z-index: 0;}#sk-container-id-4 div.sk-serial {display: flex;flex-direction: column;align-items: center;background-color: white;padding-right: 0.2em;padding-left: 0.2em;position: relative;}#sk-container-id-4 div.sk-item {position: relative;z-index: 1;}#sk-container-id-4 div.sk-parallel {display: flex;align-items: stretch;justify-content: center;background-color: white;position: relative;}#sk-container-id-4 div.sk-item::before, #sk-container-id-4 div.sk-parallel-item::before {content: \"\";position: absolute;border-left: 1px solid gray;box-sizing: border-box;top: 0;bottom: 0;left: 50%;z-index: -1;}#sk-container-id-4 div.sk-parallel-item {display: flex;flex-direction: column;z-index: 1;position: relative;background-color: white;}#sk-container-id-4 div.sk-parallel-item:first-child::after {align-self: flex-end;width: 50%;}#sk-container-id-4 div.sk-parallel-item:last-child::after {align-self: flex-start;width: 50%;}#sk-container-id-4 div.sk-parallel-item:only-child::after {width: 0;}#sk-container-id-4 div.sk-dashed-wrapped {border: 1px dashed gray;margin: 0 0.4em 0.5em 0.4em;box-sizing: border-box;padding-bottom: 0.4em;background-color: white;}#sk-container-id-4 div.sk-label label {font-family: monospace;font-weight: bold;display: inline-block;line-height: 1.2em;}#sk-container-id-4 div.sk-label-container {text-align: center;}#sk-container-id-4 div.sk-container {/* jupyter's `normalize.less` sets `[hidden] { display: none; }` but bootstrap.min.css set `[hidden] { display: none !important; }` so we also need the `!important` here to be able to override the default hidden behavior on the sphinx rendered scikit-learn.org. See: https://github.com/scikit-learn/scikit-learn/issues/21755 */display: inline-block !important;position: relative;}#sk-container-id-4 div.sk-text-repr-fallback {display: none;}</style><div id=\"sk-container-id-4\" class=\"sk-top-container\"><div class=\"sk-text-repr-fallback\"><pre>RandomForestClassifier(n_estimators=13, random_state=True)</pre><b>In a Jupyter environment, please rerun this cell to show the HTML representation or trust the notebook. <br />On GitHub, the HTML representation is unable to render, please try loading this page with nbviewer.org.</b></div><div class=\"sk-container\" hidden><div class=\"sk-item\"><div class=\"sk-estimator sk-toggleable\"><input class=\"sk-toggleable__control sk-hidden--visually\" id=\"sk-estimator-id-4\" type=\"checkbox\" checked><label for=\"sk-estimator-id-4\" class=\"sk-toggleable__label sk-toggleable__label-arrow\">RandomForestClassifier</label><div class=\"sk-toggleable__content\"><pre>RandomForestClassifier(n_estimators=13, random_state=True)</pre></div></div></div></div></div>"
      ],
      "text/plain": [
       "RandomForestClassifier(n_estimators=13, random_state=True)"
      ]
     },
     "execution_count": 62,
     "metadata": {},
     "output_type": "execute_result"
    }
   ],
   "source": [
    "from sklearn.ensemble import RandomForestClassifier\n",
    "estimator=RandomForestClassifier(random_state=True)\n",
    "param_grid={\"n_estimators\":list(range(1,19))}\n",
    "rf_hp=GridSearchCV(estimator,param_grid,cv=5,scoring=\"accuracy\")\n",
    "rf_hp.fit(x,y)\n",
    "rf=rf_hp.best_estimator_\n",
    "rf"
   ]
  },
  {
   "cell_type": "code",
   "execution_count": 63,
   "id": "67c5c5f4-19b3-4f54-80a4-9c7e5cbf7d41",
   "metadata": {},
   "outputs": [
    {
     "data": {
      "text/plain": [
       "['Gender',\n",
       " 'Married',\n",
       " 'Education',\n",
       " 'Self_Employed',\n",
       " 'LoanAmount',\n",
       " 'Loan_Amount_Term',\n",
       " 'Credit_History',\n",
       " 'Property_Area',\n",
       " 'Total_income']"
      ]
     },
     "execution_count": 63,
     "metadata": {},
     "output_type": "execute_result"
    }
   ],
   "source": [
    "fea=pd.DataFrame(data=rf.feature_importances_,index=x.columns,columns=[\"importance\"])\n",
    "rf_features=fea[fea[\"importance\"]>0].index.tolist()\n",
    "rf_features\n"
   ]
  },
  {
   "cell_type": "code",
   "execution_count": 64,
   "id": "2f694809-0fb1-4a53-ace7-ef05372f6d53",
   "metadata": {},
   "outputs": [
    {
     "name": "stdout",
     "output_type": "stream",
     "text": [
      "Train accuracy : 0.9881796690307328\n",
      "cv : 0.7753781512605042\n",
      "Test accuracy : 0.8018867924528302\n"
     ]
    }
   ],
   "source": [
    "x_train_rf=x_train[rf_features]\n",
    "x_test_rf=x_test[rf_features]\n",
    "rf=rf_hp.best_estimator_\n",
    "rf.fit(x_train_rf,y_train)\n",
    "ypred_train=rf.predict(x_train_rf)\n",
    "print(\"Train accuracy :\",accuracy_score(y_train,ypred_train))\n",
    "print(\"cv :\",cross_val_score(rf,x_train_rf,y_train,cv=5,scoring=\"accuracy\").mean())\n",
    "ypred_test=rf.predict(x_test_rf)\n",
    "print(\"Test accuracy :\",accuracy_score(y_test,ypred_test))"
   ]
  },
  {
   "cell_type": "markdown",
   "id": "0df3b866-be14-40b8-a332-c590f5d9fcc4",
   "metadata": {},
   "source": [
    "# Ada Boost "
   ]
  },
  {
   "cell_type": "code",
   "execution_count": 65,
   "id": "df573b1c-ec80-461c-9c70-2266a4017193",
   "metadata": {},
   "outputs": [
    {
     "data": {
      "text/html": [
       "<style>#sk-container-id-5 {color: black;background-color: white;}#sk-container-id-5 pre{padding: 0;}#sk-container-id-5 div.sk-toggleable {background-color: white;}#sk-container-id-5 label.sk-toggleable__label {cursor: pointer;display: block;width: 100%;margin-bottom: 0;padding: 0.3em;box-sizing: border-box;text-align: center;}#sk-container-id-5 label.sk-toggleable__label-arrow:before {content: \"▸\";float: left;margin-right: 0.25em;color: #696969;}#sk-container-id-5 label.sk-toggleable__label-arrow:hover:before {color: black;}#sk-container-id-5 div.sk-estimator:hover label.sk-toggleable__label-arrow:before {color: black;}#sk-container-id-5 div.sk-toggleable__content {max-height: 0;max-width: 0;overflow: hidden;text-align: left;background-color: #f0f8ff;}#sk-container-id-5 div.sk-toggleable__content pre {margin: 0.2em;color: black;border-radius: 0.25em;background-color: #f0f8ff;}#sk-container-id-5 input.sk-toggleable__control:checked~div.sk-toggleable__content {max-height: 200px;max-width: 100%;overflow: auto;}#sk-container-id-5 input.sk-toggleable__control:checked~label.sk-toggleable__label-arrow:before {content: \"▾\";}#sk-container-id-5 div.sk-estimator input.sk-toggleable__control:checked~label.sk-toggleable__label {background-color: #d4ebff;}#sk-container-id-5 div.sk-label input.sk-toggleable__control:checked~label.sk-toggleable__label {background-color: #d4ebff;}#sk-container-id-5 input.sk-hidden--visually {border: 0;clip: rect(1px 1px 1px 1px);clip: rect(1px, 1px, 1px, 1px);height: 1px;margin: -1px;overflow: hidden;padding: 0;position: absolute;width: 1px;}#sk-container-id-5 div.sk-estimator {font-family: monospace;background-color: #f0f8ff;border: 1px dotted black;border-radius: 0.25em;box-sizing: border-box;margin-bottom: 0.5em;}#sk-container-id-5 div.sk-estimator:hover {background-color: #d4ebff;}#sk-container-id-5 div.sk-parallel-item::after {content: \"\";width: 100%;border-bottom: 1px solid gray;flex-grow: 1;}#sk-container-id-5 div.sk-label:hover label.sk-toggleable__label {background-color: #d4ebff;}#sk-container-id-5 div.sk-serial::before {content: \"\";position: absolute;border-left: 1px solid gray;box-sizing: border-box;top: 0;bottom: 0;left: 50%;z-index: 0;}#sk-container-id-5 div.sk-serial {display: flex;flex-direction: column;align-items: center;background-color: white;padding-right: 0.2em;padding-left: 0.2em;position: relative;}#sk-container-id-5 div.sk-item {position: relative;z-index: 1;}#sk-container-id-5 div.sk-parallel {display: flex;align-items: stretch;justify-content: center;background-color: white;position: relative;}#sk-container-id-5 div.sk-item::before, #sk-container-id-5 div.sk-parallel-item::before {content: \"\";position: absolute;border-left: 1px solid gray;box-sizing: border-box;top: 0;bottom: 0;left: 50%;z-index: -1;}#sk-container-id-5 div.sk-parallel-item {display: flex;flex-direction: column;z-index: 1;position: relative;background-color: white;}#sk-container-id-5 div.sk-parallel-item:first-child::after {align-self: flex-end;width: 50%;}#sk-container-id-5 div.sk-parallel-item:last-child::after {align-self: flex-start;width: 50%;}#sk-container-id-5 div.sk-parallel-item:only-child::after {width: 0;}#sk-container-id-5 div.sk-dashed-wrapped {border: 1px dashed gray;margin: 0 0.4em 0.5em 0.4em;box-sizing: border-box;padding-bottom: 0.4em;background-color: white;}#sk-container-id-5 div.sk-label label {font-family: monospace;font-weight: bold;display: inline-block;line-height: 1.2em;}#sk-container-id-5 div.sk-label-container {text-align: center;}#sk-container-id-5 div.sk-container {/* jupyter's `normalize.less` sets `[hidden] { display: none; }` but bootstrap.min.css set `[hidden] { display: none !important; }` so we also need the `!important` here to be able to override the default hidden behavior on the sphinx rendered scikit-learn.org. See: https://github.com/scikit-learn/scikit-learn/issues/21755 */display: inline-block !important;position: relative;}#sk-container-id-5 div.sk-text-repr-fallback {display: none;}</style><div id=\"sk-container-id-5\" class=\"sk-top-container\"><div class=\"sk-text-repr-fallback\"><pre>AdaBoostClassifier(n_estimators=7, random_state=True)</pre><b>In a Jupyter environment, please rerun this cell to show the HTML representation or trust the notebook. <br />On GitHub, the HTML representation is unable to render, please try loading this page with nbviewer.org.</b></div><div class=\"sk-container\" hidden><div class=\"sk-item\"><div class=\"sk-estimator sk-toggleable\"><input class=\"sk-toggleable__control sk-hidden--visually\" id=\"sk-estimator-id-5\" type=\"checkbox\" checked><label for=\"sk-estimator-id-5\" class=\"sk-toggleable__label sk-toggleable__label-arrow\">AdaBoostClassifier</label><div class=\"sk-toggleable__content\"><pre>AdaBoostClassifier(n_estimators=7, random_state=True)</pre></div></div></div></div></div>"
      ],
      "text/plain": [
       "AdaBoostClassifier(n_estimators=7, random_state=True)"
      ]
     },
     "execution_count": 65,
     "metadata": {},
     "output_type": "execute_result"
    }
   ],
   "source": [
    "from sklearn.ensemble import AdaBoostClassifier\n",
    "estimator=AdaBoostClassifier(random_state=True)\n",
    "param_grid={\"n_estimators\":list(range(1,10))}\n",
    "ada_hp=GridSearchCV(estimator,param_grid,cv=5,scoring=\"accuracy\")\n",
    "ada_hp.fit(x_train,y_train)\n",
    "ada=ada_hp.best_estimator_\n",
    "ada"
   ]
  },
  {
   "cell_type": "code",
   "execution_count": 66,
   "id": "cece2964-0d01-4332-a656-eae9d59749ec",
   "metadata": {},
   "outputs": [
    {
     "data": {
      "text/plain": [
       "['Married',\n",
       " 'LoanAmount',\n",
       " 'Loan_Amount_Term',\n",
       " 'Credit_History',\n",
       " 'Property_Area',\n",
       " 'Total_income']"
      ]
     },
     "execution_count": 66,
     "metadata": {},
     "output_type": "execute_result"
    }
   ],
   "source": [
    "fea=pd.DataFrame(data=ada.feature_importances_,index=x.columns,columns=[\"importance\"])\n",
    "ada_features=fea[fea[\"importance\"]>0].index.tolist()\n",
    "ada_features"
   ]
  },
  {
   "cell_type": "code",
   "execution_count": 67,
   "id": "1c7aab3f-9c2a-4517-9038-af02cfe71bbc",
   "metadata": {},
   "outputs": [
    {
     "name": "stdout",
     "output_type": "stream",
     "text": [
      "Train accuracy : 0.817966903073286\n",
      "cv : 0.8155742296918767\n",
      "Test accuracy : 0.8301886792452831\n"
     ]
    }
   ],
   "source": [
    "x_train_ada=x_train[ada_features]\n",
    "x_test_ada=x_test[ada_features]\n",
    "\n",
    "ada=ada_hp.best_estimator_\n",
    "ada.fit(x_train_ada,y_train)\n",
    "\n",
    "ypred_train=ada.predict(x_train_ada)\n",
    "print(\"Train accuracy :\",accuracy_score(y_train,ypred_train))\n",
    "print(\"cv :\",cross_val_score(ada,x_train_ada,y_train,cv=5,scoring=\"accuracy\").mean())\n",
    "ypred_test=ada.predict(x_test_ada)\n",
    "print(\"Test accuracy :\",accuracy_score(y_test,ypred_test))"
   ]
  },
  {
   "cell_type": "markdown",
   "id": "8a4bdaac-5481-421b-b088-3209b6e4dded",
   "metadata": {},
   "source": [
    "# Gradient Boost "
   ]
  },
  {
   "cell_type": "code",
   "execution_count": 68,
   "id": "c2448a85-3eb9-4a14-b9fc-c28c0ba15ab7",
   "metadata": {},
   "outputs": [
    {
     "data": {
      "text/html": [
       "<style>#sk-container-id-6 {color: black;background-color: white;}#sk-container-id-6 pre{padding: 0;}#sk-container-id-6 div.sk-toggleable {background-color: white;}#sk-container-id-6 label.sk-toggleable__label {cursor: pointer;display: block;width: 100%;margin-bottom: 0;padding: 0.3em;box-sizing: border-box;text-align: center;}#sk-container-id-6 label.sk-toggleable__label-arrow:before {content: \"▸\";float: left;margin-right: 0.25em;color: #696969;}#sk-container-id-6 label.sk-toggleable__label-arrow:hover:before {color: black;}#sk-container-id-6 div.sk-estimator:hover label.sk-toggleable__label-arrow:before {color: black;}#sk-container-id-6 div.sk-toggleable__content {max-height: 0;max-width: 0;overflow: hidden;text-align: left;background-color: #f0f8ff;}#sk-container-id-6 div.sk-toggleable__content pre {margin: 0.2em;color: black;border-radius: 0.25em;background-color: #f0f8ff;}#sk-container-id-6 input.sk-toggleable__control:checked~div.sk-toggleable__content {max-height: 200px;max-width: 100%;overflow: auto;}#sk-container-id-6 input.sk-toggleable__control:checked~label.sk-toggleable__label-arrow:before {content: \"▾\";}#sk-container-id-6 div.sk-estimator input.sk-toggleable__control:checked~label.sk-toggleable__label {background-color: #d4ebff;}#sk-container-id-6 div.sk-label input.sk-toggleable__control:checked~label.sk-toggleable__label {background-color: #d4ebff;}#sk-container-id-6 input.sk-hidden--visually {border: 0;clip: rect(1px 1px 1px 1px);clip: rect(1px, 1px, 1px, 1px);height: 1px;margin: -1px;overflow: hidden;padding: 0;position: absolute;width: 1px;}#sk-container-id-6 div.sk-estimator {font-family: monospace;background-color: #f0f8ff;border: 1px dotted black;border-radius: 0.25em;box-sizing: border-box;margin-bottom: 0.5em;}#sk-container-id-6 div.sk-estimator:hover {background-color: #d4ebff;}#sk-container-id-6 div.sk-parallel-item::after {content: \"\";width: 100%;border-bottom: 1px solid gray;flex-grow: 1;}#sk-container-id-6 div.sk-label:hover label.sk-toggleable__label {background-color: #d4ebff;}#sk-container-id-6 div.sk-serial::before {content: \"\";position: absolute;border-left: 1px solid gray;box-sizing: border-box;top: 0;bottom: 0;left: 50%;z-index: 0;}#sk-container-id-6 div.sk-serial {display: flex;flex-direction: column;align-items: center;background-color: white;padding-right: 0.2em;padding-left: 0.2em;position: relative;}#sk-container-id-6 div.sk-item {position: relative;z-index: 1;}#sk-container-id-6 div.sk-parallel {display: flex;align-items: stretch;justify-content: center;background-color: white;position: relative;}#sk-container-id-6 div.sk-item::before, #sk-container-id-6 div.sk-parallel-item::before {content: \"\";position: absolute;border-left: 1px solid gray;box-sizing: border-box;top: 0;bottom: 0;left: 50%;z-index: -1;}#sk-container-id-6 div.sk-parallel-item {display: flex;flex-direction: column;z-index: 1;position: relative;background-color: white;}#sk-container-id-6 div.sk-parallel-item:first-child::after {align-self: flex-end;width: 50%;}#sk-container-id-6 div.sk-parallel-item:last-child::after {align-self: flex-start;width: 50%;}#sk-container-id-6 div.sk-parallel-item:only-child::after {width: 0;}#sk-container-id-6 div.sk-dashed-wrapped {border: 1px dashed gray;margin: 0 0.4em 0.5em 0.4em;box-sizing: border-box;padding-bottom: 0.4em;background-color: white;}#sk-container-id-6 div.sk-label label {font-family: monospace;font-weight: bold;display: inline-block;line-height: 1.2em;}#sk-container-id-6 div.sk-label-container {text-align: center;}#sk-container-id-6 div.sk-container {/* jupyter's `normalize.less` sets `[hidden] { display: none; }` but bootstrap.min.css set `[hidden] { display: none !important; }` so we also need the `!important` here to be able to override the default hidden behavior on the sphinx rendered scikit-learn.org. See: https://github.com/scikit-learn/scikit-learn/issues/21755 */display: inline-block !important;position: relative;}#sk-container-id-6 div.sk-text-repr-fallback {display: none;}</style><div id=\"sk-container-id-6\" class=\"sk-top-container\"><div class=\"sk-text-repr-fallback\"><pre>GradientBoostingClassifier(learning_rate=0.2, n_estimators=12,\n",
       "                           random_state=True)</pre><b>In a Jupyter environment, please rerun this cell to show the HTML representation or trust the notebook. <br />On GitHub, the HTML representation is unable to render, please try loading this page with nbviewer.org.</b></div><div class=\"sk-container\" hidden><div class=\"sk-item\"><div class=\"sk-estimator sk-toggleable\"><input class=\"sk-toggleable__control sk-hidden--visually\" id=\"sk-estimator-id-6\" type=\"checkbox\" checked><label for=\"sk-estimator-id-6\" class=\"sk-toggleable__label sk-toggleable__label-arrow\">GradientBoostingClassifier</label><div class=\"sk-toggleable__content\"><pre>GradientBoostingClassifier(learning_rate=0.2, n_estimators=12,\n",
       "                           random_state=True)</pre></div></div></div></div></div>"
      ],
      "text/plain": [
       "GradientBoostingClassifier(learning_rate=0.2, n_estimators=12,\n",
       "                           random_state=True)"
      ]
     },
     "execution_count": 68,
     "metadata": {},
     "output_type": "execute_result"
    }
   ],
   "source": [
    "from sklearn.ensemble import GradientBoostingClassifier\n",
    "estimator=GradientBoostingClassifier(random_state=True)\n",
    "param_grid={\"n_estimators\":list(range(1,22)),\"learning_rate\":[0.1,0.2,0.3,0.4,0.5,0.6,0.7,0.8,0.9,1]}\n",
    "grad_hp=GridSearchCV(estimator,param_grid,cv=5,scoring=\"accuracy\")\n",
    "grad_hp.fit(x_train,y_train)\n",
    "grad=grad_hp.best_estimator_\n",
    "grad"
   ]
  },
  {
   "cell_type": "code",
   "execution_count": 69,
   "id": "71fcacb7-5344-4930-9172-031f83b146ae",
   "metadata": {},
   "outputs": [
    {
     "data": {
      "text/plain": [
       "['Gender',\n",
       " 'Married',\n",
       " 'Self_Employed',\n",
       " 'LoanAmount',\n",
       " 'Loan_Amount_Term',\n",
       " 'Credit_History',\n",
       " 'Property_Area',\n",
       " 'Total_income']"
      ]
     },
     "execution_count": 69,
     "metadata": {},
     "output_type": "execute_result"
    }
   ],
   "source": [
    "fea=pd.DataFrame(data=grad.feature_importances_,index=x.columns,columns=[\"importance\"])\n",
    "grad_features=fea[fea[\"importance\"]>0].index.tolist()\n",
    "grad_features"
   ]
  },
  {
   "cell_type": "code",
   "execution_count": 71,
   "id": "b500a758-ed8e-43c5-9e63-a40abfdec12f",
   "metadata": {},
   "outputs": [
    {
     "name": "stdout",
     "output_type": "stream",
     "text": [
      "Train accuracy : 0.8439716312056738\n",
      "cv : 0.8061344537815126\n",
      "Test accuracy : 0.839622641509434\n"
     ]
    }
   ],
   "source": [
    "x_train_grad=x_train[grad_features]\n",
    "x_test_grad=x_test[grad_features]\n",
    "grad=grad_hp.best_estimator_\n",
    "grad.fit(x_train_grad,y_train)\n",
    "ypred_train=grad.predict(x_train_grad)\n",
    "print(\"Train accuracy :\",accuracy_score(y_train,ypred_train))\n",
    "print(\"cv :\",cross_val_score(grad,x_train_grad,y_train,cv=5,scoring=\"accuracy\").mean())\n",
    "ypred_test=grad.predict(x_test_grad)\n",
    "print(\"Test accuracy :\",accuracy_score(y_test,ypred_test))"
   ]
  },
  {
   "cell_type": "markdown",
   "id": "e1b74bd9-92b9-4acf-977b-d18b8287a705",
   "metadata": {},
   "source": [
    "# XG Boost "
   ]
  },
  {
   "cell_type": "code",
   "execution_count": 72,
   "id": "18c4794e-2921-491e-bdc8-d05d15bc117c",
   "metadata": {},
   "outputs": [],
   "source": [
    "#!pip install xgboost\n"
   ]
  },
  {
   "cell_type": "code",
   "execution_count": 73,
   "id": "b87fa5b0-a7b0-453c-9afb-c95e1c7d7d81",
   "metadata": {},
   "outputs": [],
   "source": [
    "#pip install --upgrade scikit-learn"
   ]
  },
  {
   "cell_type": "code",
   "execution_count": 74,
   "id": "9220a780-ef87-4975-866b-4582205a56c3",
   "metadata": {},
   "outputs": [],
   "source": [
    "#pip install scikit-learn==1.2.2"
   ]
  },
  {
   "cell_type": "code",
   "execution_count": 75,
   "id": "0b2543a1-95c8-49db-bc52-ee645e44e867",
   "metadata": {},
   "outputs": [
    {
     "data": {
      "text/html": [
       "<style>#sk-container-id-7 {color: black;background-color: white;}#sk-container-id-7 pre{padding: 0;}#sk-container-id-7 div.sk-toggleable {background-color: white;}#sk-container-id-7 label.sk-toggleable__label {cursor: pointer;display: block;width: 100%;margin-bottom: 0;padding: 0.3em;box-sizing: border-box;text-align: center;}#sk-container-id-7 label.sk-toggleable__label-arrow:before {content: \"▸\";float: left;margin-right: 0.25em;color: #696969;}#sk-container-id-7 label.sk-toggleable__label-arrow:hover:before {color: black;}#sk-container-id-7 div.sk-estimator:hover label.sk-toggleable__label-arrow:before {color: black;}#sk-container-id-7 div.sk-toggleable__content {max-height: 0;max-width: 0;overflow: hidden;text-align: left;background-color: #f0f8ff;}#sk-container-id-7 div.sk-toggleable__content pre {margin: 0.2em;color: black;border-radius: 0.25em;background-color: #f0f8ff;}#sk-container-id-7 input.sk-toggleable__control:checked~div.sk-toggleable__content {max-height: 200px;max-width: 100%;overflow: auto;}#sk-container-id-7 input.sk-toggleable__control:checked~label.sk-toggleable__label-arrow:before {content: \"▾\";}#sk-container-id-7 div.sk-estimator input.sk-toggleable__control:checked~label.sk-toggleable__label {background-color: #d4ebff;}#sk-container-id-7 div.sk-label input.sk-toggleable__control:checked~label.sk-toggleable__label {background-color: #d4ebff;}#sk-container-id-7 input.sk-hidden--visually {border: 0;clip: rect(1px 1px 1px 1px);clip: rect(1px, 1px, 1px, 1px);height: 1px;margin: -1px;overflow: hidden;padding: 0;position: absolute;width: 1px;}#sk-container-id-7 div.sk-estimator {font-family: monospace;background-color: #f0f8ff;border: 1px dotted black;border-radius: 0.25em;box-sizing: border-box;margin-bottom: 0.5em;}#sk-container-id-7 div.sk-estimator:hover {background-color: #d4ebff;}#sk-container-id-7 div.sk-parallel-item::after {content: \"\";width: 100%;border-bottom: 1px solid gray;flex-grow: 1;}#sk-container-id-7 div.sk-label:hover label.sk-toggleable__label {background-color: #d4ebff;}#sk-container-id-7 div.sk-serial::before {content: \"\";position: absolute;border-left: 1px solid gray;box-sizing: border-box;top: 0;bottom: 0;left: 50%;z-index: 0;}#sk-container-id-7 div.sk-serial {display: flex;flex-direction: column;align-items: center;background-color: white;padding-right: 0.2em;padding-left: 0.2em;position: relative;}#sk-container-id-7 div.sk-item {position: relative;z-index: 1;}#sk-container-id-7 div.sk-parallel {display: flex;align-items: stretch;justify-content: center;background-color: white;position: relative;}#sk-container-id-7 div.sk-item::before, #sk-container-id-7 div.sk-parallel-item::before {content: \"\";position: absolute;border-left: 1px solid gray;box-sizing: border-box;top: 0;bottom: 0;left: 50%;z-index: -1;}#sk-container-id-7 div.sk-parallel-item {display: flex;flex-direction: column;z-index: 1;position: relative;background-color: white;}#sk-container-id-7 div.sk-parallel-item:first-child::after {align-self: flex-end;width: 50%;}#sk-container-id-7 div.sk-parallel-item:last-child::after {align-self: flex-start;width: 50%;}#sk-container-id-7 div.sk-parallel-item:only-child::after {width: 0;}#sk-container-id-7 div.sk-dashed-wrapped {border: 1px dashed gray;margin: 0 0.4em 0.5em 0.4em;box-sizing: border-box;padding-bottom: 0.4em;background-color: white;}#sk-container-id-7 div.sk-label label {font-family: monospace;font-weight: bold;display: inline-block;line-height: 1.2em;}#sk-container-id-7 div.sk-label-container {text-align: center;}#sk-container-id-7 div.sk-container {/* jupyter's `normalize.less` sets `[hidden] { display: none; }` but bootstrap.min.css set `[hidden] { display: none !important; }` so we also need the `!important` here to be able to override the default hidden behavior on the sphinx rendered scikit-learn.org. See: https://github.com/scikit-learn/scikit-learn/issues/21755 */display: inline-block !important;position: relative;}#sk-container-id-7 div.sk-text-repr-fallback {display: none;}</style><div id=\"sk-container-id-7\" class=\"sk-top-container\"><div class=\"sk-text-repr-fallback\"><pre>XGBClassifier(base_score=None, booster=None, callbacks=None,\n",
       "              colsample_bylevel=None, colsample_bynode=None,\n",
       "              colsample_bytree=None, device=None, early_stopping_rounds=None,\n",
       "              enable_categorical=False, eval_metric=None, feature_types=None,\n",
       "              gamma=None, grow_policy=None, importance_type=None,\n",
       "              interaction_constraints=None, learning_rate=None, max_bin=None,\n",
       "              max_cat_threshold=None, max_cat_to_onehot=None,\n",
       "              max_delta_step=None, max_depth=6, max_leaves=None,\n",
       "              min_child_weight=None, missing=nan, monotone_constraints=None,\n",
       "              multi_strategy=None, n_estimators=10, n_jobs=None,\n",
       "              num_parallel_tree=None, random_state=1, ...)</pre><b>In a Jupyter environment, please rerun this cell to show the HTML representation or trust the notebook. <br />On GitHub, the HTML representation is unable to render, please try loading this page with nbviewer.org.</b></div><div class=\"sk-container\" hidden><div class=\"sk-item\"><div class=\"sk-estimator sk-toggleable\"><input class=\"sk-toggleable__control sk-hidden--visually\" id=\"sk-estimator-id-7\" type=\"checkbox\" checked><label for=\"sk-estimator-id-7\" class=\"sk-toggleable__label sk-toggleable__label-arrow\">XGBClassifier</label><div class=\"sk-toggleable__content\"><pre>XGBClassifier(base_score=None, booster=None, callbacks=None,\n",
       "              colsample_bylevel=None, colsample_bynode=None,\n",
       "              colsample_bytree=None, device=None, early_stopping_rounds=None,\n",
       "              enable_categorical=False, eval_metric=None, feature_types=None,\n",
       "              gamma=None, grow_policy=None, importance_type=None,\n",
       "              interaction_constraints=None, learning_rate=None, max_bin=None,\n",
       "              max_cat_threshold=None, max_cat_to_onehot=None,\n",
       "              max_delta_step=None, max_depth=6, max_leaves=None,\n",
       "              min_child_weight=None, missing=nan, monotone_constraints=None,\n",
       "              multi_strategy=None, n_estimators=10, n_jobs=None,\n",
       "              num_parallel_tree=None, random_state=1, ...)</pre></div></div></div></div></div>"
      ],
      "text/plain": [
       "XGBClassifier(base_score=None, booster=None, callbacks=None,\n",
       "              colsample_bylevel=None, colsample_bynode=None,\n",
       "              colsample_bytree=None, device=None, early_stopping_rounds=None,\n",
       "              enable_categorical=False, eval_metric=None, feature_types=None,\n",
       "              gamma=None, grow_policy=None, importance_type=None,\n",
       "              interaction_constraints=None, learning_rate=None, max_bin=None,\n",
       "              max_cat_threshold=None, max_cat_to_onehot=None,\n",
       "              max_delta_step=None, max_depth=6, max_leaves=None,\n",
       "              min_child_weight=None, missing=nan, monotone_constraints=None,\n",
       "              multi_strategy=None, n_estimators=10, n_jobs=None,\n",
       "              num_parallel_tree=None, random_state=1, ...)"
      ]
     },
     "execution_count": 75,
     "metadata": {},
     "output_type": "execute_result"
    }
   ],
   "source": [
    "from xgboost import XGBClassifier\n",
    "estimator=XGBClassifier(random_state=1)\n",
    "param_grid={\"n_estimators\":[10,20,30,40,50],\"max_depth\":[3,4,5,6,7,8,9]}\n",
    "xg_hp=GridSearchCV(estimator,param_grid,cv=5,scoring=\"accuracy\")\n",
    "xg_hp.fit(x_train,y_train)\n",
    "xg=xg_hp.best_estimator_\n",
    "xg        "
   ]
  },
  {
   "cell_type": "code",
   "execution_count": 76,
   "id": "5bdb2b9a-3591-4ece-8581-44f885b636e8",
   "metadata": {},
   "outputs": [
    {
     "data": {
      "text/plain": [
       "['Gender',\n",
       " 'Married',\n",
       " 'Education',\n",
       " 'Self_Employed',\n",
       " 'LoanAmount',\n",
       " 'Loan_Amount_Term',\n",
       " 'Credit_History',\n",
       " 'Property_Area',\n",
       " 'Total_income']"
      ]
     },
     "execution_count": 76,
     "metadata": {},
     "output_type": "execute_result"
    }
   ],
   "source": [
    "fea=pd.DataFrame(data=xg.feature_importances_,index=x.columns,columns=[\"importance\"])\n",
    "xg_features=fea[fea[\"importance\"]>0].index.tolist()\n",
    "xg_features"
   ]
  },
  {
   "cell_type": "code",
   "execution_count": 77,
   "id": "3546dd16-c834-4994-af9e-b770189be0c2",
   "metadata": {},
   "outputs": [
    {
     "name": "stdout",
     "output_type": "stream",
     "text": [
      "Train accuracy : 0.8770685579196218\n",
      "cv : 0.8108683473389355\n",
      "Test accuracy : 0.8207547169811321\n"
     ]
    }
   ],
   "source": [
    "x_train_xg=x_train[xg_features]\n",
    "x_test_xg=x_test[xg_features]\n",
    "xg=xg_hp.best_estimator_\n",
    "xg.fit(x_train_xg,y_train)\n",
    "ypred_train=xg.predict(x_train_xg)\n",
    "print(\"Train accuracy :\",accuracy_score(y_train,ypred_train))\n",
    "print(\"cv :\",cross_val_score(xg,x_train_xg,y_train,cv=5,scoring=\"accuracy\").mean())\n",
    "ypred_test=xg.predict(x_test_xg)\n",
    "print(\"Test accuracy :\",accuracy_score(y_test,ypred_test))"
   ]
  },
  {
   "cell_type": "markdown",
   "id": "808e9ceb-e321-4522-99c5-c80795306786",
   "metadata": {},
   "source": [
    "# Save the model "
   ]
  },
  {
   "cell_type": "code",
   "execution_count": 78,
   "id": "e5b1324f-4b23-4bcd-b41a-6e19a92bc755",
   "metadata": {},
   "outputs": [
    {
     "data": {
      "text/plain": [
       "['loan_joblib']"
      ]
     },
     "execution_count": 78,
     "metadata": {},
     "output_type": "execute_result"
    }
   ],
   "source": [
    "# out of all algorithems i found decision tree performing good\n",
    "from joblib import dump \n",
    "dump(dt,'loan_joblib')"
   ]
  },
  {
   "cell_type": "markdown",
   "id": "47876ab0-fdfe-437a-bf6c-3bf2857a0c28",
   "metadata": {},
   "source": [
    "# Predicting on new data"
   ]
  },
  {
   "cell_type": "code",
   "execution_count": 79,
   "id": "a8e23cd8-f7a5-4a49-ac4f-468e286381b3",
   "metadata": {},
   "outputs": [],
   "source": [
    "input_data={'Loan_ID':'LP002991','Gender':\"Male\", 'Married':'No', 'Dependents':1, \n",
    "            'Education':\"Graduate\", 'Self_Employed':\"yes\",\"ApplicantIncome\":1000,\n",
    "            'CoapplicantIncome':0,'LoanAmount':100, 'Loan_Amount_Term':240, \n",
    "            'Credit_History':'bad','Property_Area':'Urban'}"
   ]
  },
  {
   "cell_type": "code",
   "execution_count": 80,
   "id": "a6ff3265-3d24-413f-9707-abbe6ca2abb8",
   "metadata": {},
   "outputs": [
    {
     "data": {
      "text/html": [
       "<div>\n",
       "<style scoped>\n",
       "    .dataframe tbody tr th:only-of-type {\n",
       "        vertical-align: middle;\n",
       "    }\n",
       "\n",
       "    .dataframe tbody tr th {\n",
       "        vertical-align: top;\n",
       "    }\n",
       "\n",
       "    .dataframe thead th {\n",
       "        text-align: right;\n",
       "    }\n",
       "</style>\n",
       "<table border=\"1\" class=\"dataframe\">\n",
       "  <thead>\n",
       "    <tr style=\"text-align: right;\">\n",
       "      <th></th>\n",
       "      <th>Loan_ID</th>\n",
       "      <th>Gender</th>\n",
       "      <th>Married</th>\n",
       "      <th>Dependents</th>\n",
       "      <th>Education</th>\n",
       "      <th>Self_Employed</th>\n",
       "      <th>ApplicantIncome</th>\n",
       "      <th>CoapplicantIncome</th>\n",
       "      <th>LoanAmount</th>\n",
       "      <th>Loan_Amount_Term</th>\n",
       "      <th>Credit_History</th>\n",
       "      <th>Property_Area</th>\n",
       "    </tr>\n",
       "  </thead>\n",
       "  <tbody>\n",
       "    <tr>\n",
       "      <th>0</th>\n",
       "      <td>LP002991</td>\n",
       "      <td>Male</td>\n",
       "      <td>No</td>\n",
       "      <td>1</td>\n",
       "      <td>Graduate</td>\n",
       "      <td>yes</td>\n",
       "      <td>1000</td>\n",
       "      <td>0</td>\n",
       "      <td>100</td>\n",
       "      <td>240</td>\n",
       "      <td>bad</td>\n",
       "      <td>Urban</td>\n",
       "    </tr>\n",
       "  </tbody>\n",
       "</table>\n",
       "</div>"
      ],
      "text/plain": [
       "    Loan_ID Gender Married  Dependents Education Self_Employed  \\\n",
       "0  LP002991   Male      No           1  Graduate           yes   \n",
       "\n",
       "   ApplicantIncome  CoapplicantIncome  LoanAmount  Loan_Amount_Term  \\\n",
       "0             1000                  0         100               240   \n",
       "\n",
       "  Credit_History Property_Area  \n",
       "0            bad         Urban  "
      ]
     },
     "execution_count": 80,
     "metadata": {},
     "output_type": "execute_result"
    }
   ],
   "source": [
    "data=pd.DataFrame(input_data,index=[0])\n",
    "data"
   ]
  },
  {
   "cell_type": "code",
   "execution_count": 81,
   "id": "819399cd-8770-4f89-898c-6395f6f3eb82",
   "metadata": {},
   "outputs": [
    {
     "data": {
      "text/plain": [
       "Index(['Loan_ID', 'Gender', 'Married', 'Dependents', 'Education',\n",
       "       'Self_Employed', 'ApplicantIncome', 'CoapplicantIncome', 'LoanAmount',\n",
       "       'Loan_Amount_Term', 'Credit_History', 'Property_Area'],\n",
       "      dtype='object')"
      ]
     },
     "execution_count": 81,
     "metadata": {},
     "output_type": "execute_result"
    }
   ],
   "source": [
    "data.columns"
   ]
  },
  {
   "cell_type": "markdown",
   "id": "e485fc58-8c79-4950-86e4-1820b2fda655",
   "metadata": {},
   "source": [
    "### **Apply data preprocessing on unknown data**"
   ]
  },
  {
   "cell_type": "code",
   "execution_count": 82,
   "id": "a64cd152-6776-4bc5-8ffa-9a80cd68dcfd",
   "metadata": {},
   "outputs": [],
   "source": [
    "# Drop 'Loan_ID' column as it's not needed\n",
    "data.drop(columns=[\"Loan_ID\"], inplace=True)\n",
    "\n",
    "# Create 'Income' column by summing 'ApplicantIncome' and 'CoapplicantIncome'\n",
    "data[\"Income\"] = data['ApplicantIncome'] + data['CoapplicantIncome']\n",
    "\n",
    "# Drop original income columns\n",
    "data.drop(columns=['ApplicantIncome', 'CoapplicantIncome'], inplace=True)\n",
    "\n",
    "# Fill missing values in 'Dependents' with 0\n",
    "data['Dependents'] = data['Dependents'].fillna(0)\n",
    "\n",
    "# Fill missing values in 'Gender' with the most frequent value (mode)\n",
    "data['Gender'] = data['Gender'].fillna(data['Gender'].mode()[0])\n",
    "\n",
    "# Fill missing values in 'Married' with the most frequent value (mode)\n",
    "data['Married'] = data['Married'].fillna(data['Married'].mode()[0])\n",
    "\n",
    "# Fill missing values in 'Self Employed' with the most frequent value (mode)\n",
    "data['Self_Employed'] = data['Self_Employed'].fillna(data['Self_Employed'].mode()[0])\n",
    "\n",
    "# Drop rows with missing values in these important columns\n",
    "data = data.dropna(subset=[\"Income\", \"LoanAmount\", \"Loan_Amount_Term\", \"Credit_History\"])\n",
    "\n",
    "# Convert 'Dependents' to integer\n",
    "data['Dependents'] = data['Dependents'].astype(int)\n",
    "\n",
    "# Convert 'Loan_Amount_Term' to integer\n",
    "data['Loan_Amount_Term'] = data['Loan_Amount_Term'].astype(int)\n",
    "\n",
    "# Encode categorical variables into numerical values\n",
    "data['Gender'] = data['Gender'].replace({'Male': 1, 'Female': 0})\n",
    "data['Married'] = data['Married'].replace({'Yes': 1, 'No': 0})\n",
    "data['Education'] = data['Education'].replace({'Graduate': 1, 'Not Graduate': 0})\n",
    "data['Self_Employed'] = data['Self_Employed'].replace({'Yes': 1, 'No': 0})\n",
    "data['Property_Area'] = data['Property_Area'].replace({'Rural': 0, 'Semiurban': 1, 'Urban': 2})\n",
    "\n",
    "# Convert 'Credit History' to numerical values (assuming 'good' and 'bad' exist)\n",
    "data['Credit_History'] = data['Credit_History'].replace({'good': 1, 'bad': 0})\n",
    "\n",
    "# Convert 'Loan_Amount_Term' from months to years\n",
    "data['Loan_Amount_Term'] = data['Loan_Amount_Term'] / 12\n",
    "\n",
    "# Assign to new variable x_new\n",
    "x_new = data\n"
   ]
  },
  {
   "cell_type": "code",
   "execution_count": 83,
   "id": "1a594a53-814f-45de-8271-7a6690a32244",
   "metadata": {},
   "outputs": [
    {
     "data": {
      "text/html": [
       "<div>\n",
       "<style scoped>\n",
       "    .dataframe tbody tr th:only-of-type {\n",
       "        vertical-align: middle;\n",
       "    }\n",
       "\n",
       "    .dataframe tbody tr th {\n",
       "        vertical-align: top;\n",
       "    }\n",
       "\n",
       "    .dataframe thead th {\n",
       "        text-align: right;\n",
       "    }\n",
       "</style>\n",
       "<table border=\"1\" class=\"dataframe\">\n",
       "  <thead>\n",
       "    <tr style=\"text-align: right;\">\n",
       "      <th></th>\n",
       "      <th>Gender</th>\n",
       "      <th>Married</th>\n",
       "      <th>Dependents</th>\n",
       "      <th>Education</th>\n",
       "      <th>Self_Employed</th>\n",
       "      <th>LoanAmount</th>\n",
       "      <th>Loan_Amount_Term</th>\n",
       "      <th>Credit_History</th>\n",
       "      <th>Property_Area</th>\n",
       "      <th>Income</th>\n",
       "    </tr>\n",
       "  </thead>\n",
       "  <tbody>\n",
       "    <tr>\n",
       "      <th>0</th>\n",
       "      <td>1</td>\n",
       "      <td>0</td>\n",
       "      <td>1</td>\n",
       "      <td>1</td>\n",
       "      <td>yes</td>\n",
       "      <td>100</td>\n",
       "      <td>20.0</td>\n",
       "      <td>0</td>\n",
       "      <td>2</td>\n",
       "      <td>1000</td>\n",
       "    </tr>\n",
       "  </tbody>\n",
       "</table>\n",
       "</div>"
      ],
      "text/plain": [
       "   Gender  Married  Dependents  Education Self_Employed  LoanAmount  \\\n",
       "0       1        0           1          1           yes         100   \n",
       "\n",
       "   Loan_Amount_Term  Credit_History  Property_Area  Income  \n",
       "0              20.0               0              2    1000  "
      ]
     },
     "execution_count": 83,
     "metadata": {},
     "output_type": "execute_result"
    }
   ],
   "source": [
    "x_new"
   ]
  },
  {
   "cell_type": "code",
   "execution_count": 84,
   "id": "c5162847-5c92-4cf1-ab44-7b3a87af29d2",
   "metadata": {},
   "outputs": [
    {
     "name": "stdout",
     "output_type": "stream",
     "text": [
      "Index(['Gender', 'Married', 'Dependents', 'Education', 'Self_Employed',\n",
      "       'LoanAmount', 'Loan_Amount_Term', 'Credit_History', 'Property_Area',\n",
      "       'Income'],\n",
      "      dtype='object')\n"
     ]
    }
   ],
   "source": [
    "print(x_new.columns)\n"
   ]
  },
  {
   "cell_type": "code",
   "execution_count": 85,
   "id": "536e0dbc-9b5e-4490-a651-dcc8257f5961",
   "metadata": {},
   "outputs": [
    {
     "data": {
      "text/plain": [
       "array([0], dtype=int64)"
      ]
     },
     "execution_count": 85,
     "metadata": {},
     "output_type": "execute_result"
    }
   ],
   "source": [
    "# select important features of your best model\n",
    "x_new=x_new[dt_features]\n",
    "\n",
    "# Apply & predict using your best model\n",
    "dt.predict(x_new)"
   ]
  },
  {
   "cell_type": "code",
   "execution_count": null,
   "id": "211b42ed-a984-444d-9a7f-bb4336b27127",
   "metadata": {},
   "outputs": [],
   "source": []
  },
  {
   "cell_type": "markdown",
   "id": "3ca6967a-b616-4eaf-8282-9fc75f8fbf8b",
   "metadata": {},
   "source": [
    "**Final Review: Loan Approval Prediction Project**\n",
    "\n",
    "- Project Overview\n",
    "  - The goal of this project was to build a predictive model to determine whether a loan application should be approved or not. The dataset contained various features such as applicant income, credit history, loan amount, and property area. A Decision Tree Classifier was used to predict loan approval, and the model was optimized using GridSearchCV for hyperparameter tuning.\n",
    "\n",
    "**Key Steps**\n",
    "- Data Preprocessing\n",
    "  - Handled Missing Values: Missing values in columns like Dependents, Gender, Married,andSelf_Employed were filled using appropriate strategies (e.g., mode for categorical features).\n",
    "\n",
    "- Feature Engineering:\n",
    "  - Created a new feature Income by summing ApplicantIncome and CoapplicantIncome.\n",
    "  - Dropped redundant columns like Loan_ID, ApplicantIncome, and CoapplicantIncome.\n",
    "\n",
    "- Encoding Categorical Variables:\n",
    "  - Encoded categorical features like Gender, Married, Education, Self_Employed, and Property_Area into numerical values.\n",
    "  - Encoded Credit_History into binary values (good = 1, bad = 0).\n",
    "\n",
    "- Data Cleaning:\n",
    "  - Dropped rows with missing values in critical columns like Income, LoanAmount, Loan_Amount_Term, and Credit_History.\n",
    "  - Converted Dependents and Loan_Amount_Term to integer types.\n",
    "\n",
    "**Model Building**\n",
    "- Decision Tree Classifier:\n",
    "  - Initialized a DecisionTreeClassifier with random_state=42 for reproducibility.\n",
    "  - Trained the model on the preprocessed training data (x_train, y_train).\n",
    "\n",
    "- Hyperparameter Tuning:\n",
    "  - Used GridSearchCV to find the best hyperparameters (criterion and max_depth).\n",
    "  - Evaluated the model using 5-fold cross-validation and selected the best model based on accuracy.\n",
    "\n",
    "- Feature Importance\n",
    "  - Extracted feature importances from the best model and selected only the most important features for training and testing.\n",
    "  - The selected features were used to retrain the model and evaluate its performance.\n",
    "\n",
    "- Model Evaluation\n",
    "  - Training Accuracy: The model achieved a high training accuracy, indicating it fits the training data well.\n",
    "  - Cross-Validation Accuracy: The cross-validation score was consistent with the training accuracy, suggesting the model generalizes well to unseen data.\n",
    "  - Test Accuracy: The model performed well on the test data, demonstrating its ability to make accurate predictions on new data.\n",
    "\n",
    "- Prediction on New Data\n",
    "  - Preprocessed new input data to match the format of the training data.\n",
    "  - Used the best model to predict loan approval for the new data.\n",
    "\n",
    "**Key Findings**\n",
    "- Feature Importance: The most important features for predicting loan approval were Credit_History, Income, and LoanAmount.\n",
    "- Model Performance:\n",
    "  - The model achieved high accuracy on both the training and test datasets.\n",
    "  - The cross-validation score confirmed that the model is robust and not overfitting.\n",
    "- Hyperparameters: The best hyperparameters found by GridSearchCV were criterion=\"gini\" and max_depth=5.\n",
    "\n",
    "**Challenges Faced**\n",
    "- Missing Values: Handling missing values in columns like Dependents and Credit_History required careful consideration.\n",
    "- Imbalanced Data: The dataset had an imbalance in the target variable (Loan_Status), which could affect model performance. Techniques like oversampling or class weighting could be explored in future iterations.\n",
    "- Feature Engineering: Creating new features like Income and encoding categorical variables were critical steps to improve model performance.\n",
    "\n",
    "\n",
    "**Conclusion**\n",
    "- This project successfully demonstrated the use of a Decision Tree Classifier to predict loan approval. The model achieved high accuracy and generalization performance, making it a reliable tool for loan approval decisions. By addressing challenges like missing data and feature engineering, the project highlights the importance of data preprocessing in machine learning. Future improvements could further enhance the model's performance and usability."
   ]
  },
  {
   "cell_type": "code",
   "execution_count": null,
   "id": "ae8f7945-abc3-4cfd-beba-1e01a1009d2e",
   "metadata": {},
   "outputs": [],
   "source": []
  }
 ],
 "metadata": {
  "kernelspec": {
   "display_name": "Python 3 (ipykernel)",
   "language": "python",
   "name": "python3"
  },
  "language_info": {
   "codemirror_mode": {
    "name": "ipython",
    "version": 3
   },
   "file_extension": ".py",
   "mimetype": "text/x-python",
   "name": "python",
   "nbconvert_exporter": "python",
   "pygments_lexer": "ipython3",
   "version": "3.11.7"
  }
 },
 "nbformat": 4,
 "nbformat_minor": 5
}
